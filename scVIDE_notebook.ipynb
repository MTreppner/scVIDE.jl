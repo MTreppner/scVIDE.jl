{
 "cells": [
  {
   "cell_type": "markdown",
   "id": "ee4ef0d2",
   "metadata": {},
   "source": [
    "# scVIDE: Single Cell Variational Inference for Designing Experiments"
   ]
  },
  {
   "cell_type": "markdown",
   "id": "648e8836",
   "metadata": {},
   "source": [
    "Here we illustrate the use of the scVIDEo"
   ]
  },
  {
   "cell_type": "code",
   "execution_count": null,
   "id": "4e1d52c3",
   "metadata": {},
   "outputs": [],
   "source": [
    "using Pkg\n",
    "Pkg.add(PackageSpec(url=\"https://github.com/MTreppner/scVIDE.jl\"))\n",
    "using scVIDE"
   ]
  },
  {
   "cell_type": "code",
   "execution_count": null,
   "id": "e780ed69",
   "metadata": {},
   "outputs": [],
   "source": []
  },
  {
   "cell_type": "code",
   "execution_count": null,
   "id": "4cbd9ef2",
   "metadata": {},
   "outputs": [],
   "source": []
  }
 ],
 "metadata": {
  "kernelspec": {
   "display_name": "Julia 1.5.3",
   "language": "julia",
   "name": "julia-1.5"
  }
 },
 "nbformat": 4,
 "nbformat_minor": 5
}
