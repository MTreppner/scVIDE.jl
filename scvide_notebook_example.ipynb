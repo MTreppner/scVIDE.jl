{
 "cells": [
  {
   "cell_type": "markdown",
   "id": "22328313",
   "metadata": {},
   "source": [
    "# scVIDE: Single Cell Variational Inference for Designing Experiments"
   ]
  },
  {
   "cell_type": "markdown",
   "id": "9066397e",
   "metadata": {},
   "source": [
    "Here we illustrate the use of scVIDE for planning single-cell RNA-seq experiments. For this purpose, we use the data set of Wu et al. (2019) where we extract 200 genes and 384 cells to serve as a pilot data set. \n",
    "\n",
    "Before determining statistical power for the data, we need to set up scVIDE. First, using scVIDE requires Version 0.6.0 of scVI, which can be installed in Julia using Conda and PyCall:\n",
    "\n",
    "`Conda.add(\"scvi=0.6.0\", channel=\"bioconda\")`\n",
    "\n",
    "Additionally, the h5py package has to be on version 3.1.0:\n",
    "\n",
    "`Conda.add(\"h5py=3.1\")`\n",
    "\n",
    "Since we had to slightly adapt scVI to be able to extract the ELBO of each cell, we provide the modified source code of scVI in this Github repository. This should be replaced with the scVI version stored in Julia's local Conda:\n",
    "\n",
    "~/.julia/conda/3/lib/python3.9/site-packages/scvi\n",
    "\n",
    "After that, you´re ready to use scVIDE."
   ]
  },
  {
   "cell_type": "code",
   "execution_count": 1,
   "id": "303809db",
   "metadata": {},
   "outputs": [],
   "source": [
    "# Import Julia packages\n",
    "using Conda\n",
    "using PyCall\n",
    "using Random\n",
    "using StatsBase\n",
    "using DataFrames\n",
    "using VegaLite\n",
    "using CSV\n",
    "using Serialization"
   ]
  },
  {
   "cell_type": "code",
   "execution_count": 2,
   "id": "f2e37e03",
   "metadata": {},
   "outputs": [
    {
     "name": "stderr",
     "output_type": "stream",
     "text": [
      "/Users/martintreppner/.julia/conda/3/lib/python3.9/site-packages/anndata/core/anndata.py:17: FutureWarning: pandas.core.index is deprecated and will be removed in a future version.  The public classes are available in the top-level namespace.\n",
      "  from pandas.core.index import RangeIndex\n"
     ]
    },
    {
     "data": {
      "text/plain": [
       "PyObject <module 'hyperopt' from '/Users/martintreppner/.julia/conda/3/lib/python3.9/site-packages/hyperopt/__init__.py'>"
      ]
     },
     "execution_count": 2,
     "metadata": {},
     "output_type": "execute_result"
    }
   ],
   "source": [
    "# Import Python packages\n",
    "random = pyimport(\"random\")\n",
    "os = pyimport(\"os\")\n",
    "scvi = pyimport(\"scvi\")\n",
    "scvi_dataset = pyimport(\"scvi.dataset\")\n",
    "scvi_models = pyimport(\"scvi.models\")\n",
    "scvi_inference = pyimport(\"scvi.inference\")\n",
    "torch = pyimport(\"torch\")\n",
    "scvi_inference_autotune = pyimport(\"scvi.inference.autotune\")\n",
    "hyperopt = pyimport(\"hyperopt\")"
   ]
  },
  {
   "cell_type": "code",
   "execution_count": 3,
   "id": "eb5b1283",
   "metadata": {},
   "outputs": [
    {
     "name": "stderr",
     "output_type": "stream",
     "text": [
      "\u001b[32m\u001b[1m    Updating\u001b[22m\u001b[39m git-repo `https://github.com/MTreppner/scVIDE.jl`\n",
      "\u001b[32m\u001b[1m    Updating\u001b[22m\u001b[39m registry at `~/.julia/registries/General.toml`\n",
      "\u001b[32m\u001b[1m   Resolving\u001b[22m\u001b[39m package versions...\n",
      "\u001b[32m\u001b[1m  No Changes\u001b[22m\u001b[39m to `~/.julia/environments/v1.7/Project.toml`\n",
      "\u001b[32m\u001b[1m  No Changes\u001b[22m\u001b[39m to `~/.julia/environments/v1.7/Manifest.toml`\n",
      "\u001b[32m\u001b[1mPrecompiling\u001b[22m\u001b[39m project...\n",
      "\u001b[32m  ✓ \u001b[39mscVIDE\n",
      "  1 dependency successfully precompiled in 2 seconds (67 already precompiled)\n",
      "┌ Info: Precompiling scVIDE [753c8826-9225-433f-ad6a-de02ffe72467]\n",
      "└ @ Base loading.jl:1423\n",
      "\u001b[33m\u001b[1m┌ \u001b[22m\u001b[39m\u001b[33m\u001b[1mWarning: \u001b[22m\u001b[39mPackage scVIDE does not have Distributed in its dependencies:\n",
      "\u001b[33m\u001b[1m│ \u001b[22m\u001b[39m- If you have scVIDE checked out for development and have\n",
      "\u001b[33m\u001b[1m│ \u001b[22m\u001b[39m  added Distributed as a dependency but haven't updated your primary\n",
      "\u001b[33m\u001b[1m│ \u001b[22m\u001b[39m  environment's manifest file, try `Pkg.resolve()`.\n",
      "\u001b[33m\u001b[1m│ \u001b[22m\u001b[39m- Otherwise you may need to report an issue with scVIDE\n",
      "\u001b[33m\u001b[1m└ \u001b[22m\u001b[39mLoading Distributed into scVIDE from project dependency, future warnings for scVIDE are suppressed.\n"
     ]
    }
   ],
   "source": [
    "# Install scVIDE\n",
    "using Pkg\n",
    "Pkg.add(PackageSpec(url=\"https://github.com/MTreppner/scVIDE.jl\"))\n",
    "using scVIDE"
   ]
  },
  {
   "cell_type": "code",
   "execution_count": 4,
   "id": "3e5f0c05",
   "metadata": {},
   "outputs": [],
   "source": [
    "# Set number of genes, number of cells, and number of synthetic cells\n",
    "n_genes = 200;\n",
    "n_cells = 192;\n",
    "n_cell_multiple = 3;\n",
    "\n",
    "# Data repository\n",
    "data_path = \"/Users/martintreppner/Dropbox/PhD/scRNA_Power/wu/wu_200hvg.csv\";"
   ]
  },
  {
   "cell_type": "code",
   "execution_count": 5,
   "id": "abf47df0",
   "metadata": {},
   "outputs": [
    {
     "name": "stdout",
     "output_type": "stream",
     "text": [
      "[2022-01-13 15:05:22,715] INFO - scvi.dataset.csv | Preprocessing dataset\n",
      "[2022-01-13 15:05:22,808] INFO - scvi.dataset.csv | Finished preprocessing dataset\n",
      "[2022-01-13 15:05:22,811] INFO - scvi.dataset.dataset | Remapping batch_indices to [0,N]\n",
      "[2022-01-13 15:05:22,811] INFO - scvi.dataset.dataset | Remapping labels to [0,N]\n",
      "[2022-01-13 15:05:22,818] INFO - scvi.dataset.dataset | Computing the library size for the new data\n",
      "[2022-01-13 15:05:22,819] INFO - scvi.dataset.dataset | Downsampled from 2072 to 2072 cells\n",
      "[2022-01-13 15:05:24,169] INFO - scvi.dataset.dataset | Computing the library size for the new data\n",
      "[2022-01-13 15:05:24,169] INFO - scvi.dataset.dataset | Downsampled from 2072 to 64 cells\n"
     ]
    },
    {
     "name": "stderr",
     "output_type": "stream",
     "text": [
      "┌ Warning: `vendor()` is deprecated, use `BLAS.get_config()` and inspect the output instead\n",
      "│   caller = npyinitialize() at numpy.jl:67\n",
      "└ @ PyCall /Users/martintreppner/.julia/packages/PyCall/L0fLP/src/numpy.jl:67\n"
     ]
    }
   ],
   "source": [
    "# Read data set\n",
    "countmatrix = scvi_dataset.CsvDataset(data_path, save_path = \"\");\n",
    "\n",
    "# Subsample data set \n",
    "Random.seed!(111);\n",
    "scVIDE.subsample_scVI_cells!(countmatrix, 64);"
   ]
  },
  {
   "cell_type": "markdown",
   "id": "0b095366",
   "metadata": {},
   "source": [
    "# Train scVI and generate synthetic data"
   ]
  },
  {
   "cell_type": "code",
   "execution_count": 6,
   "id": "fda1a7a9",
   "metadata": {},
   "outputs": [],
   "source": [
    "# Set scVI hyperparamteres\n",
    "n_epochs = 1000;\n",
    "lr = 0.0001;\n",
    "n_latent = 5;\n",
    "n_hidden = 32;\n",
    "n_layers = 1;\n",
    "reconstruction_loss = \"nb\";\n",
    "batch_size = 32;\n",
    "dropout_rate = 0.1;\n",
    "    \n",
    "# Set up scVI model\n",
    "vae = scvi_models.VAE(\n",
    "        countmatrix.nb_genes, \n",
    "        n_latent=n_latent, \n",
    "        n_hidden=n_hidden,\n",
    "        n_layers=n_layers,\n",
    "        dropout_rate=dropout_rate,\n",
    "        log_variational=true,\n",
    "        reconstruction_loss=reconstruction_loss, \n",
    ");\n",
    "        \n",
    "trainer = scvi_inference.UnsupervisedTrainer(vae,\n",
    "        countmatrix,\n",
    "        frequency=1,\n",
    "        n_epochs_kl_warmup= 50,\n",
    "        batch_size=batch_size,\n",
    "        use_cuda=true\n",
    ");\n",
    "\n",
    "trainer.show_progbar = false\n",
    "\n",
    "# Train scVI\n",
    "trainer.train(n_epochs=n_epochs,lr=lr);"
   ]
  },
  {
   "cell_type": "code",
   "execution_count": 7,
   "id": "78aaebeb",
   "metadata": {},
   "outputs": [
    {
     "data": {
      "application/vnd.vegalite.v4+json": {
       "data": {
        "values": [
         {
          "x1": 2393.511418269231,
          "x2": "test",
          "x3": 1
         },
         {
          "x1": 2106.450871394231,
          "x2": "test",
          "x3": 2
         },
         {
          "x1": 2596.76171875,
          "x2": "test",
          "x3": 3
         },
         {
          "x1": 2503.0069110576924,
          "x2": "test",
          "x3": 4
         },
         {
          "x1": 2216.743389423077,
          "x2": "test",
          "x3": 5
         },
         {
          "x1": 1745.6724759615386,
          "x2": "test",
          "x3": 6
         },
         {
          "x1": 2182.7608173076924,
          "x2": "test",
          "x3": 7
         },
         {
          "x1": 2498.742938701923,
          "x2": "test",
          "x3": 8
         },
         {
          "x1": 2298.375450721154,
          "x2": "test",
          "x3": 9
         },
         {
          "x1": 2160.7369290865386,
          "x2": "test",
          "x3": 10
         },
         {
          "x1": 1923.3170072115386,
          "x2": "test",
          "x3": 11
         },
         {
          "x1": 1962.5942007211538,
          "x2": "test",
          "x3": 12
         },
         {
          "x1": 1950.241436298077,
          "x2": "test",
          "x3": 13
         },
         {
          "x1": 2201.1786358173076,
          "x2": "test",
          "x3": 14
         },
         {
          "x1": 2669.681189903846,
          "x2": "test",
          "x3": 15
         },
         {
          "x1": 2114.9185697115386,
          "x2": "test",
          "x3": 16
         },
         {
          "x1": 2495.972355769231,
          "x2": "test",
          "x3": 17
         },
         {
          "x1": 1710.0288461538462,
          "x2": "test",
          "x3": 18
         },
         {
          "x1": 2183.6346153846152,
          "x2": "test",
          "x3": 19
         },
         {
          "x1": 1747.9633413461538,
          "x2": "test",
          "x3": 20
         },
         {
          "x1": 2191.673377403846,
          "x2": "test",
          "x3": 21
         },
         {
          "x1": 1861.4424579326924,
          "x2": "test",
          "x3": 22
         },
         {
          "x1": 2154.0255408653848,
          "x2": "test",
          "x3": 23
         },
         {
          "x1": 2238.310847355769,
          "x2": "test",
          "x3": 24
         },
         {
          "x1": 1904.7318209134614,
          "x2": "test",
          "x3": 25
         },
         {
          "x1": 1900.7524038461538,
          "x2": "test",
          "x3": 26
         },
         {
          "x1": 1886.2133413461538,
          "x2": "test",
          "x3": 27
         },
         {
          "x1": 2479.31640625,
          "x2": "test",
          "x3": 28
         },
         {
          "x1": 1753.7868088942307,
          "x2": "test",
          "x3": 29
         },
         {
          "x1": 1692.7758413461538,
          "x2": "test",
          "x3": 30
         },
         {
          "x1": 2132.0677584134614,
          "x2": "test",
          "x3": 31
         },
         {
          "x1": 2228.8584735576924,
          "x2": "test",
          "x3": 32
         },
         {
          "x1": 2274.6947115384614,
          "x2": "test",
          "x3": 33
         },
         {
          "x1": 2030.318359375,
          "x2": "test",
          "x3": 34
         },
         {
          "x1": 2058.2889122596152,
          "x2": "test",
          "x3": 35
         },
         {
          "x1": 1807.0623497596155,
          "x2": "test",
          "x3": 36
         },
         {
          "x1": 1503.1382211538462,
          "x2": "test",
          "x3": 37
         },
         {
          "x1": 1889.873046875,
          "x2": "test",
          "x3": 38
         },
         {
          "x1": 2039.08203125,
          "x2": "test",
          "x3": 39
         },
         {
          "x1": 2392.5084134615386,
          "x2": "test",
          "x3": 40
         },
         {
          "x1": 1842.5856370192307,
          "x2": "test",
          "x3": 41
         },
         {
          "x1": 1621.2575120192307,
          "x2": "test",
          "x3": 42
         },
         {
          "x1": 1865.5057091346155,
          "x2": "test",
          "x3": 43
         },
         {
          "x1": 1953.6793870192307,
          "x2": "test",
          "x3": 44
         },
         {
          "x1": 1759.518329326923,
          "x2": "test",
          "x3": 45
         },
         {
          "x1": 1814.3607271634614,
          "x2": "test",
          "x3": 46
         },
         {
          "x1": 1879.3416466346155,
          "x2": "test",
          "x3": 47
         },
         {
          "x1": 1887.2866586538462,
          "x2": "test",
          "x3": 48
         },
         {
          "x1": 1979.6248497596155,
          "x2": "test",
          "x3": 49
         },
         {
          "x1": 1536.298828125,
          "x2": "test",
          "x3": 50
         },
         {
          "x1": 1753.5204326923076,
          "x2": "test",
          "x3": 51
         },
         {
          "x1": 1755.1810396634614,
          "x2": "test",
          "x3": 52
         },
         {
          "x1": 2263.929387019231,
          "x2": "test",
          "x3": 53
         },
         {
          "x1": 1886.2657752403845,
          "x2": "test",
          "x3": 54
         },
         {
          "x1": 2236.265174278846,
          "x2": "test",
          "x3": 55
         },
         {
          "x1": 1645.658954326923,
          "x2": "test",
          "x3": 56
         },
         {
          "x1": 1912.3662860576924,
          "x2": "test",
          "x3": 57
         },
         {
          "x1": 1784.689453125,
          "x2": "test",
          "x3": 58
         },
         {
          "x1": 1804.5785757211538,
          "x2": "test",
          "x3": 59
         },
         {
          "x1": 1783.7947716346155,
          "x2": "test",
          "x3": 60
         },
         {
          "x1": 1849.5844350961538,
          "x2": "test",
          "x3": 61
         },
         {
          "x1": 1949.953125,
          "x2": "test",
          "x3": 62
         },
         {
          "x1": 2106.2037259615386,
          "x2": "test",
          "x3": 63
         },
         {
          "x1": 1874.6128305288462,
          "x2": "test",
          "x3": 64
         },
         {
          "x1": 1416.5243389423076,
          "x2": "test",
          "x3": 65
         },
         {
          "x1": 1609.3638822115386,
          "x2": "test",
          "x3": 66
         },
         {
          "x1": 2001.516826923077,
          "x2": "test",
          "x3": 67
         },
         {
          "x1": 1869.9259314903845,
          "x2": "test",
          "x3": 68
         },
         {
          "x1": 1923.1293569711538,
          "x2": "test",
          "x3": 69
         },
         {
          "x1": 1908.5599459134614,
          "x2": "test",
          "x3": 70
         },
         {
          "x1": 1793.0213341346155,
          "x2": "test",
          "x3": 71
         },
         {
          "x1": 1902.18359375,
          "x2": "test",
          "x3": 72
         },
         {
          "x1": 1559.9654447115386,
          "x2": "test",
          "x3": 73
         },
         {
          "x1": 1565.073467548077,
          "x2": "test",
          "x3": 74
         },
         {
          "x1": 1626.3760516826924,
          "x2": "test",
          "x3": 75
         },
         {
          "x1": 1493.957782451923,
          "x2": "test",
          "x3": 76
         },
         {
          "x1": 1491.3134014423076,
          "x2": "test",
          "x3": 77
         },
         {
          "x1": 1436.9209735576924,
          "x2": "test",
          "x3": 78
         },
         {
          "x1": 1890.819110576923,
          "x2": "test",
          "x3": 79
         },
         {
          "x1": 1468.8961838942307,
          "x2": "test",
          "x3": 80
         },
         {
          "x1": 1427.9604867788462,
          "x2": "test",
          "x3": 81
         },
         {
          "x1": 1600.0528846153845,
          "x2": "test",
          "x3": 82
         },
         {
          "x1": 1835.5396634615386,
          "x2": "test",
          "x3": 83
         },
         {
          "x1": 1584.1475360576924,
          "x2": "test",
          "x3": 84
         },
         {
          "x1": 1672.8701923076924,
          "x2": "test",
          "x3": 85
         },
         {
          "x1": 1427.6099759615386,
          "x2": "test",
          "x3": 86
         },
         {
          "x1": 1208.2639723557693,
          "x2": "test",
          "x3": 87
         },
         {
          "x1": 1683.1989182692307,
          "x2": "test",
          "x3": 88
         },
         {
          "x1": 1476.176983173077,
          "x2": "test",
          "x3": 89
         },
         {
          "x1": 1069.7855318509614,
          "x2": "test",
          "x3": 90
         },
         {
          "x1": 1297.4036959134614,
          "x2": "test",
          "x3": 91
         },
         {
          "x1": 1139.1966646634614,
          "x2": "test",
          "x3": 92
         },
         {
          "x1": 1502.0438701923076,
          "x2": "test",
          "x3": 93
         },
         {
          "x1": 1565.7880108173076,
          "x2": "test",
          "x3": 94
         },
         {
          "x1": 1337.5892427884614,
          "x2": "test",
          "x3": 95
         },
         {
          "x1": 1223.1900540865386,
          "x2": "test",
          "x3": 96
         },
         {
          "x1": 1390.1030649038462,
          "x2": "test",
          "x3": 97
         },
         {
          "x1": 1426.8802584134614,
          "x2": "test",
          "x3": 98
         },
         {
          "x1": 1649.0626502403845,
          "x2": "test",
          "x3": 99
         },
         {
          "x1": 1350.0686598557693,
          "x2": "test",
          "x3": 100
         },
         {
          "x1": 1202.017803485577,
          "x2": "test",
          "x3": 101
         },
         {
          "x1": 1754.5603966346155,
          "x2": "test",
          "x3": 102
         },
         {
          "x1": 1471.6331129807693,
          "x2": "test",
          "x3": 103
         },
         {
          "x1": 1412.3213641826924,
          "x2": "test",
          "x3": 104
         },
         {
          "x1": 1603.8888221153845,
          "x2": "test",
          "x3": 105
         },
         {
          "x1": 1666.0779747596155,
          "x2": "test",
          "x3": 106
         },
         {
          "x1": 1666.725360576923,
          "x2": "test",
          "x3": 107
         },
         {
          "x1": 1444.7877103365386,
          "x2": "test",
          "x3": 108
         },
         {
          "x1": 1587.2208533653845,
          "x2": "test",
          "x3": 109
         },
         {
          "x1": 1619.020733173077,
          "x2": "test",
          "x3": 110
         },
         {
          "x1": 1569.8103966346155,
          "x2": "test",
          "x3": 111
         },
         {
          "x1": 1227.9182692307693,
          "x2": "test",
          "x3": 112
         },
         {
          "x1": 1467.0758713942307,
          "x2": "test",
          "x3": 113
         },
         {
          "x1": 1663.37109375,
          "x2": "test",
          "x3": 114
         },
         {
          "x1": 1324.4633413461538,
          "x2": "test",
          "x3": 115
         },
         {
          "x1": 1462.0132211538462,
          "x2": "test",
          "x3": 116
         },
         {
          "x1": 1064.2318209134614,
          "x2": "test",
          "x3": 117
         },
         {
          "x1": 1226.1957632211538,
          "x2": "test",
          "x3": 118
         },
         {
          "x1": 1445.1451322115386,
          "x2": "test",
          "x3": 119
         },
         {
          "x1": 1481.8511117788462,
          "x2": "test",
          "x3": 120
         },
         {
          "x1": 1394.7349759615386,
          "x2": "test",
          "x3": 121
         },
         {
          "x1": 1307.4672475961538,
          "x2": "test",
          "x3": 122
         },
         {
          "x1": 1127.760516826923,
          "x2": "test",
          "x3": 123
         },
         {
          "x1": 1302.2198016826924,
          "x2": "test",
          "x3": 124
         },
         {
          "x1": 1523.9555288461538,
          "x2": "test",
          "x3": 125
         },
         {
          "x1": 1505.5966045673076,
          "x2": "test",
          "x3": 126
         },
         {
          "x1": 1424.4235276442307,
          "x2": "test",
          "x3": 127
         },
         {
          "x1": 1239.7284405048076,
          "x2": "test",
          "x3": 128
         },
         {
          "x1": 1562.7483473557693,
          "x2": "test",
          "x3": 129
         },
         {
          "x1": 1465.9432091346155,
          "x2": "test",
          "x3": 130
         },
         {
          "x1": 1271.442608173077,
          "x2": "test",
          "x3": 131
         },
         {
          "x1": 1221.529522235577,
          "x2": "test",
          "x3": 132
         },
         {
          "x1": 1239.9154146634614,
          "x2": "test",
          "x3": 133
         },
         {
          "x1": 1258.5108924278845,
          "x2": "test",
          "x3": 134
         },
         {
          "x1": 1305.809344951923,
          "x2": "test",
          "x3": 135
         },
         {
          "x1": 1096.6943359375,
          "x2": "test",
          "x3": 136
         },
         {
          "x1": 1253.9984224759614,
          "x2": "test",
          "x3": 137
         },
         {
          "x1": 1667.4815204326924,
          "x2": "test",
          "x3": 138
         },
         {
          "x1": 1431.6820913461538,
          "x2": "test",
          "x3": 139
         },
         {
          "x1": 1412.548828125,
          "x2": "test",
          "x3": 140
         },
         {
          "x1": 1102.422626201923,
          "x2": "test",
          "x3": 141
         },
         {
          "x1": 1275.3712439903845,
          "x2": "test",
          "x3": 142
         },
         {
          "x1": 1310.1319110576924,
          "x2": "test",
          "x3": 143
         },
         {
          "x1": 1428.4122596153845,
          "x2": "test",
          "x3": 144
         },
         {
          "x1": 1466.8432992788462,
          "x2": "test",
          "x3": 145
         },
         {
          "x1": 1229.1324368990386,
          "x2": "test",
          "x3": 146
         },
         {
          "x1": 1192.5978064903845,
          "x2": "test",
          "x3": 147
         },
         {
          "x1": 1282.3278245192307,
          "x2": "test",
          "x3": 148
         },
         {
          "x1": 1227.7279146634614,
          "x2": "test",
          "x3": 149
         },
         {
          "x1": 1169.928485576923,
          "x2": "test",
          "x3": 150
         },
         {
          "x1": 925.3794320913462,
          "x2": "test",
          "x3": 151
         },
         {
          "x1": 1508.692157451923,
          "x2": "test",
          "x3": 152
         },
         {
          "x1": 1260.3034104567307,
          "x2": "test",
          "x3": 153
         },
         {
          "x1": 1171.3600510817307,
          "x2": "test",
          "x3": 154
         },
         {
          "x1": 1221.9508713942307,
          "x2": "test",
          "x3": 155
         },
         {
          "x1": 1283.4388521634614,
          "x2": "test",
          "x3": 156
         },
         {
          "x1": 1296.6227463942307,
          "x2": "test",
          "x3": 157
         },
         {
          "x1": 1470.1616586538462,
          "x2": "test",
          "x3": 158
         },
         {
          "x1": 1401.0235877403845,
          "x2": "test",
          "x3": 159
         },
         {
          "x1": 1280.266376201923,
          "x2": "test",
          "x3": 160
         },
         {
          "x1": 1414.2875600961538,
          "x2": "test",
          "x3": 161
         },
         {
          "x1": 1322.7874098557693,
          "x2": "test",
          "x3": 162
         },
         {
          "x1": 1182.663837139423,
          "x2": "test",
          "x3": 163
         },
         {
          "x1": 1199.1147836538462,
          "x2": "test",
          "x3": 164
         },
         {
          "x1": 1446.9166165865386,
          "x2": "test",
          "x3": 165
         },
         {
          "x1": 1212.0177283653845,
          "x2": "test",
          "x3": 166
         },
         {
          "x1": 1067.5984825721155,
          "x2": "test",
          "x3": 167
         },
         {
          "x1": 1168.6831430288462,
          "x2": "test",
          "x3": 168
         },
         {
          "x1": 1316.576171875,
          "x2": "test",
          "x3": 169
         },
         {
          "x1": 1298.1962139423076,
          "x2": "test",
          "x3": 170
         },
         {
          "x1": 1079.263671875,
          "x2": "test",
          "x3": 171
         },
         {
          "x1": 1223.0531099759614,
          "x2": "test",
          "x3": 172
         },
         {
          "x1": 1051.0757211538462,
          "x2": "test",
          "x3": 173
         },
         {
          "x1": 1655.567608173077,
          "x2": "test",
          "x3": 174
         },
         {
          "x1": 1356.6280048076924,
          "x2": "test",
          "x3": 175
         },
         {
          "x1": 1085.6651141826924,
          "x2": "test",
          "x3": 176
         },
         {
          "x1": 1403.624248798077,
          "x2": "test",
          "x3": 177
         },
         {
          "x1": 1124.9227764423076,
          "x2": "test",
          "x3": 178
         },
         {
          "x1": 1480.8736478365386,
          "x2": "test",
          "x3": 179
         },
         {
          "x1": 1094.090594951923,
          "x2": "test",
          "x3": 180
         },
         {
          "x1": 1066.1475360576924,
          "x2": "test",
          "x3": 181
         },
         {
          "x1": 1299.4317908653845,
          "x2": "test",
          "x3": 182
         },
         {
          "x1": 1322.4334435096155,
          "x2": "test",
          "x3": 183
         },
         {
          "x1": 1366.8541165865386,
          "x2": "test",
          "x3": 184
         },
         {
          "x1": 1113.5954026442307,
          "x2": "test",
          "x3": 185
         },
         {
          "x1": 1265.5160757211538,
          "x2": "test",
          "x3": 186
         },
         {
          "x1": 1334.7573617788462,
          "x2": "test",
          "x3": 187
         },
         {
          "x1": 1230.4057992788462,
          "x2": "test",
          "x3": 188
         },
         {
          "x1": 1206.519305889423,
          "x2": "test",
          "x3": 189
         },
         {
          "x1": 1138.1696213942307,
          "x2": "test",
          "x3": 190
         },
         {
          "x1": 1219.7781700721155,
          "x2": "test",
          "x3": 191
         },
         {
          "x1": 1233.9491436298076,
          "x2": "test",
          "x3": 192
         },
         {
          "x1": 1245.6385967548076,
          "x2": "test",
          "x3": 193
         },
         {
          "x1": 1123.668194110577,
          "x2": "test",
          "x3": 194
         },
         {
          "x1": 1142.2789212740386,
          "x2": "test",
          "x3": 195
         },
         {
          "x1": 1367.2515024038462,
          "x2": "test",
          "x3": 196
         },
         {
          "x1": 1197.8985126201924,
          "x2": "test",
          "x3": 197
         },
         {
          "x1": 1265.8362379807693,
          "x2": "test",
          "x3": 198
         },
         {
          "x1": 1203.1937349759614,
          "x2": "test",
          "x3": 199
         },
         {
          "x1": 1239.7715594951924,
          "x2": "test",
          "x3": 200
         },
         {
          "x1": 1075.1458082932693,
          "x2": "test",
          "x3": 201
         },
         {
          "x1": 1278.5857872596155,
          "x2": "test",
          "x3": 202
         },
         {
          "x1": 1251.4251802884614,
          "x2": "test",
          "x3": 203
         },
         {
          "x1": 924.1442307692307,
          "x2": "test",
          "x3": 204
         },
         {
          "x1": 1276.9268329326924,
          "x2": "test",
          "x3": 205
         },
         {
          "x1": 1347.8357872596155,
          "x2": "test",
          "x3": 206
         },
         {
          "x1": 1277.7325721153845,
          "x2": "test",
          "x3": 207
         },
         {
          "x1": 1342.1030649038462,
          "x2": "test",
          "x3": 208
         },
         {
          "x1": 1101.6002854567307,
          "x2": "test",
          "x3": 209
         },
         {
          "x1": 1169.3609525240386,
          "x2": "test",
          "x3": 210
         },
         {
          "x1": 1322.5094651442307,
          "x2": "test",
          "x3": 211
         },
         {
          "x1": 1400.5552884615386,
          "x2": "test",
          "x3": 212
         },
         {
          "x1": 1018.0031550480769,
          "x2": "test",
          "x3": 213
         },
         {
          "x1": 1135.8655348557693,
          "x2": "test",
          "x3": 214
         },
         {
          "x1": 1041.4845252403845,
          "x2": "test",
          "x3": 215
         },
         {
          "x1": 1076.037860576923,
          "x2": "test",
          "x3": 216
         },
         {
          "x1": 1111.1631610576924,
          "x2": "test",
          "x3": 217
         },
         {
          "x1": 1251.7162710336538,
          "x2": "test",
          "x3": 218
         },
         {
          "x1": 1052.6322115384614,
          "x2": "test",
          "x3": 219
         },
         {
          "x1": 1095.506610576923,
          "x2": "test",
          "x3": 220
         },
         {
          "x1": 1304.5357572115386,
          "x2": "test",
          "x3": 221
         },
         {
          "x1": 1215.3548677884614,
          "x2": "test",
          "x3": 222
         },
         {
          "x1": 1285.0946514423076,
          "x2": "test",
          "x3": 223
         },
         {
          "x1": 1223.7679537259614,
          "x2": "test",
          "x3": 224
         },
         {
          "x1": 985.0791766826923,
          "x2": "test",
          "x3": 225
         },
         {
          "x1": 1302.125751201923,
          "x2": "test",
          "x3": 226
         },
         {
          "x1": 1088.5030799278845,
          "x2": "test",
          "x3": 227
         },
         {
          "x1": 1171.0370342548076,
          "x2": "test",
          "x3": 228
         },
         {
          "x1": 1027.4638671875,
          "x2": "test",
          "x3": 229
         },
         {
          "x1": 1034.2221304086538,
          "x2": "test",
          "x3": 230
         },
         {
          "x1": 1218.1429537259614,
          "x2": "test",
          "x3": 231
         },
         {
          "x1": 1080.1410757211538,
          "x2": "test",
          "x3": 232
         },
         {
          "x1": 1229.0713641826924,
          "x2": "test",
          "x3": 233
         },
         {
          "x1": 1214.9549278846155,
          "x2": "test",
          "x3": 234
         },
         {
          "x1": 1218.2503004807693,
          "x2": "test",
          "x3": 235
         },
         {
          "x1": 1132.3854417067307,
          "x2": "test",
          "x3": 236
         },
         {
          "x1": 1062.4923377403845,
          "x2": "test",
          "x3": 237
         },
         {
          "x1": 1073.366962139423,
          "x2": "test",
          "x3": 238
         },
         {
          "x1": 1325.0546875,
          "x2": "test",
          "x3": 239
         },
         {
          "x1": 1484.6735276442307,
          "x2": "test",
          "x3": 240
         },
         {
          "x1": 1255.7674278846155,
          "x2": "test",
          "x3": 241
         },
         {
          "x1": 1301.3467548076924,
          "x2": "test",
          "x3": 242
         },
         {
          "x1": 1101.698467548077,
          "x2": "test",
          "x3": 243
         },
         {
          "x1": 986.5504807692307,
          "x2": "test",
          "x3": 244
         },
         {
          "x1": 1191.1165114182693,
          "x2": "test",
          "x3": 245
         },
         {
          "x1": 1338.33984375,
          "x2": "test",
          "x3": 246
         },
         {
          "x1": 1052.862530048077,
          "x2": "test",
          "x3": 247
         },
         {
          "x1": 1427.8524639423076,
          "x2": "test",
          "x3": 248
         },
         {
          "x1": 1174.5042067307693,
          "x2": "test",
          "x3": 249
         },
         {
          "x1": 1057.5932992788462,
          "x2": "test",
          "x3": 250
         },
         {
          "x1": 1146.5380859375,
          "x2": "test",
          "x3": 251
         },
         {
          "x1": 1072.933368389423,
          "x2": "test",
          "x3": 252
         },
         {
          "x1": 1245.6005859375,
          "x2": "test",
          "x3": 253
         },
         {
          "x1": 1205.661884014423,
          "x2": "test",
          "x3": 254
         },
         {
          "x1": 1178.8900991586538,
          "x2": "test",
          "x3": 255
         },
         {
          "x1": 1070.2168719951924,
          "x2": "test",
          "x3": 256
         },
         {
          "x1": 1091.5072115384614,
          "x2": "test",
          "x3": 257
         },
         {
          "x1": 1109.716045673077,
          "x2": "test",
          "x3": 258
         },
         {
          "x1": 1118.6198167067307,
          "x2": "test",
          "x3": 259
         },
         {
          "x1": 1012.134765625,
          "x2": "test",
          "x3": 260
         },
         {
          "x1": 1033.1615084134614,
          "x2": "test",
          "x3": 261
         },
         {
          "x1": 1174.2852313701924,
          "x2": "test",
          "x3": 262
         },
         {
          "x1": 1263.860126201923,
          "x2": "test",
          "x3": 263
         },
         {
          "x1": 1408.6705228365386,
          "x2": "test",
          "x3": 264
         },
         {
          "x1": 1091.5167518028845,
          "x2": "test",
          "x3": 265
         },
         {
          "x1": 1213.4493689903845,
          "x2": "test",
          "x3": 266
         },
         {
          "x1": 1509.0951021634614,
          "x2": "test",
          "x3": 267
         },
         {
          "x1": 1201.6860727163462,
          "x2": "test",
          "x3": 268
         },
         {
          "x1": 1271.8578725961538,
          "x2": "test",
          "x3": 269
         },
         {
          "x1": 1255.0008263221155,
          "x2": "test",
          "x3": 270
         },
         {
          "x1": 1031.7900390625,
          "x2": "test",
          "x3": 271
         },
         {
          "x1": 907.0829326923077,
          "x2": "test",
          "x3": 272
         },
         {
          "x1": 992.5998347355769,
          "x2": "test",
          "x3": 273
         },
         {
          "x1": 930.3859675480769,
          "x2": "test",
          "x3": 274
         },
         {
          "x1": 1035.3599759615386,
          "x2": "test",
          "x3": 275
         },
         {
          "x1": 1129.0200570913462,
          "x2": "test",
          "x3": 276
         },
         {
          "x1": 1349.6559495192307,
          "x2": "test",
          "x3": 277
         },
         {
          "x1": 1198.02734375,
          "x2": "test",
          "x3": 278
         },
         {
          "x1": 1256.0628004807693,
          "x2": "test",
          "x3": 279
         },
         {
          "x1": 1255.3524639423076,
          "x2": "test",
          "x3": 280
         },
         {
          "x1": 1254.6527193509614,
          "x2": "test",
          "x3": 281
         },
         {
          "x1": 1391.5338040865386,
          "x2": "test",
          "x3": 282
         },
         {
          "x1": 1043.0055588942307,
          "x2": "test",
          "x3": 283
         },
         {
          "x1": 1423.792217548077,
          "x2": "test",
          "x3": 284
         },
         {
          "x1": 1094.2361778846155,
          "x2": "test",
          "x3": 285
         },
         {
          "x1": 1152.1078725961538,
          "x2": "test",
          "x3": 286
         },
         {
          "x1": 1251.8279747596155,
          "x2": "test",
          "x3": 287
         },
         {
          "x1": 921.6756310096154,
          "x2": "test",
          "x3": 288
         },
         {
          "x1": 1222.1298076923076,
          "x2": "test",
          "x3": 289
         },
         {
          "x1": 829.1850961538462,
          "x2": "test",
          "x3": 290
         },
         {
          "x1": 1251.105694110577,
          "x2": "test",
          "x3": 291
         },
         {
          "x1": 1113.3486328125,
          "x2": "test",
          "x3": 292
         },
         {
          "x1": 1002.3968599759615,
          "x2": "test",
          "x3": 293
         },
         {
          "x1": 1120.0069861778845,
          "x2": "test",
          "x3": 294
         },
         {
          "x1": 1098.535907451923,
          "x2": "test",
          "x3": 295
         },
         {
          "x1": 1211.4145883413462,
          "x2": "test",
          "x3": 296
         },
         {
          "x1": 1168.6923828125,
          "x2": "test",
          "x3": 297
         },
         {
          "x1": 1035.5594200721155,
          "x2": "test",
          "x3": 298
         },
         {
          "x1": 1240.7789212740386,
          "x2": "test",
          "x3": 299
         },
         {
          "x1": 1073.099834735577,
          "x2": "test",
          "x3": 300
         },
         {
          "x1": 1126.6337139423076,
          "x2": "test",
          "x3": 301
         },
         {
          "x1": 1214.8780799278845,
          "x2": "test",
          "x3": 302
         },
         {
          "x1": 1117.788311298077,
          "x2": "test",
          "x3": 303
         },
         {
          "x1": 1129.042743389423,
          "x2": "test",
          "x3": 304
         },
         {
          "x1": 1067.2168719951924,
          "x2": "test",
          "x3": 305
         },
         {
          "x1": 1195.4657451923076,
          "x2": "test",
          "x3": 306
         },
         {
          "x1": 907.1825420673077,
          "x2": "test",
          "x3": 307
         },
         {
          "x1": 1048.828350360577,
          "x2": "test",
          "x3": 308
         },
         {
          "x1": 1239.3916015625,
          "x2": "test",
          "x3": 309
         },
         {
          "x1": 1006.2814753605769,
          "x2": "test",
          "x3": 310
         },
         {
          "x1": 1039.2356520432693,
          "x2": "test",
          "x3": 311
         },
         {
          "x1": 934.6488131009615,
          "x2": "test",
          "x3": 312
         },
         {
          "x1": 1179.6057692307693,
          "x2": "test",
          "x3": 313
         },
         {
          "x1": 1083.3059645432693,
          "x2": "test",
          "x3": 314
         },
         {
          "x1": 1006.1533203125,
          "x2": "test",
          "x3": 315
         },
         {
          "x1": 1018.7702824519231,
          "x2": "test",
          "x3": 316
         },
         {
          "x1": 1104.6595552884614,
          "x2": "test",
          "x3": 317
         },
         {
          "x1": 1200.518329326923,
          "x2": "test",
          "x3": 318
         },
         {
          "x1": 1037.9223257211538,
          "x2": "test",
          "x3": 319
         },
         {
          "x1": 1073.375,
          "x2": "test",
          "x3": 320
         },
         {
          "x1": 1177.0232872596155,
          "x2": "test",
          "x3": 321
         },
         {
          "x1": 1112.9868539663462,
          "x2": "test",
          "x3": 322
         },
         {
          "x1": 998.4391526442307,
          "x2": "test",
          "x3": 323
         },
         {
          "x1": 1247.5913461538462,
          "x2": "test",
          "x3": 324
         },
         {
          "x1": 949.5477013221154,
          "x2": "test",
          "x3": 325
         },
         {
          "x1": 1059.9161658653845,
          "x2": "test",
          "x3": 326
         },
         {
          "x1": 1146.025165264423,
          "x2": "test",
          "x3": 327
         },
         {
          "x1": 1026.7032001201924,
          "x2": "test",
          "x3": 328
         },
         {
          "x1": 1223.2464693509614,
          "x2": "test",
          "x3": 329
         },
         {
          "x1": 1043.4236778846155,
          "x2": "test",
          "x3": 330
         },
         {
          "x1": 1092.4567307692307,
          "x2": "test",
          "x3": 331
         },
         {
          "x1": 1176.5862379807693,
          "x2": "test",
          "x3": 332
         },
         {
          "x1": 1046.2769681490386,
          "x2": "test",
          "x3": 333
         },
         {
          "x1": 1064.9171424278845,
          "x2": "test",
          "x3": 334
         },
         {
          "x1": 1143.2980018028845,
          "x2": "test",
          "x3": 335
         },
         {
          "x1": 1120.5962289663462,
          "x2": "test",
          "x3": 336
         },
         {
          "x1": 1241.7801983173076,
          "x2": "test",
          "x3": 337
         },
         {
          "x1": 1016.2210036057693,
          "x2": "test",
          "x3": 338
         },
         {
          "x1": 1281.602764423077,
          "x2": "test",
          "x3": 339
         },
         {
          "x1": 1044.0655048076924,
          "x2": "test",
          "x3": 340
         },
         {
          "x1": 1157.9182692307693,
          "x2": "test",
          "x3": 341
         },
         {
          "x1": 1063.7237079326924,
          "x2": "test",
          "x3": 342
         },
         {
          "x1": 1000.4699519230769,
          "x2": "test",
          "x3": 343
         },
         {
          "x1": 1010.9021935096154,
          "x2": "test",
          "x3": 344
         },
         {
          "x1": 999.3522385817307,
          "x2": "test",
          "x3": 345
         },
         {
          "x1": 1229.7251352163462,
          "x2": "test",
          "x3": 346
         },
         {
          "x1": 875.1309344951923,
          "x2": "test",
          "x3": 347
         },
         {
          "x1": 1196.660381610577,
          "x2": "test",
          "x3": 348
         },
         {
          "x1": 1237.9407301682693,
          "x2": "test",
          "x3": 349
         },
         {
          "x1": 947.4688251201923,
          "x2": "test",
          "x3": 350
         },
         {
          "x1": 1227.4468900240386,
          "x2": "test",
          "x3": 351
         },
         {
          "x1": 906.3949068509615,
          "x2": "test",
          "x3": 352
         },
         {
          "x1": 956.7423377403846,
          "x2": "test",
          "x3": 353
         },
         {
          "x1": 1268.6813401442307,
          "x2": "test",
          "x3": 354
         },
         {
          "x1": 1042.3550180288462,
          "x2": "test",
          "x3": 355
         },
         {
          "x1": 1039.392803485577,
          "x2": "test",
          "x3": 356
         },
         {
          "x1": 893.4368239182693,
          "x2": "test",
          "x3": 357
         },
         {
          "x1": 1170.4874549278845,
          "x2": "test",
          "x3": 358
         },
         {
          "x1": 1129.9849759615386,
          "x2": "test",
          "x3": 359
         },
         {
          "x1": 1003.4342698317307,
          "x2": "test",
          "x3": 360
         },
         {
          "x1": 1292.7596153846155,
          "x2": "test",
          "x3": 361
         },
         {
          "x1": 1118.8399188701924,
          "x2": "test",
          "x3": 362
         },
         {
          "x1": 1104.483623798077,
          "x2": "test",
          "x3": 363
         },
         {
          "x1": 950.9408804086538,
          "x2": "test",
          "x3": 364
         },
         {
          "x1": 1247.8429236778845,
          "x2": "test",
          "x3": 365
         },
         {
          "x1": 1221.1144080528845,
          "x2": "test",
          "x3": 366
         },
         {
          "x1": 1177.8120492788462,
          "x2": "test",
          "x3": 367
         },
         {
          "x1": 1221.3568209134614,
          "x2": "test",
          "x3": 368
         },
         {
          "x1": 1046.8595252403845,
          "x2": "test",
          "x3": 369
         },
         {
          "x1": 1107.232647235577,
          "x2": "test",
          "x3": 370
         },
         {
          "x1": 1081.041766826923,
          "x2": "test",
          "x3": 371
         },
         {
          "x1": 1118.291015625,
          "x2": "test",
          "x3": 372
         },
         {
          "x1": 1059.5866135817307,
          "x2": "test",
          "x3": 373
         },
         {
          "x1": 921.7457932692307,
          "x2": "test",
          "x3": 374
         },
         {
          "x1": 952.8050631009615,
          "x2": "test",
          "x3": 375
         },
         {
          "x1": 985.0160757211538,
          "x2": "test",
          "x3": 376
         },
         {
          "x1": 859.8942307692307,
          "x2": "test",
          "x3": 377
         },
         {
          "x1": 963.8473557692307,
          "x2": "test",
          "x3": 378
         },
         {
          "x1": 1158.6084735576924,
          "x2": "test",
          "x3": 379
         },
         {
          "x1": 958.6410757211538,
          "x2": "test",
          "x3": 380
         },
         {
          "x1": 1097.538311298077,
          "x2": "test",
          "x3": 381
         },
         {
          "x1": 1114.920147235577,
          "x2": "test",
          "x3": 382
         },
         {
          "x1": 1077.780498798077,
          "x2": "test",
          "x3": 383
         },
         {
          "x1": 1026.815655048077,
          "x2": "test",
          "x3": 384
         },
         {
          "x1": 1101.791766826923,
          "x2": "test",
          "x3": 385
         },
         {
          "x1": 960.2917668269231,
          "x2": "test",
          "x3": 386
         },
         {
          "x1": 1101.4181189903845,
          "x2": "test",
          "x3": 387
         },
         {
          "x1": 865.3343599759615,
          "x2": "test",
          "x3": 388
         },
         {
          "x1": 1057.6607572115386,
          "x2": "test",
          "x3": 389
         },
         {
          "x1": 1279.0899939903845,
          "x2": "test",
          "x3": 390
         },
         {
          "x1": 1185.6008864182693,
          "x2": "test",
          "x3": 391
         },
         {
          "x1": 1061.9102313701924,
          "x2": "test",
          "x3": 392
         },
         {
          "x1": 959.5938251201923,
          "x2": "test",
          "x3": 393
         },
         {
          "x1": 974.8511868990385,
          "x2": "test",
          "x3": 394
         },
         {
          "x1": 1035.935546875,
          "x2": "test",
          "x3": 395
         },
         {
          "x1": 943.0543870192307,
          "x2": "test",
          "x3": 396
         },
         {
          "x1": 1027.4017427884614,
          "x2": "test",
          "x3": 397
         },
         {
          "x1": 1114.8524639423076,
          "x2": "test",
          "x3": 398
         },
         {
          "x1": 949.7180739182693,
          "x2": "test",
          "x3": 399
         },
         {
          "x1": 1125.9692758413462,
          "x2": "test",
          "x3": 400
         },
         {
          "x1": 968.9476412259615,
          "x2": "test",
          "x3": 401
         },
         {
          "x1": 1276.0916466346155,
          "x2": "test",
          "x3": 402
         },
         {
          "x1": 921.6221454326923,
          "x2": "test",
          "x3": 403
         },
         {
          "x1": 1035.0469501201924,
          "x2": "test",
          "x3": 404
         },
         {
          "x1": 1123.0643780048076,
          "x2": "test",
          "x3": 405
         },
         {
          "x1": 942.1567007211538,
          "x2": "test",
          "x3": 406
         },
         {
          "x1": 989.3491586538462,
          "x2": "test",
          "x3": 407
         },
         {
          "x1": 942.1305588942307,
          "x2": "test",
          "x3": 408
         },
         {
          "x1": 954.0851862980769,
          "x2": "test",
          "x3": 409
         },
         {
          "x1": 897.2506009615385,
          "x2": "test",
          "x3": 410
         },
         {
          "x1": 880.2889122596154,
          "x2": "test",
          "x3": 411
         },
         {
          "x1": 1172.5069110576924,
          "x2": "test",
          "x3": 412
         },
         {
          "x1": 807.8125,
          "x2": "test",
          "x3": 413
         },
         {
          "x1": 941.4872295673077,
          "x2": "test",
          "x3": 414
         },
         {
          "x1": 806.3012319711538,
          "x2": "test",
          "x3": 415
         },
         {
          "x1": 980.4350210336538,
          "x2": "test",
          "x3": 416
         },
         {
          "x1": 981.7071814903846,
          "x2": "test",
          "x3": 417
         },
         {
          "x1": 965.9919621394231,
          "x2": "test",
          "x3": 418
         },
         {
          "x1": 1078.3037109375,
          "x2": "test",
          "x3": 419
         },
         {
          "x1": 975.8252704326923,
          "x2": "test",
          "x3": 420
         },
         {
          "x1": 1044.1673677884614,
          "x2": "test",
          "x3": 421
         },
         {
          "x1": 1074.5322265625,
          "x2": "test",
          "x3": 422
         },
         {
          "x1": 877.6811147836538,
          "x2": "test",
          "x3": 423
         },
         {
          "x1": 1427.582782451923,
          "x2": "test",
          "x3": 424
         },
         {
          "x1": 936.2481971153846,
          "x2": "test",
          "x3": 425
         },
         {
          "x1": 1074.7439903846155,
          "x2": "test",
          "x3": 426
         },
         {
          "x1": 1049.5471754807693,
          "x2": "test",
          "x3": 427
         },
         {
          "x1": 987.3228665865385,
          "x2": "test",
          "x3": 428
         },
         {
          "x1": 809.5952524038462,
          "x2": "test",
          "x3": 429
         },
         {
          "x1": 1070.1539212740386,
          "x2": "test",
          "x3": 430
         },
         {
          "x1": 884.4518479567307,
          "x2": "test",
          "x3": 431
         },
         {
          "x1": 1264.5064603365386,
          "x2": "test",
          "x3": 432
         },
         {
          "x1": 910.2351262019231,
          "x2": "test",
          "x3": 433
         },
         {
          "x1": 925.9881310096154,
          "x2": "test",
          "x3": 434
         },
         {
          "x1": 889.6098257211538,
          "x2": "test",
          "x3": 435
         },
         {
          "x1": 1105.9100060096155,
          "x2": "test",
          "x3": 436
         },
         {
          "x1": 1054.6708233173076,
          "x2": "test",
          "x3": 437
         },
         {
          "x1": 936.9983473557693,
          "x2": "test",
          "x3": 438
         },
         {
          "x1": 949.1704477163462,
          "x2": "test",
          "x3": 439
         },
         {
          "x1": 850.5525841346154,
          "x2": "test",
          "x3": 440
         },
         {
          "x1": 1007.0090895432693,
          "x2": "test",
          "x3": 441
         },
         {
          "x1": 1039.0368088942307,
          "x2": "test",
          "x3": 442
         },
         {
          "x1": 999.1247746394231,
          "x2": "test",
          "x3": 443
         },
         {
          "x1": 804.8903245192307,
          "x2": "test",
          "x3": 444
         },
         {
          "x1": 919.7542067307693,
          "x2": "test",
          "x3": 445
         },
         {
          "x1": 882.1584284855769,
          "x2": "test",
          "x3": 446
         },
         {
          "x1": 1057.4241286057693,
          "x2": "test",
          "x3": 447
         },
         {
          "x1": 1033.6302584134614,
          "x2": "test",
          "x3": 448
         },
         {
          "x1": 878.2547325721154,
          "x2": "test",
          "x3": 449
         },
         {
          "x1": 1080.9505709134614,
          "x2": "test",
          "x3": 450
         },
         {
          "x1": 1029.2945462740386,
          "x2": "test",
          "x3": 451
         },
         {
          "x1": 754.1741286057693,
          "x2": "test",
          "x3": 452
         },
         {
          "x1": 1082.0854867788462,
          "x2": "test",
          "x3": 453
         },
         {
          "x1": 1138.6376953125,
          "x2": "test",
          "x3": 454
         },
         {
          "x1": 983.0797776442307,
          "x2": "test",
          "x3": 455
         },
         {
          "x1": 874.0416917067307,
          "x2": "test",
          "x3": 456
         },
         {
          "x1": 856.5452974759615,
          "x2": "test",
          "x3": 457
         },
         {
          "x1": 962.9560546875,
          "x2": "test",
          "x3": 458
         },
         {
          "x1": 860.3560697115385,
          "x2": "test",
          "x3": 459
         },
         {
          "x1": 916.6065204326923,
          "x2": "test",
          "x3": 460
         },
         {
          "x1": 869.1195162259615,
          "x2": "test",
          "x3": 461
         },
         {
          "x1": 832.9936899038462,
          "x2": "test",
          "x3": 462
         },
         {
          "x1": 868.2282151442307,
          "x2": "test",
          "x3": 463
         },
         {
          "x1": 996.5712139423077,
          "x2": "test",
          "x3": 464
         },
         {
          "x1": 899.0389122596154,
          "x2": "test",
          "x3": 465
         },
         {
          "x1": 969.0341796875,
          "x2": "test",
          "x3": 466
         },
         {
          "x1": 777.6881009615385,
          "x2": "test",
          "x3": 467
         },
         {
          "x1": 1025.4046724759614,
          "x2": "test",
          "x3": 468
         },
         {
          "x1": 911.1321364182693,
          "x2": "test",
          "x3": 469
         },
         {
          "x1": 965.7018479567307,
          "x2": "test",
          "x3": 470
         },
         {
          "x1": 1116.249248798077,
          "x2": "test",
          "x3": 471
         },
         {
          "x1": 905.2332481971154,
          "x2": "test",
          "x3": 472
         },
         {
          "x1": 1069.8315054086538,
          "x2": "test",
          "x3": 473
         },
         {
          "x1": 974.2850060096154,
          "x2": "test",
          "x3": 474
         },
         {
          "x1": 931.3156550480769,
          "x2": "test",
          "x3": 475
         },
         {
          "x1": 953.2373798076923,
          "x2": "test",
          "x3": 476
         },
         {
          "x1": 1002.5888671875,
          "x2": "test",
          "x3": 477
         },
         {
          "x1": 948.0681340144231,
          "x2": "test",
          "x3": 478
         },
         {
          "x1": 981.7926682692307,
          "x2": "test",
          "x3": 479
         },
         {
          "x1": 1015.8206129807693,
          "x2": "test",
          "x3": 480
         },
         {
          "x1": 884.2192758413462,
          "x2": "test",
          "x3": 481
         },
         {
          "x1": 1084.9711538461538,
          "x2": "test",
          "x3": 482
         },
         {
          "x1": 932.8089693509615,
          "x2": "test",
          "x3": 483
         },
         {
          "x1": 847.2320462740385,
          "x2": "test",
          "x3": 484
         },
         {
          "x1": 956.7635967548077,
          "x2": "test",
          "x3": 485
         },
         {
          "x1": 1013.2196514423077,
          "x2": "test",
          "x3": 486
         },
         {
          "x1": 963.5274939903846,
          "x2": "test",
          "x3": 487
         },
         {
          "x1": 875.3324819711538,
          "x2": "test",
          "x3": 488
         },
         {
          "x1": 893.3729717548077,
          "x2": "test",
          "x3": 489
         },
         {
          "x1": 879.5140474759615,
          "x2": "test",
          "x3": 490
         },
         {
          "x1": 999.8130258413462,
          "x2": "test",
          "x3": 491
         },
         {
          "x1": 1008.3250450721154,
          "x2": "test",
          "x3": 492
         },
         {
          "x1": 996.1936598557693,
          "x2": "test",
          "x3": 493
         },
         {
          "x1": 925.6373948317307,
          "x2": "test",
          "x3": 494
         },
         {
          "x1": 929.6422025240385,
          "x2": "test",
          "x3": 495
         },
         {
          "x1": 1013.197265625,
          "x2": "test",
          "x3": 496
         },
         {
          "x1": 953.8845402644231,
          "x2": "test",
          "x3": 497
         },
         {
          "x1": 1037.146484375,
          "x2": "test",
          "x3": 498
         },
         {
          "x1": 790.9480168269231,
          "x2": "test",
          "x3": 499
         },
         {
          "x1": 924.7374549278846,
          "x2": "test",
          "x3": 500
         },
         {
          "x1": 928.7765174278846,
          "x2": "test",
          "x3": 501
         },
         {
          "x1": 871.8034104567307,
          "x2": "test",
          "x3": 502
         },
         {
          "x1": 1054.2826772836538,
          "x2": "test",
          "x3": 503
         },
         {
          "x1": 887.1725510817307,
          "x2": "test",
          "x3": 504
         },
         {
          "x1": 948.1346153846154,
          "x2": "test",
          "x3": 505
         },
         {
          "x1": 879.3147536057693,
          "x2": "test",
          "x3": 506
         },
         {
          "x1": 928.6246243990385,
          "x2": "test",
          "x3": 507
         },
         {
          "x1": 865.0590444711538,
          "x2": "test",
          "x3": 508
         },
         {
          "x1": 975.2182241586538,
          "x2": "test",
          "x3": 509
         },
         {
          "x1": 985.8081430288462,
          "x2": "test",
          "x3": 510
         },
         {
          "x1": 838.0483774038462,
          "x2": "test",
          "x3": 511
         },
         {
          "x1": 841.1829176682693,
          "x2": "test",
          "x3": 512
         },
         {
          "x1": 816.0321514423077,
          "x2": "test",
          "x3": 513
         },
         {
          "x1": 881.2731370192307,
          "x2": "test",
          "x3": 514
         },
         {
          "x1": 957.3239182692307,
          "x2": "test",
          "x3": 515
         },
         {
          "x1": 940.1418269230769,
          "x2": "test",
          "x3": 516
         },
         {
          "x1": 710.4754356971154,
          "x2": "test",
          "x3": 517
         },
         {
          "x1": 844.4322415865385,
          "x2": "test",
          "x3": 518
         },
         {
          "x1": 878.6996694711538,
          "x2": "test",
          "x3": 519
         },
         {
          "x1": 868.6476862980769,
          "x2": "test",
          "x3": 520
         },
         {
          "x1": 726.2216796875,
          "x2": "test",
          "x3": 521
         },
         {
          "x1": 908.7627704326923,
          "x2": "test",
          "x3": 522
         },
         {
          "x1": 927.9582331730769,
          "x2": "test",
          "x3": 523
         },
         {
          "x1": 961.3249699519231,
          "x2": "test",
          "x3": 524
         },
         {
          "x1": 925.5803786057693,
          "x2": "test",
          "x3": 525
         },
         {
          "x1": 842.525390625,
          "x2": "test",
          "x3": 526
         },
         {
          "x1": 801.1408503605769,
          "x2": "test",
          "x3": 527
         },
         {
          "x1": 853.6713491586538,
          "x2": "test",
          "x3": 528
         },
         {
          "x1": 916.3426231971154,
          "x2": "test",
          "x3": 529
         },
         {
          "x1": 794.7940204326923,
          "x2": "test",
          "x3": 530
         },
         {
          "x1": 982.8297776442307,
          "x2": "test",
          "x3": 531
         },
         {
          "x1": 793.3396935096154,
          "x2": "test",
          "x3": 532
         },
         {
          "x1": 868.8107722355769,
          "x2": "test",
          "x3": 533
         },
         {
          "x1": 984.9975210336538,
          "x2": "test",
          "x3": 534
         },
         {
          "x1": 885.8248948317307,
          "x2": "test",
          "x3": 535
         },
         {
          "x1": 825.7415865384615,
          "x2": "test",
          "x3": 536
         },
         {
          "x1": 970.095703125,
          "x2": "test",
          "x3": 537
         },
         {
          "x1": 870.7258112980769,
          "x2": "test",
          "x3": 538
         },
         {
          "x1": 941.2744891826923,
          "x2": "test",
          "x3": 539
         },
         {
          "x1": 834.4429837740385,
          "x2": "test",
          "x3": 540
         },
         {
          "x1": 892.0601712740385,
          "x2": "test",
          "x3": 541
         },
         {
          "x1": 927.51171875,
          "x2": "test",
          "x3": 542
         },
         {
          "x1": 950.4405799278846,
          "x2": "test",
          "x3": 543
         },
         {
          "x1": 847.2300931490385,
          "x2": "test",
          "x3": 544
         },
         {
          "x1": 813.8064903846154,
          "x2": "test",
          "x3": 545
         },
         {
          "x1": 760.6974158653846,
          "x2": "test",
          "x3": 546
         },
         {
          "x1": 842.1144080528846,
          "x2": "test",
          "x3": 547
         },
         {
          "x1": 765.3677884615385,
          "x2": "test",
          "x3": 548
         },
         {
          "x1": 950.3662860576923,
          "x2": "test",
          "x3": 549
         },
         {
          "x1": 862.3039362980769,
          "x2": "test",
          "x3": 550
         },
         {
          "x1": 957.5033804086538,
          "x2": "test",
          "x3": 551
         },
         {
          "x1": 771.3596754807693,
          "x2": "test",
          "x3": 552
         },
         {
          "x1": 838.3501352163462,
          "x2": "test",
          "x3": 553
         },
         {
          "x1": 1041.0191556490386,
          "x2": "test",
          "x3": 554
         },
         {
          "x1": 889.8082181490385,
          "x2": "test",
          "x3": 555
         },
         {
          "x1": 891.2025991586538,
          "x2": "test",
          "x3": 556
         },
         {
          "x1": 837.9704777644231,
          "x2": "test",
          "x3": 557
         },
         {
          "x1": 906.1742037259615,
          "x2": "test",
          "x3": 558
         },
         {
          "x1": 823.9521484375,
          "x2": "test",
          "x3": 559
         },
         {
          "x1": 808.1292067307693,
          "x2": "test",
          "x3": 560
         },
         {
          "x1": 672.7047776442307,
          "x2": "test",
          "x3": 561
         },
         {
          "x1": 816.6740534855769,
          "x2": "test",
          "x3": 562
         },
         {
          "x1": 967.9197716346154,
          "x2": "test",
          "x3": 563
         },
         {
          "x1": 859.1299579326923,
          "x2": "test",
          "x3": 564
         },
         {
          "x1": 926.3544170673077,
          "x2": "test",
          "x3": 565
         },
         {
          "x1": 853.6633112980769,
          "x2": "test",
          "x3": 566
         },
         {
          "x1": 789.3496844951923,
          "x2": "test",
          "x3": 567
         },
         {
          "x1": 869.7956730769231,
          "x2": "test",
          "x3": 568
         },
         {
          "x1": 814.6528695913462,
          "x2": "test",
          "x3": 569
         },
         {
          "x1": 861.1020883413462,
          "x2": "test",
          "x3": 570
         },
         {
          "x1": 975.1619591346154,
          "x2": "test",
          "x3": 571
         },
         {
          "x1": 922.546875,
          "x2": "test",
          "x3": 572
         },
         {
          "x1": 954.4962439903846,
          "x2": "test",
          "x3": 573
         },
         {
          "x1": 726.2315204326923,
          "x2": "test",
          "x3": 574
         },
         {
          "x1": 898.8241436298077,
          "x2": "test",
          "x3": 575
         },
         {
          "x1": 881.0636268028846,
          "x2": "test",
          "x3": 576
         },
         {
          "x1": 822.1176382211538,
          "x2": "test",
          "x3": 577
         },
         {
          "x1": 775.7330228365385,
          "x2": "test",
          "x3": 578
         },
         {
          "x1": 798.7412860576923,
          "x2": "test",
          "x3": 579
         },
         {
          "x1": 791.8096454326923,
          "x2": "test",
          "x3": 580
         },
         {
          "x1": 801.6033653846154,
          "x2": "test",
          "x3": 581
         },
         {
          "x1": 872.8577223557693,
          "x2": "test",
          "x3": 582
         },
         {
          "x1": 955.8191105769231,
          "x2": "test",
          "x3": 583
         },
         {
          "x1": 777.3276742788462,
          "x2": "test",
          "x3": 584
         },
         {
          "x1": 773.8448016826923,
          "x2": "test",
          "x3": 585
         },
         {
          "x1": 748.5014272836538,
          "x2": "test",
          "x3": 586
         },
         {
          "x1": 799.1177133413462,
          "x2": "test",
          "x3": 587
         },
         {
          "x1": 1026.402118389423,
          "x2": "test",
          "x3": 588
         },
         {
          "x1": 750.1865985576923,
          "x2": "test",
          "x3": 589
         },
         {
          "x1": 804.4861027644231,
          "x2": "test",
          "x3": 590
         },
         {
          "x1": 803.6306340144231,
          "x2": "test",
          "x3": 591
         },
         {
          "x1": 913.3035606971154,
          "x2": "test",
          "x3": 592
         },
         {
          "x1": 806.7496243990385,
          "x2": "test",
          "x3": 593
         },
         {
          "x1": 661.8982121394231,
          "x2": "test",
          "x3": 594
         },
         {
          "x1": 887.0821814903846,
          "x2": "test",
          "x3": 595
         },
         {
          "x1": 783.7335486778846,
          "x2": "test",
          "x3": 596
         },
         {
          "x1": 929.3620793269231,
          "x2": "test",
          "x3": 597
         },
         {
          "x1": 842.0975060096154,
          "x2": "test",
          "x3": 598
         },
         {
          "x1": 781.0203575721154,
          "x2": "test",
          "x3": 599
         },
         {
          "x1": 914.0404897836538,
          "x2": "test",
          "x3": 600
         },
         {
          "x1": 711.2195763221154,
          "x2": "test",
          "x3": 601
         },
         {
          "x1": 793.5674579326923,
          "x2": "test",
          "x3": 602
         },
         {
          "x1": 882.9938401442307,
          "x2": "test",
          "x3": 603
         },
         {
          "x1": 896.5864633413462,
          "x2": "test",
          "x3": 604
         },
         {
          "x1": 714.0893179086538,
          "x2": "test",
          "x3": 605
         },
         {
          "x1": 861.5023287259615,
          "x2": "test",
          "x3": 606
         },
         {
          "x1": 794.4713792067307,
          "x2": "test",
          "x3": 607
         },
         {
          "x1": 839.6628605769231,
          "x2": "test",
          "x3": 608
         },
         {
          "x1": 797.0146484375,
          "x2": "test",
          "x3": 609
         },
         {
          "x1": 868.1290564903846,
          "x2": "test",
          "x3": 610
         },
         {
          "x1": 796.4770883413462,
          "x2": "test",
          "x3": 611
         },
         {
          "x1": 793.9748347355769,
          "x2": "test",
          "x3": 612
         },
         {
          "x1": 775.6992938701923,
          "x2": "test",
          "x3": 613
         },
         {
          "x1": 710.7116887019231,
          "x2": "test",
          "x3": 614
         },
         {
          "x1": 928.6576772836538,
          "x2": "test",
          "x3": 615
         },
         {
          "x1": 762.6705228365385,
          "x2": "test",
          "x3": 616
         },
         {
          "x1": 915.0909705528846,
          "x2": "test",
          "x3": 617
         },
         {
          "x1": 783.6206430288462,
          "x2": "test",
          "x3": 618
         },
         {
          "x1": 804.2186748798077,
          "x2": "test",
          "x3": 619
         },
         {
          "x1": 790.8643329326923,
          "x2": "test",
          "x3": 620
         },
         {
          "x1": 781.3417217548077,
          "x2": "test",
          "x3": 621
         },
         {
          "x1": 757.9469651442307,
          "x2": "test",
          "x3": 622
         },
         {
          "x1": 736.0094651442307,
          "x2": "test",
          "x3": 623
         },
         {
          "x1": 748.4344951923077,
          "x2": "test",
          "x3": 624
         },
         {
          "x1": 811.1939603365385,
          "x2": "test",
          "x3": 625
         },
         {
          "x1": 836.4086538461538,
          "x2": "test",
          "x3": 626
         },
         {
          "x1": 770.6703725961538,
          "x2": "test",
          "x3": 627
         },
         {
          "x1": 843.0093900240385,
          "x2": "test",
          "x3": 628
         },
         {
          "x1": 738.2285907451923,
          "x2": "test",
          "x3": 629
         },
         {
          "x1": 742.2495492788462,
          "x2": "test",
          "x3": 630
         },
         {
          "x1": 839.5178786057693,
          "x2": "test",
          "x3": 631
         },
         {
          "x1": 952.6305588942307,
          "x2": "test",
          "x3": 632
         },
         {
          "x1": 768.8233173076923,
          "x2": "test",
          "x3": 633
         },
         {
          "x1": 944.5595703125,
          "x2": "test",
          "x3": 634
         },
         {
          "x1": 790.9847506009615,
          "x2": "test",
          "x3": 635
         },
         {
          "x1": 749.4127103365385,
          "x2": "test",
          "x3": 636
         },
         {
          "x1": 805.869140625,
          "x2": "test",
          "x3": 637
         },
         {
          "x1": 827.0749699519231,
          "x2": "test",
          "x3": 638
         },
         {
          "x1": 831.2518780048077,
          "x2": "test",
          "x3": 639
         },
         {
          "x1": 633.6146334134615,
          "x2": "test",
          "x3": 640
         },
         {
          "x1": 754.8559945913462,
          "x2": "test",
          "x3": 641
         },
         {
          "x1": 736.8692157451923,
          "x2": "test",
          "x3": 642
         },
         {
          "x1": 818.4836237980769,
          "x2": "test",
          "x3": 643
         },
         {
          "x1": 719.4382512019231,
          "x2": "test",
          "x3": 644
         },
         {
          "x1": 811.7964993990385,
          "x2": "test",
          "x3": 645
         },
         {
          "x1": 844.5694110576923,
          "x2": "test",
          "x3": 646
         },
         {
          "x1": 878.0911959134615,
          "x2": "test",
          "x3": 647
         },
         {
          "x1": 685.2989783653846,
          "x2": "test",
          "x3": 648
         },
         {
          "x1": 699.8392427884615,
          "x2": "test",
          "x3": 649
         },
         {
          "x1": 734.4644681490385,
          "x2": "test",
          "x3": 650
         },
         {
          "x1": 718.4876802884615,
          "x2": "test",
          "x3": 651
         },
         {
          "x1": 803.3823617788462,
          "x2": "test",
          "x3": 652
         },
         {
          "x1": 852.0964543269231,
          "x2": "test",
          "x3": 653
         },
         {
          "x1": 669.3734975961538,
          "x2": "test",
          "x3": 654
         },
         {
          "x1": 714.6372445913462,
          "x2": "test",
          "x3": 655
         },
         {
          "x1": 854.1295072115385,
          "x2": "test",
          "x3": 656
         },
         {
          "x1": 734.3288762019231,
          "x2": "test",
          "x3": 657
         },
         {
          "x1": 715.232421875,
          "x2": "test",
          "x3": 658
         },
         {
          "x1": 660.1936598557693,
          "x2": "test",
          "x3": 659
         },
         {
          "x1": 729.9855769230769,
          "x2": "test",
          "x3": 660
         },
         {
          "x1": 650.1092998798077,
          "x2": "test",
          "x3": 661
         },
         {
          "x1": 844.0723407451923,
          "x2": "test",
          "x3": 662
         },
         {
          "x1": 634.3149038461538,
          "x2": "test",
          "x3": 663
         },
         {
          "x1": 672.4468149038462,
          "x2": "test",
          "x3": 664
         },
         {
          "x1": 734.5997596153846,
          "x2": "test",
          "x3": 665
         },
         {
          "x1": 679.2774939903846,
          "x2": "test",
          "x3": 666
         },
         {
          "x1": 660.8126502403846,
          "x2": "test",
          "x3": 667
         },
         {
          "x1": 714.09765625,
          "x2": "test",
          "x3": 668
         },
         {
          "x1": 735.5054086538462,
          "x2": "test",
          "x3": 669
         },
         {
          "x1": 816.6987680288462,
          "x2": "test",
          "x3": 670
         },
         {
          "x1": 714.7063551682693,
          "x2": "test",
          "x3": 671
         },
         {
          "x1": 813.9387019230769,
          "x2": "test",
          "x3": 672
         },
         {
          "x1": 745.0437950721154,
          "x2": "test",
          "x3": 673
         },
         {
          "x1": 734.7950721153846,
          "x2": "test",
          "x3": 674
         },
         {
          "x1": 794.0063852163462,
          "x2": "test",
          "x3": 675
         },
         {
          "x1": 693.9622896634615,
          "x2": "test",
          "x3": 676
         },
         {
          "x1": 726.6641376201923,
          "x2": "test",
          "x3": 677
         },
         {
          "x1": 679.330078125,
          "x2": "test",
          "x3": 678
         },
         {
          "x1": 883.7802734375,
          "x2": "test",
          "x3": 679
         },
         {
          "x1": 810.9513221153846,
          "x2": "test",
          "x3": 680
         },
         {
          "x1": 737.1069711538462,
          "x2": "test",
          "x3": 681
         },
         {
          "x1": 729.7938701923077,
          "x2": "test",
          "x3": 682
         },
         {
          "x1": 651.6989933894231,
          "x2": "test",
          "x3": 683
         },
         {
          "x1": 808.9942157451923,
          "x2": "test",
          "x3": 684
         },
         {
          "x1": 631.4134615384615,
          "x2": "test",
          "x3": 685
         },
         {
          "x1": 706.3680889423077,
          "x2": "test",
          "x3": 686
         },
         {
          "x1": 792.4100060096154,
          "x2": "test",
          "x3": 687
         },
         {
          "x1": 834.484375,
          "x2": "test",
          "x3": 688
         },
         {
          "x1": 649.3943058894231,
          "x2": "test",
          "x3": 689
         },
         {
          "x1": 645.2330228365385,
          "x2": "test",
          "x3": 690
         },
         {
          "x1": 666.8780048076923,
          "x2": "test",
          "x3": 691
         },
         {
          "x1": 665.9640174278846,
          "x2": "test",
          "x3": 692
         },
         {
          "x1": 739.8753004807693,
          "x2": "test",
          "x3": 693
         },
         {
          "x1": 717.2721604567307,
          "x2": "test",
          "x3": 694
         },
         {
          "x1": 765.5153996394231,
          "x2": "test",
          "x3": 695
         },
         {
          "x1": 781.7651742788462,
          "x2": "test",
          "x3": 696
         },
         {
          "x1": 771.7935697115385,
          "x2": "test",
          "x3": 697
         },
         {
          "x1": 768.9532752403846,
          "x2": "test",
          "x3": 698
         },
         {
          "x1": 635.1013371394231,
          "x2": "test",
          "x3": 699
         },
         {
          "x1": 682.7515775240385,
          "x2": "test",
          "x3": 700
         },
         {
          "x1": 953.1589543269231,
          "x2": "test",
          "x3": 701
         },
         {
          "x1": 814.5200570913462,
          "x2": "test",
          "x3": 702
         },
         {
          "x1": 684.7704326923077,
          "x2": "test",
          "x3": 703
         },
         {
          "x1": 726.7881610576923,
          "x2": "test",
          "x3": 704
         },
         {
          "x1": 602.7753530649038,
          "x2": "test",
          "x3": 705
         },
         {
          "x1": 696.7225060096154,
          "x2": "test",
          "x3": 706
         },
         {
          "x1": 717.9555288461538,
          "x2": "test",
          "x3": 707
         },
         {
          "x1": 706.1312349759615,
          "x2": "test",
          "x3": 708
         },
         {
          "x1": 699.0038311298077,
          "x2": "test",
          "x3": 709
         },
         {
          "x1": 722.6354417067307,
          "x2": "test",
          "x3": 710
         },
         {
          "x1": 682.0161508413462,
          "x2": "test",
          "x3": 711
         },
         {
          "x1": 673.0037560096154,
          "x2": "test",
          "x3": 712
         },
         {
          "x1": 752.8585486778846,
          "x2": "test",
          "x3": 713
         },
         {
          "x1": 802.9445612980769,
          "x2": "test",
          "x3": 714
         },
         {
          "x1": 720.2527794471154,
          "x2": "test",
          "x3": 715
         },
         {
          "x1": 648.3562199519231,
          "x2": "test",
          "x3": 716
         },
         {
          "x1": 757.5144230769231,
          "x2": "test",
          "x3": 717
         },
         {
          "x1": 699.8352614182693,
          "x2": "test",
          "x3": 718
         },
         {
          "x1": 632.6702223557693,
          "x2": "test",
          "x3": 719
         },
         {
          "x1": 695.4461388221154,
          "x2": "test",
          "x3": 720
         },
         {
          "x1": 767.1416015625,
          "x2": "test",
          "x3": 721
         },
         {
          "x1": 671.7843299278846,
          "x2": "test",
          "x3": 722
         },
         {
          "x1": 610.8036733774038,
          "x2": "test",
          "x3": 723
         },
         {
          "x1": 673.7843299278846,
          "x2": "test",
          "x3": 724
         },
         {
          "x1": 783.0543118990385,
          "x2": "test",
          "x3": 725
         },
         {
          "x1": 795.5515324519231,
          "x2": "test",
          "x3": 726
         },
         {
          "x1": 612.3004056490385,
          "x2": "test",
          "x3": 727
         },
         {
          "x1": 612.9845252403846,
          "x2": "test",
          "x3": 728
         },
         {
          "x1": 692.0541616586538,
          "x2": "test",
          "x3": 729
         },
         {
          "x1": 745.8115985576923,
          "x2": "test",
          "x3": 730
         },
         {
          "x1": 690.6760066105769,
          "x2": "test",
          "x3": 731
         },
         {
          "x1": 683.1732271634615,
          "x2": "test",
          "x3": 732
         },
         {
          "x1": 586.6433668870193,
          "x2": "test",
          "x3": 733
         },
         {
          "x1": 764.8148287259615,
          "x2": "test",
          "x3": 734
         },
         {
          "x1": 582.1091871995193,
          "x2": "test",
          "x3": 735
         },
         {
          "x1": 732.1512920673077,
          "x2": "test",
          "x3": 736
         },
         {
          "x1": 625.6378079927885,
          "x2": "test",
          "x3": 737
         },
         {
          "x1": 711.9118088942307,
          "x2": "test",
          "x3": 738
         },
         {
          "x1": 687.7370042067307,
          "x2": "test",
          "x3": 739
         },
         {
          "x1": 840.7644230769231,
          "x2": "test",
          "x3": 740
         },
         {
          "x1": 604.9656700721154,
          "x2": "test",
          "x3": 741
         },
         {
          "x1": 785.3332331730769,
          "x2": "test",
          "x3": 742
         },
         {
          "x1": 674.8218149038462,
          "x2": "test",
          "x3": 743
         },
         {
          "x1": 737.0197566105769,
          "x2": "test",
          "x3": 744
         },
         {
          "x1": 669.3777794471154,
          "x2": "test",
          "x3": 745
         },
         {
          "x1": 628.3865685096154,
          "x2": "test",
          "x3": 746
         },
         {
          "x1": 667.9361478365385,
          "x2": "test",
          "x3": 747
         },
         {
          "x1": 652.7399338942307,
          "x2": "test",
          "x3": 748
         },
         {
          "x1": 681.9344951923077,
          "x2": "test",
          "x3": 749
         },
         {
          "x1": 612.6868990384615,
          "x2": "test",
          "x3": 750
         },
         {
          "x1": 659.0630258413462,
          "x2": "test",
          "x3": 751
         },
         {
          "x1": 756.1550480769231,
          "x2": "test",
          "x3": 752
         },
         {
          "x1": 654.1554236778846,
          "x2": "test",
          "x3": 753
         },
         {
          "x1": 686.5397385817307,
          "x2": "test",
          "x3": 754
         },
         {
          "x1": 591.4435096153846,
          "x2": "test",
          "x3": 755
         },
         {
          "x1": 652.8755258413462,
          "x2": "test",
          "x3": 756
         },
         {
          "x1": 638.2353515625,
          "x2": "test",
          "x3": 757
         },
         {
          "x1": 618.7180739182693,
          "x2": "test",
          "x3": 758
         },
         {
          "x1": 688.8969350961538,
          "x2": "test",
          "x3": 759
         },
         {
          "x1": 644.3205378605769,
          "x2": "test",
          "x3": 760
         },
         {
          "x1": 744.6787860576923,
          "x2": "test",
          "x3": 761
         },
         {
          "x1": 614.1217322716346,
          "x2": "test",
          "x3": 762
         },
         {
          "x1": 636.9561298076923,
          "x2": "test",
          "x3": 763
         },
         {
          "x1": 683.3825120192307,
          "x2": "test",
          "x3": 764
         },
         {
          "x1": 582.2930814302885,
          "x2": "test",
          "x3": 765
         },
         {
          "x1": 709.2435396634615,
          "x2": "test",
          "x3": 766
         },
         {
          "x1": 601.7530799278846,
          "x2": "test",
          "x3": 767
         },
         {
          "x1": 582.4986853966346,
          "x2": "test",
          "x3": 768
         },
         {
          "x1": 796.5110426682693,
          "x2": "test",
          "x3": 769
         },
         {
          "x1": 596.3746243990385,
          "x2": "test",
          "x3": 770
         },
         {
          "x1": 689.1318359375,
          "x2": "test",
          "x3": 771
         },
         {
          "x1": 699.7859825721154,
          "x2": "test",
          "x3": 772
         },
         {
          "x1": 685.2781700721154,
          "x2": "test",
          "x3": 773
         },
         {
          "x1": 651.9308894230769,
          "x2": "test",
          "x3": 774
         },
         {
          "x1": 707.6138822115385,
          "x2": "test",
          "x3": 775
         },
         {
          "x1": 583.31884765625,
          "x2": "test",
          "x3": 776
         },
         {
          "x1": 718.1395733173077,
          "x2": "test",
          "x3": 777
         },
         {
          "x1": 660.4116586538462,
          "x2": "test",
          "x3": 778
         },
         {
          "x1": 661.2279897836538,
          "x2": "test",
          "x3": 779
         },
         {
          "x1": 712.7526292067307,
          "x2": "test",
          "x3": 780
         },
         {
          "x1": 604.1266150841346,
          "x2": "test",
          "x3": 781
         },
         {
          "x1": 587.7145432692307,
          "x2": "test",
          "x3": 782
         },
         {
          "x1": 785.2068058894231,
          "x2": "test",
          "x3": 783
         },
         {
          "x1": 670.5673828125,
          "x2": "test",
          "x3": 784
         },
         {
          "x1": 732.5797025240385,
          "x2": "test",
          "x3": 785
         },
         {
          "x1": 575.4685246394231,
          "x2": "test",
          "x3": 786
         },
         {
          "x1": 716.4739332932693,
          "x2": "test",
          "x3": 787
         },
         {
          "x1": 708.0392127403846,
          "x2": "test",
          "x3": 788
         },
         {
          "x1": 801.8030348557693,
          "x2": "test",
          "x3": 789
         },
         {
          "x1": 677.0653545673077,
          "x2": "test",
          "x3": 790
         },
         {
          "x1": 583.8454026442307,
          "x2": "test",
          "x3": 791
         },
         {
          "x1": 626.6361177884615,
          "x2": "test",
          "x3": 792
         },
         {
          "x1": 812.9211237980769,
          "x2": "test",
          "x3": 793
         },
         {
          "x1": 647.1370192307693,
          "x2": "test",
          "x3": 794
         },
         {
          "x1": 718.1932842548077,
          "x2": "test",
          "x3": 795
         },
         {
          "x1": 637.8313551682693,
          "x2": "test",
          "x3": 796
         },
         {
          "x1": 622.6607572115385,
          "x2": "test",
          "x3": 797
         },
         {
          "x1": 668.2827524038462,
          "x2": "test",
          "x3": 798
         },
         {
          "x1": 634.8270733173077,
          "x2": "test",
          "x3": 799
         },
         {
          "x1": 700.5120192307693,
          "x2": "test",
          "x3": 800
         },
         {
          "x1": 666.2288161057693,
          "x2": "test",
          "x3": 801
         },
         {
          "x1": 741.1710486778846,
          "x2": "test",
          "x3": 802
         },
         {
          "x1": 644.2475961538462,
          "x2": "test",
          "x3": 803
         },
         {
          "x1": 689.1888521634615,
          "x2": "test",
          "x3": 804
         },
         {
          "x1": 659.4713040865385,
          "x2": "test",
          "x3": 805
         },
         {
          "x1": 722.1955378605769,
          "x2": "test",
          "x3": 806
         },
         {
          "x1": 601.8082932692307,
          "x2": "test",
          "x3": 807
         },
         {
          "x1": 596.2417367788462,
          "x2": "test",
          "x3": 808
         },
         {
          "x1": 606.1585036057693,
          "x2": "test",
          "x3": 809
         },
         {
          "x1": 631.2207782451923,
          "x2": "test",
          "x3": 810
         },
         {
          "x1": 658.1170372596154,
          "x2": "test",
          "x3": 811
         },
         {
          "x1": 655.2051532451923,
          "x2": "test",
          "x3": 812
         },
         {
          "x1": 759.2393329326923,
          "x2": "test",
          "x3": 813
         },
         {
          "x1": 741.0175030048077,
          "x2": "test",
          "x3": 814
         },
         {
          "x1": 805.5173527644231,
          "x2": "test",
          "x3": 815
         },
         {
          "x1": 654.0452974759615,
          "x2": "test",
          "x3": 816
         },
         {
          "x1": 660.6926081730769,
          "x2": "test",
          "x3": 817
         },
         {
          "x1": 685.6189903846154,
          "x2": "test",
          "x3": 818
         },
         {
          "x1": 591.2555213341346,
          "x2": "test",
          "x3": 819
         },
         {
          "x1": 638.4546274038462,
          "x2": "test",
          "x3": 820
         },
         {
          "x1": 628.0596078725962,
          "x2": "test",
          "x3": 821
         },
         {
          "x1": 552.0743689903846,
          "x2": "test",
          "x3": 822
         },
         {
          "x1": 792.9667217548077,
          "x2": "test",
          "x3": 823
         },
         {
          "x1": 493.59705528846155,
          "x2": "test",
          "x3": 824
         },
         {
          "x1": 666.2106370192307,
          "x2": "test",
          "x3": 825
         },
         {
          "x1": 605.3233173076923,
          "x2": "test",
          "x3": 826
         },
         {
          "x1": 669.9576322115385,
          "x2": "test",
          "x3": 827
         },
         {
          "x1": 753.5374098557693,
          "x2": "test",
          "x3": 828
         },
         {
          "x1": 730.8502854567307,
          "x2": "test",
          "x3": 829
         },
         {
          "x1": 669.2629957932693,
          "x2": "test",
          "x3": 830
         },
         {
          "x1": 684.7198016826923,
          "x2": "test",
          "x3": 831
         },
         {
          "x1": 642.8674879807693,
          "x2": "test",
          "x3": 832
         },
         {
          "x1": 578.1820913461538,
          "x2": "test",
          "x3": 833
         },
         {
          "x1": 602.42431640625,
          "x2": "test",
          "x3": 834
         },
         {
          "x1": 606.6760066105769,
          "x2": "test",
          "x3": 835
         },
         {
          "x1": 625.7152193509615,
          "x2": "test",
          "x3": 836
         },
         {
          "x1": 621.3966721754807,
          "x2": "test",
          "x3": 837
         },
         {
          "x1": 523.8345853365385,
          "x2": "test",
          "x3": 838
         },
         {
          "x1": 758.9074519230769,
          "x2": "test",
          "x3": 839
         },
         {
          "x1": 660.3935546875,
          "x2": "test",
          "x3": 840
         },
         {
          "x1": 628.3046875,
          "x2": "test",
          "x3": 841
         },
         {
          "x1": 574.5432316706731,
          "x2": "test",
          "x3": 842
         },
         {
          "x1": 659.6922325721154,
          "x2": "test",
          "x3": 843
         },
         {
          "x1": 594.5643404447115,
          "x2": "test",
          "x3": 844
         },
         {
          "x1": 680.4999248798077,
          "x2": "test",
          "x3": 845
         },
         {
          "x1": 619.3703425480769,
          "x2": "test",
          "x3": 846
         },
         {
          "x1": 608.2755408653846,
          "x2": "test",
          "x3": 847
         },
         {
          "x1": 602.9930889423077,
          "x2": "test",
          "x3": 848
         },
         {
          "x1": 655.1751802884615,
          "x2": "test",
          "x3": 849
         },
         {
          "x1": 499.22847806490387,
          "x2": "test",
          "x3": 850
         },
         {
          "x1": 645.8832632211538,
          "x2": "test",
          "x3": 851
         },
         {
          "x1": 543.2105618990385,
          "x2": "test",
          "x3": 852
         },
         {
          "x1": 518.8682767427885,
          "x2": "test",
          "x3": 853
         },
         {
          "x1": 600.9295748197115,
          "x2": "test",
          "x3": 854
         },
         {
          "x1": 597.8896484375,
          "x2": "test",
          "x3": 855
         },
         {
          "x1": 632.3938551682693,
          "x2": "test",
          "x3": 856
         },
         {
          "x1": 646.7362530048077,
          "x2": "test",
          "x3": 857
         },
         {
          "x1": 692.0170522836538,
          "x2": "test",
          "x3": 858
         },
         {
          "x1": 720.0705378605769,
          "x2": "test",
          "x3": 859
         },
         {
          "x1": 664.8838641826923,
          "x2": "test",
          "x3": 860
         },
         {
          "x1": 696.2971754807693,
          "x2": "test",
          "x3": 861
         },
         {
          "x1": 623.3159930889423,
          "x2": "test",
          "x3": 862
         },
         {
          "x1": 562.6986929086538,
          "x2": "test",
          "x3": 863
         },
         {
          "x1": 579.4043719951923,
          "x2": "test",
          "x3": 864
         },
         {
          "x1": 596.4720552884615,
          "x2": "test",
          "x3": 865
         },
         {
          "x1": 515.8026968149038,
          "x2": "test",
          "x3": 866
         },
         {
          "x1": 555.7736253004807,
          "x2": "test",
          "x3": 867
         },
         {
          "x1": 536.9541766826923,
          "x2": "test",
          "x3": 868
         },
         {
          "x1": 522.0475510817307,
          "x2": "test",
          "x3": 869
         },
         {
          "x1": 614.4456881009615,
          "x2": "test",
          "x3": 870
         },
         {
          "x1": 508.64359224759613,
          "x2": "test",
          "x3": 871
         },
         {
          "x1": 579.0040189302885,
          "x2": "test",
          "x3": 872
         },
         {
          "x1": 577.2232196514423,
          "x2": "test",
          "x3": 873
         },
         {
          "x1": 646.1459585336538,
          "x2": "test",
          "x3": 874
         },
         {
          "x1": 551.4633037860577,
          "x2": "test",
          "x3": 875
         },
         {
          "x1": 468.6917067307692,
          "x2": "test",
          "x3": 876
         },
         {
          "x1": 580.4629657451923,
          "x2": "test",
          "x3": 877
         },
         {
          "x1": 632.0932241586538,
          "x2": "test",
          "x3": 878
         },
         {
          "x1": 506.0383112980769,
          "x2": "test",
          "x3": 879
         },
         {
          "x1": 566.1862980769231,
          "x2": "test",
          "x3": 880
         },
         {
          "x1": 568.0447716346154,
          "x2": "test",
          "x3": 881
         },
         {
          "x1": 589.2108623798077,
          "x2": "test",
          "x3": 882
         },
         {
          "x1": 556.4756610576923,
          "x2": "test",
          "x3": 883
         },
         {
          "x1": 637.1499399038462,
          "x2": "test",
          "x3": 884
         },
         {
          "x1": 573.8963341346154,
          "x2": "test",
          "x3": 885
         },
         {
          "x1": 578.6571890024038,
          "x2": "test",
          "x3": 886
         },
         {
          "x1": 582.9574819711538,
          "x2": "test",
          "x3": 887
         },
         {
          "x1": 657.0759465144231,
          "x2": "test",
          "x3": 888
         },
         {
          "x1": 531.5153620793269,
          "x2": "test",
          "x3": 889
         },
         {
          "x1": 561.8217397836538,
          "x2": "test",
          "x3": 890
         },
         {
          "x1": 553.4068885216346,
          "x2": "test",
          "x3": 891
         },
         {
          "x1": 511.1542217548077,
          "x2": "test",
          "x3": 892
         },
         {
          "x1": 568.7011343149038,
          "x2": "test",
          "x3": 893
         },
         {
          "x1": 491.064453125,
          "x2": "test",
          "x3": 894
         },
         {
          "x1": 598.5919095552885,
          "x2": "test",
          "x3": 895
         },
         {
          "x1": 546.2488731971154,
          "x2": "test",
          "x3": 896
         },
         {
          "x1": 581.0137469951923,
          "x2": "test",
          "x3": 897
         },
         {
          "x1": 559.1961012620193,
          "x2": "test",
          "x3": 898
         },
         {
          "x1": 527.9621018629807,
          "x2": "test",
          "x3": 899
         },
         {
          "x1": 626.4389272836538,
          "x2": "test",
          "x3": 900
         },
         {
          "x1": 602.1145582932693,
          "x2": "test",
          "x3": 901
         },
         {
          "x1": 634.8827373798077,
          "x2": "test",
          "x3": 902
         },
         {
          "x1": 595.0093900240385,
          "x2": "test",
          "x3": 903
         },
         {
          "x1": 652.9210486778846,
          "x2": "test",
          "x3": 904
         },
         {
          "x1": 588.0624248798077,
          "x2": "test",
          "x3": 905
         },
         {
          "x1": 724.3191105769231,
          "x2": "test",
          "x3": 906
         },
         {
          "x1": 635.4216496394231,
          "x2": "test",
          "x3": 907
         },
         {
          "x1": 639.6084735576923,
          "x2": "test",
          "x3": 908
         },
         {
          "x1": 655.8467548076923,
          "x2": "test",
          "x3": 909
         },
         {
          "x1": 583.9154522235577,
          "x2": "test",
          "x3": 910
         },
         {
          "x1": 610.9267578125,
          "x2": "test",
          "x3": 911
         },
         {
          "x1": 611.5589693509615,
          "x2": "test",
          "x3": 912
         },
         {
          "x1": 572.5570913461538,
          "x2": "test",
          "x3": 913
         },
         {
          "x1": 584.2137545072115,
          "x2": "test",
          "x3": 914
         },
         {
          "x1": 545.2464693509615,
          "x2": "test",
          "x3": 915
         },
         {
          "x1": 643.7748647836538,
          "x2": "test",
          "x3": 916
         },
         {
          "x1": 557.2633713942307,
          "x2": "test",
          "x3": 917
         },
         {
          "x1": 491.1799128605769,
          "x2": "test",
          "x3": 918
         },
         {
          "x1": 574.5538236177885,
          "x2": "test",
          "x3": 919
         },
         {
          "x1": 685.1321364182693,
          "x2": "test",
          "x3": 920
         },
         {
          "x1": 579.3507737379807,
          "x2": "test",
          "x3": 921
         },
         {
          "x1": 537.7099233774038,
          "x2": "test",
          "x3": 922
         },
         {
          "x1": 615.8087064302885,
          "x2": "test",
          "x3": 923
         },
         {
          "x1": 548.8566706730769,
          "x2": "test",
          "x3": 924
         },
         {
          "x1": 629.3419095552885,
          "x2": "test",
          "x3": 925
         },
         {
          "x1": 609.9775015024038,
          "x2": "test",
          "x3": 926
         },
         {
          "x1": 537.3186598557693,
          "x2": "test",
          "x3": 927
         },
         {
          "x1": 540.5701246995193,
          "x2": "test",
          "x3": 928
         },
         {
          "x1": 539.2068434495193,
          "x2": "test",
          "x3": 929
         },
         {
          "x1": 579.0132962740385,
          "x2": "test",
          "x3": 930
         },
         {
          "x1": 583.2268629807693,
          "x2": "test",
          "x3": 931
         },
         {
          "x1": 555.3641451322115,
          "x2": "test",
          "x3": 932
         },
         {
          "x1": 553.0649038461538,
          "x2": "test",
          "x3": 933
         },
         {
          "x1": 574.8384540264423,
          "x2": "test",
          "x3": 934
         },
         {
          "x1": 543.3818734975962,
          "x2": "test",
          "x3": 935
         },
         {
          "x1": 559.8931415264423,
          "x2": "test",
          "x3": 936
         },
         {
          "x1": 567.1974534254807,
          "x2": "test",
          "x3": 937
         },
         {
          "x1": 554.0160006009615,
          "x2": "test",
          "x3": 938
         },
         {
          "x1": 593.7552959735577,
          "x2": "test",
          "x3": 939
         },
         {
          "x1": 503.02110877403845,
          "x2": "test",
          "x3": 940
         },
         {
          "x1": 555.0447340745193,
          "x2": "test",
          "x3": 941
         },
         {
          "x1": 505.22081580528845,
          "x2": "test",
          "x3": 942
         },
         {
          "x1": 491.00484525240387,
          "x2": "test",
          "x3": 943
         },
         {
          "x1": 490.2568359375,
          "x2": "test",
          "x3": 944
         },
         {
          "x1": 420.74459134615387,
          "x2": "test",
          "x3": 945
         },
         {
          "x1": 525.3698167067307,
          "x2": "test",
          "x3": 946
         },
         {
          "x1": 509.56358924278845,
          "x2": "test",
          "x3": 947
         },
         {
          "x1": 574.18798828125,
          "x2": "test",
          "x3": 948
         },
         {
          "x1": 485.4187199519231,
          "x2": "test",
          "x3": 949
         },
         {
          "x1": 600.1518930288462,
          "x2": "test",
          "x3": 950
         },
         {
          "x1": 491.09776893028845,
          "x2": "test",
          "x3": 951
         },
         {
          "x1": 494.8919020432692,
          "x2": "test",
          "x3": 952
         },
         {
          "x1": 621.6311598557693,
          "x2": "test",
          "x3": 953
         },
         {
          "x1": 616.6930588942307,
          "x2": "test",
          "x3": 954
         },
         {
          "x1": 564.3270357572115,
          "x2": "test",
          "x3": 955
         },
         {
          "x1": 624.2435021033654,
          "x2": "test",
          "x3": 956
         },
         {
          "x1": 454.87496243990387,
          "x2": "test",
          "x3": 957
         },
         {
          "x1": 555.4673602764423,
          "x2": "test",
          "x3": 958
         },
         {
          "x1": 490.5241511418269,
          "x2": "test",
          "x3": 959
         },
         {
          "x1": 514.2078200120193,
          "x2": "test",
          "x3": 960
         },
         {
          "x1": 575.2227689302885,
          "x2": "test",
          "x3": 961
         },
         {
          "x1": 509.16150841346155,
          "x2": "test",
          "x3": 962
         },
         {
          "x1": 533.5205829326923,
          "x2": "test",
          "x3": 963
         },
         {
          "x1": 490.63709435096155,
          "x2": "test",
          "x3": 964
         },
         {
          "x1": 510.6398362379808,
          "x2": "test",
          "x3": 965
         },
         {
          "x1": 441.3902118389423,
          "x2": "test",
          "x3": 966
         },
         {
          "x1": 503.6369816706731,
          "x2": "test",
          "x3": 967
         },
         {
          "x1": 581.4240534855769,
          "x2": "test",
          "x3": 968
         },
         {
          "x1": 473.01851712740387,
          "x2": "test",
          "x3": 969
         },
         {
          "x1": 545.1879507211538,
          "x2": "test",
          "x3": 970
         },
         {
          "x1": 488.78857421875,
          "x2": "test",
          "x3": 971
         },
         {
          "x1": 554.5899939903846,
          "x2": "test",
          "x3": 972
         },
         {
          "x1": 540.2920673076923,
          "x2": "test",
          "x3": 973
         },
         {
          "x1": 521.7527043269231,
          "x2": "test",
          "x3": 974
         },
         {
          "x1": 495.11365685096155,
          "x2": "test",
          "x3": 975
         },
         {
          "x1": 524.9344200721154,
          "x2": "test",
          "x3": 976
         },
         {
          "x1": 549.5040564903846,
          "x2": "test",
          "x3": 977
         },
         {
          "x1": 509.23910757211536,
          "x2": "test",
          "x3": 978
         },
         {
          "x1": 496.61080228365387,
          "x2": "test",
          "x3": 979
         },
         {
          "x1": 569.1691706730769,
          "x2": "test",
          "x3": 980
         },
         {
          "x1": 451.95567908653845,
          "x2": "test",
          "x3": 981
         },
         {
          "x1": 591.4909104567307,
          "x2": "test",
          "x3": 982
         },
         {
          "x1": 530.8171950120193,
          "x2": "test",
          "x3": 983
         },
         {
          "x1": 492.31449068509613,
          "x2": "test",
          "x3": 984
         },
         {
          "x1": 557.6622596153846,
          "x2": "test",
          "x3": 985
         },
         {
          "x1": 515.0283578725962,
          "x2": "test",
          "x3": 986
         },
         {
          "x1": 563.9938025841346,
          "x2": "test",
          "x3": 987
         },
         {
          "x1": 599.5045447716346,
          "x2": "test",
          "x3": 988
         },
         {
          "x1": 586.7484975961538,
          "x2": "test",
          "x3": 989
         },
         {
          "x1": 625.6529447115385,
          "x2": "test",
          "x3": 990
         },
         {
          "x1": 551.7149939903846,
          "x2": "test",
          "x3": 991
         },
         {
          "x1": 566.1491135817307,
          "x2": "test",
          "x3": 992
         },
         {
          "x1": 506.1142578125,
          "x2": "test",
          "x3": 993
         },
         {
          "x1": 562.9901968149038,
          "x2": "test",
          "x3": 994
         },
         {
          "x1": 514.8394681490385,
          "x2": "test",
          "x3": 995
         },
         {
          "x1": 557.7321589543269,
          "x2": "test",
          "x3": 996
         },
         {
          "x1": 476.90091646634613,
          "x2": "test",
          "x3": 997
         },
         {
          "x1": 563.7827524038462,
          "x2": "test",
          "x3": 998
         },
         {
          "x1": 565.1211688701923,
          "x2": "test",
          "x3": 999
         },
         {
          "x1": 508.01303335336536,
          "x2": "test",
          "x3": 1000
         },
         {
          "x1": 540.1357421875,
          "x2": "test",
          "x3": 1001
         },
         {
          "x1": 2158.344669117647,
          "x2": "train",
          "x3": 1
         },
         {
          "x1": 2153.966988357843,
          "x2": "train",
          "x3": 2
         },
         {
          "x1": 2122.0860906862745,
          "x2": "train",
          "x3": 3
         },
         {
          "x1": 2043.989200367647,
          "x2": "train",
          "x3": 4
         },
         {
          "x1": 2043.6864276960785,
          "x2": "train",
          "x3": 5
         },
         {
          "x1": 2055.1443014705883,
          "x2": "train",
          "x3": 6
         },
         {
          "x1": 2171.266237745098,
          "x2": "train",
          "x3": 7
         },
         {
          "x1": 1744.4845281862745,
          "x2": "train",
          "x3": 8
         },
         {
          "x1": 2000.456112132353,
          "x2": "train",
          "x3": 9
         },
         {
          "x1": 2007.743412990196,
          "x2": "train",
          "x3": 10
         },
         {
          "x1": 1910.3456648284314,
          "x2": "train",
          "x3": 11
         },
         {
          "x1": 1869.6745940563726,
          "x2": "train",
          "x3": 12
         },
         {
          "x1": 2022.983455882353,
          "x2": "train",
          "x3": 13
         },
         {
          "x1": 1975.4825367647059,
          "x2": "train",
          "x3": 14
         },
         {
          "x1": 2019.964652267157,
          "x2": "train",
          "x3": 15
         },
         {
          "x1": 2120.1953125,
          "x2": "train",
          "x3": 16
         },
         {
          "x1": 2079.296262254902,
          "x2": "train",
          "x3": 17
         },
         {
          "x1": 1868.198682598039,
          "x2": "train",
          "x3": 18
         },
         {
          "x1": 1955.8129595588234,
          "x2": "train",
          "x3": 19
         },
         {
          "x1": 1923.9240962009803,
          "x2": "train",
          "x3": 20
         },
         {
          "x1": 1975.8372778799019,
          "x2": "train",
          "x3": 21
         },
         {
          "x1": 1975.1850490196077,
          "x2": "train",
          "x3": 22
         },
         {
          "x1": 2058.796492034314,
          "x2": "train",
          "x3": 23
         },
         {
          "x1": 1828.4728094362745,
          "x2": "train",
          "x3": 24
         },
         {
          "x1": 1773.412300857843,
          "x2": "train",
          "x3": 25
         },
         {
          "x1": 1913.9509037990197,
          "x2": "train",
          "x3": 26
         },
         {
          "x1": 1927.0483685661766,
          "x2": "train",
          "x3": 27
         },
         {
          "x1": 1939.268612132353,
          "x2": "train",
          "x3": 28
         },
         {
          "x1": 1965.2506127450981,
          "x2": "train",
          "x3": 29
         },
         {
          "x1": 2009.438725490196,
          "x2": "train",
          "x3": 30
         },
         {
          "x1": 1793.2588082107843,
          "x2": "train",
          "x3": 31
         },
         {
          "x1": 1892.5701593137255,
          "x2": "train",
          "x3": 32
         },
         {
          "x1": 1722.4541207107843,
          "x2": "train",
          "x3": 33
         },
         {
          "x1": 1850.3484221813726,
          "x2": "train",
          "x3": 34
         },
         {
          "x1": 1645.3800168504902,
          "x2": "train",
          "x3": 35
         },
         {
          "x1": 1832.2925091911766,
          "x2": "train",
          "x3": 36
         },
         {
          "x1": 1857.6668198529412,
          "x2": "train",
          "x3": 37
         },
         {
          "x1": 1757.538526348039,
          "x2": "train",
          "x3": 38
         },
         {
          "x1": 1576.8803615196077,
          "x2": "train",
          "x3": 39
         },
         {
          "x1": 1861.0572916666667,
          "x2": "train",
          "x3": 40
         },
         {
          "x1": 1791.394837622549,
          "x2": "train",
          "x3": 41
         },
         {
          "x1": 1754.6143535539215,
          "x2": "train",
          "x3": 42
         },
         {
          "x1": 1797.6219362745098,
          "x2": "train",
          "x3": 43
         },
         {
          "x1": 1704.0743719362745,
          "x2": "train",
          "x3": 44
         },
         {
          "x1": 1618.4082797181372,
          "x2": "train",
          "x3": 45
         },
         {
          "x1": 1635.716988357843,
          "x2": "train",
          "x3": 46
         },
         {
          "x1": 1705.8746170343138,
          "x2": "train",
          "x3": 47
         },
         {
          "x1": 1650.0472196691176,
          "x2": "train",
          "x3": 48
         },
         {
          "x1": 1743.1680453431372,
          "x2": "train",
          "x3": 49
         },
         {
          "x1": 1896.4709712009803,
          "x2": "train",
          "x3": 50
         },
         {
          "x1": 1565.3207720588234,
          "x2": "train",
          "x3": 51
         },
         {
          "x1": 1723.6176853553923,
          "x2": "train",
          "x3": 52
         },
         {
          "x1": 1827.6137408088234,
          "x2": "train",
          "x3": 53
         },
         {
          "x1": 1576.7495404411766,
          "x2": "train",
          "x3": 54
         },
         {
          "x1": 1684.0863204656862,
          "x2": "train",
          "x3": 55
         },
         {
          "x1": 1583.2657398897059,
          "x2": "train",
          "x3": 56
         },
         {
          "x1": 1592.4565333946077,
          "x2": "train",
          "x3": 57
         },
         {
          "x1": 1656.897901348039,
          "x2": "train",
          "x3": 58
         },
         {
          "x1": 1788.4210707720588,
          "x2": "train",
          "x3": 59
         },
         {
          "x1": 1495.6158088235295,
          "x2": "train",
          "x3": 60
         },
         {
          "x1": 1616.459712009804,
          "x2": "train",
          "x3": 61
         },
         {
          "x1": 1656.1192172181372,
          "x2": "train",
          "x3": 62
         },
         {
          "x1": 1791.4565716911766,
          "x2": "train",
          "x3": 63
         },
         {
          "x1": 1543.5309819240197,
          "x2": "train",
          "x3": 64
         },
         {
          "x1": 1670.7089460784314,
          "x2": "train",
          "x3": 65
         },
         {
          "x1": 1725.1005667892157,
          "x2": "train",
          "x3": 66
         },
         {
          "x1": 1655.6573223039215,
          "x2": "train",
          "x3": 67
         },
         {
          "x1": 1664.6840916053923,
          "x2": "train",
          "x3": 68
         },
         {
          "x1": 1613.0423560049019,
          "x2": "train",
          "x3": 69
         },
         {
          "x1": 1511.5759037990197,
          "x2": "train",
          "x3": 70
         },
         {
          "x1": 1558.0837545955883,
          "x2": "train",
          "x3": 71
         },
         {
          "x1": 1491.7211626838234,
          "x2": "train",
          "x3": 72
         },
         {
          "x1": 1527.2811734068628,
          "x2": "train",
          "x3": 73
         },
         {
          "x1": 1771.882276348039,
          "x2": "train",
          "x3": 74
         },
         {
          "x1": 1533.869676776961,
          "x2": "train",
          "x3": 75
         },
         {
          "x1": 1654.5644914215686,
          "x2": "train",
          "x3": 76
         },
         {
          "x1": 1557.5533471200981,
          "x2": "train",
          "x3": 77
         },
         {
          "x1": 1523.1420802696077,
          "x2": "train",
          "x3": 78
         },
         {
          "x1": 1583.4585248161766,
          "x2": "train",
          "x3": 79
         },
         {
          "x1": 1511.9474188112745,
          "x2": "train",
          "x3": 80
         },
         {
          "x1": 1494.5497089460785,
          "x2": "train",
          "x3": 81
         },
         {
          "x1": 1588.1654411764705,
          "x2": "train",
          "x3": 82
         },
         {
          "x1": 1446.7585018382354,
          "x2": "train",
          "x3": 83
         },
         {
          "x1": 1525.6471737132354,
          "x2": "train",
          "x3": 84
         },
         {
          "x1": 1546.9286151960785,
          "x2": "train",
          "x3": 85
         },
         {
          "x1": 1650.5477558210785,
          "x2": "train",
          "x3": 86
         },
         {
          "x1": 1480.450865502451,
          "x2": "train",
          "x3": 87
         },
         {
          "x1": 1497.7136948529412,
          "x2": "train",
          "x3": 88
         },
         {
          "x1": 1469.3418351715686,
          "x2": "train",
          "x3": 89
         },
         {
          "x1": 1455.9859451593138,
          "x2": "train",
          "x3": 90
         },
         {
          "x1": 1563.3207720588234,
          "x2": "train",
          "x3": 91
         },
         {
          "x1": 1547.9543887867646,
          "x2": "train",
          "x3": 92
         },
         {
          "x1": 1486.2174096200981,
          "x2": "train",
          "x3": 93
         },
         {
          "x1": 1439.7087162990197,
          "x2": "train",
          "x3": 94
         },
         {
          "x1": 1572.9509037990197,
          "x2": "train",
          "x3": 95
         },
         {
          "x1": 1364.4301470588234,
          "x2": "train",
          "x3": 96
         },
         {
          "x1": 1542.3776041666667,
          "x2": "train",
          "x3": 97
         },
         {
          "x1": 1300.4043734681372,
          "x2": "train",
          "x3": 98
         },
         {
          "x1": 1516.459175857843,
          "x2": "train",
          "x3": 99
         },
         {
          "x1": 1448.9617034313726,
          "x2": "train",
          "x3": 100
         },
         {
          "x1": 1485.670955882353,
          "x2": "train",
          "x3": 101
         },
         {
          "x1": 1491.0716911764705,
          "x2": "train",
          "x3": 102
         },
         {
          "x1": 1591.6551011029412,
          "x2": "train",
          "x3": 103
         },
         {
          "x1": 1538.7418045343138,
          "x2": "train",
          "x3": 104
         },
         {
          "x1": 1330.2198606004902,
          "x2": "train",
          "x3": 105
         },
         {
          "x1": 1453.7230392156862,
          "x2": "train",
          "x3": 106
         },
         {
          "x1": 1436.7823223039215,
          "x2": "train",
          "x3": 107
         },
         {
          "x1": 1445.0107230392157,
          "x2": "train",
          "x3": 108
         },
         {
          "x1": 1443.2958026960785,
          "x2": "train",
          "x3": 109
         },
         {
          "x1": 1404.4100413602941,
          "x2": "train",
          "x3": 110
         },
         {
          "x1": 1407.9317172181372,
          "x2": "train",
          "x3": 111
         },
         {
          "x1": 1341.8194316789215,
          "x2": "train",
          "x3": 112
         },
         {
          "x1": 1434.233647365196,
          "x2": "train",
          "x3": 113
         },
         {
          "x1": 1500.7516850490197,
          "x2": "train",
          "x3": 114
         },
         {
          "x1": 1449.4757582720588,
          "x2": "train",
          "x3": 115
         },
         {
          "x1": 1446.6699601715686,
          "x2": "train",
          "x3": 116
         },
         {
          "x1": 1418.5690487132354,
          "x2": "train",
          "x3": 117
         },
         {
          "x1": 1317.3890548406862,
          "x2": "train",
          "x3": 118
         },
         {
          "x1": 1477.273628982843,
          "x2": "train",
          "x3": 119
         },
         {
          "x1": 1513.624080882353,
          "x2": "train",
          "x3": 120
         },
         {
          "x1": 1460.395258884804,
          "x2": "train",
          "x3": 121
         },
         {
          "x1": 1454.1362974877452,
          "x2": "train",
          "x3": 122
         },
         {
          "x1": 1356.7497319240197,
          "x2": "train",
          "x3": 123
         },
         {
          "x1": 1337.793160232843,
          "x2": "train",
          "x3": 124
         },
         {
          "x1": 1430.4650735294117,
          "x2": "train",
          "x3": 125
         },
         {
          "x1": 1406.1382889093138,
          "x2": "train",
          "x3": 126
         },
         {
          "x1": 1274.0130974264705,
          "x2": "train",
          "x3": 127
         },
         {
          "x1": 1439.2738970588234,
          "x2": "train",
          "x3": 128
         },
         {
          "x1": 1375.459520526961,
          "x2": "train",
          "x3": 129
         },
         {
          "x1": 1440.5146292892157,
          "x2": "train",
          "x3": 130
         },
         {
          "x1": 1353.7862668504902,
          "x2": "train",
          "x3": 131
         },
         {
          "x1": 1376.820848651961,
          "x2": "train",
          "x3": 132
         },
         {
          "x1": 1263.505667892157,
          "x2": "train",
          "x3": 133
         },
         {
          "x1": 1281.1307061887255,
          "x2": "train",
          "x3": 134
         },
         {
          "x1": 1369.757621017157,
          "x2": "train",
          "x3": 135
         },
         {
          "x1": 1232.197993259804,
          "x2": "train",
          "x3": 136
         },
         {
          "x1": 1444.9683670343138,
          "x2": "train",
          "x3": 137
         },
         {
          "x1": 1245.0514705882354,
          "x2": "train",
          "x3": 138
         },
         {
          "x1": 1357.6799555759803,
          "x2": "train",
          "x3": 139
         },
         {
          "x1": 1372.4293045343138,
          "x2": "train",
          "x3": 140
         },
         {
          "x1": 1399.1307061887255,
          "x2": "train",
          "x3": 141
         },
         {
          "x1": 1265.4813112745098,
          "x2": "train",
          "x3": 142
         },
         {
          "x1": 1294.2923560049019,
          "x2": "train",
          "x3": 143
         },
         {
          "x1": 1364.3715916053923,
          "x2": "train",
          "x3": 144
         },
         {
          "x1": 1260.7449065563726,
          "x2": "train",
          "x3": 145
         },
         {
          "x1": 1327.9088541666667,
          "x2": "train",
          "x3": 146
         },
         {
          "x1": 1403.254212622549,
          "x2": "train",
          "x3": 147
         },
         {
          "x1": 1287.2937346813726,
          "x2": "train",
          "x3": 148
         },
         {
          "x1": 1264.5177313112745,
          "x2": "train",
          "x3": 149
         },
         {
          "x1": 1366.701478247549,
          "x2": "train",
          "x3": 150
         },
         {
          "x1": 1330.7060738357843,
          "x2": "train",
          "x3": 151
         },
         {
          "x1": 1224.2081035539215,
          "x2": "train",
          "x3": 152
         },
         {
          "x1": 1149.7499234068628,
          "x2": "train",
          "x3": 153
         },
         {
          "x1": 1193.6165747549019,
          "x2": "train",
          "x3": 154
         },
         {
          "x1": 1386.7272518382354,
          "x2": "train",
          "x3": 155
         },
         {
          "x1": 1370.4300704656862,
          "x2": "train",
          "x3": 156
         },
         {
          "x1": 1300.7852328431372,
          "x2": "train",
          "x3": 157
         },
         {
          "x1": 1250.2840073529412,
          "x2": "train",
          "x3": 158
         },
         {
          "x1": 1330.6452971813726,
          "x2": "train",
          "x3": 159
         },
         {
          "x1": 1363.765088848039,
          "x2": "train",
          "x3": 160
         },
         {
          "x1": 1323.7617953431372,
          "x2": "train",
          "x3": 161
         },
         {
          "x1": 1273.2889859068628,
          "x2": "train",
          "x3": 162
         },
         {
          "x1": 1336.0869332107843,
          "x2": "train",
          "x3": 163
         },
         {
          "x1": 1227.039598651961,
          "x2": "train",
          "x3": 164
         },
         {
          "x1": 1289.859681372549,
          "x2": "train",
          "x3": 165
         },
         {
          "x1": 1304.2473575367646,
          "x2": "train",
          "x3": 166
         },
         {
          "x1": 1339.4353170955883,
          "x2": "train",
          "x3": 167
         },
         {
          "x1": 1278.3459329044117,
          "x2": "train",
          "x3": 168
         },
         {
          "x1": 1269.6163066789215,
          "x2": "train",
          "x3": 169
         },
         {
          "x1": 1196.0869332107843,
          "x2": "train",
          "x3": 170
         },
         {
          "x1": 1315.2414215686274,
          "x2": "train",
          "x3": 171
         },
         {
          "x1": 1226.3582261029412,
          "x2": "train",
          "x3": 172
         },
         {
          "x1": 1282.6451056985295,
          "x2": "train",
          "x3": 173
         },
         {
          "x1": 1171.355162377451,
          "x2": "train",
          "x3": 174
         },
         {
          "x1": 1295.0963924632354,
          "x2": "train",
          "x3": 175
         },
         {
          "x1": 1286.93359375,
          "x2": "train",
          "x3": 176
         },
         {
          "x1": 1189.1935891544117,
          "x2": "train",
          "x3": 177
         },
         {
          "x1": 1259.3444393382354,
          "x2": "train",
          "x3": 178
         },
         {
          "x1": 1117.6185661764705,
          "x2": "train",
          "x3": 179
         },
         {
          "x1": 1258.5242417279412,
          "x2": "train",
          "x3": 180
         },
         {
          "x1": 1234.0159696691176,
          "x2": "train",
          "x3": 181
         },
         {
          "x1": 1182.696537990196,
          "x2": "train",
          "x3": 182
         },
         {
          "x1": 1409.122855392157,
          "x2": "train",
          "x3": 183
         },
         {
          "x1": 1313.5236672794117,
          "x2": "train",
          "x3": 184
         },
         {
          "x1": 1359.2047334558824,
          "x2": "train",
          "x3": 185
         },
         {
          "x1": 1155.632506127451,
          "x2": "train",
          "x3": 186
         },
         {
          "x1": 1302.7649739583333,
          "x2": "train",
          "x3": 187
         },
         {
          "x1": 1326.531786151961,
          "x2": "train",
          "x3": 188
         },
         {
          "x1": 1226.798828125,
          "x2": "train",
          "x3": 189
         },
         {
          "x1": 1356.9538909313726,
          "x2": "train",
          "x3": 190
         },
         {
          "x1": 1290.8906632965686,
          "x2": "train",
          "x3": 191
         },
         {
          "x1": 1158.9714690563726,
          "x2": "train",
          "x3": 192
         },
         {
          "x1": 1187.514705882353,
          "x2": "train",
          "x3": 193
         },
         {
          "x1": 1255.2081801470588,
          "x2": "train",
          "x3": 194
         },
         {
          "x1": 1290.3700980392157,
          "x2": "train",
          "x3": 195
         },
         {
          "x1": 1189.4252068014705,
          "x2": "train",
          "x3": 196
         },
         {
          "x1": 1297.3635110294117,
          "x2": "train",
          "x3": 197
         },
         {
          "x1": 1112.278377757353,
          "x2": "train",
          "x3": 198
         },
         {
          "x1": 1174.3912760416667,
          "x2": "train",
          "x3": 199
         },
         {
          "x1": 1207.2231158088234,
          "x2": "train",
          "x3": 200
         },
         {
          "x1": 1244.135493259804,
          "x2": "train",
          "x3": 201
         },
         {
          "x1": 1242.5281096813726,
          "x2": "train",
          "x3": 202
         },
         {
          "x1": 1295.9379595588234,
          "x2": "train",
          "x3": 203
         },
         {
          "x1": 1217.4662990196077,
          "x2": "train",
          "x3": 204
         },
         {
          "x1": 1331.2208563112745,
          "x2": "train",
          "x3": 205
         },
         {
          "x1": 1197.8504136029412,
          "x2": "train",
          "x3": 206
         },
         {
          "x1": 1299.4220281862745,
          "x2": "train",
          "x3": 207
         },
         {
          "x1": 1307.081724877451,
          "x2": "train",
          "x3": 208
         },
         {
          "x1": 1233.476371017157,
          "x2": "train",
          "x3": 209
         },
         {
          "x1": 1186.0249693627452,
          "x2": "train",
          "x3": 210
         },
         {
          "x1": 1286.976753982843,
          "x2": "train",
          "x3": 211
         },
         {
          "x1": 1253.418275122549,
          "x2": "train",
          "x3": 212
         },
         {
          "x1": 1239.2280560661766,
          "x2": "train",
          "x3": 213
         },
         {
          "x1": 1134.4993106617646,
          "x2": "train",
          "x3": 214
         },
         {
          "x1": 1185.8023897058824,
          "x2": "train",
          "x3": 215
         },
         {
          "x1": 1240.0041360294117,
          "x2": "train",
          "x3": 216
         },
         {
          "x1": 1367.5804993872548,
          "x2": "train",
          "x3": 217
         },
         {
          "x1": 1208.494332107843,
          "x2": "train",
          "x3": 218
         },
         {
          "x1": 1182.3773360906862,
          "x2": "train",
          "x3": 219
         },
         {
          "x1": 1176.258731617647,
          "x2": "train",
          "x3": 220
         },
         {
          "x1": 1142.8802849264705,
          "x2": "train",
          "x3": 221
         },
         {
          "x1": 1232.5491727941176,
          "x2": "train",
          "x3": 222
         },
         {
          "x1": 1192.9589460784314,
          "x2": "train",
          "x3": 223
         },
         {
          "x1": 1222.3202359068628,
          "x2": "train",
          "x3": 224
         },
         {
          "x1": 1148.9030330882354,
          "x2": "train",
          "x3": 225
         },
         {
          "x1": 1171.3402267156862,
          "x2": "train",
          "x3": 226
         },
         {
          "x1": 1280.3895143995098,
          "x2": "train",
          "x3": 227
         },
         {
          "x1": 1217.8809359681372,
          "x2": "train",
          "x3": 228
         },
         {
          "x1": 1322.5331648284314,
          "x2": "train",
          "x3": 229
         },
         {
          "x1": 1111.7987515318628,
          "x2": "train",
          "x3": 230
         },
         {
          "x1": 1232.2592677696077,
          "x2": "train",
          "x3": 231
         },
         {
          "x1": 1090.6385569852941,
          "x2": "train",
          "x3": 232
         },
         {
          "x1": 1202.183402267157,
          "x2": "train",
          "x3": 233
         },
         {
          "x1": 1143.4459635416667,
          "x2": "train",
          "x3": 234
         },
         {
          "x1": 1233.5955882352941,
          "x2": "train",
          "x3": 235
         },
         {
          "x1": 1168.8621323529412,
          "x2": "train",
          "x3": 236
         },
         {
          "x1": 1211.8088235294117,
          "x2": "train",
          "x3": 237
         },
         {
          "x1": 1113.305721507353,
          "x2": "train",
          "x3": 238
         },
         {
          "x1": 1172.3785615808824,
          "x2": "train",
          "x3": 239
         },
         {
          "x1": 1122.948299632353,
          "x2": "train",
          "x3": 240
         },
         {
          "x1": 1124.4855621936274,
          "x2": "train",
          "x3": 241
         },
         {
          "x1": 1255.484375,
          "x2": "train",
          "x3": 242
         },
         {
          "x1": 1110.4330193014705,
          "x2": "train",
          "x3": 243
         },
         {
          "x1": 1091.9818091299019,
          "x2": "train",
          "x3": 244
         },
         {
          "x1": 1112.1940104166667,
          "x2": "train",
          "x3": 245
         },
         {
          "x1": 1178.3766084558824,
          "x2": "train",
          "x3": 246
         },
         {
          "x1": 1160.8821231617646,
          "x2": "train",
          "x3": 247
         },
         {
          "x1": 1160.1002987132354,
          "x2": "train",
          "x3": 248
         },
         {
          "x1": 1308.7893305759803,
          "x2": "train",
          "x3": 249
         },
         {
          "x1": 1082.7192478553923,
          "x2": "train",
          "x3": 250
         },
         {
          "x1": 1121.0094209558824,
          "x2": "train",
          "x3": 251
         },
         {
          "x1": 1175.305606617647,
          "x2": "train",
          "x3": 252
         },
         {
          "x1": 1102.110102634804,
          "x2": "train",
          "x3": 253
         },
         {
          "x1": 1073.5765548406862,
          "x2": "train",
          "x3": 254
         },
         {
          "x1": 1128.7399662990197,
          "x2": "train",
          "x3": 255
         },
         {
          "x1": 1121.6986060049019,
          "x2": "train",
          "x3": 256
         },
         {
          "x1": 1174.7021292892157,
          "x2": "train",
          "x3": 257
         },
         {
          "x1": 1171.7964920343138,
          "x2": "train",
          "x3": 258
         },
         {
          "x1": 1181.6464077818628,
          "x2": "train",
          "x3": 259
         },
         {
          "x1": 1136.8588771446077,
          "x2": "train",
          "x3": 260
         },
         {
          "x1": 1099.825865502451,
          "x2": "train",
          "x3": 261
         },
         {
          "x1": 1030.5327435661766,
          "x2": "train",
          "x3": 262
         },
         {
          "x1": 1054.6613051470588,
          "x2": "train",
          "x3": 263
         },
         {
          "x1": 1011.2069546568628,
          "x2": "train",
          "x3": 264
         },
         {
          "x1": 1214.7845052083333,
          "x2": "train",
          "x3": 265
         },
         {
          "x1": 1114.5602787990197,
          "x2": "train",
          "x3": 266
         },
         {
          "x1": 1198.586665134804,
          "x2": "train",
          "x3": 267
         },
         {
          "x1": 1090.517578125,
          "x2": "train",
          "x3": 268
         },
         {
          "x1": 1127.3626685049019,
          "x2": "train",
          "x3": 269
         },
         {
          "x1": 1166.6991038602941,
          "x2": "train",
          "x3": 270
         },
         {
          "x1": 1074.932368259804,
          "x2": "train",
          "x3": 271
         },
         {
          "x1": 1156.5659849877452,
          "x2": "train",
          "x3": 272
         },
         {
          "x1": 1169.3293887867646,
          "x2": "train",
          "x3": 273
         },
         {
          "x1": 1144.3409543504902,
          "x2": "train",
          "x3": 274
         },
         {
          "x1": 1082.3100490196077,
          "x2": "train",
          "x3": 275
         },
         {
          "x1": 1156.607115502451,
          "x2": "train",
          "x3": 276
         },
         {
          "x1": 1122.2137714460785,
          "x2": "train",
          "x3": 277
         },
         {
          "x1": 1049.7727481617646,
          "x2": "train",
          "x3": 278
         },
         {
          "x1": 1184.5942095588234,
          "x2": "train",
          "x3": 279
         },
         {
          "x1": 1039.3239889705883,
          "x2": "train",
          "x3": 280
         },
         {
          "x1": 987.1586626838235,
          "x2": "train",
          "x3": 281
         },
         {
          "x1": 1130.5502833946077,
          "x2": "train",
          "x3": 282
         },
         {
          "x1": 1137.1706878063726,
          "x2": "train",
          "x3": 283
         },
         {
          "x1": 1085.430606617647,
          "x2": "train",
          "x3": 284
         },
         {
          "x1": 1132.6530330882354,
          "x2": "train",
          "x3": 285
         },
         {
          "x1": 1022.1623774509804,
          "x2": "train",
          "x3": 286
         },
         {
          "x1": 1098.4778645833333,
          "x2": "train",
          "x3": 287
         },
         {
          "x1": 1125.179151348039,
          "x2": "train",
          "x3": 288
         },
         {
          "x1": 1194.521790747549,
          "x2": "train",
          "x3": 289
         },
         {
          "x1": 1124.6491268382354,
          "x2": "train",
          "x3": 290
         },
         {
          "x1": 1033.7887178308824,
          "x2": "train",
          "x3": 291
         },
         {
          "x1": 1113.1492800245098,
          "x2": "train",
          "x3": 292
         },
         {
          "x1": 1090.7270603553923,
          "x2": "train",
          "x3": 293
         },
         {
          "x1": 1045.2704886642157,
          "x2": "train",
          "x3": 294
         },
         {
          "x1": 1082.4566099877452,
          "x2": "train",
          "x3": 295
         },
         {
          "x1": 1117.5873927696077,
          "x2": "train",
          "x3": 296
         },
         {
          "x1": 1141.1187193627452,
          "x2": "train",
          "x3": 297
         },
         {
          "x1": 1104.0597043504902,
          "x2": "train",
          "x3": 298
         },
         {
          "x1": 1104.6338082107843,
          "x2": "train",
          "x3": 299
         },
         {
          "x1": 1115.5574065563726,
          "x2": "train",
          "x3": 300
         },
         {
          "x1": 1131.8987055759803,
          "x2": "train",
          "x3": 301
         },
         {
          "x1": 1122.5108379289215,
          "x2": "train",
          "x3": 302
         },
         {
          "x1": 1041.048828125,
          "x2": "train",
          "x3": 303
         },
         {
          "x1": 1117.7645143995098,
          "x2": "train",
          "x3": 304
         },
         {
          "x1": 1102.8223039215686,
          "x2": "train",
          "x3": 305
         },
         {
          "x1": 1072.869332107843,
          "x2": "train",
          "x3": 306
         },
         {
          "x1": 1098.156556372549,
          "x2": "train",
          "x3": 307
         },
         {
          "x1": 1010.9633118872549,
          "x2": "train",
          "x3": 308
         },
         {
          "x1": 984.2934283088235,
          "x2": "train",
          "x3": 309
         },
         {
          "x1": 959.3366651348039,
          "x2": "train",
          "x3": 310
         },
         {
          "x1": 950.6566712622549,
          "x2": "train",
          "x3": 311
         },
         {
          "x1": 1022.3324908088235,
          "x2": "train",
          "x3": 312
         },
         {
          "x1": 1024.5635723039215,
          "x2": "train",
          "x3": 313
         },
         {
          "x1": 1069.9430912990197,
          "x2": "train",
          "x3": 314
         },
         {
          "x1": 1052.1528033088234,
          "x2": "train",
          "x3": 315
         },
         {
          "x1": 1030.758846507353,
          "x2": "train",
          "x3": 316
         },
         {
          "x1": 1030.4320235906862,
          "x2": "train",
          "x3": 317
         },
         {
          "x1": 1013.0037913602941,
          "x2": "train",
          "x3": 318
         },
         {
          "x1": 1108.7860370710785,
          "x2": "train",
          "x3": 319
         },
         {
          "x1": 999.8126531862745,
          "x2": "train",
          "x3": 320
         },
         {
          "x1": 1045.782475490196,
          "x2": "train",
          "x3": 321
         },
         {
          "x1": 1106.7874540441176,
          "x2": "train",
          "x3": 322
         },
         {
          "x1": 975.4422487745098,
          "x2": "train",
          "x3": 323
         },
         {
          "x1": 1039.2729396446077,
          "x2": "train",
          "x3": 324
         },
         {
          "x1": 998.0287990196078,
          "x2": "train",
          "x3": 325
         },
         {
          "x1": 1044.397767310049,
          "x2": "train",
          "x3": 326
         },
         {
          "x1": 1037.8641620710785,
          "x2": "train",
          "x3": 327
         },
         {
          "x1": 1062.3980545343138,
          "x2": "train",
          "x3": 328
         },
         {
          "x1": 995.7148054534314,
          "x2": "train",
          "x3": 329
         },
         {
          "x1": 1021.9043734681372,
          "x2": "train",
          "x3": 330
         },
         {
          "x1": 991.8114659926471,
          "x2": "train",
          "x3": 331
         },
         {
          "x1": 1105.4954427083333,
          "x2": "train",
          "x3": 332
         },
         {
          "x1": 970.8987055759804,
          "x2": "train",
          "x3": 333
         },
         {
          "x1": 1107.4559206495098,
          "x2": "train",
          "x3": 334
         },
         {
          "x1": 989.2291475183823,
          "x2": "train",
          "x3": 335
         },
         {
          "x1": 1024.1570159313726,
          "x2": "train",
          "x3": 336
         },
         {
          "x1": 973.9906173406863,
          "x2": "train",
          "x3": 337
         },
         {
          "x1": 1020.7955729166666,
          "x2": "train",
          "x3": 338
         },
         {
          "x1": 1018.5790824142157,
          "x2": "train",
          "x3": 339
         },
         {
          "x1": 1038.4833026960785,
          "x2": "train",
          "x3": 340
         },
         {
          "x1": 1024.1557904411766,
          "x2": "train",
          "x3": 341
         },
         {
          "x1": 999.679074754902,
          "x2": "train",
          "x3": 342
         },
         {
          "x1": 970.5082337622549,
          "x2": "train",
          "x3": 343
         },
         {
          "x1": 1057.572801776961,
          "x2": "train",
          "x3": 344
         },
         {
          "x1": 1097.331724877451,
          "x2": "train",
          "x3": 345
         },
         {
          "x1": 962.2503829656863,
          "x2": "train",
          "x3": 346
         },
         {
          "x1": 1067.2270603553923,
          "x2": "train",
          "x3": 347
         },
         {
          "x1": 1057.8603707107843,
          "x2": "train",
          "x3": 348
         },
         {
          "x1": 951.9232536764706,
          "x2": "train",
          "x3": 349
         },
         {
          "x1": 990.6320465686274,
          "x2": "train",
          "x3": 350
         },
         {
          "x1": 1060.5657552083333,
          "x2": "train",
          "x3": 351
         },
         {
          "x1": 969.4867876838235,
          "x2": "train",
          "x3": 352
         },
         {
          "x1": 928.4757582720588,
          "x2": "train",
          "x3": 353
         },
         {
          "x1": 986.0453814338235,
          "x2": "train",
          "x3": 354
         },
         {
          "x1": 1066.5848268995098,
          "x2": "train",
          "x3": 355
         },
         {
          "x1": 1048.1660922181372,
          "x2": "train",
          "x3": 356
         },
         {
          "x1": 1013.6240808823529,
          "x2": "train",
          "x3": 357
         },
         {
          "x1": 1044.791207107843,
          "x2": "train",
          "x3": 358
         },
         {
          "x1": 1086.339307598039,
          "x2": "train",
          "x3": 359
         },
         {
          "x1": 1003.5362285539215,
          "x2": "train",
          "x3": 360
         },
         {
          "x1": 975.0478324142157,
          "x2": "train",
          "x3": 361
         },
         {
          "x1": 1004.0248544730392,
          "x2": "train",
          "x3": 362
         },
         {
          "x1": 1002.1335784313726,
          "x2": "train",
          "x3": 363
         },
         {
          "x1": 914.6556755514706,
          "x2": "train",
          "x3": 364
         },
         {
          "x1": 1009.3166360294117,
          "x2": "train",
          "x3": 365
         },
         {
          "x1": 993.1107919730392,
          "x2": "train",
          "x3": 366
         },
         {
          "x1": 1086.8586856617646,
          "x2": "train",
          "x3": 367
         },
         {
          "x1": 977.4001991421569,
          "x2": "train",
          "x3": 368
         },
         {
          "x1": 937.9387446384804,
          "x2": "train",
          "x3": 369
         },
         {
          "x1": 980.0467984068628,
          "x2": "train",
          "x3": 370
         },
         {
          "x1": 934.8230315563726,
          "x2": "train",
          "x3": 371
         },
         {
          "x1": 977.6151960784314,
          "x2": "train",
          "x3": 372
         },
         {
          "x1": 955.6838618259804,
          "x2": "train",
          "x3": 373
         },
         {
          "x1": 940.3525582107843,
          "x2": "train",
          "x3": 374
         },
         {
          "x1": 973.1733302696078,
          "x2": "train",
          "x3": 375
         },
         {
          "x1": 996.7285539215686,
          "x2": "train",
          "x3": 376
         },
         {
          "x1": 964.0029105392157,
          "x2": "train",
          "x3": 377
         },
         {
          "x1": 1033.5140548406862,
          "x2": "train",
          "x3": 378
         },
         {
          "x1": 988.5241651348039,
          "x2": "train",
          "x3": 379
         },
         {
          "x1": 919.4327895220588,
          "x2": "train",
          "x3": 380
         },
         {
          "x1": 962.0986136642157,
          "x2": "train",
          "x3": 381
         },
         {
          "x1": 934.8067938112745,
          "x2": "train",
          "x3": 382
         },
         {
          "x1": 955.2770756740196,
          "x2": "train",
          "x3": 383
         },
         {
          "x1": 920.5633425245098,
          "x2": "train",
          "x3": 384
         },
         {
          "x1": 922.6944699754902,
          "x2": "train",
          "x3": 385
         },
         {
          "x1": 932.5022594975491,
          "x2": "train",
          "x3": 386
         },
         {
          "x1": 990.9577588848039,
          "x2": "train",
          "x3": 387
         },
         {
          "x1": 910.8485945159314,
          "x2": "train",
          "x3": 388
         },
         {
          "x1": 954.3098575367648,
          "x2": "train",
          "x3": 389
         },
         {
          "x1": 915.4925704656863,
          "x2": "train",
          "x3": 390
         },
         {
          "x1": 1000.6029411764706,
          "x2": "train",
          "x3": 391
         },
         {
          "x1": 924.8058746936274,
          "x2": "train",
          "x3": 392
         },
         {
          "x1": 987.5012254901961,
          "x2": "train",
          "x3": 393
         },
         {
          "x1": 1017.1838235294117,
          "x2": "train",
          "x3": 394
         },
         {
          "x1": 912.0168504901961,
          "x2": "train",
          "x3": 395
         },
         {
          "x1": 867.4613587622549,
          "x2": "train",
          "x3": 396
         },
         {
          "x1": 1024.7732843137255,
          "x2": "train",
          "x3": 397
         },
         {
          "x1": 922.5196078431372,
          "x2": "train",
          "x3": 398
         },
         {
          "x1": 832.0186312806372,
          "x2": "train",
          "x3": 399
         },
         {
          "x1": 963.3316482843137,
          "x2": "train",
          "x3": 400
         },
         {
          "x1": 938.0819929534314,
          "x2": "train",
          "x3": 401
         },
         {
          "x1": 942.7446193321078,
          "x2": "train",
          "x3": 402
         },
         {
          "x1": 954.763059129902,
          "x2": "train",
          "x3": 403
         },
         {
          "x1": 936.3362055759804,
          "x2": "train",
          "x3": 404
         },
         {
          "x1": 971.9362362132352,
          "x2": "train",
          "x3": 405
         },
         {
          "x1": 960.7807521446078,
          "x2": "train",
          "x3": 406
         },
         {
          "x1": 904.6081878063726,
          "x2": "train",
          "x3": 407
         },
         {
          "x1": 863.5964690563726,
          "x2": "train",
          "x3": 408
         },
         {
          "x1": 876.7999387254902,
          "x2": "train",
          "x3": 409
         },
         {
          "x1": 882.7886603860294,
          "x2": "train",
          "x3": 410
         },
         {
          "x1": 857.393190870098,
          "x2": "train",
          "x3": 411
         },
         {
          "x1": 901.7492723651961,
          "x2": "train",
          "x3": 412
         },
         {
          "x1": 902.8365885416666,
          "x2": "train",
          "x3": 413
         },
         {
          "x1": 942.9012714460785,
          "x2": "train",
          "x3": 414
         },
         {
          "x1": 979.8851102941177,
          "x2": "train",
          "x3": 415
         },
         {
          "x1": 900.4524739583334,
          "x2": "train",
          "x3": 416
         },
         {
          "x1": 953.8468903186274,
          "x2": "train",
          "x3": 417
         },
         {
          "x1": 894.6407398897059,
          "x2": "train",
          "x3": 418
         },
         {
          "x1": 949.2837009803922,
          "x2": "train",
          "x3": 419
         },
         {
          "x1": 850.1944316789215,
          "x2": "train",
          "x3": 420
         },
         {
          "x1": 919.1144684436274,
          "x2": "train",
          "x3": 421
         },
         {
          "x1": 865.2744332107843,
          "x2": "train",
          "x3": 422
         },
         {
          "x1": 900.1786917892157,
          "x2": "train",
          "x3": 423
         },
         {
          "x1": 896.7897326899509,
          "x2": "train",
          "x3": 424
         },
         {
          "x1": 898.2475490196078,
          "x2": "train",
          "x3": 425
         },
         {
          "x1": 842.2552849264706,
          "x2": "train",
          "x3": 426
         },
         {
          "x1": 893.7992876838235,
          "x2": "train",
          "x3": 427
         },
         {
          "x1": 806.6317401960785,
          "x2": "train",
          "x3": 428
         },
         {
          "x1": 927.8604856004902,
          "x2": "train",
          "x3": 429
         },
         {
          "x1": 828.7568933823529,
          "x2": "train",
          "x3": 430
         },
         {
          "x1": 886.4588694852941,
          "x2": "train",
          "x3": 431
         },
         {
          "x1": 894.602175245098,
          "x2": "train",
          "x3": 432
         },
         {
          "x1": 848.1963273590686,
          "x2": "train",
          "x3": 433
         },
         {
          "x1": 841.6718941482843,
          "x2": "train",
          "x3": 434
         },
         {
          "x1": 899.2907092524509,
          "x2": "train",
          "x3": 435
         },
         {
          "x1": 855.3564261642157,
          "x2": "train",
          "x3": 436
         },
         {
          "x1": 905.8208869485294,
          "x2": "train",
          "x3": 437
         },
         {
          "x1": 902.3050704656863,
          "x2": "train",
          "x3": 438
         },
         {
          "x1": 859.0784696691177,
          "x2": "train",
          "x3": 439
         },
         {
          "x1": 830.3335439644608,
          "x2": "train",
          "x3": 440
         },
         {
          "x1": 948.0637254901961,
          "x2": "train",
          "x3": 441
         },
         {
          "x1": 852.9765242034314,
          "x2": "train",
          "x3": 442
         },
         {
          "x1": 869.3588388480392,
          "x2": "train",
          "x3": 443
         },
         {
          "x1": 854.1238893995098,
          "x2": "train",
          "x3": 444
         },
         {
          "x1": 891.4931449142157,
          "x2": "train",
          "x3": 445
         },
         {
          "x1": 776.7356387867648,
          "x2": "train",
          "x3": 446
         },
         {
          "x1": 811.8707682291666,
          "x2": "train",
          "x3": 447
         },
         {
          "x1": 925.7481617647059,
          "x2": "train",
          "x3": 448
         },
         {
          "x1": 825.9544270833334,
          "x2": "train",
          "x3": 449
         },
         {
          "x1": 933.7346813725491,
          "x2": "train",
          "x3": 450
         },
         {
          "x1": 832.3018727022059,
          "x2": "train",
          "x3": 451
         },
         {
          "x1": 779.1856426164215,
          "x2": "train",
          "x3": 452
         },
         {
          "x1": 875.2410960477941,
          "x2": "train",
          "x3": 453
         },
         {
          "x1": 860.3282781862745,
          "x2": "train",
          "x3": 454
         },
         {
          "x1": 842.9881663602941,
          "x2": "train",
          "x3": 455
         },
         {
          "x1": 880.5725719975491,
          "x2": "train",
          "x3": 456
         },
         {
          "x1": 872.5257735906863,
          "x2": "train",
          "x3": 457
         },
         {
          "x1": 913.7715226715686,
          "x2": "train",
          "x3": 458
         },
         {
          "x1": 805.0392922794117,
          "x2": "train",
          "x3": 459
         },
         {
          "x1": 766.5423943014706,
          "x2": "train",
          "x3": 460
         },
         {
          "x1": 811.1627604166666,
          "x2": "train",
          "x3": 461
         },
         {
          "x1": 764.3913717830883,
          "x2": "train",
          "x3": 462
         },
         {
          "x1": 860.0625,
          "x2": "train",
          "x3": 463
         },
         {
          "x1": 926.7679993872549,
          "x2": "train",
          "x3": 464
         },
         {
          "x1": 853.0121783088235,
          "x2": "train",
          "x3": 465
         },
         {
          "x1": 873.0472962622549,
          "x2": "train",
          "x3": 466
         },
         {
          "x1": 821.6192555147059,
          "x2": "train",
          "x3": 467
         },
         {
          "x1": 867.7649356617648,
          "x2": "train",
          "x3": 468
         },
         {
          "x1": 766.0549555759804,
          "x2": "train",
          "x3": 469
         },
         {
          "x1": 795.9689797794117,
          "x2": "train",
          "x3": 470
         },
         {
          "x1": 839.6179342830883,
          "x2": "train",
          "x3": 471
         },
         {
          "x1": 868.6508118872549,
          "x2": "train",
          "x3": 472
         },
         {
          "x1": 791.8182636335785,
          "x2": "train",
          "x3": 473
         },
         {
          "x1": 843.5507238051471,
          "x2": "train",
          "x3": 474
         },
         {
          "x1": 805.5897288602941,
          "x2": "train",
          "x3": 475
         },
         {
          "x1": 835.3294462316177,
          "x2": "train",
          "x3": 476
         },
         {
          "x1": 795.7552849264706,
          "x2": "train",
          "x3": 477
         },
         {
          "x1": 916.1780407475491,
          "x2": "train",
          "x3": 478
         },
         {
          "x1": 793.4512484681372,
          "x2": "train",
          "x3": 479
         },
         {
          "x1": 890.4998085171569,
          "x2": "train",
          "x3": 480
         },
         {
          "x1": 849.3791743259804,
          "x2": "train",
          "x3": 481
         },
         {
          "x1": 737.5372625612745,
          "x2": "train",
          "x3": 482
         },
         {
          "x1": 769.8753255208334,
          "x2": "train",
          "x3": 483
         },
         {
          "x1": 764.6545840992648,
          "x2": "train",
          "x3": 484
         },
         {
          "x1": 821.5953967524509,
          "x2": "train",
          "x3": 485
         },
         {
          "x1": 851.8952971813726,
          "x2": "train",
          "x3": 486
         },
         {
          "x1": 878.4476102941177,
          "x2": "train",
          "x3": 487
         },
         {
          "x1": 822.1517884497549,
          "x2": "train",
          "x3": 488
         },
         {
          "x1": 784.7070886948529,
          "x2": "train",
          "x3": 489
         },
         {
          "x1": 837.2360791973039,
          "x2": "train",
          "x3": 490
         },
         {
          "x1": 770.7529105392157,
          "x2": "train",
          "x3": 491
         },
         {
          "x1": 778.1836320465686,
          "x2": "train",
          "x3": 492
         },
         {
          "x1": 796.0900352328431,
          "x2": "train",
          "x3": 493
         },
         {
          "x1": 800.5217141544117,
          "x2": "train",
          "x3": 494
         },
         {
          "x1": 878.0543811274509,
          "x2": "train",
          "x3": 495
         },
         {
          "x1": 799.8409926470588,
          "x2": "train",
          "x3": 496
         },
         {
          "x1": 794.5535194546569,
          "x2": "train",
          "x3": 497
         },
         {
          "x1": 845.7924708946078,
          "x2": "train",
          "x3": 498
         },
         {
          "x1": 863.4194240196078,
          "x2": "train",
          "x3": 499
         },
         {
          "x1": 837.0764782475491,
          "x2": "train",
          "x3": 500
         },
         {
          "x1": 764.5704082414215,
          "x2": "train",
          "x3": 501
         },
         {
          "x1": 850.0339307598039,
          "x2": "train",
          "x3": 502
         },
         {
          "x1": 800.5349839154412,
          "x2": "train",
          "x3": 503
         },
         {
          "x1": 731.226198682598,
          "x2": "train",
          "x3": 504
         },
         {
          "x1": 854.1342294730392,
          "x2": "train",
          "x3": 505
         },
         {
          "x1": 755.7750842524509,
          "x2": "train",
          "x3": 506
         },
         {
          "x1": 854.4903109681372,
          "x2": "train",
          "x3": 507
         },
         {
          "x1": 774.1089345894608,
          "x2": "train",
          "x3": 508
         },
         {
          "x1": 737.8348843443628,
          "x2": "train",
          "x3": 509
         },
         {
          "x1": 772.4158049938726,
          "x2": "train",
          "x3": 510
         },
         {
          "x1": 750.8661151960785,
          "x2": "train",
          "x3": 511
         },
         {
          "x1": 733.1985485600491,
          "x2": "train",
          "x3": 512
         },
         {
          "x1": 815.40625,
          "x2": "train",
          "x3": 513
         },
         {
          "x1": 834.0901501225491,
          "x2": "train",
          "x3": 514
         },
         {
          "x1": 759.0728017769608,
          "x2": "train",
          "x3": 515
         },
         {
          "x1": 782.2354664522059,
          "x2": "train",
          "x3": 516
         },
         {
          "x1": 772.4289981617648,
          "x2": "train",
          "x3": 517
         },
         {
          "x1": 733.5559704350491,
          "x2": "train",
          "x3": 518
         },
         {
          "x1": 786.2448874080883,
          "x2": "train",
          "x3": 519
         },
         {
          "x1": 755.0744676776961,
          "x2": "train",
          "x3": 520
         },
         {
          "x1": 808.0211780024509,
          "x2": "train",
          "x3": 521
         },
         {
          "x1": 723.8031556372549,
          "x2": "train",
          "x3": 522
         },
         {
          "x1": 782.9916896446078,
          "x2": "train",
          "x3": 523
         },
         {
          "x1": 784.0922372855392,
          "x2": "train",
          "x3": 524
         },
         {
          "x1": 732.0932904411765,
          "x2": "train",
          "x3": 525
         },
         {
          "x1": 828.0912415747549,
          "x2": "train",
          "x3": 526
         },
         {
          "x1": 763.6286573223039,
          "x2": "train",
          "x3": 527
         },
         {
          "x1": 720.4529909620098,
          "x2": "train",
          "x3": 528
         },
         {
          "x1": 772.8615962009804,
          "x2": "train",
          "x3": 529
         },
         {
          "x1": 773.527956495098,
          "x2": "train",
          "x3": 530
         },
         {
          "x1": 769.6835363051471,
          "x2": "train",
          "x3": 531
         },
         {
          "x1": 737.7218328737745,
          "x2": "train",
          "x3": 532
         },
         {
          "x1": 763.1732345281863,
          "x2": "train",
          "x3": 533
         },
         {
          "x1": 808.7572380514706,
          "x2": "train",
          "x3": 534
         },
         {
          "x1": 760.6238702512255,
          "x2": "train",
          "x3": 535
         },
         {
          "x1": 721.5106655943628,
          "x2": "train",
          "x3": 536
         },
         {
          "x1": 721.0188993566177,
          "x2": "train",
          "x3": 537
         },
         {
          "x1": 747.5737400428922,
          "x2": "train",
          "x3": 538
         },
         {
          "x1": 772.6454120710785,
          "x2": "train",
          "x3": 539
         },
         {
          "x1": 778.7543275122549,
          "x2": "train",
          "x3": 540
         },
         {
          "x1": 791.5994753370098,
          "x2": "train",
          "x3": 541
         },
         {
          "x1": 756.6185470281863,
          "x2": "train",
          "x3": 542
         },
         {
          "x1": 813.7082567401961,
          "x2": "train",
          "x3": 543
         },
         {
          "x1": 715.6222617953431,
          "x2": "train",
          "x3": 544
         },
         {
          "x1": 747.6810087316177,
          "x2": "train",
          "x3": 545
         },
         {
          "x1": 724.5367838541666,
          "x2": "train",
          "x3": 546
         },
         {
          "x1": 752.2790670955883,
          "x2": "train",
          "x3": 547
         },
         {
          "x1": 819.1431334252451,
          "x2": "train",
          "x3": 548
         },
         {
          "x1": 806.656613817402,
          "x2": "train",
          "x3": 549
         },
         {
          "x1": 734.2623506433823,
          "x2": "train",
          "x3": 550
         },
         {
          "x1": 754.7086397058823,
          "x2": "train",
          "x3": 551
         },
         {
          "x1": 750.6888595281863,
          "x2": "train",
          "x3": 552
         },
         {
          "x1": 714.9203048406863,
          "x2": "train",
          "x3": 553
         },
         {
          "x1": 762.7813457414215,
          "x2": "train",
          "x3": 554
         },
         {
          "x1": 709.2677313112745,
          "x2": "train",
          "x3": 555
         },
         {
          "x1": 699.5546300551471,
          "x2": "train",
          "x3": 556
         },
         {
          "x1": 744.6400505514706,
          "x2": "train",
          "x3": 557
         },
         {
          "x1": 686.9499272365196,
          "x2": "train",
          "x3": 558
         },
         {
          "x1": 750.0658318014706,
          "x2": "train",
          "x3": 559
         },
         {
          "x1": 762.4163985906863,
          "x2": "train",
          "x3": 560
         },
         {
          "x1": 721.5361328125,
          "x2": "train",
          "x3": 561
         },
         {
          "x1": 678.1145450367648,
          "x2": "train",
          "x3": 562
         },
         {
          "x1": 707.0028530943628,
          "x2": "train",
          "x3": 563
         },
         {
          "x1": 727.7016888786765,
          "x2": "train",
          "x3": 564
         },
         {
          "x1": 725.8822380514706,
          "x2": "train",
          "x3": 565
         },
         {
          "x1": 699.9974149816177,
          "x2": "train",
          "x3": 566
         },
         {
          "x1": 697.8538985906863,
          "x2": "train",
          "x3": 567
         },
         {
          "x1": 673.2225796568628,
          "x2": "train",
          "x3": 568
         },
         {
          "x1": 709.4959597120098,
          "x2": "train",
          "x3": 569
         },
         {
          "x1": 670.1607881433823,
          "x2": "train",
          "x3": 570
         },
         {
          "x1": 752.3962354473039,
          "x2": "train",
          "x3": 571
         },
         {
          "x1": 700.5460324754902,
          "x2": "train",
          "x3": 572
         },
         {
          "x1": 706.4877450980392,
          "x2": "train",
          "x3": 573
         },
         {
          "x1": 767.3069278492648,
          "x2": "train",
          "x3": 574
         },
         {
          "x1": 687.3949142156863,
          "x2": "train",
          "x3": 575
         },
         {
          "x1": 687.6560776654412,
          "x2": "train",
          "x3": 576
         },
         {
          "x1": 710.6228170955883,
          "x2": "train",
          "x3": 577
         },
         {
          "x1": 736.9744178921569,
          "x2": "train",
          "x3": 578
         },
         {
          "x1": 693.9834941789215,
          "x2": "train",
          "x3": 579
         },
         {
          "x1": 666.2392386642157,
          "x2": "train",
          "x3": 580
         },
         {
          "x1": 718.8884803921569,
          "x2": "train",
          "x3": 581
         },
         {
          "x1": 720.6979358149509,
          "x2": "train",
          "x3": 582
         },
         {
          "x1": 703.2542509191177,
          "x2": "train",
          "x3": 583
         },
         {
          "x1": 707.0022212009804,
          "x2": "train",
          "x3": 584
         },
         {
          "x1": 734.3428308823529,
          "x2": "train",
          "x3": 585
         },
         {
          "x1": 659.9905024509804,
          "x2": "train",
          "x3": 586
         },
         {
          "x1": 709.1752450980392,
          "x2": "train",
          "x3": 587
         },
         {
          "x1": 717.090456495098,
          "x2": "train",
          "x3": 588
         },
         {
          "x1": 697.5871821384804,
          "x2": "train",
          "x3": 589
         },
         {
          "x1": 705.4352022058823,
          "x2": "train",
          "x3": 590
         },
         {
          "x1": 690.2796798406863,
          "x2": "train",
          "x3": 591
         },
         {
          "x1": 695.7048100490196,
          "x2": "train",
          "x3": 592
         },
         {
          "x1": 690.0810163909314,
          "x2": "train",
          "x3": 593
         },
         {
          "x1": 685.8619791666666,
          "x2": "train",
          "x3": 594
         },
         {
          "x1": 737.1056410845588,
          "x2": "train",
          "x3": 595
         },
         {
          "x1": 719.0255055147059,
          "x2": "train",
          "x3": 596
         },
         {
          "x1": 696.6914445465686,
          "x2": "train",
          "x3": 597
         },
         {
          "x1": 686.2934666053922,
          "x2": "train",
          "x3": 598
         },
         {
          "x1": 688.1250765931372,
          "x2": "train",
          "x3": 599
         },
         {
          "x1": 688.7127374387255,
          "x2": "train",
          "x3": 600
         },
         {
          "x1": 706.4493336397059,
          "x2": "train",
          "x3": 601
         },
         {
          "x1": 619.1671645220588,
          "x2": "train",
          "x3": 602
         },
         {
          "x1": 738.8900505514706,
          "x2": "train",
          "x3": 603
         },
         {
          "x1": 691.7448874080883,
          "x2": "train",
          "x3": 604
         },
         {
          "x1": 717.5403262867648,
          "x2": "train",
          "x3": 605
         },
         {
          "x1": 694.7250689338235,
          "x2": "train",
          "x3": 606
         },
         {
          "x1": 700.1614008884804,
          "x2": "train",
          "x3": 607
         },
         {
          "x1": 647.7653186274509,
          "x2": "train",
          "x3": 608
         },
         {
          "x1": 682.9960171568628,
          "x2": "train",
          "x3": 609
         },
         {
          "x1": 650.482421875,
          "x2": "train",
          "x3": 610
         },
         {
          "x1": 697.3545113357843,
          "x2": "train",
          "x3": 611
         },
         {
          "x1": 693.7262561274509,
          "x2": "train",
          "x3": 612
         },
         {
          "x1": 701.4649969362745,
          "x2": "train",
          "x3": 613
         },
         {
          "x1": 666.3749425551471,
          "x2": "train",
          "x3": 614
         },
         {
          "x1": 668.7316176470588,
          "x2": "train",
          "x3": 615
         },
         {
          "x1": 699.5988817401961,
          "x2": "train",
          "x3": 616
         },
         {
          "x1": 650.1519990808823,
          "x2": "train",
          "x3": 617
         },
         {
          "x1": 622.2231158088235,
          "x2": "train",
          "x3": 618
         },
         {
          "x1": 697.3439223345588,
          "x2": "train",
          "x3": 619
         },
         {
          "x1": 682.0746591605392,
          "x2": "train",
          "x3": 620
         },
         {
          "x1": 641.7805032169117,
          "x2": "train",
          "x3": 621
         },
         {
          "x1": 697.0025850183823,
          "x2": "train",
          "x3": 622
         },
         {
          "x1": 654.859375,
          "x2": "train",
          "x3": 623
         },
         {
          "x1": 631.2797372855392,
          "x2": "train",
          "x3": 624
         },
         {
          "x1": 716.8651194852941,
          "x2": "train",
          "x3": 625
         },
         {
          "x1": 639.0739506740196,
          "x2": "train",
          "x3": 626
         },
         {
          "x1": 635.1907169117648,
          "x2": "train",
          "x3": 627
         },
         {
          "x1": 654.5262714460785,
          "x2": "train",
          "x3": 628
         },
         {
          "x1": 659.4263748468137,
          "x2": "train",
          "x3": 629
         },
         {
          "x1": 666.8259420955883,
          "x2": "train",
          "x3": 630
         },
         {
          "x1": 648.6929572610294,
          "x2": "train",
          "x3": 631
         },
         {
          "x1": 638.5796951593137,
          "x2": "train",
          "x3": 632
         },
         {
          "x1": 656.8024471507352,
          "x2": "train",
          "x3": 633
         },
         {
          "x1": 665.6547755821078,
          "x2": "train",
          "x3": 634
         },
         {
          "x1": 602.8219592524509,
          "x2": "train",
          "x3": 635
         },
         {
          "x1": 646.1731579350491,
          "x2": "train",
          "x3": 636
         },
         {
          "x1": 643.7491383272059,
          "x2": "train",
          "x3": 637
         },
         {
          "x1": 658.5143803615196,
          "x2": "train",
          "x3": 638
         },
         {
          "x1": 679.3031556372549,
          "x2": "train",
          "x3": 639
         },
         {
          "x1": 610.5065487132352,
          "x2": "train",
          "x3": 640
         },
         {
          "x1": 648.1846277573529,
          "x2": "train",
          "x3": 641
         },
         {
          "x1": 647.6149662990196,
          "x2": "train",
          "x3": 642
         },
         {
          "x1": 628.2392961090686,
          "x2": "train",
          "x3": 643
         },
         {
          "x1": 637.3775275735294,
          "x2": "train",
          "x3": 644
         },
         {
          "x1": 628.9737859987745,
          "x2": "train",
          "x3": 645
         },
         {
          "x1": 638.0703507965686,
          "x2": "train",
          "x3": 646
         },
         {
          "x1": 649.1644837622549,
          "x2": "train",
          "x3": 647
         },
         {
          "x1": 644.7116459865196,
          "x2": "train",
          "x3": 648
         },
         {
          "x1": 657.3696384803922,
          "x2": "train",
          "x3": 649
         },
         {
          "x1": 622.3373161764706,
          "x2": "train",
          "x3": 650
         },
         {
          "x1": 660.6713771446078,
          "x2": "train",
          "x3": 651
         },
         {
          "x1": 626.8020450367648,
          "x2": "train",
          "x3": 652
         },
         {
          "x1": 653.6045496323529,
          "x2": "train",
          "x3": 653
         },
         {
          "x1": 682.8204465379902,
          "x2": "train",
          "x3": 654
         },
         {
          "x1": 645.9229090073529,
          "x2": "train",
          "x3": 655
         },
         {
          "x1": 627.2688036151961,
          "x2": "train",
          "x3": 656
         },
         {
          "x1": 603.1032475490196,
          "x2": "train",
          "x3": 657
         },
         {
          "x1": 596.4119944852941,
          "x2": "train",
          "x3": 658
         },
         {
          "x1": 593.1593903186274,
          "x2": "train",
          "x3": 659
         },
         {
          "x1": 657.4308363970588,
          "x2": "train",
          "x3": 660
         },
         {
          "x1": 620.6164598651961,
          "x2": "train",
          "x3": 661
         },
         {
          "x1": 604.1849915747549,
          "x2": "train",
          "x3": 662
         },
         {
          "x1": 611.5066827512255,
          "x2": "train",
          "x3": 663
         },
         {
          "x1": 610.0414560355392,
          "x2": "train",
          "x3": 664
         },
         {
          "x1": 647.7794117647059,
          "x2": "train",
          "x3": 665
         },
         {
          "x1": 607.001953125,
          "x2": "train",
          "x3": 666
         },
         {
          "x1": 609.0331648284314,
          "x2": "train",
          "x3": 667
         },
         {
          "x1": 601.9973575367648,
          "x2": "train",
          "x3": 668
         },
         {
          "x1": 635.5429113051471,
          "x2": "train",
          "x3": 669
         },
         {
          "x1": 622.4660500919117,
          "x2": "train",
          "x3": 670
         },
         {
          "x1": 601.4172028186274,
          "x2": "train",
          "x3": 671
         },
         {
          "x1": 595.2108992034314,
          "x2": "train",
          "x3": 672
         },
         {
          "x1": 604.3387140012255,
          "x2": "train",
          "x3": 673
         },
         {
          "x1": 642.4041436887255,
          "x2": "train",
          "x3": 674
         },
         {
          "x1": 603.4448146446078,
          "x2": "train",
          "x3": 675
         },
         {
          "x1": 580.9448146446078,
          "x2": "train",
          "x3": 676
         },
         {
          "x1": 586.9732498468137,
          "x2": "train",
          "x3": 677
         },
         {
          "x1": 599.7009803921569,
          "x2": "train",
          "x3": 678
         },
         {
          "x1": 606.4563419117648,
          "x2": "train",
          "x3": 679
         },
         {
          "x1": 601.3079044117648,
          "x2": "train",
          "x3": 680
         },
         {
          "x1": 633.3252527573529,
          "x2": "train",
          "x3": 681
         },
         {
          "x1": 577.4566482843137,
          "x2": "train",
          "x3": 682
         },
         {
          "x1": 576.1231617647059,
          "x2": "train",
          "x3": 683
         },
         {
          "x1": 589.4629097732843,
          "x2": "train",
          "x3": 684
         },
         {
          "x1": 643.0929457720588,
          "x2": "train",
          "x3": 685
         },
         {
          "x1": 615.9654181985294,
          "x2": "train",
          "x3": 686
         },
         {
          "x1": 556.2888135723039,
          "x2": "train",
          "x3": 687
         },
         {
          "x1": 566.4464996936274,
          "x2": "train",
          "x3": 688
         },
         {
          "x1": 552.2462277879902,
          "x2": "train",
          "x3": 689
         },
         {
          "x1": 555.3795381433823,
          "x2": "train",
          "x3": 690
         },
         {
          "x1": 584.0330499387255,
          "x2": "train",
          "x3": 691
         },
         {
          "x1": 607.3731809129902,
          "x2": "train",
          "x3": 692
         },
         {
          "x1": 584.8874655330883,
          "x2": "train",
          "x3": 693
         },
         {
          "x1": 597.1708409926471,
          "x2": "train",
          "x3": 694
         },
         {
          "x1": 588.0937882965686,
          "x2": "train",
          "x3": 695
         },
         {
          "x1": 590.0091145833334,
          "x2": "train",
          "x3": 696
         },
         {
          "x1": 573.1707069546569,
          "x2": "train",
          "x3": 697
         },
         {
          "x1": 621.9883769914215,
          "x2": "train",
          "x3": 698
         },
         {
          "x1": 583.6051623774509,
          "x2": "train",
          "x3": 699
         },
         {
          "x1": 591.8080001531863,
          "x2": "train",
          "x3": 700
         },
         {
          "x1": 615.6816597732843,
          "x2": "train",
          "x3": 701
         },
         {
          "x1": 575.1362208946078,
          "x2": "train",
          "x3": 702
         },
         {
          "x1": 564.7561083026961,
          "x2": "train",
          "x3": 703
         },
         {
          "x1": 579.8683363970588,
          "x2": "train",
          "x3": 704
         },
         {
          "x1": 579.7413258272059,
          "x2": "train",
          "x3": 705
         },
         {
          "x1": 642.8049364276961,
          "x2": "train",
          "x3": 706
         },
         {
          "x1": 532.2212775735294,
          "x2": "train",
          "x3": 707
         },
         {
          "x1": 591.8841145833334,
          "x2": "train",
          "x3": 708
         },
         {
          "x1": 596.8868336397059,
          "x2": "train",
          "x3": 709
         },
         {
          "x1": 567.2349685968137,
          "x2": "train",
          "x3": 710
         },
         {
          "x1": 630.0801930147059,
          "x2": "train",
          "x3": 711
         },
         {
          "x1": 615.1263786764706,
          "x2": "train",
          "x3": 712
         },
         {
          "x1": 590.270871629902,
          "x2": "train",
          "x3": 713
         },
         {
          "x1": 584.4245940563726,
          "x2": "train",
          "x3": 714
         },
         {
          "x1": 610.5587660845588,
          "x2": "train",
          "x3": 715
         },
         {
          "x1": 540.5475834865196,
          "x2": "train",
          "x3": 716
         },
         {
          "x1": 571.6990272671569,
          "x2": "train",
          "x3": 717
         },
         {
          "x1": 613.4939299938726,
          "x2": "train",
          "x3": 718
         },
         {
          "x1": 574.1920381433823,
          "x2": "train",
          "x3": 719
         },
         {
          "x1": 589.65234375,
          "x2": "train",
          "x3": 720
         },
         {
          "x1": 540.019167432598,
          "x2": "train",
          "x3": 721
         },
         {
          "x1": 580.7597847732843,
          "x2": "train",
          "x3": 722
         },
         {
          "x1": 568.2150160845588,
          "x2": "train",
          "x3": 723
         },
         {
          "x1": 573.091184129902,
          "x2": "train",
          "x3": 724
         },
         {
          "x1": 566.9241536458334,
          "x2": "train",
          "x3": 725
         },
         {
          "x1": 596.4535079656863,
          "x2": "train",
          "x3": 726
         },
         {
          "x1": 551.6360677083334,
          "x2": "train",
          "x3": 727
         },
         {
          "x1": 569.7872625612745,
          "x2": "train",
          "x3": 728
         },
         {
          "x1": 546.6392463235294,
          "x2": "train",
          "x3": 729
         },
         {
          "x1": 549.5486557904412,
          "x2": "train",
          "x3": 730
         },
         {
          "x1": 571.0202397365196,
          "x2": "train",
          "x3": 731
         },
         {
          "x1": 566.5800398284314,
          "x2": "train",
          "x3": 732
         },
         {
          "x1": 512.5595894607843,
          "x2": "train",
          "x3": 733
         },
         {
          "x1": 540.9406594669117,
          "x2": "train",
          "x3": 734
         },
         {
          "x1": 560.8550857843137,
          "x2": "train",
          "x3": 735
         },
         {
          "x1": 544.5683019301471,
          "x2": "train",
          "x3": 736
         },
         {
          "x1": 569.7569125306372,
          "x2": "train",
          "x3": 737
         },
         {
          "x1": 566.5868949142157,
          "x2": "train",
          "x3": 738
         },
         {
          "x1": 580.3723575367648,
          "x2": "train",
          "x3": 739
         },
         {
          "x1": 576.9352596507352,
          "x2": "train",
          "x3": 740
         },
         {
          "x1": 550.7351792279412,
          "x2": "train",
          "x3": 741
         },
         {
          "x1": 552.7505744485294,
          "x2": "train",
          "x3": 742
         },
         {
          "x1": 559.8548943014706,
          "x2": "train",
          "x3": 743
         },
         {
          "x1": 542.9282705269608,
          "x2": "train",
          "x3": 744
         },
         {
          "x1": 545.8466988357843,
          "x2": "train",
          "x3": 745
         },
         {
          "x1": 604.5912415747549,
          "x2": "train",
          "x3": 746
         },
         {
          "x1": 529.0518152573529,
          "x2": "train",
          "x3": 747
         },
         {
          "x1": 564.6067133884804,
          "x2": "train",
          "x3": 748
         },
         {
          "x1": 552.7767501531863,
          "x2": "train",
          "x3": 749
         },
         {
          "x1": 554.6090494791666,
          "x2": "train",
          "x3": 750
         },
         {
          "x1": 542.9902152267157,
          "x2": "train",
          "x3": 751
         },
         {
          "x1": 545.3037300857843,
          "x2": "train",
          "x3": 752
         },
         {
          "x1": 550.3559091605392,
          "x2": "train",
          "x3": 753
         },
         {
          "x1": 523.9406977634804,
          "x2": "train",
          "x3": 754
         },
         {
          "x1": 504.3691789215686,
          "x2": "train",
          "x3": 755
         },
         {
          "x1": 571.2032590379902,
          "x2": "train",
          "x3": 756
         },
         {
          "x1": 539.4988128063726,
          "x2": "train",
          "x3": 757
         },
         {
          "x1": 544.0409390318628,
          "x2": "train",
          "x3": 758
         },
         {
          "x1": 503.21603094362746,
          "x2": "train",
          "x3": 759
         },
         {
          "x1": 511.50275735294116,
          "x2": "train",
          "x3": 760
         },
         {
          "x1": 509.7877604166667,
          "x2": "train",
          "x3": 761
         },
         {
          "x1": 555.1737132352941,
          "x2": "train",
          "x3": 762
         },
         {
          "x1": 560.1870404411765,
          "x2": "train",
          "x3": 763
         },
         {
          "x1": 515.5384689031863,
          "x2": "train",
          "x3": 764
         },
         {
          "x1": 536.5627680759804,
          "x2": "train",
          "x3": 765
         },
         {
          "x1": 525.6426547181372,
          "x2": "train",
          "x3": 766
         },
         {
          "x1": 531.9854090073529,
          "x2": "train",
          "x3": 767
         },
         {
          "x1": 473.6035539215686,
          "x2": "train",
          "x3": 768
         },
         {
          "x1": 556.7203584558823,
          "x2": "train",
          "x3": 769
         },
         {
          "x1": 519.1989123774509,
          "x2": "train",
          "x3": 770
         },
         {
          "x1": 547.2429151348039,
          "x2": "train",
          "x3": 771
         },
         {
          "x1": 520.9042777267157,
          "x2": "train",
          "x3": 772
         },
         {
          "x1": 533.9993681066177,
          "x2": "train",
          "x3": 773
         },
         {
          "x1": 515.1074601715686,
          "x2": "train",
          "x3": 774
         },
         {
          "x1": 571.3671300551471,
          "x2": "train",
          "x3": 775
         },
         {
          "x1": 500.8125,
          "x2": "train",
          "x3": 776
         },
         {
          "x1": 512.7704120710785,
          "x2": "train",
          "x3": 777
         },
         {
          "x1": 522.7885071997549,
          "x2": "train",
          "x3": 778
         },
         {
          "x1": 544.2439491421569,
          "x2": "train",
          "x3": 779
         },
         {
          "x1": 490.89196537990193,
          "x2": "train",
          "x3": 780
         },
         {
          "x1": 535.5907628676471,
          "x2": "train",
          "x3": 781
         },
         {
          "x1": 562.2028760723039,
          "x2": "train",
          "x3": 782
         },
         {
          "x1": 506.9102136948529,
          "x2": "train",
          "x3": 783
         },
         {
          "x1": 540.0200291053922,
          "x2": "train",
          "x3": 784
         },
         {
          "x1": 564.268918504902,
          "x2": "train",
          "x3": 785
         },
         {
          "x1": 514.4465954350491,
          "x2": "train",
          "x3": 786
         },
         {
          "x1": 531.1112515318628,
          "x2": "train",
          "x3": 787
         },
         {
          "x1": 570.1060240502451,
          "x2": "train",
          "x3": 788
         },
         {
          "x1": 502.5989200367647,
          "x2": "train",
          "x3": 789
         },
         {
          "x1": 572.372683057598,
          "x2": "train",
          "x3": 790
         },
         {
          "x1": 586.8009727328431,
          "x2": "train",
          "x3": 791
         },
         {
          "x1": 535.9058095894608,
          "x2": "train",
          "x3": 792
         },
         {
          "x1": 548.4509420955883,
          "x2": "train",
          "x3": 793
         },
         {
          "x1": 486.0884842218137,
          "x2": "train",
          "x3": 794
         },
         {
          "x1": 530.9228515625,
          "x2": "train",
          "x3": 795
         },
         {
          "x1": 548.9731349571078,
          "x2": "train",
          "x3": 796
         },
         {
          "x1": 489.30646829044116,
          "x2": "train",
          "x3": 797
         },
         {
          "x1": 529.7054993872549,
          "x2": "train",
          "x3": 798
         },
         {
          "x1": 513.3432329963235,
          "x2": "train",
          "x3": 799
         },
         {
          "x1": 537.2387982536765,
          "x2": "train",
          "x3": 800
         },
         {
          "x1": 517.7700674019608,
          "x2": "train",
          "x3": 801
         },
         {
          "x1": 522.0753484987745,
          "x2": "train",
          "x3": 802
         },
         {
          "x1": 538.9927236519608,
          "x2": "train",
          "x3": 803
         },
         {
          "x1": 503.09457337622547,
          "x2": "train",
          "x3": 804
         },
         {
          "x1": 517.2517233455883,
          "x2": "train",
          "x3": 805
         },
         {
          "x1": 525.7227902879902,
          "x2": "train",
          "x3": 806
         },
         {
          "x1": 506.4248621323529,
          "x2": "train",
          "x3": 807
         },
         {
          "x1": 543.9421721813726,
          "x2": "train",
          "x3": 808
         },
         {
          "x1": 540.7636335784314,
          "x2": "train",
          "x3": 809
         },
         {
          "x1": 521.0640510110294,
          "x2": "train",
          "x3": 810
         },
         {
          "x1": 519.5224800857843,
          "x2": "train",
          "x3": 811
         },
         {
          "x1": 576.3303844975491,
          "x2": "train",
          "x3": 812
         },
         {
          "x1": 566.0376646752451,
          "x2": "train",
          "x3": 813
         },
         {
          "x1": 520.0971775428922,
          "x2": "train",
          "x3": 814
         },
         {
          "x1": 521.0065295649509,
          "x2": "train",
          "x3": 815
         },
         {
          "x1": 522.9110179227941,
          "x2": "train",
          "x3": 816
         },
         {
          "x1": 482.43759574142155,
          "x2": "train",
          "x3": 817
         },
         {
          "x1": 492.5524662990196,
          "x2": "train",
          "x3": 818
         },
         {
          "x1": 534.8418351715686,
          "x2": "train",
          "x3": 819
         },
         {
          "x1": 567.6854702818628,
          "x2": "train",
          "x3": 820
         },
         {
          "x1": 550.2339920343137,
          "x2": "train",
          "x3": 821
         },
         {
          "x1": 522.6960592830883,
          "x2": "train",
          "x3": 822
         },
         {
          "x1": 515.4980277267157,
          "x2": "train",
          "x3": 823
         },
         {
          "x1": 522.8268995098039,
          "x2": "train",
          "x3": 824
         },
         {
          "x1": 521.9493336397059,
          "x2": "train",
          "x3": 825
         },
         {
          "x1": 529.7115310968137,
          "x2": "train",
          "x3": 826
         },
         {
          "x1": 517.0284734987745,
          "x2": "train",
          "x3": 827
         },
         {
          "x1": 500.6994676776961,
          "x2": "train",
          "x3": 828
         },
         {
          "x1": 492.5120442708333,
          "x2": "train",
          "x3": 829
         },
         {
          "x1": 488.6550245098039,
          "x2": "train",
          "x3": 830
         },
         {
          "x1": 490.87185968137254,
          "x2": "train",
          "x3": 831
         },
         {
          "x1": 467.94094669117646,
          "x2": "train",
          "x3": 832
         },
         {
          "x1": 474.7045036764706,
          "x2": "train",
          "x3": 833
         },
         {
          "x1": 518.2018229166666,
          "x2": "train",
          "x3": 834
         },
         {
          "x1": 501.3379097732843,
          "x2": "train",
          "x3": 835
         },
         {
          "x1": 499.8359183517157,
          "x2": "train",
          "x3": 836
         },
         {
          "x1": 473.3215571384804,
          "x2": "train",
          "x3": 837
         },
         {
          "x1": 445.10566023284315,
          "x2": "train",
          "x3": 838
         },
         {
          "x1": 489.4408700980392,
          "x2": "train",
          "x3": 839
         },
         {
          "x1": 475.65159696691177,
          "x2": "train",
          "x3": 840
         },
         {
          "x1": 488.622376685049,
          "x2": "train",
          "x3": 841
         },
         {
          "x1": 508.01330805759807,
          "x2": "train",
          "x3": 842
         },
         {
          "x1": 429.724303002451,
          "x2": "train",
          "x3": 843
         },
         {
          "x1": 473.93298100490193,
          "x2": "train",
          "x3": 844
         },
         {
          "x1": 504.6303040747549,
          "x2": "train",
          "x3": 845
         },
         {
          "x1": 502.6485715379902,
          "x2": "train",
          "x3": 846
         },
         {
          "x1": 477.3232421875,
          "x2": "train",
          "x3": 847
         },
         {
          "x1": 486.24128753063724,
          "x2": "train",
          "x3": 848
         },
         {
          "x1": 497.2581571691176,
          "x2": "train",
          "x3": 849
         },
         {
          "x1": 473.99144071691177,
          "x2": "train",
          "x3": 850
         },
         {
          "x1": 492.1927274816176,
          "x2": "train",
          "x3": 851
         },
         {
          "x1": 483.1029794730392,
          "x2": "train",
          "x3": 852
         },
         {
          "x1": 461.37281709558823,
          "x2": "train",
          "x3": 853
         },
         {
          "x1": 493.1174747242647,
          "x2": "train",
          "x3": 854
         },
         {
          "x1": 458.86677581188724,
          "x2": "train",
          "x3": 855
         },
         {
          "x1": 486.5234375,
          "x2": "train",
          "x3": 856
         },
         {
          "x1": 480.4589269301471,
          "x2": "train",
          "x3": 857
         },
         {
          "x1": 492.35433900122547,
          "x2": "train",
          "x3": 858
         },
         {
          "x1": 494.2458256740196,
          "x2": "train",
          "x3": 859
         },
         {
          "x1": 473.24111519607845,
          "x2": "train",
          "x3": 860
         },
         {
          "x1": 458.7330729166667,
          "x2": "train",
          "x3": 861
         },
         {
          "x1": 473.99504059436276,
          "x2": "train",
          "x3": 862
         },
         {
          "x1": 450.04040287990193,
          "x2": "train",
          "x3": 863
         },
         {
          "x1": 464.53756893382354,
          "x2": "train",
          "x3": 864
         },
         {
          "x1": 446.6227979473039,
          "x2": "train",
          "x3": 865
         },
         {
          "x1": 446.9049287683824,
          "x2": "train",
          "x3": 866
         },
         {
          "x1": 468.70004212622547,
          "x2": "train",
          "x3": 867
         },
         {
          "x1": 440.5535673253676,
          "x2": "train",
          "x3": 868
         },
         {
          "x1": 462.64319087009807,
          "x2": "train",
          "x3": 869
         },
         {
          "x1": 470.69284237132354,
          "x2": "train",
          "x3": 870
         },
         {
          "x1": 455.51968443627453,
          "x2": "train",
          "x3": 871
         },
         {
          "x1": 469.4560355392157,
          "x2": "train",
          "x3": 872
         },
         {
          "x1": 459.1752068014706,
          "x2": "train",
          "x3": 873
         },
         {
          "x1": 460.02234604779414,
          "x2": "train",
          "x3": 874
         },
         {
          "x1": 470.8797487745098,
          "x2": "train",
          "x3": 875
         },
         {
          "x1": 452.3942440257353,
          "x2": "train",
          "x3": 876
         },
         {
          "x1": 447.95948223039215,
          "x2": "train",
          "x3": 877
         },
         {
          "x1": 494.91300934436276,
          "x2": "train",
          "x3": 878
         },
         {
          "x1": 488.62028952205884,
          "x2": "train",
          "x3": 879
         },
         {
          "x1": 455.7857498468137,
          "x2": "train",
          "x3": 880
         },
         {
          "x1": 427.72832414215685,
          "x2": "train",
          "x3": 881
         },
         {
          "x1": 444.9321097579657,
          "x2": "train",
          "x3": 882
         },
         {
          "x1": 447.292174096201,
          "x2": "train",
          "x3": 883
         },
         {
          "x1": 471.8788679534314,
          "x2": "train",
          "x3": 884
         },
         {
          "x1": 518.7139820772059,
          "x2": "train",
          "x3": 885
         },
         {
          "x1": 493.40808823529414,
          "x2": "train",
          "x3": 886
         },
         {
          "x1": 458.1858340992647,
          "x2": "train",
          "x3": 887
         },
         {
          "x1": 445.5690104166667,
          "x2": "train",
          "x3": 888
         },
         {
          "x1": 479.03785615808823,
          "x2": "train",
          "x3": 889
         },
         {
          "x1": 487.7663334865196,
          "x2": "train",
          "x3": 890
         },
         {
          "x1": 495.2886220894608,
          "x2": "train",
          "x3": 891
         },
         {
          "x1": 494.5706954656863,
          "x2": "train",
          "x3": 892
         },
         {
          "x1": 471.4315831801471,
          "x2": "train",
          "x3": 893
         },
         {
          "x1": 429.3659620098039,
          "x2": "train",
          "x3": 894
         },
         {
          "x1": 447.7956495098039,
          "x2": "train",
          "x3": 895
         },
         {
          "x1": 458.54120710784315,
          "x2": "train",
          "x3": 896
         },
         {
          "x1": 477.21863511029414,
          "x2": "train",
          "x3": 897
         },
         {
          "x1": 473.56408930759807,
          "x2": "train",
          "x3": 898
         },
         {
          "x1": 481.97706035539215,
          "x2": "train",
          "x3": 899
         },
         {
          "x1": 460.2952665441176,
          "x2": "train",
          "x3": 900
         },
         {
          "x1": 487.24034926470586,
          "x2": "train",
          "x3": 901
         },
         {
          "x1": 464.30294500612746,
          "x2": "train",
          "x3": 902
         },
         {
          "x1": 460.2180223651961,
          "x2": "train",
          "x3": 903
         },
         {
          "x1": 434.0270948223039,
          "x2": "train",
          "x3": 904
         },
         {
          "x1": 450.2862955729167,
          "x2": "train",
          "x3": 905
         },
         {
          "x1": 469.2508425245098,
          "x2": "train",
          "x3": 906
         },
         {
          "x1": 450.65954350490193,
          "x2": "train",
          "x3": 907
         },
         {
          "x1": 470.04277726715685,
          "x2": "train",
          "x3": 908
         },
         {
          "x1": 449.5368604473039,
          "x2": "train",
          "x3": 909
         },
         {
          "x1": 453.89401424632354,
          "x2": "train",
          "x3": 910
         },
         {
          "x1": 447.6821672028186,
          "x2": "train",
          "x3": 911
         },
         {
          "x1": 426.6636412377451,
          "x2": "train",
          "x3": 912
         },
         {
          "x1": 417.63426776960785,
          "x2": "train",
          "x3": 913
         },
         {
          "x1": 450.59976256127453,
          "x2": "train",
          "x3": 914
         },
         {
          "x1": 414.2584443933824,
          "x2": "train",
          "x3": 915
         },
         {
          "x1": 466.7523743872549,
          "x2": "train",
          "x3": 916
         },
         {
          "x1": 461.80575980392155,
          "x2": "train",
          "x3": 917
         },
         {
          "x1": 455.45628446691177,
          "x2": "train",
          "x3": 918
         },
         {
          "x1": 455.9528569240196,
          "x2": "train",
          "x3": 919
         },
         {
          "x1": 450.4175857843137,
          "x2": "train",
          "x3": 920
         },
         {
          "x1": 474.82511871936276,
          "x2": "train",
          "x3": 921
         },
         {
          "x1": 455.77879901960785,
          "x2": "train",
          "x3": 922
         },
         {
          "x1": 471.3056257659314,
          "x2": "train",
          "x3": 923
         },
         {
          "x1": 474.17204733455884,
          "x2": "train",
          "x3": 924
         },
         {
          "x1": 456.56332337622547,
          "x2": "train",
          "x3": 925
         },
         {
          "x1": 437.4800666360294,
          "x2": "train",
          "x3": 926
         },
         {
          "x1": 425.35173483455884,
          "x2": "train",
          "x3": 927
         },
         {
          "x1": 438.31523820465685,
          "x2": "train",
          "x3": 928
         },
         {
          "x1": 449.38890165441177,
          "x2": "train",
          "x3": 929
         },
         {
          "x1": 442.7505457261029,
          "x2": "train",
          "x3": 930
         },
         {
          "x1": 474.61155790441177,
          "x2": "train",
          "x3": 931
         },
         {
          "x1": 448.5557502297794,
          "x2": "train",
          "x3": 932
         },
         {
          "x1": 462.826171875,
          "x2": "train",
          "x3": 933
         },
         {
          "x1": 429.2236711090686,
          "x2": "train",
          "x3": 934
         },
         {
          "x1": 446.0439070159314,
          "x2": "train",
          "x3": 935
         },
         {
          "x1": 441.30939797794116,
          "x2": "train",
          "x3": 936
         },
         {
          "x1": 456.6722196691176,
          "x2": "train",
          "x3": 937
         },
         {
          "x1": 419.73933440563724,
          "x2": "train",
          "x3": 938
         },
         {
          "x1": 426.8467850030637,
          "x2": "train",
          "x3": 939
         },
         {
          "x1": 447.242857689951,
          "x2": "train",
          "x3": 940
         },
         {
          "x1": 411.4048713235294,
          "x2": "train",
          "x3": 941
         },
         {
          "x1": 402.92890242034315,
          "x2": "train",
          "x3": 942
         },
         {
          "x1": 412.56753599877453,
          "x2": "train",
          "x3": 943
         },
         {
          "x1": 449.31981464460785,
          "x2": "train",
          "x3": 944
         },
         {
          "x1": 436.6060049019608,
          "x2": "train",
          "x3": 945
         },
         {
          "x1": 434.89334405637254,
          "x2": "train",
          "x3": 946
         },
         {
          "x1": 449.8050704656863,
          "x2": "train",
          "x3": 947
         },
         {
          "x1": 445.18447457107845,
          "x2": "train",
          "x3": 948
         },
         {
          "x1": 431.18877336090685,
          "x2": "train",
          "x3": 949
         },
         {
          "x1": 421.366881127451,
          "x2": "train",
          "x3": 950
         },
         {
          "x1": 476.85566023284315,
          "x2": "train",
          "x3": 951
         },
         {
          "x1": 459.6900850183824,
          "x2": "train",
          "x3": 952
         },
         {
          "x1": 468.1051240808824,
          "x2": "train",
          "x3": 953
         },
         {
          "x1": 434.38497625612746,
          "x2": "train",
          "x3": 954
         },
         {
          "x1": 426.6409696691176,
          "x2": "train",
          "x3": 955
         },
         {
          "x1": 458.3785232843137,
          "x2": "train",
          "x3": 956
         },
         {
          "x1": 414.17761948529414,
          "x2": "train",
          "x3": 957
         },
         {
          "x1": 449.7658739276961,
          "x2": "train",
          "x3": 958
         },
         {
          "x1": 436.79965150122547,
          "x2": "train",
          "x3": 959
         },
         {
          "x1": 391.3432425704657,
          "x2": "train",
          "x3": 960
         },
         {
          "x1": 416.7030579810049,
          "x2": "train",
          "x3": 961
         },
         {
          "x1": 426.45065487132354,
          "x2": "train",
          "x3": 962
         },
         {
          "x1": 411.9465284160539,
          "x2": "train",
          "x3": 963
         },
         {
          "x1": 434.3066023284314,
          "x2": "train",
          "x3": 964
         },
         {
          "x1": 412.8515242034314,
          "x2": "train",
          "x3": 965
         },
         {
          "x1": 440.1290402879902,
          "x2": "train",
          "x3": 966
         },
         {
          "x1": 423.69801240808823,
          "x2": "train",
          "x3": 967
         },
         {
          "x1": 432.1847043504902,
          "x2": "train",
          "x3": 968
         },
         {
          "x1": 443.16904105392155,
          "x2": "train",
          "x3": 969
         },
         {
          "x1": 431.4937576593137,
          "x2": "train",
          "x3": 970
         },
         {
          "x1": 424.8614621629902,
          "x2": "train",
          "x3": 971
         },
         {
          "x1": 426.38512944240193,
          "x2": "train",
          "x3": 972
         },
         {
          "x1": 426.25243183210785,
          "x2": "train",
          "x3": 973
         },
         {
          "x1": 400.05536726409315,
          "x2": "train",
          "x3": 974
         },
         {
          "x1": 405.68688725490193,
          "x2": "train",
          "x3": 975
         },
         {
          "x1": 393.0494217218137,
          "x2": "train",
          "x3": 976
         },
         {
          "x1": 431.8812806372549,
          "x2": "train",
          "x3": 977
         },
         {
          "x1": 409.10525811887254,
          "x2": "train",
          "x3": 978
         },
         {
          "x1": 405.3877336090686,
          "x2": "train",
          "x3": 979
         },
         {
          "x1": 432.53625727634807,
          "x2": "train",
          "x3": 980
         },
         {
          "x1": 405.1201363357843,
          "x2": "train",
          "x3": 981
         },
         {
          "x1": 426.248717064951,
          "x2": "train",
          "x3": 982
         },
         {
          "x1": 441.53742532169116,
          "x2": "train",
          "x3": 983
         },
         {
          "x1": 411.3509880514706,
          "x2": "train",
          "x3": 984
         },
         {
          "x1": 406.37800628063724,
          "x2": "train",
          "x3": 985
         },
         {
          "x1": 421.9706456801471,
          "x2": "train",
          "x3": 986
         },
         {
          "x1": 407.41112323835785,
          "x2": "train",
          "x3": 987
         },
         {
          "x1": 441.9333926930147,
          "x2": "train",
          "x3": 988
         },
         {
          "x1": 412.1534543504902,
          "x2": "train",
          "x3": 989
         },
         {
          "x1": 393.432799096201,
          "x2": "train",
          "x3": 990
         },
         {
          "x1": 437.315736060049,
          "x2": "train",
          "x3": 991
         },
         {
          "x1": 428.50538066789215,
          "x2": "train",
          "x3": 992
         },
         {
          "x1": 434.89924172794116,
          "x2": "train",
          "x3": 993
         },
         {
          "x1": 421.91915594362746,
          "x2": "train",
          "x3": 994
         },
         {
          "x1": 437.69443167892155,
          "x2": "train",
          "x3": 995
         },
         {
          "x1": 438.9815027573529,
          "x2": "train",
          "x3": 996
         },
         {
          "x1": 400.8502412683824,
          "x2": "train",
          "x3": 997
         },
         {
          "x1": 405.28986672794116,
          "x2": "train",
          "x3": 998
         },
         {
          "x1": 422.5962392769608,
          "x2": "train",
          "x3": 999
         },
         {
          "x1": 413.98389629289215,
          "x2": "train",
          "x3": 1000
         },
         {
          "x1": 416.1237840839461,
          "x2": "train",
          "x3": 1001
         }
        ]
       },
       "encoding": {
        "color": {
         "field": "x2"
        },
        "x": {
         "axis": {
          "labelFontSize": 20,
          "tickCount": 5,
          "titleFontSize": 20
         },
         "field": "x3",
         "title": "Epoch",
         "type": "quantitative"
        },
        "y": {
         "axis": {
          "labelFontSize": 20,
          "tickCount": 5,
          "titleFontSize": 20
         },
         "field": "x1",
         "title": "Loss",
         "type": "quantitative"
        }
       },
       "height": 500,
       "mark": "line",
       "width": 750
      },
      "image/png": "[encoded data removed]",
      "image/svg+xml": [
       "<?xml version=\"1.0\" encoding=\"utf-8\"?>\n",
       "<!DOCTYPE svg PUBLIC \"-//W3C//DTD SVG 1.1//EN\" \"http://www.w3.org/Graphics/SVG/1.1/DTD/svg11.dtd\">\n",
       "<svg xmlns=\"http://www.w3.org/2000/svg\" xmlns:xlink=\"http://www.w3.org/1999/xlink\" version=\"1.1\" class=\"marks\" width=\"895\" height=\"561\" viewBox=\"0 0 895 561\"><rect width=\"895\" height=\"561\" fill=\"white\"/><g fill=\"none\" stroke-miterlimit=\"10\" transform=\"translate(86,5)\"><g class=\"mark-group role-frame root\" role=\"graphics-object\" aria-roledescription=\"group mark container\"><g transform=\"translate(0,0)\"><path class=\"background\" aria-hidden=\"true\" d=\"M0.5,0.5h750v500h-750Z\" stroke=\"#ddd\"/><g><g class=\"mark-group role-axis\" aria-hidden=\"true\"><g transform=\"translate(0.5,500.5)\"><path class=\"background\" aria-hidden=\"true\" d=\"M0,0h0v0h0Z\" pointer-events=\"none\"/><g><g class=\"mark-rule role-axis-grid\" pointer-events=\"none\"><line transform=\"translate(0,-500)\" x2=\"0\" y2=\"500\" stroke=\"#ddd\" stroke-width=\"1\" opacity=\"1\"/><line transform=\"translate(136,-500)\" x2=\"0\" y2=\"500\" stroke=\"#ddd\" stroke-width=\"1\" opacity=\"1\"/><line transform=\"translate(273,-500)\" x2=\"0\" y2=\"500\" stroke=\"#ddd\" stroke-width=\"1\" opacity=\"1\"/><line transform=\"translate(409,-500)\" x2=\"0\" y2=\"500\" stroke=\"#ddd\" stroke-width=\"1\" opacity=\"1\"/><line transform=\"translate(545,-500)\" x2=\"0\" y2=\"500\" stroke=\"#ddd\" stroke-width=\"1\" opacity=\"1\"/><line transform=\"translate(682,-500)\" x2=\"0\" y2=\"500\" stroke=\"#ddd\" stroke-width=\"1\" opacity=\"1\"/></g></g><path class=\"foreground\" aria-hidden=\"true\" d=\"\" pointer-events=\"none\" display=\"none\"/></g></g><g class=\"mark-group role-axis\" aria-hidden=\"true\"><g transform=\"translate(0.5,0.5)\"><path class=\"background\" aria-hidden=\"true\" d=\"M0,0h0v0h0Z\" pointer-events=\"none\"/><g><g class=\"mark-rule role-axis-grid\" pointer-events=\"none\"><line transform=\"translate(0,500)\" x2=\"750\" y2=\"0\" stroke=\"#ddd\" stroke-width=\"1\" opacity=\"1\"/><line transform=\"translate(0,411)\" x2=\"750\" y2=\"0\" stroke=\"#ddd\" stroke-width=\"1\" opacity=\"1\"/><line transform=\"translate(0,321)\" x2=\"750\" y2=\"0\" stroke=\"#ddd\" stroke-width=\"1\" opacity=\"1\"/><line transform=\"translate(0,232)\" x2=\"750\" y2=\"0\" stroke=\"#ddd\" stroke-width=\"1\" opacity=\"1\"/><line transform=\"translate(0,143)\" x2=\"750\" y2=\"0\" stroke=\"#ddd\" stroke-width=\"1\" opacity=\"1\"/><line transform=\"translate(0,54)\" x2=\"750\" y2=\"0\" stroke=\"#ddd\" stroke-width=\"1\" opacity=\"1\"/></g></g><path class=\"foreground\" aria-hidden=\"true\" d=\"\" pointer-events=\"none\" display=\"none\"/></g></g><g class=\"mark-group role-axis\" role=\"graphics-symbol\" aria-roledescription=\"axis\" aria-label=\"X-axis titled 'Epoch' for a linear scale with values from 0 to 1,100\"><g transform=\"translate(0.5,500.5)\"><path class=\"background\" aria-hidden=\"true\" d=\"M0,0h0v0h0Z\" pointer-events=\"none\"/><g><g class=\"mark-rule role-axis-tick\" pointer-events=\"none\"><line transform=\"translate(0,0)\" x2=\"0\" y2=\"5\" stroke=\"#888\" stroke-width=\"1\" opacity=\"1\"/><line transform=\"translate(136,0)\" x2=\"0\" y2=\"5\" stroke=\"#888\" stroke-width=\"1\" opacity=\"1\"/><line transform=\"translate(273,0)\" x2=\"0\" y2=\"5\" stroke=\"#888\" stroke-width=\"1\" opacity=\"1\"/><line transform=\"translate(409,0)\" x2=\"0\" y2=\"5\" stroke=\"#888\" stroke-width=\"1\" opacity=\"1\"/><line transform=\"translate(545,0)\" x2=\"0\" y2=\"5\" stroke=\"#888\" stroke-width=\"1\" opacity=\"1\"/><line transform=\"translate(682,0)\" x2=\"0\" y2=\"5\" stroke=\"#888\" stroke-width=\"1\" opacity=\"1\"/></g><g class=\"mark-text role-axis-label\" pointer-events=\"none\"><text text-anchor=\"start\" transform=\"translate(0,23)\" font-family=\"sans-serif\" font-size=\"20px\" fill=\"#000\" opacity=\"1\">0</text><text text-anchor=\"middle\" transform=\"translate(136.36363636363637,23)\" font-family=\"sans-serif\" font-size=\"20px\" fill=\"#000\" opacity=\"1\">200</text><text text-anchor=\"middle\" transform=\"translate(272.72727272727275,23)\" font-family=\"sans-serif\" font-size=\"20px\" fill=\"#000\" opacity=\"1\">400</text><text text-anchor=\"middle\" transform=\"translate(409.09090909090907,23)\" font-family=\"sans-serif\" font-size=\"20px\" fill=\"#000\" opacity=\"1\">600</text><text text-anchor=\"middle\" transform=\"translate(545.4545454545455,23)\" font-family=\"sans-serif\" font-size=\"20px\" fill=\"#000\" opacity=\"1\">800</text><text text-anchor=\"middle\" transform=\"translate(681.8181818181818,23)\" font-family=\"sans-serif\" font-size=\"20px\" fill=\"#000\" opacity=\"1\">1,000</text></g><g class=\"mark-rule role-axis-domain\" pointer-events=\"none\"><line transform=\"translate(0,0)\" x2=\"750\" y2=\"0\" stroke=\"#888\" stroke-width=\"1\" opacity=\"1\"/></g><g class=\"mark-text role-axis-title\" pointer-events=\"none\"><text text-anchor=\"middle\" transform=\"translate(375,47)\" font-family=\"sans-serif\" font-size=\"20px\" font-weight=\"bold\" fill=\"#000\" opacity=\"1\">Epoch</text></g></g><path class=\"foreground\" aria-hidden=\"true\" d=\"\" pointer-events=\"none\" display=\"none\"/></g></g><g class=\"mark-group role-axis\" role=\"graphics-symbol\" aria-roledescription=\"axis\" aria-label=\"Y-axis titled 'Loss' for a linear scale with values from 0 to 2,800\"><g transform=\"translate(0.5,0.5)\"><path class=\"background\" aria-hidden=\"true\" d=\"M0,0h0v0h0Z\" pointer-events=\"none\"/><g><g class=\"mark-rule role-axis-tick\" pointer-events=\"none\"><line transform=\"translate(0,500)\" x2=\"-5\" y2=\"0\" stroke=\"#888\" stroke-width=\"1\" opacity=\"1\"/><line transform=\"translate(0,411)\" x2=\"-5\" y2=\"0\" stroke=\"#888\" stroke-width=\"1\" opacity=\"1\"/><line transform=\"translate(0,321)\" x2=\"-5\" y2=\"0\" stroke=\"#888\" stroke-width=\"1\" opacity=\"1\"/><line transform=\"translate(0,232)\" x2=\"-5\" y2=\"0\" stroke=\"#888\" stroke-width=\"1\" opacity=\"1\"/><line transform=\"translate(0,143)\" x2=\"-5\" y2=\"0\" stroke=\"#888\" stroke-width=\"1\" opacity=\"1\"/><line transform=\"translate(0,54)\" x2=\"-5\" y2=\"0\" stroke=\"#888\" stroke-width=\"1\" opacity=\"1\"/></g><g class=\"mark-text role-axis-label\" pointer-events=\"none\"><text text-anchor=\"end\" transform=\"translate(-7,506)\" font-family=\"sans-serif\" font-size=\"20px\" fill=\"#000\" opacity=\"1\">0</text><text text-anchor=\"end\" transform=\"translate(-7,416.7142857142857)\" font-family=\"sans-serif\" font-size=\"20px\" fill=\"#000\" opacity=\"1\">500</text><text text-anchor=\"end\" transform=\"translate(-7,327.4285714285714)\" font-family=\"sans-serif\" font-size=\"20px\" fill=\"#000\" opacity=\"1\">1,000</text><text text-anchor=\"end\" transform=\"translate(-7,238.14285714285714)\" font-family=\"sans-serif\" font-size=\"20px\" fill=\"#000\" opacity=\"1\">1,500</text><text text-anchor=\"end\" transform=\"translate(-7,148.85714285714286)\" font-family=\"sans-serif\" font-size=\"20px\" fill=\"#000\" opacity=\"1\">2,000</text><text text-anchor=\"end\" transform=\"translate(-7,59.57142857142855)\" font-family=\"sans-serif\" font-size=\"20px\" fill=\"#000\" opacity=\"1\">2,500</text></g><g class=\"mark-rule role-axis-domain\" pointer-events=\"none\"><line transform=\"translate(0,500)\" x2=\"0\" y2=\"-500\" stroke=\"#888\" stroke-width=\"1\" opacity=\"1\"/></g><g class=\"mark-text role-axis-title\" pointer-events=\"none\"><text text-anchor=\"middle\" transform=\"translate(-61,250) rotate(-90) translate(0,-4)\" font-family=\"sans-serif\" font-size=\"20px\" font-weight=\"bold\" fill=\"#000\" opacity=\"1\">Loss</text></g></g><path class=\"foreground\" aria-hidden=\"true\" d=\"\" pointer-events=\"none\" display=\"none\"/></g></g><g class=\"mark-group role-scope pathgroup\" role=\"graphics-object\" aria-roledescription=\"group mark container\"><g transform=\"translate(0,0)\"><path class=\"background\" aria-hidden=\"true\" d=\"M0,0h750v500h-750Z\"/><g><g class=\"mark-line role-mark marks\" role=\"graphics-object\" aria-roledescription=\"line mark container\"><path aria-label=\"Epoch: 1; Loss: 2393.51141827; x2: test\" role=\"graphics-symbol\" aria-roledescription=\"line mark\" d=\"M0.6818181818181818,72.58724673763733L1.3636363636363635,123.84805867960164L2.0454545454545454,36.292550223214256L2.727272727272727,53.034480168269226L3.4090909090909087,104.15296617445053L4.090909090909091,188.27277214972526L4.7727272727272725,110.22128262362635L5.454545454545454,53.79590380322807L6.136363636363637,89.57581237122253L6.8181818181818175,114.15411980597523L7.5,156.55053442651095L8.181818181818182,149.5367498712225L8.863636363636363,151.7426006610577L9.545454545454545,106.93238646119508L10.227272727272727,23.27121608859889L10.909090909090908,122.3359696943681L11.590909090909092,54.2906507554945L12.272727272727273,194.63770604395603L12.954545454545455,110.0652472527473L13.636363636363635,187.8636890453297L14.31818181818182,108.62975403502745L15,167.5995610834478L15.681818181818182,115.35258198832416L16.363636363636363,100.30163440075552L17.045454545454547,159.86931769402474L17.727272727272727,160.5799278846154L18.409090909090907,163.17618904532966L19.09090909090909,57.26492745535716L19.772727272727273,186.82378412603023L20.454545454545453,197.71859975961536L21.136363636363637,119.27361456902474L21.818181818181817,101.98955829326923L22.5,93.80451579670328L23.181818181818183,137.44315011160714L23.86363636363636,132.44840852506871L24.545454545454547,177.31029468578296L25.227272727272727,231.58246050824178L25.90909090909091,162.52267020089283L26.59090909090909,135.87820870535717L27.27272727272727,72.76635473901099L27.954545454545453,170.96685053228023L28.63636363636364,210.48972999656596L29.31818181818182,166.8739805116758L30,151.1286808894231L30.68181818181818,185.80029833447804L31.363636363636363,176.00701300652477L32.04545454545455,164.40327738667582L32.72727272727273,162.98452524038458L33.409090909090914,146.4955625429258L34.09090909090909,225.66092354910717L34.77272727272727,186.87135130494508L35.45454545454545,186.57481434581047L36.13636363636363,95.72689517513733L36.81818181818181,163.1668258499313L37.5,100.66693316449177L38.18181818181818,206.13232958447801L38.86363636363637,158.50602034684064L39.54545454545455,181.30545479910714L40.22727272727273,177.75382576407966L40.90909090909091,181.46521935096155L41.59090909090909,169.7170651614011L42.27272727272727,151.79408482142858L42.95454545454545,123.89219179258237L43.63636363636363,165.24770883413458L44.31818181818182,247.04922518887363L45,212.61359246222528L45.68181818181818,142.58628090659343L46.36363636363637,166.0846550910028L47.04545454545455,156.58404339800825L47.72727272727272,159.18572394402474L48.40909090909091,179.81761890453296L49.09090909090909,160.32435825892856L49.77272727272727,221.43474201579667L50.45454545454545,220.52259508070054L51.13636363636363,209.57570505666206L51.81818181818182,233.22182456215657L52.50000000000001,233.69403545673077L53.18181818181818,243.40696900755492L53.86363636363637,162.35373025412088L54.54545454545454,237.69711001888737L55.22727272727273,245.0070559323489L55.90909090909091,214.27627060439565L56.59090909090909,172.22506009615384L57.27272727272728,217.1165114182692L57.95454545454545,201.27317994505495L58.63636363636364,245.06964714972523L59.31818181818181,284.23857636504124L60,199.4287645947802L60.68181818181818,236.396967290522L61.36363636363636,308.9668693123283L62.04545454545455,268.3207685868819L62.72727272727273,296.572024167239L63.409090909090914,231.77788032280222L64.0909090909091,220.3949980683379L64.77272727272728,261.144778073489L65.45454545454545,281.5732046274038L66.13636363636364,251.76730983859892L66.81818181818183,245.19995385473902L67.5,205.52452674278848L68.18181818181819,258.9163107400412L68.86363636363636,285.3539636632898L69.54545454545455,186.6856434581044L70.22727272727273,237.20837268200552L70.9090909090909,247.7997563959478L71.5909090909091,213.5912817651099L72.27272727272727,202.48607593578294L72.95454545454545,202.37047132554946L73.63636363636363,242.00219458276095L74.31818181818181,216.5677047561813L75,210.889154790522L75.68181818181819,219.6767148866758L76.36363636363636,280.7288804945055L77.04545454545455,238.0221658224588L77.72727272727273,202.96944754464286L78.4090909090909,263.4886890453297L79.0909090909091,238.92621050824175L79.77272727272728,309.9586034083105L80.45454545454545,281.03647085336536L81.13636363636364,241.93836924793953L81.81818181818181,235.38373003949175L82.5,250.94018286401098L83.18181818181819,266.52370578640114L83.86363636363636,298.6141934237637L84.54545454545455,267.4607496995192L85.22727272727272,227.86508413461536L85.9090909090909,231.14346347012366L86.5909090909091,245.63865577781596L87.27272727272727,278.6199213384272L87.95454545454545,220.93779511504118L88.63636363636364,238.22442694024727L89.31818181818183,272.95667711195057L90,281.86972817221846L90.68181818181819,278.5865330958105L91.36363636363636,275.2659120664492L92.04545454545455,266.8197598300137L92.72727272727273,304.16172572544644L93.4090909090909,276.07171027214974L94.0909090909091,202.23544277987637L94.77272727272728,244.34248368818683L95.45454545454544,247.75913783482144L96.13636363636363,303.1388167496566L96.81818181818181,272.25513500171706L97.5,266.0478730254121L98.18181818181819,244.92638221153845L98.86363636363636,238.0636965573489L99.54545454545455,280.5120648394574L100.22727272727273,287.03610598385984L100.9090909090909,271.0128884787088L101.5909090909091,280.76287238152474L102.27272727272727,291.0841990041209L102.95454545454545,334.75367284083103L103.63636363636364,230.59068616929946L104.31818181818183,274.9458195612981L105.00000000000001,290.8285623068338L105.68181818181817,281.79448725103026L106.36363636363636,270.8144906850962L107.04545454545455,268.4602238581731L107.72727272727273,237.47113238324175L108.4090909090909,249.8172164749313L109.09090909090908,271.3810042496566L109.77272727272727,247.44864998282966L110.45454545454545,263.78796252575546L111.13636363636364,288.8100290822458L111.81818181818181,285.87236006181314L112.5,241.62203275240384L113.18181818181819,283.5682627918956L113.86363636363637,309.35741382640794L114.54545454545456,291.30658160199175L115.22727272727272,264.89711216517856L115.9090909090909,268.1792475103022L116.5909090909091,307.27434430803567L117.27272727272728,281.597658932864L117.95454545454547,312.3079069368132L118.63636363636363,204.36292711195054L119.31818181818181,257.7449991414835L120,306.13122961023356L120.68181818181819,249.35281271462912L121.36363636363636,299.12093277815933L122.04545454545455,235.5582771720467L122.72727272727272,304.6266794728709L123.4090909090909,309.61651141826917L124.0909090909091,267.9586087740385L124.77272727272727,263.8511708018544L125.45454545454545,255.91890775240384L126.13636363636364,301.14367809924454L126.81818181818183,274.0149864783654L127.50000000000001,261.6504711109203L128.1818181818182,280.28467870020603L128.86363636363637,284.5501239483173L129.54545454545456,296.7554247510302L130.22727272727272,282.1824696299794L130.9090909090909,279.65193863753433L131.5909090909091,277.5645362937844L132.27272727272728,299.34496533739696L132.95454545454547,296.0216212010646L133.63636363636365,255.84794599931314L134.3181818181818,286.0895513178228L135,273.9578146462912L135.6818181818182,285.14397589714974L136.36363636363637,278.61222151871567L137.04545454545456,308.0096770904876L137.72727272727272,271.68110941792577L138.4090909090909,276.5312178056319L139.0909090909091,334.97424450549454L139.77272727272728,271.9773512620192L140.45454545454547,259.3150379893544L141.13636363636363,271.8334692651099L141.8181818181818,260.3387384100275L142.5,303.2856633112981L143.1818181818182,291.1855441921359L143.86363636363635,263.83759550995876L144.54545454545453,249.9008413461538L145.22727272727272,318.2137223128434L145.9090909090909,297.16686877575546L146.5909090909091,314.02062049278845L147.27272727272725,307.85038203983515L147.95454545454544,301.5780069539835L148.63636363636363,276.47923731541897L149.3181818181818,312.02996222527474L150,304.37381953983515L150.6818181818182,267.04718621222526L151.36363636363637,282.97234503777474L152.04545454545453,270.51881224244505L152.72727272727272,281.4700082632212L153.4090909090909,324.09300416380495L154.0909090909091,267.47754442822804L154.77272727272728,305.62445001287773L155.45454545454547,290.88624388307005L156.13636363636365,316.52430943080356L156.8181818181818,315.31747671274036L157.5,282.4744725489354L158.1818181818182,307.11766504979397L158.86363636363637,280.5229706816621L159.54545454545456,283.0437628777472L160.22727272727272,282.4553034855769L160.9090909090909,297.788313980941L161.5909090909091,310.2692254035028L162.27272727272728,308.32732818938877L162.95454545454547,263.3830915178571L163.63636363636363,234.8797272063874L164.3181818181818,275.75581644917577L165,267.6166509271978L165.6818181818182,303.2681307949863L166.36363636363637,323.83027129120876L167.04545454545453,287.30062296102335L167.72727272727272,261.0107421875L168.4090909090909,311.9888339199863L169.0909090909091,245.0263457245879L169.77272727272725,290.2671059409341L170.45454545454544,311.14405370020603L171.13636363636363,295.2610560825893L171.8181818181818,308.4047556447459L172.5,277.57132393973217L173.1818181818182,284.70323499742443L173.86363636363635,289.4839108645261L174.54545454545453,308.8898442865728L175.22727272727272,305.0879979395604L175.9090909090909,301.83642041552196L176.5909090909091,300.24646130236954L177.27272727272728,319.2616489955357L177.95454545454547,315.5068734975962L178.63636363636365,290.3062086838942L179.31818181818184,274.3106917496566L180,248.4516923506181L180.6818181818182,305.0862943209135L181.36363636363637,283.3126126802885L182.04545454545456,230.51873175652477L182.72727272727272,285.4132013006525L183.4090909090909,272.8825227506868L184.0909090909091,275.8927095853365L184.77272727272728,315.75177873883933L185.45454545454547,338.0209048763736L186.13636363636363,322.7500295115041L186.8181818181818,333.8596486521291L187.5,315.1142900068681L188.1818181818182,298.3892755194025L188.86363636363637,258.9900090144231L189.54545454545456,286.06654575892856L190.22727272727275,275.70307134271974L190.90909090909088,275.82991715315933L191.59090909090907,275.9548715444712L192.27272727272725,251.51182069883237L192.95454545454544,313.749007340316L193.63636363636363,245.7513897235577L194.3181818181818,304.6006825206043L195,294.26645132211536L195.6818181818182,276.4592902214972L196.36363636363637,335.4150658911401L197.04545454545456,281.76253434065933L197.72727272727272,351.9312328296703L198.4090909090909,276.58826890882557L199.0909090909091,301.187744140625L199.77272727272728,321.0005607185783L200.45454545454547,299.99875246823495L201.13636363636365,303.83287366929943L201.8181818181818,283.6759663676167L202.5,291.304931640625L203.1818181818182,315.07867498712227L203.86363636363635,278.4323354867788L204.54545454545453,308.37502951150407L205.22727272727272,298.81540822458794L205.9090909090909,283.0574857271635L206.5909090909091,300.3949444110577L207.27272727272728,298.38522439474593L207.95454545454547,309.42555857228706L208.63636363636365,286.5239740728022L209.31818181818184,338.0031174879807L210.00000000000003,312.709223149897L210.68181818181816,278.68007114955356L211.36363636363635,320.306879399897L212.04545454545453,314.42220499227335L212.72727272727272,333.0984262319712L213.4090909090909,289.3561126373626L214.0909090909091,306.5525063315591L214.77272727272728,320.3297642299107L215.45454545454547,318.0767352764423L216.13636363636365,302.73936512706047L216.8181818181818,285.6217269059066L217.49999999999997,314.65672754979397L218.18181818181816,308.32589285714283L218.86363636363635,289.81727013221155L219.54545454545453,301.2523475060096L220.22727272727272,321.7072941706731L220.9090909090909,277.21583104395603L221.5909090909091,330.4379104781937L222.27272727272728,310.72925609546706L222.95454545454547,295.35264905992443L223.63636363636363,316.6601428356799L224.3181818181818,281.5631304730426L225,313.6743432348901L225.6818181818182,304.9184409340659L226.36363636363637,289.8953146462912L227.04545454545456,313.1648271162431L227.72727272727275,309.83622456644923L228.40909090909093,295.83964253519923L229.09090909090912,299.8935305417239L229.77272727272725,278.2535360147665L230.45454545454544,318.5319636418269L231.13636363636363,271.1423634958791L231.8181818181818,313.55973128434067L232.5,293.22888049450546L233.1818181818182,310.0493378691621L233.86363636363637,321.34465144230774L234.54545454545456,319.4817511589972L235.22727272727275,321.5442431104052L235.90909090909093,280.4062258542239L236.59090909090907,343.7266188401442L237.27272727272725,286.3106461409684L237.95454545454544,278.9391553270948L238.63636363636363,330.8091383713942L239.3181818181818,280.81305535285026L240,338.1437666337569L240.6818181818182,329.1531539749313L241.36363636363637,273.4497606885302L242.04545454545456,313.86517535199175L242.72727272727272,314.3941422347184L243.4090909090909,340.4577100145948L244.0909090909091,290.98438304859206L244.77272727272728,298.2169685782967L245.45454545454544,320.81530895861954L246.13636363636363,269.15006868131866L246.8181818181818,300.2071573446085L247.5,302.7707814646291L248.1818181818182,330.1891284984547L248.86363636363637,277.17090648609206L249.54545454545453,281.94385570484206L250.22727272727272,289.6764197716346L250.9090909090909,281.90056769402474L251.5909090909091,313.060799064217L252.27272727272728,302.2798844222184L252.95454545454547,306.95682735233515L253.63636363636365,300.30517578125L254.31818181818184,310.7881047175481L255.00000000000003,335.4025369162088L255.68181818181816,329.85623873197113L256.3636363636364,324.10427219265114L257.04545454545456,346.4474587912088L257.72727272727275,327.88440075549454L258.40909090909093,293.1056297218406L259.0909090909091,328.8140936212225L259.77272727272725,304.01101583962907L260.45454545454544,300.9071165650755L261.1363636363636,307.53919664320057L261.8181818181818,316.64006159855774L262.5,303.251470209478L263.1818181818182,328.51932735233515L263.8636363636364,303.31819303743134L264.54545454545456,345.4760071471497L265.22727272727275,311.1320076407967L265.90909090909093,271.59107250171706L266.5909090909091,288.2855559967377L267.2727272727273,310.37317296960856L267.9545454545455,328.6439597999656L268.6363636363636,325.919430910886L269.3181818181818,315.01150948660717L270,331.59743088942304L270.6818181818182,316.535403073489L271.3636363636364,300.91920286744505L272.04545454545456,330.4074868003091L272.72727272727275,298.9340578854739L273.40909090909093,326.973635495364L274.0909090909091,272.1264916723901L274.7727272727273,335.4246168870192L275.45454545454544,315.1701874785371L276.1363636363636,299.4527896419986L276.8181818181818,331.75773201407964L277.5,323.33050738324175L278.1818181818182,331.7624001974588L278.8636363636364,329.62764530391485L279.54545454545456,339.77667839972526L280.22727272727275,342.8055513822116L280.90909090909093,290.6237658825549L281.59090909090907,355.74776785714283L282.27272727272725,331.87728043440933L282.95454545454544,356.01763714800825L283.6363636363636,324.92231767256186L284.3181818181818,324.69514616243134L285,327.5014353322459L285.6818181818182,307.44576590401783L286.3636363636364,325.7454874227335L287.04545454545456,313.5415414663462L287.7272727272727,308.11924525669644L288.4090909090909,343.27122950291897L289.09090909090907,245.07450313358515L289.77272727272725,332.81282194368134L290.45454545454544,308.08143028846155L291.1363636363636,312.5808615212912L291.8181818181818,323.69234525240387L292.5,355.42941921359886L293.1818181818182,308.90108548677887L293.8636363636364,342.06217000772665L294.5454545454545,274.1952749399038L295.2272727272727,337.458013178228L295.9090909090909,334.6449766054258L296.59090909090907,341.14110254979397L297.27272727272725,302.5160703554258L297.95454545454544,311.66592440762366L298.6363636363636,332.6788665436126L299.3181818181818,330.50527719350964L300,348.1156099759616L300.6818181818182,320.17694829584474L301.3636363636364,314.4577126974588L302.04545454545456,321.58486167153154L302.72727272727275,356.2695849072802L303.4090909090909,335.75817736950546L304.09090909090907,342.4717091990042L304.77272727272725,311.17426274896974L305.45454545454544,315.42316814045336L306.1363636363636,343.16879775497944L306.8181818181818,306.97311233688185L307.5,316.19740245106453L308.1818181818182,365.32604846325546L308.8636363636364,306.77044878949175L309.54545454545456,296.67184012276783L310.22727272727275,324.4500397063874L310.90909090909093,343.921126480941L311.5909090909091,347.04548259357824L312.2727272727273,328.04356166294644L312.9545454545455,346.36498755151104L313.6363636363636,336.32026420844784L314.3181818181818,344.80008638822113L315,351.25112680288464L315.6818181818182,344.9592472956731L316.3636363636364,322.04085465315933L317.04545454545456,339.45733709649727L317.72727272727275,326.95818219866067L318.40909090909093,361.1271248282967L319.0909090909091,316.8920227721498L319.7727272727273,337.2978327824519L320.45454545454544,327.55324143629804L321.1363636363636,300.6697770003434L321.8181818181818,338.35120567908655L322.5,308.9586597484547L323.1818181818182,326.0205346411401L323.8636363636364,333.6936330271291L324.54545454545456,329.77903932005495L325.22727272727275,320.9662737165179L325.90909090909093,330.7021189259959L326.59090909090907,324.67988066620876L327.27272727272725,318.6034619677198L327.95454545454544,342.10370074261675L328.6363636363636,306.25515109890114L329.3181818181818,333.42696975875685L330,348.70856316535026L330.6818181818182,329.1493577223558L331.3636363636364,319.0679193853022L332.04545454545456,327.94151893028845L332.72727272727275,343.69062821943686L333.4090909090909,340.46911218664144L334.09090909090907,342.9439200935783L334.77272727272725,321.4619596711882L335.45454545454544,319.94195623712227L336.1363636363636,322.10827502575546L336.8181818181818,334.7076080657624L337.5,333.99246383499315L338.1818181818182,319.07191685267856L338.8636363636364,329.6634749527816L339.5454545454545,314.79527064732144L340.2272727272727,358.759282709478L340.9090909090909,334.8683116200206L341.59090909090907,334.14705045930634L342.27272727272725,344.3208195612981L342.95454545454544,311.7352361993475L343.6363636363636,341.57633016397665L344.3181818181818,330.69024725274727L345,342.979508284684L345.6818181818182,334.17417421445737L346.3636363636364,345.5251706301511L347.0454545454545,325.8538885430975L347.7272727272727,323.96283160199175L348.4090909090909,350.3485040350275L349.09090909090907,349.78876470209474L349.77272727272725,354.2799729567308L350.45454545454544,342.62979696085165L351.1363636363636,329.049300309066L351.8181818181818,332.1175309065934L352.5,373.129386482658L353.1818181818182,349.2085282881181L353.8636363636364,343.08934473729397L354.54545454545456,344.8843417324863L355.22727272727275,370.3175571986607L355.90909090909093,337.72093385130495L356.5909090909091,334.29317264766485L357.2727272727273,328.3348267942995L357.9545454545455,334.7177895346841L358.6363636363637,349.54903738839283L359.3181818181818,356.9391338641827L360,347.5586876502404L360.6818181818182,336.3673887148008L361.3636363636364,358.07249635130495L362.04545454545456,324.4946825635302L362.72727272727275,358.33219758756866L363.40909090909093,344.85521924364696L364.0909090909091,324.10758552970464L364.7727272727273,341.8169830657624L365.45454545454544,352.546145260989L366.1363636363636,326.76862444196433L366.8181818181818,344.5132479824863L367.5,331.91526978880495L368.1818181818182,350.99232432606453L368.8636363636364,340.70354084392176L369.54545454545456,334.3729073660714L370.22727272727275,330.27846787002056L370.90909090909093,348.7089119376717L371.5909090909091,354.67741243131866L372.27272727272725,364.1611757383242L372.95454545454544,349.62242713341345L373.6363636363636,363.32718063186815L374.3181818181818,330.29173463255495L375,346.01715423248623L375.68181818181813,329.0172534984547L376.3636363636364,362.2572008070055L377.0454545454545,350.29461871136675L377.72727272727275,314.10372220552887L378.4090909090909,341.1056753305288L379.0909090909091,340.85667872166897L379.77272727272725,350.3624146849245L380.4545454545455,338.1831779060783L381.1363636363636,352.86568777901783L381.81818181818176,355.6912130837912L382.5,379.87414684924454L383.18181818181813,354.16534759186123L383.8636363636364,327.1571836366758L384.5454545454545,346.58393608344784L385.22727272727275,334.5795683808379L385.9090909090909,347.5601229824863L386.5909090909091,359.0446991972871L387.27272727272725,344.6793440934066L387.95454545454544,354.5262732872596L388.6363636363636,346.23176993904536L389.3181818181818,325.86393586881866L390,335.2594866071429L390.68181818181813,329.5542421445742L391.3636363636364,370.31579992273356L392.0454545454545,339.49568863753433L392.72727272727275,342.6672094994849L393.4090909090909,353.1932788890797L394.0909090909091,361.47624592204676L394.77272727272725,357.3676274896978L395.45454545454544,358.6054204584478L396.1363636363636,356.8565418956044L396.8181818181818,344.1325495793269L397.5,329.3180159684066L398.1818181818182,361.1914867359203L398.8636363636364,361.81342827094784L399.54545454545456,366.33903084220464L400.22727272727275,357.3004083319025L400.90909090909093,316.71390743046015L401.59090909090907,366.0381074004121L402.2727272727273,356.3417673634959L402.95454545454544,356.4945296402816L403.6363636363636,336.91007844694366L404.3181818181818,355.9375670716003L405,381.80389068938877L405.6818181818182,341.5924675910027L406.3636363636364,360.0475805932349L407.04545454545456,334.04248583447804L407.7272727272727,349.6254453554258L408.40909090909093,360.53207900497944L409.09090909090907,336.7784839672047L409.7727272727273,372.9965042281937L410.45454545454544,358.2915253691621L411.1363636363637,342.3225285456731L411.8181818181818,339.89527440333103L412.50000000000006,372.4840503734547L413.1818181818182,346.1602984417926L413.8636363636363,358.1301108559409L414.54545454545456,350.0602034684066L415.2272727272727,357.6759556361607L415.90909090909093,344.9769541981456L416.59090909090907,357.7719485104739L417.2727272727273,358.2187795115042L417.95454545454544,361.4822689517514L418.6363636363637,373.08719844608515L419.3181818181818,334.16827191363325L420.00000000000006,363.808835207761L420.6818181818182,336.59089811555634L421.3636363636363,360.0677423162775L422.04545454545456,356.38952234289144L422.7272727272727,358.7742262620193L423.40909090909093,360.47469254378433L424.09090909090907,364.652327652816L424.7727272727273,368.56973836710165L425.45454545454544,366.3509830013736L426.1363636363637,355.14393565418953L426.8181818181818,350.6413118131868L427.49999999999994,362.3802906078297L428.1818181818182,349.4626089242788L428.8636363636363,368.17346593835856L429.54545454545456,367.4554376287775L430.2272727272727,350.0860931061126L430.90909090909093,329.88740019745876L431.59090909090907,362.71012190934067L432.2727272727273,331.32864815848217L432.95454545454544,358.75272310697113L433.6363636363636,366.1763017256181L434.3181818181818,356.0947963169643L434.99999999999994,352.3080410800137L435.6818181818182,351.5621646419986L436.3636363636363,386.85452974759613L437.04545454545456,365.20428668011675L437.7272727272727,368.4162114740728L438.40909090909093,353.8422100360577L439.09090909090907,371.5288837139423L439.77272727272725,355.0363393930288L440.45454545454544,349.1840337396978L441.1363636363636,343.1980007297391L441.8181818181818,377.62518243475273L442.5,375.02870664491763L443.1818181818182,368.84563068767176L443.8636363636364,371.6986285199176L444.54545454545456,356.5388639680632L445.22727272727275,347.83991887019226L445.90909090909093,380.46901828640114L446.5909090909091,372.3862063229739L447.27272727272725,347.47687371222526L447.95454545454544,368.8698435353709L448.6363636363636,372.27992466517856L449.3181818181818,382.1082750257555L450,369.6454326923077L450.6818181818182,383.90905359289144L451.3636363636364,349.27279629550134L452.04545454545456,386.72948145604397L452.72727272727275,379.92021162431314L453.4090909090909,368.82147149725273L454.0909090909091,378.70044750171706L454.77272727272725,381.99774102850273L455.4545454545455,372.48256138392856L456.1363636363636,368.6597484546703L456.81818181818187,354.16093428056314L457.5,372.37386514852335L458.18181818181824,354.65380322802196L458.8636363636364,366.9564651656937L459.5454545454545,368.78659426510984L460.22727272727275,358.21314549708103L460.9090909090909,376.0781625600962L461.5909090909091,370.23854685353706L462.27272727272725,378.69105747767856L462.9545454545455,342.1820940290179L463.6363636363636,355.18726390796706L464.31818181818187,368.3737551510989L465,369.6796660370879L465.68181818181813,383.6251797518887L466.3636363636364,355.53674718835856L467.0454545454545,387.2475961538462L467.72727272727275,373.8628412603022L468.4090909090909,358.4982132125687L469.0909090909091,350.98493303571433L469.77272727272725,384.03673109117443L470.4545454545455,384.7798173506181L471.1363636363636,380.9146419986264L471.81818181818187,381.0778540307349L472.5,367.8794106284341L473.18181818181813,371.91568563272665L473.8636363636364,363.30082149296015L474.5454545454545,360.3990760216346L475.22727272727275,362.17971969436815L475.9090909090909,362.6869151356456L476.5909090909091,386.5890469393887L477.27272727272725,378.08007544213604L477.9545454545455,329.7930438701923L478.6363636363636,354.54998980511675L479.31818181818176,377.71956559065933L480,370.2163998111264L480.68181818181813,392.3615440955529L481.3636363636364,375.58526678399727L482.0454545454545,371.7936555631868L482.72727272727275,373.9051366114354L483.4090909090909,375.17788729824866L484.0909090909091,370.9579568380838L484.77272727272725,378.2114016354739L485.45454545454544,379.82075785542577L486.1363636363636,365.56097345037773L486.8181818181818,356.61704262534346L487.5,371.38343224158655L488.1818181818182,384.22210358001377L488.8636363636364,364.7295673076923L489.54545454545456,375.02941760388046L490.22727272727275,387.0231745793269L490.9090909090909,375.8131894960508L491.59090909090907,363.0104282924107L492.27272727272725,380.03851251287773L492.95454545454544,390.92791546832075L493.6363636363636,379.6813696557349L494.3181818181818,360.16887287517176L495,357.9372263478708L495.6818181818182,390.660641848386L496.3636363636364,390.53847763564556L497.04545454545456,376.4188997038118L497.72727272727275,366.8193574004121L498.40909090909093,376.66499881953985L499.09090909090907,378.0047808636676L499.7727272727273,395.2422559130323L500.45454545454544,363.4259234417926L501.1363636363637,396.0519308572287L501.8181818181818,369.2586978451236L502.50000000000006,388.27896285843065L503.1818181818182,372.8728912688873L503.8636363636364,377.1898206773695L504.54545454545456,349.86349587912093L505.2272727272727,391.9704160585508L505.90909090909093,359.76192264766485L506.59090909090907,379.49610448145603L507.2727272727273,368.3893291766827L507.95454545454544,380.46825367015794L508.6363636363637,387.7881127661401L509.3181818181818,380.7256878863324L510.00000000000006,383.4392975188874L510.6818181818182,378.2259830013736L511.3636363636363,390.5916251717033L512.0454545454545,382.3101739569025L512.7272727272727,364.9723128434066L513.4090909090909,383.18653148609206L514.0909090909091,377.40361811040526L514.7727272727273,394.3850875686813L515.4545454545455,383.4150846711882L516.1363636363636,386.0294015066964L516.8181818181819,389.5146296574519L517.5,376.98269016140114L518.1818181818182,384.9427610963255L518.8636363636364,367.02164534684067L519.5454545454545,390.33540495149384L520.2272727272727,386.25783396291206L520.9090909090909,377.9674085679945L521.5909090909091,396.0190926017342L522.2727272727273,373.3493679172391L522.9545454545455,392.54409287002056L523.6363636363636,395.9823776077438L524.3181818181819,357.7658852378091L525,393.50453135731453L525.6818181818182,376.9407435825893L526.3636363636364,375.03821739783655L527.0454545454546,377.628898201408L527.7272727272727,383.5837697458792L528.409090909091,373.640378176511L529.0909090909091,395.8359200613839L529.7727272727274,371.7607904790522L530.4545454545455,382.06934666895603L531.1363636363636,381.92357325291897L531.8181818181819,372.7227447845124L532.5,392.12024730640456L533.1818181818182,395.0509744162088L533.8636363636364,359.7844989483173L534.5454545454546,380.25582449776783L535.2272727272727,369.1821959778503L535.909090909091,397.2377634572459L536.5909090909091,372.0582261976305L537.2727272727273,373.5644262963599L537.9545454545455,356.82088663289835L538.6363636363636,379.09547239869505L539.3181818181819,395.7418923849588L540,388.1006932520604L540.6818181818182,354.8355136074863L541.3636363636364,384.4398179945055L542.0454545454546,371.75119924021294L542.7272727272727,386.1015437199519L543.4090909090909,388.8105790693681L544.0909090909091,380.66379421359886L544.7727272727273,386.63802262190933L545.4545454545455,374.90856799450546L546.1363636363636,381.0305685525412L546.8181818181819,367.64802702180634L547.5,384.9557864010989L548.1818181818182,376.9305621136676L548.8636363636364,382.23726712740387L549.5454545454546,371.0365110963255L550.2272727272727,392.5342333447802L550.9090909090909,393.52826128949175L551.5909090909091,391.75741007039835L552.2727272727273,387.28200388478706L552.9545454545455,382.4791004893544L553.6363636363636,382.9990797776442L554.3181818181819,364.42154769059067L555,367.6754458919986L555.6818181818182,356.1576155777816L556.3636363636364,383.2061968792926L557.0454545454545,382.01917711195057L557.7272727272727,377.56803743131866L558.4090909090909,394.4186569046188L559.0909090909091,385.99024510645603L559.7727272727273,387.84649859417925L560.4545454545455,401.41529125171706L561.1363636363636,358.39879968664144L561.8181818181819,411.857668698489L562.5,381.03381481799454L563.1818181818181,391.9065504807692L563.8636363636364,380.3647085336538L564.5454545454545,365.43974824004124L565.2272727272727,369.4910204541552L565.9090909090909,380.4887507512019L566.5909090909091,377.7286068423764L567.2727272727273,385.20223428914835L567.9545454545455,396.7531979739011L568.6363636363636,392.42422921316967L569.3181818181818,391.66499881953985L570,388.265139401614L570.6818181818181,389.03630854009276L571.3636363636364,406.4581097613325L572.0454545454545,364.48081215659346L572.7272727272727,382.0725795200893L573.4090909090909,387.802734375L574.0909090909091,397.40299434452265L574.7727272727273,382.1978156121222L575.4545454545454,393.82779634915863L576.1363636363636,378.48215627146294L576.8181818181818,389.39815311641485L577.5,391.3793677026099L578.1818181818181,392.3226626888736L578.8636363636364,383.00443209134613L579.5454545454545,410.85205748841L580.2272727272727,384.6637029962225L580.9090909090909,402.9981139466003L581.5909090909091,407.3449505816449L582.2727272727273,392.6911473536229L582.9545454545454,393.23399135044644L583.6363636363636,387.0725258628091L584.3181818181818,384.51138339199866L585,376.4255263779189L585.6818181818181,371.41597538203985L586.3636363636364,381.27073853880495L587.0454545454545,375.66121866414835L587.7272727272727,388.6935726626889L588.4090909090909,399.51809055202614L589.090909090909,396.53493357228706L589.7727272727273,393.4871329842033L590.4545454545454,407.8923755687672L591.1363636363636,400.75470976777126L591.8181818181818,404.1153255923764L592.5,406.77722302111954L593.1818181818181,390.2775556962569L593.8636363636364,409.17078709864353L594.5454545454545,396.6064251910199L595.2272727272726,396.92442506224245L595.9090909090909,384.61679311899036L596.590909090909,401.524410038204L597.2727272727273,416.3050523695055L597.9545454545454,396.3458989740728L598.6363636363636,387.12620997166897L599.3181818181818,409.6360158396291L600,398.8953039148352L600.6818181818181,398.5634336366758L601.3636363636364,394.78377457503433L602.0454545454545,400.62934623969784L602.7272727272727,386.2232250171703L603.4090909090909,397.5185117616758L604.0909090909091,396.6683591067136L604.7727272727273,395.90044964800825L605.4545454545455,382.6650095509959L606.1363636363636,405.08654248583446L606.8181818181818,399.6746893243475L607.5,401.1773413354224L608.1818181818181,408.72246040092716L608.8636363636364,398.44622601519575L609.5454545454545,412.3099190848214L610.2272727272727,393.1085875794128L610.9090909090909,402.455558357658L611.5909090909091,396.24754517942995L612.2727272727273,400.143553346068L612.9545454545455,405.7210532387535L613.6363636363636,388.1359058422047L614.3181818181819,392.4795431619162L615,386.6280826107486L615.6818181818182,393.74832320999315L616.3636363636364,383.4069555932349L617.0454545454546,394.9888527000344L617.7272727272727,370.65730168269226L618.409090909091,386.53184827867443L619.0909090909091,385.7842011504121L619.7727272727273,382.8845080700549L620.4545454545455,395.72938353150755L621.1363636363636,390.9059361049107L621.8181818181819,390.7930411873283L622.5,397.7576622596154L623.1818181818182,395.67611526656935L623.8636363636364,402.63455904447113L624.5454545454546,385.0402027172047L625.2272727272727,400.48868367960165L625.909090909091,412.289301274897L626.5909090909091,397.4011029253949L627.2727272727273,377.6549756395948L627.9545454545455,396.5445046896463L628.6363636363636,403.98037082546364L629.3181818181819,390.0341595660199L630,401.9898802369505L630.6818181818182,387.6175161508413L631.3636363636364,391.075446160285L632.0454545454546,404.0502393114698L632.7272727272727,403.4696205893715L633.409090909091,403.7130636697287L634.0909090909091,396.60476852249315L634.7727272727273,395.8523458962912L635.4545454545455,400.82783122639074L636.1363636363636,401.2384100274725L636.8181818181819,397.3502760667067L637.5,402.967522589715L638.1818181818182,400.01908187027817L638.8636363636364,398.7147404597356L639.5454545454546,401.06857132125685L640.2272727272727,393.97226857615044L640.9090909090909,410.174802004636L641.5909090909091,400.8848689152644L642.2727272727273,409.7819971776271L642.9545454545455,412.32056334778497L643.6363636363636,412.45413643973217L644.3181818181819,424.8670372596154L645,406.1839613023695L645.6818181818182,409.00650192093065L646.3636363636364,397.4664306640625L647.0454545454545,413.3180857228709L647.7272727272727,392.83001910199175L648.4090909090909,412.3039698338771L649.0909090909091,411.6264460637019L649.7727272727273,388.99443574004124L650.4545454545455,389.8762394831731L651.1363636363636,399.2273150433551L651.8181818181819,388.5279460529705L652.5,418.77232813573147L653.1818181818181,400.8093999506353L653.8636363636364,412.4064015818166L654.5454545454545,408.17717499785374L655.2272727272727,397.28164840530565L655.9090909090909,409.07830206902474L656.5909090909091,404.7284673334478L657.2727272727273,412.38623315161396L657.9545454545455,408.8143149575034L658.6363636363636,421.18031931447456L659.3181818181819,410.0648247016655L660,396.17427616328985L660.6818181818181,415.53240765582075L661.3636363636364,402.64500879979397L662.0454545454545,412.71632603236606L662.7272727272727,400.966072501717L663.4090909090909,403.51927369505495L664.0909090909091,406.8298742273352L664.7727272727273,411.58684699089974L665.4545454545455,406.261710701408L666.1363636363636,401.874275626717L666.8181818181818,409.064445076408L667.5,411.31949959220464L668.1818181818181,398.3626480940934L668.8636363636364,419.2936287345467L669.5454545454545,394.37662313272665L670.2272727272727,405.2112151764251L670.9090909090909,412.0866980919471L671.5909090909091,400.4174536401099L672.2727272727273,408.03065037989353L672.9545454545454,399.28682096711884L673.6363636363636,392.94561700506523L674.3181818181818,395.22348257211536L675,388.2762598729396L675.6818181818181,401.47946535885984L676.3636363636364,398.9019440032624L677.0454545454545,409.62245396205356L677.7272727272727,399.46603628305286L678.4090909090909,408.0643806876717L679.090909090909,400.40497161529873L679.7727272727273,414.8391220595811L680.4545454545454,399.3245084993132L681.1363636363636,399.0855055588942L681.8181818181818,409.28338690118477L682.5,403.5471888950893\" stroke=\"#4c78a8\" stroke-width=\"2\"/></g></g><path class=\"foreground\" aria-hidden=\"true\" d=\"\" display=\"none\"/></g><g transform=\"translate(0,0)\"><path class=\"background\" aria-hidden=\"true\" d=\"M0,0h750v500h-750Z\"/><g><g class=\"mark-line role-mark marks\" role=\"graphics-object\" aria-roledescription=\"line mark container\"><path aria-label=\"Epoch: 1; Loss: 2158.34466912; x2: train\" role=\"graphics-symbol\" aria-roledescription=\"line mark\" d=\"M0.6818181818181818,114.58130908613451L1.3636363636363635,115.36303779324231L2.0454545454545454,121.05605523459384L2.727272727272727,135.0019285057773L3.4090909090909087,135.05599505427168L4.090909090909091,133.0099461659664L4.7727272727272725,112.27388611694683L5.454545454545454,188.48490568102244L6.136363636363637,142.7756942620798L6.8181818181818175,141.474390537465L7.5,158.86684556635154L8.181818181818182,166.12953677564772L8.863636363636363,138.7529543067227L9.545454545454545,147.23526129201682L10.227272727272727,139.29202638086485L10.909090909090908,121.3936941964286L11.590909090909092,128.69709602591033L12.272727272727273,166.39309239320733L12.954545454545455,150.74768579306723L13.636363636363635,156.4421256783964L14.31818181818182,147.17191466430324L15,147.28838410364148L15.681818181818182,132.35776927958682L16.363636363636363,173.48699831495102L17.045454545454547,183.31923198967087L17.727272727272727,158.2230528930322L18.409090909090907,155.88421989889707L19.09090909090909,153.70203354779412L19.772727272727273,149.0623905812325L20.454545454545453,141.171656162465L21.136363636363637,179.77521281950283L21.818181818181817,162.04104297969184L22.5,192.41890701593138L23.181818181818183,169.58063889618347L23.86363636363636,206.18213984812678L24.545454545454547,172.80490907300415L25.227272727272727,168.27378216911765L25.90909090909091,186.15383458070727L26.59090909090909,218.41422115721292L27.27272727272727,167.6683407738095L27.954545454545453,180.10806471025913L28.63636363636364,186.6760082939426L29.31818181818182,178.99608280812325L30,195.70100501137955L30.68181818181818,210.99852147890408L31.363636363636363,207.90768065038517L32.04545454545455,195.37953267244396L32.72727272727273,205.34871077337186L33.409090909090914,188.7199919030112L34.09090909090909,161.34446942839637L34.77272727272727,220.4784335609244L35.45454545454545,192.2111276151085L36.13636363636363,173.64040342699582L36.81818181818181,218.4375820640756L37.5,199.27029991684176L38.18181818181818,217.27397501969537L38.86363636363637,215.63276189382003L39.54545454545455,204.1253747592787L40.22727272727273,180.6390945049895L40.90909090909091,232.92574842436974L41.59090909090909,211.3464799982493L42.27272727272727,204.26442549676122L42.95454545454545,180.0970407694328L43.63636363636363,224.3694675135679L44.31818181818182,201.65911677170868L45,191.94632735906865L45.68181818181818,204.34690673144257L46.36363636363637,202.73498364189425L47.04545454545455,211.9567221419818L47.72727272727272,230.07573146446074L48.40909090909091,221.77075810793067L49.09090909090909,233.62122094931726L49.77272727272727,227.27121903448878L50.45454545454545,183.59245065213585L51.13636363636363,226.0947005755427L51.81818181818182,204.54205510329132L52.50000000000001,221.86547372855392L53.18181818181818,228.01034280899862L53.86363636363637,217.23954913996846L54.54545454545454,230.00938949798672L55.22727272727273,233.116123402486L55.90909090909091,216.39902836134456L56.59090909090909,241.65026752888653L57.27272727272728,227.56300469406509L57.95454545454545,223.76274728641454L58.63636363636364,205.25932931766454L59.31818181818181,235.63377401741948L60,232.55112591911765L60.68181818181818,237.61752943364846L61.36363636363636,240.00250979297965L62.04545454545455,220.83557641806723L62.72727272727273,223.5795734309349L63.409090909090914,234.60403399641106L64.0909090909091,242.9091578037465L64.77272727272728,219.11591003588939L65.45454545454545,256.35175945378154L66.13636363636364,224.57542782738093L66.81818181818183,267.78493330926125L67.5,229.2037185968137L68.18181818181819,241.25683867296917L68.86363636363636,234.7016150210084L69.54545454545455,233.73719800420167L70.22727272727273,215.7758748030462L70.9090909090909,225.22467776172965L71.5909090909091,262.4607391784839L72.27272727272727,240.40660014005604L72.95454545454545,243.43172816001402L73.63636363636363,241.9623708858543L74.31818181818181,242.2686066614146L75,249.21249261423318L75.68181818181819,248.5836219253326L76.36363636363636,260.3893872001926L77.04545454545455,243.88684868478643L77.72727272727273,232.00862766981788L78.4090909090909,241.16504316570382L79.0909090909091,241.66607854079132L79.77272727272728,246.68409844406514L80.45454545454545,264.75195449273457L81.13636363636364,236.20113768163515L81.81818181818181,229.70998555672267L82.5,239.21513234199932L83.18181818181819,240.33280402004547L83.86363636363636,257.72326215642505L84.54545454545455,261.1083642441352L85.22727272727272,244.55980829831935L85.9090909090909,248.90387698047965L86.5909090909091,272.49766117384456L87.27272727272727,242.9868040966387L87.95454545454545,254.3822284773284L88.63636363636364,242.7652447697829L89.31818181818183,258.2524523481268L90,254.13913416929267L90.68181818181819,274.3739878764006L91.36363636363636,271.2266596091562L92.04545454545455,255.40042481836483L92.72727272727273,279.96464406074927L93.4090909090909,241.96993445815824L94.0909090909091,277.66938025210084L94.77272727272728,257.5571507900035L95.45454545454544,254.9233384760154L96.13636363636363,250.1552310377276L96.81818181818181,274.02119441526605L97.5,268.8763649991247L98.18181818181819,256.36221578475136L98.86363636363636,274.8669809720763L99.54545454545455,262.8734188988095L100.22727272727273,249.4188906031163L100.9090909090909,270.12611880689775L101.5909090909091,274.1932622658438L102.27272727272727,255.94616459865193L102.95454545454545,262.3739153864671L103.63636363636364,281.39141007965685L104.31818181818183,294.6875136773459L105.00000000000001,286.8541830794818L105.68181818181817,252.3701336003151L106.36363636363636,255.2803445596989L107.04545454545455,267.71692270658264L107.72727272727273,276.73499868697485L108.4090909090909,262.3847683604692L109.09090909090908,256.47051984856444L109.77272727272727,263.61396511729697L110.45454545454545,272.6269668023459L111.13636363636364,261.4130476409314L111.81818181818181,280.885785955007L112.5,269.6679140406163L113.18181818181819,267.09868615414916L113.86363636363637,260.81512194721637L114.54545454545456,271.7239405527836L115.22727272727272,273.282802378764L115.9090909090909,286.4130476409313L116.5909090909091,265.1354604341737L117.27272727272728,281.00745962447485L117.95454545454547,270.95623112526255L118.63636363636363,290.8294352897409L119.31818181818181,268.73278706013656L120,270.1904296875L120.68181818181819,287.6440019367122L121.36363636363636,275.1170644038865L122.04545454545455,300.425256039916L122.72727272727272,275.2635282628676L123.4090909090909,279.64000541622903L124.0909090909091,288.80418964460785L124.77272727272727,248.37091867997196L125.45454545454545,265.4422022715336L126.13636363636364,257.28486902573525L126.81818181818183,293.6370524772409L127.50000000000001,267.3633975074405L128.1818181818182,263.11932390143556L128.86363636363637,280.9287806919643L129.54545454545456,257.6868051908263L130.22727272727272,269.4838101256127L130.9090909090909,293.0408090970763L131.5909090909091,287.94380252100837L132.27272727272728,275.8556821165966L132.95454545454547,269.57676820728295L133.63636363636365,287.6026416425945L134.3181818181818,268.32794445903363L135,301.3788611147584L135.6818181818182,290.2872721354167L136.36363636363637,284.42444360556726L137.04545454545456,277.8329476321779L137.72727272727272,278.11998041404064L138.4090909090909,268.58250722163865L139.0909090909091,282.59530374649864L139.77272727272728,262.2819899444153L140.45454545454547,286.09814042804624L141.13636363636363,267.9603521095938L141.8181818181818,266.5925491290266L142.5,279.73636231836485L143.1818181818182,288.2098268995098L143.86363636363635,270.18272250306376L144.54545454545453,276.17530801383054L145.22727272727272,278.7092757024685L145.9090909090909,297.4108373818277L146.5909090909091,288.2495732668067L147.27272727272725,278.57068999474785L147.95454545454544,255.7891965379902L148.63636363636363,284.19744069502804L149.3181818181818,288.86118998380607L150,289.9537979254202L150.6818181818182,295.9142348345588L151.36363636363637,279.90193342962186L152.04545454545453,286.9716167717087L152.72727272727272,281.7285293023459L153.4090909090909,294.83874409138656L154.0909090909091,290.8321023721989L154.77272727272728,271.35901528580183L155.45454545454547,282.5212614342612L156.13636363636365,263.8333634234944L156.8181818181818,301.4645086550245L157.5,279.95370218399864L158.1818181818182,305.24311482405466L158.86363636363637,285.3243924522934L159.54545454545456,295.8132207961309L160.22727272727272,279.71507352941177L160.9090909090909,291.27461922268907L161.5909090909091,283.6055672268908L162.27272727272728,301.195406873687L162.95454545454547,290.64668543198525L163.63636363636363,299.4735179227941L164.3181818181818,299.199006751138L165,275.8063616071429L165.6818181818182,301.7083894104517L166.36363636363637,305.0032483696604L167.04545454545453,301.3939267113095L167.72727272727272,289.5756056328781L168.4090909090909,292.6996208639706L169.0909090909091,292.83923237263656L169.77272727272725,266.2876195400035L170.45454545454544,306.65727716867997L171.13636363636363,299.8197462578781L171.8181818181818,290.1239988182773L172.5,303.1946245294993L173.1818181818182,308.289900921306L173.86363636363635,298.43929173231794L174.54545454545453,299.69667749912463L175.22727272727272,290.23176262692573L175.9090909090909,290.750626422444L176.5909090909091,288.9917128960959L177.27272727272728,296.9894862241772L177.95454545454547,303.6025240174195L178.63636363636365,315.9762957917542L179.31818181818184,311.6676240808823L180,319.4273295255602L180.6818181818182,283.0741954985119L181.36363636363637,300.9713787858893L182.04545454545456,285.96666694021354L182.72727272727272,305.26471819196433L183.4090909090909,298.6852377669818L184.0909090909091,291.66087431066177L184.77272727272728,308.0477913821779L185.45454545454547,293.4703598236169L186.13636363636363,291.191180573792L186.8181818181818,295.65340100884106L187.5,306.73034838935575L188.1818181818182,293.463015088848L188.86363636363637,299.6046836703431L189.54545454545456,312.54058068539916L190.22727272727275,288.4653197216387L190.90909090909088,314.4064305409664L191.59090909090907,323.72166737788865L192.27272727272725,298.1160208223915L192.95454545454544,296.933805748862L193.63636363636363,306.17310596113447L194.3181818181818,297.7405298056722L195,317.4710040266107L195.6818181818182,303.8432384672619L196.36363636363637,299.075151544993L197.04545454545456,286.6925373665091L197.72727272727272,299.16979877888656L198.4090909090909,315.39487181591386L199.0909090909091,301.2233428527661L199.77272727272728,305.2273106508228L200.45454545454547,313.34455559567573L201.13636363636365,306.7041767879026L201.8181818181818,300.43082271971286L202.5,296.2288001137955L203.1818181818182,302.8464813659839L203.86363636363635,302.74396281950277L204.54545454545453,300.7933202577906L205.22727272727272,297.8752311471464L205.9090909090909,299.5516360841212L206.5909090909091,314.0984235491071L207.27272727272728,300.39919385723033L207.95454545454547,303.0674457282913L208.63636363636365,308.41619069502804L209.31818181818184,303.90061493347343L210.00000000000003,319.47083716299016L210.68181818181816,324.2333163734243L211.36363636363635,328.6898812259279L212.04545454545453,330.2398801317402L212.72727272727272,317.4406266412815L213.4090909090909,317.0422192314426L214.0909090909091,308.9387336966036L214.77272727272728,312.11557083771015L215.45454545454547,315.93592026654414L216.13636363636365,315.9942815016632L216.8181818181818,319.1064658285189L217.49999999999997,302.00249338016454L218.18181818181816,321.4620262167367L218.86363636363635,313.2531293767507L219.54545454545453,302.35938320640753L220.22727272727272,325.813884147409L220.9090909090909,314.4155464920343L221.5909090909091,321.7805716036415L222.27272727272728,313.5003986946341L222.95454545454547,314.6671139158789L223.63636363636363,310.2860616903011L224.3181818181818,322.1937847404587L225,317.5170761664041L225.6818181818182,322.8908096441702L226.36363636363637,302.59009951636904L227.04545454545456,326.6252311471464L227.72727272727275,302.2400141697304L228.40909090909093,323.35193794314597L229.09090909090912,317.1148185836835L229.77272727272725,326.073104046306L230.45454545454544,317.71507626488096L231.13636363636363,318.1108781403186L231.8181818181818,314.556553089986L232.5,317.1150374212185L233.1818181818182,321.4858795080532L233.86363636363637,326.6949582567402L234.54545454545456,311.14771396839984L235.22727272727275,304.04790627188373L235.90909090909093,328.1695744704132L236.59090909090907,309.4237392222514L237.27272727272725,311.09636237307427L237.95454545454544,330.0137047006302L238.63636363636363,323.1014202556023L239.3181818181818,310.6132579985119L240,326.8773593421744L240.6818181818182,334.2007574514181L241.36363636363637,323.9204676011029L242.04545454545456,309.53842376794466L242.72727272727272,312.82748353247547L243.4090909090909,318.995699842437L244.0909090909091,313.4301415878852L244.77272727272728,306.0108379289216L245.45454545454544,320.7971020439426L246.13636363636363,325.8843156403186L246.8181818181818,320.7098474155287L247.5,321.0475752801121L248.1818181818182,336.66862936580884L248.86363636363637,319.76488642331935L249.54545454545453,322.6587871476716L250.22727272727272,305.91809184611344L250.9090909090909,325.46425015318624L251.5909090909091,332.51093845741417L252.27272727272728,324.99164314163164L252.95454545454547,333.0673157935049L253.63636363636365,325.4258578431373L254.31818181818184,329.34216753107495L255.00000000000003,332.07990031950277L255.68181818181816,326.2190481661414L256.3636363636364,322.0127582282913L257.04545454545456,327.85662311799723L257.72727272727275,315.4439187784489L258.40909090909093,323.47782765449927L259.0909090909091,335.8155732996324L259.77272727272725,328.19667613139L260.45454545454544,333.0702153908438L261.1363636363636,329.41480791535366L261.8181818181818,335.61368883490894L262.5,335.23313036151956L263.1818181818182,333.48173937543766L263.8636363636364,323.0432573419993L264.54545454545456,337.3484652650123L265.22727272727275,329.5875254398635L265.90909090909093,336.5191838454131L266.5909090909091,321.32090336134456L267.2727272727273,334.85609380470936L267.9545454545455,323.6604954481793L268.6363636363636,318.3600315126051L269.3181818181818,337.1398481267507L270,345.09618593531167L270.6818181818182,317.0047706582633L271.3636363636364,335.26435574229697L272.04545454545456,351.4252444141719L272.72727272727275,327.97649137780115L273.40909090909093,332.485358401173L274.0909090909091,331.65274654783786L274.7727272727273,329.5065965839461L275.45454545454544,332.79710614714634L276.1363636363636,326.4399578190651L276.8181818181818,328.4320085456057L277.5,338.46282360600486L278.1818181818182,345.786344811362L278.8636363636364,343.42858237044817L279.54545454545456,342.35916778820905L280.22727272727275,346.8940730589111L280.90909090909093,338.9733442205007L281.59090909090907,338.7791806175595L282.27272727272725,331.6247729560574L282.95454545454544,325.0205160189076L283.6363636363636,339.2049153645833L284.3181818181818,329.670198157388L285,340.2427250196954L285.6818181818182,330.4850533963585L286.3636363636364,348.1795657716211L287.04545454545456,335.87241634935225L287.7272727272727,345.4867083552171L288.4090909090909,339.25380503764L289.09090909090907,339.8589763053659L289.77272727272725,339.5986519607843L290.45454545454544,349.59727054884456L291.1363636363636,340.3929843421744L291.8181818181818,355.9586178221288L292.5,334.310627571341L293.1818181818182,352.00769761029414L293.8636363636364,341.7037733061975L294.5454545454545,340.24961156337537L295.2272727272727,348.53637011445204L295.9090909090909,349.70144747352066L296.59090909090907,339.4123733477766L297.27272727272725,347.25778104210434L297.95454545454544,338.2462701877626L298.6363636363636,338.87409455969885L299.3181818181818,346.593130416229L300,351.7261528634892L300.6818181818182,330.702906162465L301.3636363636364,347.6827635351015L302.04545454545456,344.7573502057073L302.72727272727275,347.47787689294466L303.4090909090909,340.80479555103295L304.09090909090907,361.29720735950633L304.77272727272725,355.0230771019345L305.45454545454544,334.6878282563025L306.1363636363636,352.50813802083337L306.8181818181818,333.26166404061627L307.5,351.3746655888918L308.1818181818182,360.8597066756391L308.8636363636364,343.7069471343225L309.54545454545456,346.36995032387955L310.22727272727275,349.4663988642332L310.90909090909093,342.7548978575805L311.5909090909091,344.1918261445203L312.2727272727273,336.8265138086485L312.9545454545455,356.24298352153363L313.6363636363636,363.1174295890231L314.3181818181818,355.1495070684524L315,363.5015407530199L315.6818181818182,346.4174107142857L316.3636363636364,334.50571439513305L317.04545454545456,347.6763967305672L317.72727272727275,344.09869709602594L318.40909090909093,353.2822758009454L319.0909090909091,345.0419757746849L319.7727272727273,363.2044722185749L320.45454545454544,357.8626821822479L321.1363636363636,350.06822602087703L321.8181818181818,344.8837835915616L322.5,358.6038814940039L323.1818181818182,349.3659421776523L323.8636363636364,356.1446912749475L324.54545454545456,350.8340274586397L325.22727272727275,357.90084197741595L325.90909090909093,336.3967784379377L326.59090909090907,358.3122770592612L327.27272727272725,340.9821770505077L327.95454545454544,348.3251474417892L328.6363636363636,368.29691739977244L329.3181818181818,362.52226329985115L330,363.45453855370266L330.6818181818182,353.2865362942052L331.3636363636364,347.8758397890406L332.04545454545456,343.1343553046218L332.72727272727275,353.1871806339724L333.4090909090909,359.87373416163337L334.09090909090907,350.49355728619577L334.77272727272725,362.36555168942573L335.45454545454544,361.0386371345413L336.1363636363636,357.8410651369923L336.8181818181818,357.04969390099797L337.5,343.2045747986695L338.1818181818182,357.1712513130252L338.8636363636364,358.1154429545256L339.5454545454545,348.9656301973915L340.2272727272727,345.81795999649853L340.9090909090909,350.52205745579477L341.59090909090907,363.469569956889L342.27272727272725,348.20822665003504L342.95454545454544,357.04732430081407L343.6363636363636,369.4238930923932L344.3181818181818,347.476030451243L345,365.04016352634807L345.6818181818182,347.41244446997547L346.3636363636364,361.76626168045345L347.0454545454545,368.24377065279236L347.7272727272727,362.06860625109414L348.4090909090909,365.9167651435574L349.09090909090907,369.07168775713404L349.77272727272725,354.39174107142856L350.45454545454544,351.0553303352591L351.1363636363636,364.4512853969713L351.8181818181818,360.31509527639184L352.5,362.0662503282563L353.1818181818182,369.00786242231266L353.8636363636364,359.5991272485557L354.54545454545456,365.16527362898285L355.22727272727275,355.71050392813373L355.90909090909093,370.74943649334733L356.5909090909091,360.1800554206057L357.2727272727273,359.9835290561537L357.9545454545455,369.26905527836135L358.6363636363637,352.12656400450805L359.3181818181818,363.6377397638743L360,371.34768018535533L360.6818181818182,361.98900067839634L361.3636363636364,361.8700077687325L362.04545454545456,362.55651137408086L362.72727272727275,368.2639584153974L363.40909090909093,363.7190652628239L364.0909090909091,355.57906463366595L364.7727272727273,364.1743088837097L365.45454545454544,371.15880971529236L366.1363636363636,371.2466251148897L366.8181818181818,366.50468927805497L367.5,362.0276049873074L368.1818181818182,360.9367272299545L368.8636363636364,358.64295083267683L369.54545454545456,364.8895451735382L370.22727272727275,354.6949541535364L370.90909090909093,372.21031039368876L371.5909090909091,366.48553415506825L372.27272727272725,370.6184314546131L372.95454545454544,365.66445230435926L373.6363636363636,353.72444045977767L374.3181818181818,355.95417610403535L375,368.881723099396L375.68181818181813,365.230600052521L376.3636363636364,365.94841794139535L377.0454545454545,372.3356598498775L377.72727272727275,363.7890454033176L378.4090909090909,373.34504798012955L379.0909090909091,375.07953034729513L379.77272727272725,367.0285624015231L380.4545454545455,377.33037013633583L381.1363636363636,366.05967289259456L381.81818181818176,363.8542145373774L382.5,371.15426199776783L383.18181818181813,378.9081169577206L383.8636363636364,373.7494905188638L384.5454545454545,370.0532698430935L385.22727272727275,370.3781717765231L385.9090909090909,375.0004616104254L386.5909090909091,375.3832323945203L387.27272727272725,379.78168220413164L387.95454545454544,373.3042929085697L388.6363636363636,380.3284306886817L389.3181818181818,365.64352938441004L390,374.90249420080534L390.68181818181813,373.8414740896359L391.3636363636364,362.9809057412027L392.0454545454545,377.2509081757703L392.72727272727275,377.2042718454569L393.4090909090909,373.10306837578776L394.0909090909091,368.3974253764005L394.77272727272725,376.0743760394783L395.45454545454544,381.02870738139006L396.1363636363636,371.62705707282913L396.8181818181818,371.30394003304446L397.5,374.41888376444325L398.1818181818182,373.7496033569678L398.8636363636364,368.86735162815125L399.54545454545456,382.1445531337535L400.22727272727275,373.36156337535016L400.90909090909093,371.94813276873253L401.59090909090907,375.4308603324142L402.2727272727273,374.029428177521L402.95454545454544,376.7357714570203L403.6363636363636,375.7669982055322L404.3181818181818,376.771247073048L405,377.52464657738096L405.6818181818182,368.37399266347165L406.3636363636364,371.6025883009454L407.04545454545456,375.59081347382704L407.7272727272727,377.44759524903714L408.40909090909093,377.1205220369398L409.09090909090907,377.0155826002276L409.7727272727273,373.848333278624L410.45454545454544,389.4344349067752L411.1363636363637,368.0553481158088L411.8181818181818,376.47412724855565L412.50000000000006,371.86779887736344L413.1818181818182,375.9419519761029L413.8636363636363,374.9711784127714L414.54545454545456,384.32762167366946L415.2272727272727,378.0364255077031L415.90909090909093,383.8424246651786L416.59090909090907,375.4724086900385L417.2727272727273,376.1203114058123L417.95454545454544,374.7383934042367L418.6363636363637,381.00447454372375L419.3181818181818,380.5836397058824L420.00000000000006,375.07162826067923L420.6818181818182,383.9014287355567L421.3636363636363,388.888729319853L422.04545454545456,375.4742995831145L422.7272727272727,378.20095372133227L423.40909090909093,385.3963387112658L424.09090909090907,375.53525267528886L424.7727272727273,383.06082589285717L425.45454545454544,387.2714754847251L426.1363636363637,371.9883715204832L426.8181818181818,385.87965166535366L427.49999999999994,386.5730862657563L428.1818181818182,383.12030867034315L428.8636363636363,382.24529020592615L429.54545454545456,380.9239389115021L430.2272727272727,384.1619719176733L430.90909090909093,385.967911578694L431.59090909090907,382.713848723083L432.2727272727273,381.1330757889093L432.95454545454544,392.3532215620623L433.6363636363636,384.611936083027L434.3181818181818,385.0447967272846L434.99999999999994,382.4081463640144L435.6818181818182,378.69586506477594L436.3636363636363,390.9809734440651L437.04545454545456,384.25274504332987L437.7272727272727,384.3544703037465L438.40909090909093,387.8144114090949L439.09090909090907,386.1825843618698L439.77272727272725,387.6832525002188L440.45454545454544,386.05886592918415L441.1363636363636,384.0777707567402L441.8181818181818,384.87292035955005L442.5,382.6125645570728L443.1818181818182,388.8683363970588L443.8636363636364,382.0229683670343L444.54545454545456,388.071063386292L445.22727272727275,383.28490185136553L445.90909090909093,378.06777740393034L446.5909090909091,384.6566233915441L447.27272727272725,387.98771364014357L447.95454545454544,392.30299150910366L448.6363636363636,393.49785812762605L449.3181818181818,394.07868030024514L450,382.6016363576681L450.6818181818182,389.17563216692923L451.3636363636364,392.1098229330795L452.04545454545456,390.8023780801383L452.72727272727275,391.06402570793944L453.4090909090909,384.3251050420168L454.0909090909091,391.6067940848214L454.77272727272725,391.2440777092087L455.4545454545455,392.50047186843483L456.1363636363636,386.5101944097952L456.81818181818187,388.8453481978729L457.5,392.6040709252451L458.18181818181824,393.7123394279587L458.8636363636364,392.0823724997812L459.5454545454545,385.28497434129906L460.22727272727275,392.2419973848915L460.9090909090909,396.2598545277486L461.5909090909091,395.18334824164043L462.27272727272725,392.91053921568624L462.9545454545455,391.70422465861344L463.6363636363636,392.6235884978991L464.31818181818187,386.9062048647584L465,396.8827413778011L465.68181818181813,397.12086397058823L466.3636363636364,394.7387661119135L467.0454545454545,385.1619739692752L467.72727272727275,390.00617532169116L468.4090909090909,400.6627118620886L469.0909090909091,398.8488393404237L469.77272727272725,401.38460218071606L470.4545454545455,400.825082474396L471.1363636363636,395.7083839395133L471.81818181818187,391.5405034083946L472.5,395.5558097262342L473.18181818181813,393.3623498227416L473.8636363636364,394.9832520898985L474.5454545454545,394.6412295386905L475.22727272727275,397.64808804381124L475.9090909090909,388.9306469658176L476.5909090909091,395.78479243259807L477.27272727272725,394.31999997264535L477.9545454545455,390.0568464690564L478.6363636363636,397.2971034116772L479.31818181818176,399.1506949459471L480,396.4520827862395L480.68181818181813,396.4747632451418L481.3636363636364,385.21340420933996L482.0454545454545,404.96048614758405L482.72727272727275,394.30640811011904L483.4090909090909,393.41306542148106L484.0909090909091,398.70804132199754L484.77272727272725,387.48567981880257L485.45454545454544,390.1560038077731L486.1363636363636,394.5944872089461L486.8181818181818,395.6384653470763L487.5,390.97164891347165L488.1818181818182,403.47364580597866L488.8636363636364,397.9108879880077L489.54545454545456,390.44751250109414L490.22727272727275,397.465707474396L490.9090909090909,394.70493861607144L491.59090909090907,403.5680058156075L492.27272727272725,396.2928955761992L492.95454545454544,398.53303284204304L493.6363636363636,397.66228854823174L494.3181818181818,398.7635439918155L495,393.49044500612746L495.6818181818182,401.49355933779765L496.3636363636364,398.25227454262955L497.04545454545456,402.3858488707983L497.72727272727275,401.8663114659926L498.40909090909093,398.0321000470501L499.09090909090907,398.8249928877801L499.7727272727273,408.4715018820028L500.45454545454544,403.4034536666229L501.1363636363637,399.847306109944L501.8181818181818,402.7556603696166L502.50000000000006,398.25769419095764L503.1818181818182,398.8237687653186L503.8636363636364,396.362079011292L504.54545454545456,396.97584649094017L505.2272727272727,401.6544322807248L505.90909090909093,401.2945402770483L506.59090909090907,400.0259117318802L507.2727272727273,403.04852312018556L507.95454545454544,402.52737520789566L508.6363636363637,392.03727829022233L509.3181818181818,405.526461561187L510.00000000000006,399.17737260919995L510.6818181818182,401.2898660440739L511.3636363636363,400.9626697358631L512.0454545454545,403.03746156665795L512.7272727272727,402.6243339132528L513.4090909090909,401.72215907847516L514.0909090909091,406.43916111366417L514.7727272727273,409.93407519257704L515.4545454545455,397.99941802893034L516.1363636363636,403.66092628457636L516.8181818181819,402.8498323157388L517.5,410.13999447435225L518.1818181818182,408.6602219012605L518.8636363636364,408.96647135416663L519.5454545454545,400.8618369222689L520.2272727272727,399.96659992121846L520.9090909090909,407.939559124431L521.5909090909091,404.18521998643206L522.2727272727273,406.1352402289041L522.9545454545455,405.00260553440125L523.6363636363636,415.4279367997199L524.3181818181819,400.5856502757353L525,407.2859085040266L525.6818181818182,402.27805086878504L526.3636363636364,406.9813789773722L527.0454545454546,404.6429699809611L527.7272727272727,408.01652496936276L528.409090909091,397.9701553472952L529.0909090909091,410.56919642857144L529.7727272727274,408.4338549873074L530.4545454545455,406.6449094286152L531.1363636363636,402.81358051032913L531.8181818181819,412.34072046787463L532.5,404.358792345063L533.1818181818182,399.6066292728029L533.8636363636364,409.480318983062L534.5454545454546,403.5678519454657L535.2272727272727,399.23769312412463L535.909090909091,408.13453652945554L536.5909090909091,405.1587050835959L537.2727272727273,398.19535284817056L537.9545454545455,410.2501928505777L538.6363636363636,397.7905923111432L539.3181818181819,395.2141120119923L540,404.302534001882L540.6818181818182,402.0623317686449L541.3636363636364,413.19848496039043L542.0454545454546,405.1923479352679L542.7272727272727,401.9690830433736L543.4090909090909,412.6238449481355L544.0909090909091,405.4097322522759L544.7727272727273,408.33156553637076L545.4545454545455,404.0645003118435L546.1363636363636,407.541059392507L546.8181818181819,406.7722591966474L547.5,403.7512993478641L548.1818181818182,410.16168332567406L548.8636363636364,407.633620831145L549.5454545454546,406.12093030571606L550.2272727272727,409.566988904937L550.9090909090909,402.86746925332636L551.5909090909091,403.43506543242296L552.2727272727273,406.9528480337448L552.9545454545455,407.22812855610994L553.6363636363636,397.083859911152L554.3181818181819,398.9218455937062L555,407.1255040101978L555.6818181818182,406.96311972054446L556.3636363636364,406.6230325137867L557.0454545454545,413.85042933188896L557.7272727272727,412.04420244660366L558.4090909090909,404.49252943364843L559.0909090909091,398.62759459252453L559.7727272727273,401.74392999387254L560.4545454545455,406.6614179851628L561.1363636363636,407.9467807630865L561.8181818181819,406.6380536589636L562.5,406.7947618500525L563.1818181818181,405.40865516128326L563.8636363636364,407.6734868752189L564.5454545454545,410.58938077184L565.2272727272727,412.0514206659226L565.9090909090909,412.7401741946779L566.5909090909091,412.3443107711835L567.2727272727273,416.43911666228996L567.9545454545455,415.2313386292017L568.6363636363636,407.46396019345235L569.3181818181818,410.47537325477066L570,410.74358600862223L570.6818181818181,415.47829336812845L571.3636363636364,420.51684638699226L572.0454545454545,412.59984462535016L572.7272727272727,415.0622148273372L573.4090909090909,412.74600416338416L574.0909090909091,409.2833378468575L574.7727272727273,423.2635173209909L575.4545454545454,415.3691105348389L576.1363636363636,409.8874457009366L576.8181818181818,410.24132651107317L577.5,414.76370675223217L578.1818181818181,413.1711986552433L578.8636363636364,411.2039005055147L579.5454545454545,415.35867130055146L580.2272727272727,412.1084415211397L580.9090909090909,413.7316108083858L581.5909090909091,417.6119969472164L582.2727272727273,411.9433080849527L582.9545454545454,418.0595043193058L583.6363636363636,413.12081473214283L584.3181818181818,414.203763048188L585,412.0795823212097L585.6818181818181,411.7418168439251L586.3636363636364,415.49265800070026L587.0454545454545,418.0833798363095L587.7272727272727,415.35802846529236L588.4090909090909,419.63564234287463L589.090909090909,417.04686269038865L589.7727272727273,420.2459289379815L590.4545454545454,420.1955484342174L591.1363636363636,416.3035639060312L591.8181818181818,421.3297201204701L592.5,417.3851444874825L593.1818181818181,415.9477067194065L593.8636363636364,418.65719920780816L594.5454545454545,416.1685650822829L595.2272727272726,418.0044273568803L595.9090909090909,417.8531524914653L596.590909090909,415.9143305759804L597.2727272727273,419.21531356683295L597.9545454545454,420.00723531600136L598.6363636363636,411.62267690279236L599.3181818181818,412.74637687106093L600,418.6096875273547L600.6818181818181,423.619942117472L601.3636363636364,420.5478375432204L602.0454545454545,420.1263974828213L602.7272727272727,415.73591643688724L603.4090909090909,407.37250320049895L604.0909090909091,411.89141281512605L604.7727272727273,418.1811010537028L605.4545454545455,420.4341052827381L606.1363636363636,414.45752568605565L606.8181818181818,412.8988690202643L607.5,411.55560319831056L608.1818181818181,411.68380438112746L608.8636363636364,415.81578871783086L609.5454545454545,423.3275067839636L610.2272727272727,420.0364911589636L610.9090909090909,418.11764158788515L611.5909090909091,414.7823865874475L612.2727272727273,415.43498405221465L612.9545454545455,413.93266779367997L613.6363636363636,417.8044166885504L614.3181818181819,412.9927947741597L615,417.08875982033436L615.6818181818182,417.8182102919293L616.3636363636364,422.4951616388743L617.0454545454546,419.59173293340774L617.7272727272727,416.20520669205183L618.409090909091,419.5250815169818L619.0909090909091,416.06378977372196L619.7727272727273,419.72556063441004L620.4545454545455,418.94749745601365L621.1363636363636,420.05675585663954L621.8181818181819,423.81006406468833L622.5,425.4224521839986L623.1818181818182,419.5357566854867L623.8636363636364,426.025277786896L624.5454545454546,416.65136171656167L625.2272727272727,417.53468574929974L625.909090909091,418.66852063090863L626.5909090909091,418.57984697785366L627.2727272727273,419.56828825280115L627.9545454545455,415.20980022868525L628.6363636363636,418.6109287464986L629.3181818181819,415.8382811132265L630,415.3264201188288L630.6818181818182,418.47083511138834L631.3636363636364,421.87855952928044L632.0454545454546,424.0443330652574L632.7272727272727,421.7294217491684L633.409090909091,419.75198184742646L634.0909090909091,420.9374025489102L634.7727272727273,415.2479360884979L635.4545454545455,419.90075888753944L636.1363636363636,417.3524693080357L636.8181818181819,423.3529158733806L637.5,420.3493023185837L638.1818181818182,421.19475036108196L638.8636363636364,418.4513893448004L639.5454545454546,425.04654742756475L640.2272727272727,423.7773598208815L640.9090909090909,420.13520398393734L641.5909090909091,426.5348444065126L642.2727272727273,428.0484102820816L642.9545454545455,426.32722571450455L643.6363636363636,419.76431881346286L644.3181818181819,422.03464198179273L645,422.34047427564775L645.6818181818182,419.6776659882703L646.3636363636364,420.5027723980217L647.0454545454545,423.0020047569809L647.7272727272727,424.75591408438373L648.4090909090909,414.8472035298494L649.0909090909091,417.912484818146L649.7727272727273,416.40979927127097L650.4545454545455,422.43125423997725L651.1363636363636,423.81411255908614L651.8181818181819,418.14669227065826L652.5,426.03971080619743L653.1818181818181,419.6846653700543L653.8636363636364,422.000062231924L654.5454545454545,430.11727811241684L655.2272727272727,425.5887396462491L655.9090909090909,423.84809734440654L656.5909090909091,426.4381199257047L657.2727272727273,422.4452495842087L657.9545454545455,426.2765135351015L658.6363636363636,421.4055285200017L659.3181818181819,424.3396406414128L660,422.82415993741245L660.6818181818181,420.8626712403711L661.3636363636364,422.9475432751226L662.0454545454545,424.1318817566089L662.7272727272727,423.8597983138568L663.4090909090909,423.88349431569503L664.0909090909091,428.56154155998337L664.7727272727273,427.5559129901961L665.4545454545455,429.8126032639619L666.1363636363636,422.87834274334733L666.8181818181818,426.9454896216299L667.5,427.6093332840949L668.1818181818181,422.7613826292236L668.8636363636364,427.6571185114671L669.5454545454545,423.884157666973L670.2272727272727,421.1540311925551L670.9090909090909,426.5444664193803L671.5909090909091,427.43249887845764L672.2727272727273,424.648098985688L672.9545454545454,427.2480137074361L673.6363636363636,421.0833227333902L674.3181818181818,426.4011688659839L675,429.7441430185355L675.6818181818181,421.90790427499127L676.3636363636364,423.4811820235907L677.0454545454545,422.3394211200105L677.7272727272727,424.6572935814951L678.4090909090909,421.8402800573354L679.090909090909,421.610445936187L679.7727272727273,428.41959977350314L680.4545454545454,427.6268095128676L681.1363636363636,424.53638584339984L681.8181818181818,426.0743042334121L682.5,425.69218141358107\" stroke=\"#f58518\" stroke-width=\"2\"/></g></g><path class=\"foreground\" aria-hidden=\"true\" d=\"\" display=\"none\"/></g></g><g class=\"mark-group role-legend\" role=\"graphics-symbol\" aria-roledescription=\"legend\" aria-label=\"Symbol legend titled 'x2' for stroke color with 2 values: test, train\"><g transform=\"translate(768,0)\"><path class=\"background\" aria-hidden=\"true\" d=\"M0,0h36v40h-36Z\" pointer-events=\"none\"/><g><g class=\"mark-group role-legend-entry\"><g transform=\"translate(0,16)\"><path class=\"background\" aria-hidden=\"true\" d=\"M0,0h0v0h0Z\" pointer-events=\"none\"/><g><g class=\"mark-group role-scope\" role=\"graphics-object\" aria-roledescription=\"group mark container\"><g transform=\"translate(0,0)\"><path class=\"background\" aria-hidden=\"true\" d=\"M0,0h36v11h-36Z\" pointer-events=\"none\" opacity=\"1\"/><g><g class=\"mark-symbol role-legend-symbol\" pointer-events=\"none\"><path transform=\"translate(6,6)\" d=\"M-5,0L5,0\" stroke=\"#4c78a8\" stroke-width=\"1.5\" opacity=\"1\"/></g><g class=\"mark-text role-legend-label\" pointer-events=\"none\"><text text-anchor=\"start\" transform=\"translate(16,9)\" font-family=\"sans-serif\" font-size=\"10px\" fill=\"#000\" opacity=\"1\">test</text></g></g><path class=\"foreground\" aria-hidden=\"true\" d=\"\" pointer-events=\"none\" display=\"none\"/></g><g transform=\"translate(0,13)\"><path class=\"background\" aria-hidden=\"true\" d=\"M0,0h36v11h-36Z\" pointer-events=\"none\" opacity=\"1\"/><g><g class=\"mark-symbol role-legend-symbol\" pointer-events=\"none\"><path transform=\"translate(6,6)\" d=\"M-5,0L5,0\" stroke=\"#f58518\" stroke-width=\"1.5\" opacity=\"1\"/></g><g class=\"mark-text role-legend-label\" pointer-events=\"none\"><text text-anchor=\"start\" transform=\"translate(16,9)\" font-family=\"sans-serif\" font-size=\"10px\" fill=\"#000\" opacity=\"1\">train</text></g></g><path class=\"foreground\" aria-hidden=\"true\" d=\"\" pointer-events=\"none\" display=\"none\"/></g></g></g><path class=\"foreground\" aria-hidden=\"true\" d=\"\" pointer-events=\"none\" display=\"none\"/></g></g><g class=\"mark-text role-legend-title\" pointer-events=\"none\"><text text-anchor=\"start\" transform=\"translate(0,9)\" font-family=\"sans-serif\" font-size=\"11px\" font-weight=\"bold\" fill=\"#000\" opacity=\"1\">x2</text></g></g><path class=\"foreground\" aria-hidden=\"true\" d=\"\" pointer-events=\"none\" display=\"none\"/></g></g></g><path class=\"foreground\" aria-hidden=\"true\" d=\"\" display=\"none\"/></g></g></g></svg>\n"
      ],
      "text/plain": [
       "@vlplot(\n",
       "    width=750,\n",
       "    height=500,\n",
       "    mark=\"line\",\n",
       "    encoding={\n",
       "        x={\n",
       "            title=\"Epoch\",\n",
       "            axis={\n",
       "                titleFontSize=20,\n",
       "                labelFontSize=20,\n",
       "                tickCount=5\n",
       "            },\n",
       "            field=\"x3\",\n",
       "            type=\"quantitative\"\n",
       "        },\n",
       "        y={\n",
       "            title=\"Loss\",\n",
       "            axis={\n",
       "                titleFontSize=20,\n",
       "                labelFontSize=20,\n",
       "                tickCount=5\n",
       "            },\n",
       "            field=\"x1\",\n",
       "            type=\"quantitative\"\n",
       "        },\n",
       "        color={\n",
       "            field=\"x2\"\n",
       "        }\n",
       "    },\n",
       "    data={\n",
       "        values=...\n",
       "    }\n",
       ")"
      ]
     },
     "execution_count": 7,
     "metadata": {},
     "output_type": "execute_result"
    }
   ],
   "source": [
    "# Plot training progress\n",
    "test_set = trainer.history[\"elbo_test_set\"]\n",
    "test_set = hcat(test_set, repeat([\"test\"], size(test_set,1)))\n",
    "train_set = trainer.history[\"elbo_train_set\"]\n",
    "train_set = hcat(train_set, repeat([\"train\"], size(train_set,1)))\n",
    "combined = vcat(test_set, train_set)\n",
    "x_dat = vcat(collect(1:size(train_set,1)),collect(1:size(train_set,1)))\n",
    "train_plot = DataFrame(hcat(combined,x_dat), :auto)\n",
    "\n",
    "p = train_plot |>\n",
    "@vlplot(\n",
    "    width=750,\n",
    "    height=500,\n",
    "    :line, \n",
    "    x={\"x3:q\", title=\"Epoch\", axis={titleFontSize=20, labelFontSize=20, tickCount=5}}, \n",
    "    y={\"x1:q\", title=\"Loss\", axis={titleFontSize=20, labelFontSize=20, tickCount=5}},\n",
    "    color={:x2}\n",
    ")"
   ]
  },
  {
   "cell_type": "markdown",
   "id": "5bd0a830",
   "metadata": {},
   "source": [
    "## Generate synthetic data in varying sizes"
   ]
  },
  {
   "cell_type": "code",
   "execution_count": 8,
   "id": "0d03d632",
   "metadata": {},
   "outputs": [],
   "source": [
    "# Set up posterior object from trained model\n",
    "full = trainer.create_posterior(trainer.model, trainer.gene_dataset);\n",
    "orig_n_cells = n_cell_multiple * n_cells;\n",
    "\n",
    "# Generate synthetic data\n",
    "Random.seed!(111);\n",
    "gen_data_scvi = full.generate(batch_size = 64, n_samples=20);\n",
    "\n",
    "# 64 cells reference\n",
    "tmp = Array{Float64,2}(gen_data_scvi[1][:,:,1]');\n",
    "tmp = DataFrame(tmp, :auto);\n",
    "tmp |> CSV.write(string(\"synthetic_cells_\",64,\".csv\"));\n",
    "\n",
    "# Pase synthetic data sets to larger sample sizes\n",
    "n_subset = n_cells;\n",
    "n_paste = collect(1:trunc(Int,orig_n_cells/n_subset));\n",
    "global gen_data_scvi_posterior = gen_data_scvi[1][:,:,1];\n",
    "for j in 1:size(n_paste,1)\n",
    "\n",
    "    global gen_data_scvi_posterior = vcat(gen_data_scvi_posterior, gen_data_scvi[1][:,:,j]);\n",
    "\n",
    "    tmp = DataFrame(gen_data_scvi_posterior', :auto);\n",
    "    tmp |> CSV.write(string(\"synthetic_cells_\",j*n_cells,\".csv\"));\n",
    "end;\n",
    "rest = orig_n_cells % n_subset;\n",
    "gen_data_scvi_posterior = Array{Float64,2}(vcat(gen_data_scvi_posterior,gen_data_scvi[1][1:rest,:,size(n_paste,1) + 1]));\n",
    "\n",
    "tmp = DataFrame(gen_data_scvi_posterior', :auto);\n",
    "tmp |> CSV.write(string(\"synthetic_cells_\",orig_n_cells,\".csv\"));"
   ]
  },
  {
   "cell_type": "markdown",
   "id": "3720c7f1",
   "metadata": {},
   "source": [
    "# Train scVIDE and determine statistical power"
   ]
  },
  {
   "cell_type": "code",
   "execution_count": 21,
   "id": "e0b0e0c0",
   "metadata": {},
   "outputs": [],
   "source": [
    "# Set scVIDE hyperparameters\n",
    "n_epochs = 200;\n",
    "lr = 0.0001;\n",
    "n_latent = 6;\n",
    "n_hidden = 32;\n",
    "n_layers = 1;\n",
    "reconstruction_loss = \"nb\";\n",
    "batch_size = 64;\n",
    "dropout_rate = 0.1;\n",
    "reference = false;\n",
    "s = Int64(round(n_cells * 0.1));\n",
    "B = 1;\n",
    "seed = collect(4:10:500);\n",
    "n_procs=7;\n",
    "use_autotune=false;\n",
    "subsampling=false;\n",
    "\n",
    "space_train = Dict(\"lr\"=>hyperopt.hp.choice(\"lr\", [0.00005, 0.0001, 0.001, 0.005]))\n",
    "space_model = Dict(\"n_hidden\"=>hyperopt.hp.choice(\"n_hidden\", [32, 64]), \n",
    "                            \"n_latent\"=>hyperopt.hp.choice(\"n_latent\", [5, 10, 14]), \n",
    "                            \"n_layers\"=>hyperopt.hp.choice(\"n_layers\", [1, 2, 3]),\n",
    "                            \"reconstruction_loss\"=>hyperopt.hp.choice(\"reconstruction_loss\", [\"nb\", \"zinb\"]))\n",
    "space = Dict([\"train_func_tunable_kwargs\"=>space_train, \"model_tunable_kwargs\"=>space_model]);"
   ]
  },
  {
   "cell_type": "markdown",
   "id": "8d5eafb9",
   "metadata": {},
   "source": [
    "Note: Running the following code chunk might take a bit of time."
   ]
  },
  {
   "cell_type": "code",
   "execution_count": 22,
   "id": "922a3913",
   "metadata": {
    "collapsed": true
   },
   "outputs": [
    {
     "name": "stdout",
     "output_type": "stream",
     "text": [
      "[2022-01-13 15:24:48,172] INFO - scvi.dataset.csv | Preprocessing dataset\n",
      "[2022-01-13 15:24:48,181] INFO - scvi.dataset.csv | Finished preprocessing dataset\n",
      "[2022-01-13 15:24:48,182] WARNING - scvi.dataset.dataset | Gene names are not unique.\n",
      "[2022-01-13 15:24:48,182] INFO - scvi.dataset.dataset | Remapping batch_indices to [0,N]\n",
      "[2022-01-13 15:24:48,182] INFO - scvi.dataset.dataset | Remapping labels to [0,N]\n",
      "[2022-01-13 15:24:48,183] INFO - scvi.dataset.dataset | Computing the library size for the new data\n",
      "[2022-01-13 15:24:48,183] INFO - scvi.dataset.dataset | Downsampled from 63 to 63 cells\n",
      "[2022-01-13 15:24:48,183] INFO - scvi.dataset.dataset | Not subsampling. Expecting: 1 < (new_n_genes=200) <= self.nb_genes\n",
      "[2022-01-13 15:24:49,929] INFO - scvi.dataset.csv | Preprocessing dataset\n",
      "[2022-01-13 15:24:49,933] INFO - scvi.dataset.csv | Finished preprocessing dataset\n",
      "[2022-01-13 15:24:49,934] WARNING - scvi.dataset.dataset | Gene names are not unique.\n",
      "[2022-01-13 15:24:49,934] INFO - scvi.dataset.dataset | Remapping batch_indices to [0,N]\n",
      "[2022-01-13 15:24:49,934] INFO - scvi.dataset.dataset | Remapping labels to [0,N]\n",
      "[2022-01-13 15:24:49,934] INFO - scvi.dataset.dataset | Computing the library size for the new data\n",
      "[2022-01-13 15:24:49,934] INFO - scvi.dataset.dataset | Downsampled from 63 to 63 cells\n",
      "[2022-01-13 15:24:49,935] INFO - scvi.dataset.dataset | Not subsampling. Expecting: 1 < (new_n_genes=200) <= self.nb_genes\n",
      "[2022-01-13 15:24:49,936] INFO - scvi.dataset.dataset | Computing the library size for the new data\n",
      "[2022-01-13 15:24:49,936] WARNING - scvi.dataset.dataset | This dataset has some empty cells, this might fail scVI inference.Data should be filtered with `my_dataset.filter_cells_by_count()\n",
      "[2022-01-13 15:24:51,631] INFO - scvi.dataset.csv | Preprocessing dataset\n",
      "[2022-01-13 15:24:51,635] INFO - scvi.dataset.csv | Finished preprocessing dataset\n",
      "[2022-01-13 15:24:51,635] WARNING - scvi.dataset.dataset | Gene names are not unique.\n",
      "[2022-01-13 15:24:51,635] INFO - scvi.dataset.dataset | Remapping batch_indices to [0,N]\n",
      "[2022-01-13 15:24:51,636] INFO - scvi.dataset.dataset | Remapping labels to [0,N]\n",
      "[2022-01-13 15:24:51,636] INFO - scvi.dataset.dataset | Computing the library size for the new data\n",
      "[2022-01-13 15:24:51,636] INFO - scvi.dataset.dataset | Downsampled from 63 to 63 cells\n",
      "[2022-01-13 15:24:51,636] INFO - scvi.dataset.dataset | Not subsampling. Expecting: 1 < (new_n_genes=200) <= self.nb_genes\n",
      "[2022-01-13 15:24:51,638] INFO - scvi.dataset.dataset | Computing the library size for the new data\n",
      "[2022-01-13 15:24:51,638] WARNING - scvi.dataset.dataset | This dataset has some empty cells, this might fail scVI inference.Data should be filtered with `my_dataset.filter_cells_by_count()\n",
      "[2022-01-13 15:24:53,437] INFO - scvi.dataset.csv | Preprocessing dataset\n",
      "[2022-01-13 15:24:53,441] INFO - scvi.dataset.csv | Finished preprocessing dataset\n",
      "[2022-01-13 15:24:53,442] WARNING - scvi.dataset.dataset | Gene names are not unique.\n",
      "[2022-01-13 15:24:53,442] INFO - scvi.dataset.dataset | Remapping batch_indices to [0,N]\n",
      "[2022-01-13 15:24:53,442] INFO - scvi.dataset.dataset | Remapping labels to [0,N]\n",
      "[2022-01-13 15:24:53,442] INFO - scvi.dataset.dataset | Computing the library size for the new data\n",
      "[2022-01-13 15:24:53,443] INFO - scvi.dataset.dataset | Downsampled from 63 to 63 cells\n",
      "[2022-01-13 15:24:53,443] INFO - scvi.dataset.dataset | Not subsampling. Expecting: 1 < (new_n_genes=200) <= self.nb_genes\n",
      "[2022-01-13 15:24:53,445] INFO - scvi.dataset.dataset | Computing the library size for the new data\n",
      "[2022-01-13 15:24:53,445] WARNING - scvi.dataset.dataset | This dataset has some empty cells, this might fail scVI inference.Data should be filtered with `my_dataset.filter_cells_by_count()\n",
      "[2022-01-13 15:24:55,152] INFO - scvi.dataset.csv | Preprocessing dataset\n",
      "[2022-01-13 15:24:55,156] INFO - scvi.dataset.csv | Finished preprocessing dataset\n",
      "[2022-01-13 15:24:55,156] WARNING - scvi.dataset.dataset | Gene names are not unique.\n",
      "[2022-01-13 15:24:55,156] INFO - scvi.dataset.dataset | Remapping batch_indices to [0,N]\n",
      "[2022-01-13 15:24:55,157] INFO - scvi.dataset.dataset | Remapping labels to [0,N]\n",
      "[2022-01-13 15:24:55,157] INFO - scvi.dataset.dataset | Computing the library size for the new data\n",
      "[2022-01-13 15:24:55,157] INFO - scvi.dataset.dataset | Downsampled from 63 to 63 cells\n",
      "[2022-01-13 15:24:55,157] INFO - scvi.dataset.dataset | Not subsampling. Expecting: 1 < (new_n_genes=200) <= self.nb_genes\n",
      "[2022-01-13 15:24:55,159] INFO - scvi.dataset.dataset | Computing the library size for the new data\n",
      "[2022-01-13 15:24:55,159] WARNING - scvi.dataset.dataset | This dataset has some empty cells, this might fail scVI inference.Data should be filtered with `my_dataset.filter_cells_by_count()\n",
      "[2022-01-13 15:24:56,824] INFO - scvi.dataset.csv | Preprocessing dataset\n",
      "[2022-01-13 15:24:56,828] INFO - scvi.dataset.csv | Finished preprocessing dataset\n",
      "[2022-01-13 15:24:56,829] WARNING - scvi.dataset.dataset | Gene names are not unique.\n",
      "[2022-01-13 15:24:56,829] INFO - scvi.dataset.dataset | Remapping batch_indices to [0,N]\n",
      "[2022-01-13 15:24:56,829] INFO - scvi.dataset.dataset | Remapping labels to [0,N]\n",
      "[2022-01-13 15:24:56,829] INFO - scvi.dataset.dataset | Computing the library size for the new data\n",
      "[2022-01-13 15:24:56,829] INFO - scvi.dataset.dataset | Downsampled from 63 to 63 cells\n",
      "[2022-01-13 15:24:56,829] INFO - scvi.dataset.dataset | Not subsampling. Expecting: 1 < (new_n_genes=200) <= self.nb_genes\n",
      "[2022-01-13 15:24:56,831] INFO - scvi.dataset.dataset | Computing the library size for the new data\n",
      "[2022-01-13 15:24:56,831] WARNING - scvi.dataset.dataset | This dataset has some empty cells, this might fail scVI inference.Data should be filtered with `my_dataset.filter_cells_by_count()\n",
      "[2022-01-13 15:24:58,503] INFO - scvi.dataset.csv | Preprocessing dataset\n",
      "[2022-01-13 15:24:58,507] INFO - scvi.dataset.csv | Finished preprocessing dataset\n",
      "[2022-01-13 15:24:58,508] WARNING - scvi.dataset.dataset | Gene names are not unique.\n",
      "[2022-01-13 15:24:58,508] INFO - scvi.dataset.dataset | Remapping batch_indices to [0,N]\n",
      "[2022-01-13 15:24:58,508] INFO - scvi.dataset.dataset | Remapping labels to [0,N]\n",
      "[2022-01-13 15:24:58,508] INFO - scvi.dataset.dataset | Computing the library size for the new data\n",
      "[2022-01-13 15:24:58,508] INFO - scvi.dataset.dataset | Downsampled from 63 to 63 cells\n",
      "[2022-01-13 15:24:58,508] INFO - scvi.dataset.dataset | Not subsampling. Expecting: 1 < (new_n_genes=200) <= self.nb_genes\n",
      "[2022-01-13 15:24:58,510] INFO - scvi.dataset.dataset | Computing the library size for the new data\n",
      "[2022-01-13 15:25:00,178] INFO - scvi.dataset.csv | Preprocessing dataset\n",
      "[2022-01-13 15:25:00,182] INFO - scvi.dataset.csv | Finished preprocessing dataset\n",
      "[2022-01-13 15:25:00,183] WARNING - scvi.dataset.dataset | Gene names are not unique.\n",
      "[2022-01-13 15:25:00,183] INFO - scvi.dataset.dataset | Remapping batch_indices to [0,N]\n",
      "[2022-01-13 15:25:00,183] INFO - scvi.dataset.dataset | Remapping labels to [0,N]\n",
      "[2022-01-13 15:25:00,183] INFO - scvi.dataset.dataset | Computing the library size for the new data\n",
      "[2022-01-13 15:25:00,184] INFO - scvi.dataset.dataset | Downsampled from 63 to 63 cells\n",
      "[2022-01-13 15:25:00,184] INFO - scvi.dataset.dataset | Not subsampling. Expecting: 1 < (new_n_genes=200) <= self.nb_genes\n",
      "[2022-01-13 15:25:00,185] INFO - scvi.dataset.dataset | Computing the library size for the new data\n",
      "[2022-01-13 15:25:00,186] WARNING - scvi.dataset.dataset | This dataset has some empty cells, this might fail scVI inference.Data should be filtered with `my_dataset.filter_cells_by_count()\n",
      "[2022-01-13 15:25:01,896] INFO - scvi.dataset.csv | Preprocessing dataset\n",
      "[2022-01-13 15:25:01,900] INFO - scvi.dataset.csv | Finished preprocessing dataset\n",
      "[2022-01-13 15:25:01,900] WARNING - scvi.dataset.dataset | Gene names are not unique.\n",
      "[2022-01-13 15:25:01,900] INFO - scvi.dataset.dataset | Remapping batch_indices to [0,N]\n",
      "[2022-01-13 15:25:01,900] INFO - scvi.dataset.dataset | Remapping labels to [0,N]\n",
      "[2022-01-13 15:25:01,901] INFO - scvi.dataset.dataset | Computing the library size for the new data\n",
      "[2022-01-13 15:25:01,901] INFO - scvi.dataset.dataset | Downsampled from 63 to 63 cells\n",
      "[2022-01-13 15:25:01,901] INFO - scvi.dataset.dataset | Not subsampling. Expecting: 1 < (new_n_genes=200) <= self.nb_genes\n",
      "[2022-01-13 15:25:01,903] INFO - scvi.dataset.dataset | Computing the library size for the new data\n",
      "[2022-01-13 15:25:01,903] WARNING - scvi.dataset.dataset | This dataset has some empty cells, this might fail scVI inference.Data should be filtered with `my_dataset.filter_cells_by_count()\n",
      "[2022-01-13 15:25:03,565] INFO - scvi.dataset.csv | Preprocessing dataset\n",
      "[2022-01-13 15:25:03,570] INFO - scvi.dataset.csv | Finished preprocessing dataset\n",
      "[2022-01-13 15:25:03,570] WARNING - scvi.dataset.dataset | Gene names are not unique.\n",
      "[2022-01-13 15:25:03,571] INFO - scvi.dataset.dataset | Remapping batch_indices to [0,N]\n",
      "[2022-01-13 15:25:03,571] INFO - scvi.dataset.dataset | Remapping labels to [0,N]\n",
      "[2022-01-13 15:25:03,571] INFO - scvi.dataset.dataset | Computing the library size for the new data\n",
      "[2022-01-13 15:25:03,571] INFO - scvi.dataset.dataset | Downsampled from 63 to 63 cells\n",
      "[2022-01-13 15:25:03,571] INFO - scvi.dataset.dataset | Not subsampling. Expecting: 1 < (new_n_genes=200) <= self.nb_genes\n",
      "[2022-01-13 15:25:03,573] INFO - scvi.dataset.dataset | Computing the library size for the new data\n",
      "[2022-01-13 15:25:05,281] INFO - scvi.dataset.csv | Preprocessing dataset\n",
      "[2022-01-13 15:25:05,285] INFO - scvi.dataset.csv | Finished preprocessing dataset\n",
      "[2022-01-13 15:25:05,286] WARNING - scvi.dataset.dataset | Gene names are not unique.\n",
      "[2022-01-13 15:25:05,286] INFO - scvi.dataset.dataset | Remapping batch_indices to [0,N]\n",
      "[2022-01-13 15:25:05,286] INFO - scvi.dataset.dataset | Remapping labels to [0,N]\n",
      "[2022-01-13 15:25:05,286] INFO - scvi.dataset.dataset | Computing the library size for the new data\n",
      "[2022-01-13 15:25:05,286] INFO - scvi.dataset.dataset | Downsampled from 63 to 63 cells\n",
      "[2022-01-13 15:25:05,286] INFO - scvi.dataset.dataset | Not subsampling. Expecting: 1 < (new_n_genes=200) <= self.nb_genes\n",
      "[2022-01-13 15:25:05,288] INFO - scvi.dataset.dataset | Computing the library size for the new data\n"
     ]
    },
    {
     "name": "stdout",
     "output_type": "stream",
     "text": [
      "[2022-01-13 15:25:06,968] INFO - scvi.dataset.csv | Preprocessing dataset\n",
      "[2022-01-13 15:25:06,972] INFO - scvi.dataset.csv | Finished preprocessing dataset\n",
      "[2022-01-13 15:25:06,973] WARNING - scvi.dataset.dataset | Gene names are not unique.\n",
      "[2022-01-13 15:25:06,973] INFO - scvi.dataset.dataset | Remapping batch_indices to [0,N]\n",
      "[2022-01-13 15:25:06,973] INFO - scvi.dataset.dataset | Remapping labels to [0,N]\n",
      "[2022-01-13 15:25:06,973] INFO - scvi.dataset.dataset | Computing the library size for the new data\n",
      "[2022-01-13 15:25:06,974] INFO - scvi.dataset.dataset | Downsampled from 63 to 63 cells\n",
      "[2022-01-13 15:25:06,974] INFO - scvi.dataset.dataset | Not subsampling. Expecting: 1 < (new_n_genes=200) <= self.nb_genes\n",
      "[2022-01-13 15:25:06,976] INFO - scvi.dataset.dataset | Computing the library size for the new data\n",
      "[2022-01-13 15:25:08,740] INFO - scvi.dataset.csv | Preprocessing dataset\n",
      "[2022-01-13 15:25:08,744] INFO - scvi.dataset.csv | Finished preprocessing dataset\n",
      "[2022-01-13 15:25:08,745] WARNING - scvi.dataset.dataset | Gene names are not unique.\n",
      "[2022-01-13 15:25:08,745] INFO - scvi.dataset.dataset | Remapping batch_indices to [0,N]\n",
      "[2022-01-13 15:25:08,745] INFO - scvi.dataset.dataset | Remapping labels to [0,N]\n",
      "[2022-01-13 15:25:08,745] INFO - scvi.dataset.dataset | Computing the library size for the new data\n",
      "[2022-01-13 15:25:08,745] INFO - scvi.dataset.dataset | Downsampled from 63 to 63 cells\n",
      "[2022-01-13 15:25:08,745] INFO - scvi.dataset.dataset | Not subsampling. Expecting: 1 < (new_n_genes=200) <= self.nb_genes\n",
      "[2022-01-13 15:25:08,747] INFO - scvi.dataset.dataset | Computing the library size for the new data\n",
      "[2022-01-13 15:25:10,567] INFO - scvi.dataset.csv | Preprocessing dataset\n",
      "[2022-01-13 15:25:10,572] INFO - scvi.dataset.csv | Finished preprocessing dataset\n",
      "[2022-01-13 15:25:10,572] WARNING - scvi.dataset.dataset | Gene names are not unique.\n",
      "[2022-01-13 15:25:10,573] INFO - scvi.dataset.dataset | Remapping batch_indices to [0,N]\n",
      "[2022-01-13 15:25:10,573] INFO - scvi.dataset.dataset | Remapping labels to [0,N]\n",
      "[2022-01-13 15:25:10,573] INFO - scvi.dataset.dataset | Computing the library size for the new data\n",
      "[2022-01-13 15:25:10,573] INFO - scvi.dataset.dataset | Downsampled from 63 to 63 cells\n",
      "[2022-01-13 15:25:10,573] INFO - scvi.dataset.dataset | Not subsampling. Expecting: 1 < (new_n_genes=200) <= self.nb_genes\n",
      "[2022-01-13 15:25:10,575] INFO - scvi.dataset.dataset | Computing the library size for the new data\n",
      "[2022-01-13 15:25:10,575] WARNING - scvi.dataset.dataset | This dataset has some empty cells, this might fail scVI inference.Data should be filtered with `my_dataset.filter_cells_by_count()\n",
      "[2022-01-13 15:25:12,321] INFO - scvi.dataset.csv | Preprocessing dataset\n",
      "[2022-01-13 15:25:12,324] INFO - scvi.dataset.csv | Finished preprocessing dataset\n",
      "[2022-01-13 15:25:12,325] WARNING - scvi.dataset.dataset | Gene names are not unique.\n",
      "[2022-01-13 15:25:12,325] INFO - scvi.dataset.dataset | Remapping batch_indices to [0,N]\n",
      "[2022-01-13 15:25:12,325] INFO - scvi.dataset.dataset | Remapping labels to [0,N]\n",
      "[2022-01-13 15:25:12,325] INFO - scvi.dataset.dataset | Computing the library size for the new data\n",
      "[2022-01-13 15:25:12,325] INFO - scvi.dataset.dataset | Downsampled from 63 to 63 cells\n",
      "[2022-01-13 15:25:12,326] INFO - scvi.dataset.dataset | Not subsampling. Expecting: 1 < (new_n_genes=200) <= self.nb_genes\n",
      "[2022-01-13 15:25:12,327] INFO - scvi.dataset.dataset | Computing the library size for the new data\n",
      "[2022-01-13 15:25:12,327] WARNING - scvi.dataset.dataset | This dataset has some empty cells, this might fail scVI inference.Data should be filtered with `my_dataset.filter_cells_by_count()\n",
      "[2022-01-13 15:25:14,062] INFO - scvi.dataset.csv | Preprocessing dataset\n",
      "[2022-01-13 15:25:14,066] INFO - scvi.dataset.csv | Finished preprocessing dataset\n",
      "[2022-01-13 15:25:14,066] WARNING - scvi.dataset.dataset | Gene names are not unique.\n",
      "[2022-01-13 15:25:14,066] INFO - scvi.dataset.dataset | Remapping batch_indices to [0,N]\n",
      "[2022-01-13 15:25:14,066] INFO - scvi.dataset.dataset | Remapping labels to [0,N]\n",
      "[2022-01-13 15:25:14,067] INFO - scvi.dataset.dataset | Computing the library size for the new data\n",
      "[2022-01-13 15:25:14,067] INFO - scvi.dataset.dataset | Downsampled from 63 to 63 cells\n",
      "[2022-01-13 15:25:14,067] INFO - scvi.dataset.dataset | Not subsampling. Expecting: 1 < (new_n_genes=200) <= self.nb_genes\n",
      "[2022-01-13 15:25:14,069] INFO - scvi.dataset.dataset | Computing the library size for the new data\n",
      "[2022-01-13 15:25:14,069] WARNING - scvi.dataset.dataset | This dataset has some empty cells, this might fail scVI inference.Data should be filtered with `my_dataset.filter_cells_by_count()\n",
      "[2022-01-13 15:25:15,826] INFO - scvi.dataset.csv | Preprocessing dataset\n",
      "[2022-01-13 15:25:15,830] INFO - scvi.dataset.csv | Finished preprocessing dataset\n",
      "[2022-01-13 15:25:15,830] WARNING - scvi.dataset.dataset | Gene names are not unique.\n",
      "[2022-01-13 15:25:15,830] INFO - scvi.dataset.dataset | Remapping batch_indices to [0,N]\n",
      "[2022-01-13 15:25:15,830] INFO - scvi.dataset.dataset | Remapping labels to [0,N]\n",
      "[2022-01-13 15:25:15,831] INFO - scvi.dataset.dataset | Computing the library size for the new data\n",
      "[2022-01-13 15:25:15,831] INFO - scvi.dataset.dataset | Downsampled from 63 to 63 cells\n",
      "[2022-01-13 15:25:15,831] INFO - scvi.dataset.dataset | Not subsampling. Expecting: 1 < (new_n_genes=200) <= self.nb_genes\n",
      "[2022-01-13 15:25:15,865] INFO - scvi.dataset.dataset | Computing the library size for the new data\n",
      "[2022-01-13 15:25:15,865] WARNING - scvi.dataset.dataset | This dataset has some empty cells, this might fail scVI inference.Data should be filtered with `my_dataset.filter_cells_by_count()\n",
      "[2022-01-13 15:25:17,544] INFO - scvi.dataset.csv | Preprocessing dataset\n",
      "[2022-01-13 15:25:17,548] INFO - scvi.dataset.csv | Finished preprocessing dataset\n",
      "[2022-01-13 15:25:17,548] WARNING - scvi.dataset.dataset | Gene names are not unique.\n",
      "[2022-01-13 15:25:17,548] INFO - scvi.dataset.dataset | Remapping batch_indices to [0,N]\n",
      "[2022-01-13 15:25:17,548] INFO - scvi.dataset.dataset | Remapping labels to [0,N]\n",
      "[2022-01-13 15:25:17,549] INFO - scvi.dataset.dataset | Computing the library size for the new data\n",
      "[2022-01-13 15:25:17,549] INFO - scvi.dataset.dataset | Downsampled from 63 to 63 cells\n",
      "[2022-01-13 15:25:17,549] INFO - scvi.dataset.dataset | Not subsampling. Expecting: 1 < (new_n_genes=200) <= self.nb_genes\n",
      "[2022-01-13 15:25:17,550] INFO - scvi.dataset.dataset | Computing the library size for the new data\n",
      "[2022-01-13 15:25:17,551] WARNING - scvi.dataset.dataset | This dataset has some empty cells, this might fail scVI inference.Data should be filtered with `my_dataset.filter_cells_by_count()\n",
      "[2022-01-13 15:25:19,249] INFO - scvi.dataset.csv | Preprocessing dataset\n",
      "[2022-01-13 15:25:19,253] INFO - scvi.dataset.csv | Finished preprocessing dataset\n",
      "[2022-01-13 15:25:19,253] WARNING - scvi.dataset.dataset | Gene names are not unique.\n",
      "[2022-01-13 15:25:19,254] INFO - scvi.dataset.dataset | Remapping batch_indices to [0,N]\n",
      "[2022-01-13 15:25:19,254] INFO - scvi.dataset.dataset | Remapping labels to [0,N]\n",
      "[2022-01-13 15:25:19,254] INFO - scvi.dataset.dataset | Computing the library size for the new data\n",
      "[2022-01-13 15:25:19,254] INFO - scvi.dataset.dataset | Downsampled from 63 to 63 cells\n",
      "[2022-01-13 15:25:19,254] INFO - scvi.dataset.dataset | Not subsampling. Expecting: 1 < (new_n_genes=200) <= self.nb_genes\n",
      "[2022-01-13 15:25:19,256] INFO - scvi.dataset.dataset | Computing the library size for the new data\n",
      "[2022-01-13 15:25:20,956] INFO - scvi.dataset.csv | Preprocessing dataset\n",
      "[2022-01-13 15:25:20,960] INFO - scvi.dataset.csv | Finished preprocessing dataset\n",
      "[2022-01-13 15:25:20,960] WARNING - scvi.dataset.dataset | Gene names are not unique.\n",
      "[2022-01-13 15:25:20,960] INFO - scvi.dataset.dataset | Remapping batch_indices to [0,N]\n",
      "[2022-01-13 15:25:20,961] INFO - scvi.dataset.dataset | Remapping labels to [0,N]\n",
      "[2022-01-13 15:25:20,961] INFO - scvi.dataset.dataset | Computing the library size for the new data\n",
      "[2022-01-13 15:25:20,961] INFO - scvi.dataset.dataset | Downsampled from 63 to 63 cells\n",
      "[2022-01-13 15:25:20,961] INFO - scvi.dataset.dataset | Not subsampling. Expecting: 1 < (new_n_genes=200) <= self.nb_genes\n",
      "[2022-01-13 15:25:20,963] INFO - scvi.dataset.dataset | Computing the library size for the new data\n",
      "[2022-01-13 15:25:22,655] INFO - scvi.dataset.csv | Preprocessing dataset\n",
      "[2022-01-13 15:25:22,659] INFO - scvi.dataset.csv | Finished preprocessing dataset\n",
      "[2022-01-13 15:25:22,660] WARNING - scvi.dataset.dataset | Gene names are not unique.\n",
      "[2022-01-13 15:25:22,660] INFO - scvi.dataset.dataset | Remapping batch_indices to [0,N]\n",
      "[2022-01-13 15:25:22,660] INFO - scvi.dataset.dataset | Remapping labels to [0,N]\n",
      "[2022-01-13 15:25:22,660] INFO - scvi.dataset.dataset | Computing the library size for the new data\n",
      "[2022-01-13 15:25:22,660] INFO - scvi.dataset.dataset | Downsampled from 63 to 63 cells\n",
      "[2022-01-13 15:25:22,660] INFO - scvi.dataset.dataset | Not subsampling. Expecting: 1 < (new_n_genes=200) <= self.nb_genes\n",
      "[2022-01-13 15:25:22,662] INFO - scvi.dataset.dataset | Computing the library size for the new data\n",
      "[2022-01-13 15:25:22,662] WARNING - scvi.dataset.dataset | This dataset has some empty cells, this might fail scVI inference.Data should be filtered with `my_dataset.filter_cells_by_count()\n",
      "[2022-01-13 15:25:24,374] INFO - scvi.dataset.csv | Preprocessing dataset\n",
      "[2022-01-13 15:25:24,378] INFO - scvi.dataset.csv | Finished preprocessing dataset\n",
      "[2022-01-13 15:25:24,378] WARNING - scvi.dataset.dataset | Gene names are not unique.\n",
      "[2022-01-13 15:25:24,379] INFO - scvi.dataset.dataset | Remapping batch_indices to [0,N]\n",
      "[2022-01-13 15:25:24,379] INFO - scvi.dataset.dataset | Remapping labels to [0,N]\n",
      "[2022-01-13 15:25:24,379] INFO - scvi.dataset.dataset | Computing the library size for the new data\n",
      "[2022-01-13 15:25:24,379] INFO - scvi.dataset.dataset | Downsampled from 63 to 63 cells\n",
      "[2022-01-13 15:25:24,379] INFO - scvi.dataset.dataset | Not subsampling. Expecting: 1 < (new_n_genes=200) <= self.nb_genes\n",
      "[2022-01-13 15:25:24,381] INFO - scvi.dataset.dataset | Computing the library size for the new data\n",
      "[2022-01-13 15:25:24,381] WARNING - scvi.dataset.dataset | This dataset has some empty cells, this might fail scVI inference.Data should be filtered with `my_dataset.filter_cells_by_count()\n"
     ]
    },
    {
     "name": "stdout",
     "output_type": "stream",
     "text": [
      "[2022-01-13 15:25:26,075] INFO - scvi.dataset.csv | Preprocessing dataset\n",
      "[2022-01-13 15:25:26,079] INFO - scvi.dataset.csv | Finished preprocessing dataset\n",
      "[2022-01-13 15:25:26,080] WARNING - scvi.dataset.dataset | Gene names are not unique.\n",
      "[2022-01-13 15:25:26,080] INFO - scvi.dataset.dataset | Remapping batch_indices to [0,N]\n",
      "[2022-01-13 15:25:26,080] INFO - scvi.dataset.dataset | Remapping labels to [0,N]\n",
      "[2022-01-13 15:25:26,080] INFO - scvi.dataset.dataset | Computing the library size for the new data\n",
      "[2022-01-13 15:25:26,080] INFO - scvi.dataset.dataset | Downsampled from 63 to 63 cells\n",
      "[2022-01-13 15:25:26,080] INFO - scvi.dataset.dataset | Not subsampling. Expecting: 1 < (new_n_genes=200) <= self.nb_genes\n",
      "[2022-01-13 15:25:26,082] INFO - scvi.dataset.dataset | Computing the library size for the new data\n",
      "[2022-01-13 15:25:26,082] WARNING - scvi.dataset.dataset | This dataset has some empty cells, this might fail scVI inference.Data should be filtered with `my_dataset.filter_cells_by_count()\n",
      "[2022-01-13 15:25:27,806] INFO - scvi.dataset.csv | Preprocessing dataset\n",
      "[2022-01-13 15:25:27,810] INFO - scvi.dataset.csv | Finished preprocessing dataset\n",
      "[2022-01-13 15:25:27,810] WARNING - scvi.dataset.dataset | Gene names are not unique.\n",
      "[2022-01-13 15:25:27,810] INFO - scvi.dataset.dataset | Remapping batch_indices to [0,N]\n",
      "[2022-01-13 15:25:27,810] INFO - scvi.dataset.dataset | Remapping labels to [0,N]\n",
      "[2022-01-13 15:25:27,810] INFO - scvi.dataset.dataset | Computing the library size for the new data\n",
      "[2022-01-13 15:25:27,811] INFO - scvi.dataset.dataset | Downsampled from 63 to 63 cells\n",
      "[2022-01-13 15:25:27,811] INFO - scvi.dataset.dataset | Not subsampling. Expecting: 1 < (new_n_genes=200) <= self.nb_genes\n",
      "[2022-01-13 15:25:27,812] INFO - scvi.dataset.dataset | Computing the library size for the new data\n",
      "[2022-01-13 15:25:29,531] INFO - scvi.dataset.csv | Preprocessing dataset\n",
      "[2022-01-13 15:25:29,535] INFO - scvi.dataset.csv | Finished preprocessing dataset\n",
      "[2022-01-13 15:25:29,536] WARNING - scvi.dataset.dataset | Gene names are not unique.\n",
      "[2022-01-13 15:25:29,536] INFO - scvi.dataset.dataset | Remapping batch_indices to [0,N]\n",
      "[2022-01-13 15:25:29,536] INFO - scvi.dataset.dataset | Remapping labels to [0,N]\n",
      "[2022-01-13 15:25:29,536] INFO - scvi.dataset.dataset | Computing the library size for the new data\n",
      "[2022-01-13 15:25:29,536] INFO - scvi.dataset.dataset | Downsampled from 63 to 63 cells\n",
      "[2022-01-13 15:25:29,537] INFO - scvi.dataset.dataset | Not subsampling. Expecting: 1 < (new_n_genes=200) <= self.nb_genes\n",
      "[2022-01-13 15:25:29,538] INFO - scvi.dataset.dataset | Computing the library size for the new data\n",
      "[2022-01-13 15:25:31,247] INFO - scvi.dataset.csv | Preprocessing dataset\n",
      "[2022-01-13 15:25:31,251] INFO - scvi.dataset.csv | Finished preprocessing dataset\n",
      "[2022-01-13 15:25:31,251] WARNING - scvi.dataset.dataset | Gene names are not unique.\n",
      "[2022-01-13 15:25:31,251] INFO - scvi.dataset.dataset | Remapping batch_indices to [0,N]\n",
      "[2022-01-13 15:25:31,252] INFO - scvi.dataset.dataset | Remapping labels to [0,N]\n",
      "[2022-01-13 15:25:31,252] INFO - scvi.dataset.dataset | Computing the library size for the new data\n",
      "[2022-01-13 15:25:31,252] INFO - scvi.dataset.dataset | Downsampled from 63 to 63 cells\n",
      "[2022-01-13 15:25:31,252] INFO - scvi.dataset.dataset | Not subsampling. Expecting: 1 < (new_n_genes=200) <= self.nb_genes\n",
      "[2022-01-13 15:25:31,253] INFO - scvi.dataset.dataset | Computing the library size for the new data\n",
      "[2022-01-13 15:25:31,254] WARNING - scvi.dataset.dataset | This dataset has some empty cells, this might fail scVI inference.Data should be filtered with `my_dataset.filter_cells_by_count()\n",
      "[2022-01-13 15:25:32,952] INFO - scvi.dataset.csv | Preprocessing dataset\n",
      "[2022-01-13 15:25:32,956] INFO - scvi.dataset.csv | Finished preprocessing dataset\n",
      "[2022-01-13 15:25:32,956] WARNING - scvi.dataset.dataset | Gene names are not unique.\n",
      "[2022-01-13 15:25:32,956] INFO - scvi.dataset.dataset | Remapping batch_indices to [0,N]\n",
      "[2022-01-13 15:25:32,956] INFO - scvi.dataset.dataset | Remapping labels to [0,N]\n",
      "[2022-01-13 15:25:32,957] INFO - scvi.dataset.dataset | Computing the library size for the new data\n",
      "[2022-01-13 15:25:32,957] INFO - scvi.dataset.dataset | Downsampled from 63 to 63 cells\n",
      "[2022-01-13 15:25:32,957] INFO - scvi.dataset.dataset | Not subsampling. Expecting: 1 < (new_n_genes=200) <= self.nb_genes\n",
      "[2022-01-13 15:25:32,959] INFO - scvi.dataset.dataset | Computing the library size for the new data\n",
      "[2022-01-13 15:25:32,959] WARNING - scvi.dataset.dataset | This dataset has some empty cells, this might fail scVI inference.Data should be filtered with `my_dataset.filter_cells_by_count()\n",
      "[2022-01-13 15:25:34,665] INFO - scvi.dataset.csv | Preprocessing dataset\n",
      "[2022-01-13 15:25:34,669] INFO - scvi.dataset.csv | Finished preprocessing dataset\n",
      "[2022-01-13 15:25:34,669] WARNING - scvi.dataset.dataset | Gene names are not unique.\n",
      "[2022-01-13 15:25:34,669] INFO - scvi.dataset.dataset | Remapping batch_indices to [0,N]\n",
      "[2022-01-13 15:25:34,670] INFO - scvi.dataset.dataset | Remapping labels to [0,N]\n",
      "[2022-01-13 15:25:34,670] INFO - scvi.dataset.dataset | Computing the library size for the new data\n",
      "[2022-01-13 15:25:34,670] INFO - scvi.dataset.dataset | Downsampled from 63 to 63 cells\n",
      "[2022-01-13 15:25:34,670] INFO - scvi.dataset.dataset | Not subsampling. Expecting: 1 < (new_n_genes=200) <= self.nb_genes\n",
      "[2022-01-13 15:25:34,672] INFO - scvi.dataset.dataset | Computing the library size for the new data\n",
      "[2022-01-13 15:25:36,393] INFO - scvi.dataset.csv | Preprocessing dataset\n",
      "[2022-01-13 15:25:36,396] INFO - scvi.dataset.csv | Finished preprocessing dataset\n",
      "[2022-01-13 15:25:36,397] WARNING - scvi.dataset.dataset | Gene names are not unique.\n",
      "[2022-01-13 15:25:36,397] INFO - scvi.dataset.dataset | Remapping batch_indices to [0,N]\n",
      "[2022-01-13 15:25:36,397] INFO - scvi.dataset.dataset | Remapping labels to [0,N]\n",
      "[2022-01-13 15:25:36,397] INFO - scvi.dataset.dataset | Computing the library size for the new data\n",
      "[2022-01-13 15:25:36,398] INFO - scvi.dataset.dataset | Downsampled from 63 to 63 cells\n",
      "[2022-01-13 15:25:36,398] INFO - scvi.dataset.dataset | Not subsampling. Expecting: 1 < (new_n_genes=200) <= self.nb_genes\n",
      "[2022-01-13 15:25:36,399] INFO - scvi.dataset.dataset | Computing the library size for the new data\n",
      "[2022-01-13 15:25:36,399] WARNING - scvi.dataset.dataset | This dataset has some empty cells, this might fail scVI inference.Data should be filtered with `my_dataset.filter_cells_by_count()\n",
      "[2022-01-13 15:25:38,115] INFO - scvi.dataset.csv | Preprocessing dataset\n",
      "[2022-01-13 15:25:38,119] INFO - scvi.dataset.csv | Finished preprocessing dataset\n",
      "[2022-01-13 15:25:38,120] WARNING - scvi.dataset.dataset | Gene names are not unique.\n",
      "[2022-01-13 15:25:38,120] INFO - scvi.dataset.dataset | Remapping batch_indices to [0,N]\n",
      "[2022-01-13 15:25:38,120] INFO - scvi.dataset.dataset | Remapping labels to [0,N]\n",
      "[2022-01-13 15:25:38,120] INFO - scvi.dataset.dataset | Computing the library size for the new data\n",
      "[2022-01-13 15:25:38,120] INFO - scvi.dataset.dataset | Downsampled from 63 to 63 cells\n",
      "[2022-01-13 15:25:38,120] INFO - scvi.dataset.dataset | Not subsampling. Expecting: 1 < (new_n_genes=200) <= self.nb_genes\n",
      "[2022-01-13 15:25:38,122] INFO - scvi.dataset.dataset | Computing the library size for the new data\n",
      "[2022-01-13 15:25:39,822] INFO - scvi.dataset.csv | Preprocessing dataset\n",
      "[2022-01-13 15:25:39,826] INFO - scvi.dataset.csv | Finished preprocessing dataset\n",
      "[2022-01-13 15:25:39,826] WARNING - scvi.dataset.dataset | Gene names are not unique.\n",
      "[2022-01-13 15:25:39,826] INFO - scvi.dataset.dataset | Remapping batch_indices to [0,N]\n",
      "[2022-01-13 15:25:39,826] INFO - scvi.dataset.dataset | Remapping labels to [0,N]\n",
      "[2022-01-13 15:25:39,827] INFO - scvi.dataset.dataset | Computing the library size for the new data\n",
      "[2022-01-13 15:25:39,827] INFO - scvi.dataset.dataset | Downsampled from 63 to 63 cells\n",
      "[2022-01-13 15:25:39,827] INFO - scvi.dataset.dataset | Not subsampling. Expecting: 1 < (new_n_genes=200) <= self.nb_genes\n",
      "[2022-01-13 15:25:39,829] INFO - scvi.dataset.dataset | Computing the library size for the new data\n",
      "[2022-01-13 15:25:41,549] INFO - scvi.dataset.csv | Preprocessing dataset\n",
      "[2022-01-13 15:25:41,553] INFO - scvi.dataset.csv | Finished preprocessing dataset\n",
      "[2022-01-13 15:25:41,554] WARNING - scvi.dataset.dataset | Gene names are not unique.\n",
      "[2022-01-13 15:25:41,554] INFO - scvi.dataset.dataset | Remapping batch_indices to [0,N]\n",
      "[2022-01-13 15:25:41,554] INFO - scvi.dataset.dataset | Remapping labels to [0,N]\n",
      "[2022-01-13 15:25:41,554] INFO - scvi.dataset.dataset | Computing the library size for the new data\n",
      "[2022-01-13 15:25:41,554] INFO - scvi.dataset.dataset | Downsampled from 63 to 63 cells\n",
      "[2022-01-13 15:25:41,555] INFO - scvi.dataset.dataset | Not subsampling. Expecting: 1 < (new_n_genes=200) <= self.nb_genes\n",
      "[2022-01-13 15:25:41,556] INFO - scvi.dataset.dataset | Computing the library size for the new data\n",
      "[2022-01-13 15:25:41,556] WARNING - scvi.dataset.dataset | This dataset has some empty cells, this might fail scVI inference.Data should be filtered with `my_dataset.filter_cells_by_count()\n",
      "[2022-01-13 15:25:43,271] INFO - scvi.dataset.csv | Preprocessing dataset\n",
      "[2022-01-13 15:25:43,275] INFO - scvi.dataset.csv | Finished preprocessing dataset\n",
      "[2022-01-13 15:25:43,275] WARNING - scvi.dataset.dataset | Gene names are not unique.\n",
      "[2022-01-13 15:25:43,275] INFO - scvi.dataset.dataset | Remapping batch_indices to [0,N]\n",
      "[2022-01-13 15:25:43,276] INFO - scvi.dataset.dataset | Remapping labels to [0,N]\n",
      "[2022-01-13 15:25:43,276] INFO - scvi.dataset.dataset | Computing the library size for the new data\n",
      "[2022-01-13 15:25:43,276] INFO - scvi.dataset.dataset | Downsampled from 63 to 63 cells\n",
      "[2022-01-13 15:25:43,276] INFO - scvi.dataset.dataset | Not subsampling. Expecting: 1 < (new_n_genes=200) <= self.nb_genes\n",
      "[2022-01-13 15:25:43,278] INFO - scvi.dataset.dataset | Computing the library size for the new data\n",
      "[2022-01-13 15:25:43,278] WARNING - scvi.dataset.dataset | This dataset has some empty cells, this might fail scVI inference.Data should be filtered with `my_dataset.filter_cells_by_count()\n",
      "[2022-01-13 15:25:45,008] INFO - scvi.dataset.csv | Preprocessing dataset\n",
      "[2022-01-13 15:25:45,012] INFO - scvi.dataset.csv | Finished preprocessing dataset\n",
      "[2022-01-13 15:25:45,013] WARNING - scvi.dataset.dataset | Gene names are not unique.\n",
      "[2022-01-13 15:25:45,013] INFO - scvi.dataset.dataset | Remapping batch_indices to [0,N]\n",
      "[2022-01-13 15:25:45,013] INFO - scvi.dataset.dataset | Remapping labels to [0,N]\n",
      "[2022-01-13 15:25:45,013] INFO - scvi.dataset.dataset | Computing the library size for the new data\n",
      "[2022-01-13 15:25:45,013] INFO - scvi.dataset.dataset | Downsampled from 63 to 63 cells\n",
      "[2022-01-13 15:25:45,013] INFO - scvi.dataset.dataset | Not subsampling. Expecting: 1 < (new_n_genes=200) <= self.nb_genes\n",
      "[2022-01-13 15:25:45,015] INFO - scvi.dataset.dataset | Computing the library size for the new data\n",
      "[2022-01-13 15:25:45,015] WARNING - scvi.dataset.dataset | This dataset has some empty cells, this might fail scVI inference.Data should be filtered with `my_dataset.filter_cells_by_count()\n"
     ]
    },
    {
     "name": "stdout",
     "output_type": "stream",
     "text": [
      "[2022-01-13 15:25:46,763] INFO - scvi.dataset.csv | Preprocessing dataset\n",
      "[2022-01-13 15:25:46,768] INFO - scvi.dataset.csv | Finished preprocessing dataset\n",
      "[2022-01-13 15:25:46,768] WARNING - scvi.dataset.dataset | Gene names are not unique.\n",
      "[2022-01-13 15:25:46,768] INFO - scvi.dataset.dataset | Remapping batch_indices to [0,N]\n",
      "[2022-01-13 15:25:46,768] INFO - scvi.dataset.dataset | Remapping labels to [0,N]\n",
      "[2022-01-13 15:25:46,769] INFO - scvi.dataset.dataset | Computing the library size for the new data\n",
      "[2022-01-13 15:25:46,769] INFO - scvi.dataset.dataset | Downsampled from 63 to 63 cells\n",
      "[2022-01-13 15:25:46,769] INFO - scvi.dataset.dataset | Not subsampling. Expecting: 1 < (new_n_genes=200) <= self.nb_genes\n",
      "[2022-01-13 15:25:46,771] INFO - scvi.dataset.dataset | Computing the library size for the new data\n",
      "[2022-01-13 15:25:48,506] INFO - scvi.dataset.csv | Preprocessing dataset\n",
      "[2022-01-13 15:25:48,509] INFO - scvi.dataset.csv | Finished preprocessing dataset\n",
      "[2022-01-13 15:25:48,510] WARNING - scvi.dataset.dataset | Gene names are not unique.\n",
      "[2022-01-13 15:25:48,510] INFO - scvi.dataset.dataset | Remapping batch_indices to [0,N]\n",
      "[2022-01-13 15:25:48,510] INFO - scvi.dataset.dataset | Remapping labels to [0,N]\n",
      "[2022-01-13 15:25:48,510] INFO - scvi.dataset.dataset | Computing the library size for the new data\n",
      "[2022-01-13 15:25:48,510] INFO - scvi.dataset.dataset | Downsampled from 63 to 63 cells\n",
      "[2022-01-13 15:25:48,510] INFO - scvi.dataset.dataset | Not subsampling. Expecting: 1 < (new_n_genes=200) <= self.nb_genes\n",
      "[2022-01-13 15:25:48,512] INFO - scvi.dataset.dataset | Computing the library size for the new data\n",
      "[2022-01-13 15:25:48,512] WARNING - scvi.dataset.dataset | This dataset has some empty cells, this might fail scVI inference.Data should be filtered with `my_dataset.filter_cells_by_count()\n",
      "[2022-01-13 15:25:50,349] INFO - scvi.dataset.csv | Preprocessing dataset\n",
      "[2022-01-13 15:25:50,353] INFO - scvi.dataset.csv | Finished preprocessing dataset\n",
      "[2022-01-13 15:25:50,353] WARNING - scvi.dataset.dataset | Gene names are not unique.\n",
      "[2022-01-13 15:25:50,354] INFO - scvi.dataset.dataset | Remapping batch_indices to [0,N]\n",
      "[2022-01-13 15:25:50,354] INFO - scvi.dataset.dataset | Remapping labels to [0,N]\n",
      "[2022-01-13 15:25:50,354] INFO - scvi.dataset.dataset | Computing the library size for the new data\n",
      "[2022-01-13 15:25:50,354] INFO - scvi.dataset.dataset | Downsampled from 63 to 63 cells\n",
      "[2022-01-13 15:25:50,354] INFO - scvi.dataset.dataset | Not subsampling. Expecting: 1 < (new_n_genes=200) <= self.nb_genes\n",
      "[2022-01-13 15:25:50,356] INFO - scvi.dataset.dataset | Computing the library size for the new data\n",
      "[2022-01-13 15:25:50,356] WARNING - scvi.dataset.dataset | This dataset has some empty cells, this might fail scVI inference.Data should be filtered with `my_dataset.filter_cells_by_count()\n",
      "[2022-01-13 15:25:52,050] INFO - scvi.dataset.csv | Preprocessing dataset\n",
      "[2022-01-13 15:25:52,054] INFO - scvi.dataset.csv | Finished preprocessing dataset\n",
      "[2022-01-13 15:25:52,054] WARNING - scvi.dataset.dataset | Gene names are not unique.\n",
      "[2022-01-13 15:25:52,054] INFO - scvi.dataset.dataset | Remapping batch_indices to [0,N]\n",
      "[2022-01-13 15:25:52,054] INFO - scvi.dataset.dataset | Remapping labels to [0,N]\n",
      "[2022-01-13 15:25:52,054] INFO - scvi.dataset.dataset | Computing the library size for the new data\n",
      "[2022-01-13 15:25:52,055] INFO - scvi.dataset.dataset | Downsampled from 63 to 63 cells\n",
      "[2022-01-13 15:25:52,055] INFO - scvi.dataset.dataset | Not subsampling. Expecting: 1 < (new_n_genes=200) <= self.nb_genes\n",
      "[2022-01-13 15:25:52,056] INFO - scvi.dataset.dataset | Computing the library size for the new data\n",
      "[2022-01-13 15:25:52,056] WARNING - scvi.dataset.dataset | This dataset has some empty cells, this might fail scVI inference.Data should be filtered with `my_dataset.filter_cells_by_count()\n",
      "[2022-01-13 15:25:53,796] INFO - scvi.dataset.csv | Preprocessing dataset\n",
      "[2022-01-13 15:25:53,799] INFO - scvi.dataset.csv | Finished preprocessing dataset\n",
      "[2022-01-13 15:25:53,800] WARNING - scvi.dataset.dataset | Gene names are not unique.\n",
      "[2022-01-13 15:25:53,800] INFO - scvi.dataset.dataset | Remapping batch_indices to [0,N]\n",
      "[2022-01-13 15:25:53,800] INFO - scvi.dataset.dataset | Remapping labels to [0,N]\n",
      "[2022-01-13 15:25:53,800] INFO - scvi.dataset.dataset | Computing the library size for the new data\n",
      "[2022-01-13 15:25:53,801] INFO - scvi.dataset.dataset | Downsampled from 63 to 63 cells\n",
      "[2022-01-13 15:25:53,801] INFO - scvi.dataset.dataset | Not subsampling. Expecting: 1 < (new_n_genes=200) <= self.nb_genes\n",
      "[2022-01-13 15:25:53,802] INFO - scvi.dataset.dataset | Computing the library size for the new data\n",
      "[2022-01-13 15:25:53,802] WARNING - scvi.dataset.dataset | This dataset has some empty cells, this might fail scVI inference.Data should be filtered with `my_dataset.filter_cells_by_count()\n",
      "[2022-01-13 15:25:55,533] INFO - scvi.dataset.csv | Preprocessing dataset\n",
      "[2022-01-13 15:25:55,537] INFO - scvi.dataset.csv | Finished preprocessing dataset\n",
      "[2022-01-13 15:25:55,538] WARNING - scvi.dataset.dataset | Gene names are not unique.\n",
      "[2022-01-13 15:25:55,538] INFO - scvi.dataset.dataset | Remapping batch_indices to [0,N]\n",
      "[2022-01-13 15:25:55,538] INFO - scvi.dataset.dataset | Remapping labels to [0,N]\n",
      "[2022-01-13 15:25:55,538] INFO - scvi.dataset.dataset | Computing the library size for the new data\n",
      "[2022-01-13 15:25:55,538] INFO - scvi.dataset.dataset | Downsampled from 63 to 63 cells\n",
      "[2022-01-13 15:25:55,538] INFO - scvi.dataset.dataset | Not subsampling. Expecting: 1 < (new_n_genes=200) <= self.nb_genes\n",
      "[2022-01-13 15:25:55,540] INFO - scvi.dataset.dataset | Computing the library size for the new data\n",
      "[2022-01-13 15:25:57,266] INFO - scvi.dataset.csv | Preprocessing dataset\n",
      "[2022-01-13 15:25:57,269] INFO - scvi.dataset.csv | Finished preprocessing dataset\n",
      "[2022-01-13 15:25:57,270] WARNING - scvi.dataset.dataset | Gene names are not unique.\n",
      "[2022-01-13 15:25:57,270] INFO - scvi.dataset.dataset | Remapping batch_indices to [0,N]\n",
      "[2022-01-13 15:25:57,270] INFO - scvi.dataset.dataset | Remapping labels to [0,N]\n",
      "[2022-01-13 15:25:57,270] INFO - scvi.dataset.dataset | Computing the library size for the new data\n",
      "[2022-01-13 15:25:57,270] INFO - scvi.dataset.dataset | Downsampled from 63 to 63 cells\n",
      "[2022-01-13 15:25:57,270] INFO - scvi.dataset.dataset | Not subsampling. Expecting: 1 < (new_n_genes=200) <= self.nb_genes\n",
      "[2022-01-13 15:25:57,272] INFO - scvi.dataset.dataset | Computing the library size for the new data\n",
      "[2022-01-13 15:25:59,016] INFO - scvi.dataset.csv | Preprocessing dataset\n",
      "[2022-01-13 15:25:59,020] INFO - scvi.dataset.csv | Finished preprocessing dataset\n",
      "[2022-01-13 15:25:59,020] WARNING - scvi.dataset.dataset | Gene names are not unique.\n",
      "[2022-01-13 15:25:59,020] INFO - scvi.dataset.dataset | Remapping batch_indices to [0,N]\n",
      "[2022-01-13 15:25:59,021] INFO - scvi.dataset.dataset | Remapping labels to [0,N]\n",
      "[2022-01-13 15:25:59,021] INFO - scvi.dataset.dataset | Computing the library size for the new data\n",
      "[2022-01-13 15:25:59,021] INFO - scvi.dataset.dataset | Downsampled from 63 to 63 cells\n",
      "[2022-01-13 15:25:59,021] INFO - scvi.dataset.dataset | Not subsampling. Expecting: 1 < (new_n_genes=200) <= self.nb_genes\n",
      "[2022-01-13 15:25:59,023] INFO - scvi.dataset.dataset | Computing the library size for the new data\n",
      "[2022-01-13 15:25:59,023] WARNING - scvi.dataset.dataset | This dataset has some empty cells, this might fail scVI inference.Data should be filtered with `my_dataset.filter_cells_by_count()\n",
      "[2022-01-13 15:26:00,752] INFO - scvi.dataset.csv | Preprocessing dataset\n",
      "[2022-01-13 15:26:00,756] INFO - scvi.dataset.csv | Finished preprocessing dataset\n",
      "[2022-01-13 15:26:00,756] WARNING - scvi.dataset.dataset | Gene names are not unique.\n",
      "[2022-01-13 15:26:00,756] INFO - scvi.dataset.dataset | Remapping batch_indices to [0,N]\n",
      "[2022-01-13 15:26:00,757] INFO - scvi.dataset.dataset | Remapping labels to [0,N]\n",
      "[2022-01-13 15:26:00,757] INFO - scvi.dataset.dataset | Computing the library size for the new data\n",
      "[2022-01-13 15:26:00,757] INFO - scvi.dataset.dataset | Downsampled from 63 to 63 cells\n",
      "[2022-01-13 15:26:00,757] INFO - scvi.dataset.dataset | Not subsampling. Expecting: 1 < (new_n_genes=200) <= self.nb_genes\n",
      "[2022-01-13 15:26:00,759] INFO - scvi.dataset.dataset | Computing the library size for the new data\n",
      "[2022-01-13 15:26:00,759] WARNING - scvi.dataset.dataset | This dataset has some empty cells, this might fail scVI inference.Data should be filtered with `my_dataset.filter_cells_by_count()\n",
      "[2022-01-13 15:26:02,514] INFO - scvi.dataset.csv | Preprocessing dataset\n",
      "[2022-01-13 15:26:02,517] INFO - scvi.dataset.csv | Finished preprocessing dataset\n",
      "[2022-01-13 15:26:02,518] WARNING - scvi.dataset.dataset | Gene names are not unique.\n",
      "[2022-01-13 15:26:02,518] INFO - scvi.dataset.dataset | Remapping batch_indices to [0,N]\n",
      "[2022-01-13 15:26:02,518] INFO - scvi.dataset.dataset | Remapping labels to [0,N]\n",
      "[2022-01-13 15:26:02,518] INFO - scvi.dataset.dataset | Computing the library size for the new data\n",
      "[2022-01-13 15:26:02,518] INFO - scvi.dataset.dataset | Downsampled from 63 to 63 cells\n",
      "[2022-01-13 15:26:02,518] INFO - scvi.dataset.dataset | Not subsampling. Expecting: 1 < (new_n_genes=200) <= self.nb_genes\n",
      "[2022-01-13 15:26:02,520] INFO - scvi.dataset.dataset | Computing the library size for the new data\n",
      "[2022-01-13 15:26:04,255] INFO - scvi.dataset.csv | Preprocessing dataset\n",
      "[2022-01-13 15:26:04,259] INFO - scvi.dataset.csv | Finished preprocessing dataset\n",
      "[2022-01-13 15:26:04,260] WARNING - scvi.dataset.dataset | Gene names are not unique.\n",
      "[2022-01-13 15:26:04,260] INFO - scvi.dataset.dataset | Remapping batch_indices to [0,N]\n",
      "[2022-01-13 15:26:04,260] INFO - scvi.dataset.dataset | Remapping labels to [0,N]\n",
      "[2022-01-13 15:26:04,260] INFO - scvi.dataset.dataset | Computing the library size for the new data\n",
      "[2022-01-13 15:26:04,260] INFO - scvi.dataset.dataset | Downsampled from 63 to 63 cells\n",
      "[2022-01-13 15:26:04,260] INFO - scvi.dataset.dataset | Not subsampling. Expecting: 1 < (new_n_genes=200) <= self.nb_genes\n",
      "[2022-01-13 15:26:04,262] INFO - scvi.dataset.dataset | Computing the library size for the new data\n",
      "[2022-01-13 15:26:04,262] WARNING - scvi.dataset.dataset | This dataset has some empty cells, this might fail scVI inference.Data should be filtered with `my_dataset.filter_cells_by_count()\n"
     ]
    },
    {
     "name": "stdout",
     "output_type": "stream",
     "text": [
      "[2022-01-13 15:26:06,049] INFO - scvi.dataset.csv | Preprocessing dataset\n",
      "[2022-01-13 15:26:06,053] INFO - scvi.dataset.csv | Finished preprocessing dataset\n",
      "[2022-01-13 15:26:06,053] WARNING - scvi.dataset.dataset | Gene names are not unique.\n",
      "[2022-01-13 15:26:06,054] INFO - scvi.dataset.dataset | Remapping batch_indices to [0,N]\n",
      "[2022-01-13 15:26:06,054] INFO - scvi.dataset.dataset | Remapping labels to [0,N]\n",
      "[2022-01-13 15:26:06,054] INFO - scvi.dataset.dataset | Computing the library size for the new data\n",
      "[2022-01-13 15:26:06,054] INFO - scvi.dataset.dataset | Downsampled from 63 to 63 cells\n",
      "[2022-01-13 15:26:06,054] INFO - scvi.dataset.dataset | Not subsampling. Expecting: 1 < (new_n_genes=200) <= self.nb_genes\n",
      "[2022-01-13 15:26:06,065] INFO - scvi.dataset.dataset | Computing the library size for the new data\n",
      "[2022-01-13 15:26:07,779] INFO - scvi.dataset.csv | Preprocessing dataset\n",
      "[2022-01-13 15:26:07,783] INFO - scvi.dataset.csv | Finished preprocessing dataset\n",
      "[2022-01-13 15:26:07,783] WARNING - scvi.dataset.dataset | Gene names are not unique.\n",
      "[2022-01-13 15:26:07,783] INFO - scvi.dataset.dataset | Remapping batch_indices to [0,N]\n",
      "[2022-01-13 15:26:07,783] INFO - scvi.dataset.dataset | Remapping labels to [0,N]\n",
      "[2022-01-13 15:26:07,784] INFO - scvi.dataset.dataset | Computing the library size for the new data\n",
      "[2022-01-13 15:26:07,784] INFO - scvi.dataset.dataset | Downsampled from 63 to 63 cells\n",
      "[2022-01-13 15:26:07,784] INFO - scvi.dataset.dataset | Not subsampling. Expecting: 1 < (new_n_genes=200) <= self.nb_genes\n",
      "[2022-01-13 15:26:07,785] INFO - scvi.dataset.dataset | Computing the library size for the new data\n",
      "[2022-01-13 15:26:09,518] INFO - scvi.dataset.csv | Preprocessing dataset\n",
      "[2022-01-13 15:26:09,522] INFO - scvi.dataset.csv | Finished preprocessing dataset\n",
      "[2022-01-13 15:26:09,522] WARNING - scvi.dataset.dataset | Gene names are not unique.\n",
      "[2022-01-13 15:26:09,523] INFO - scvi.dataset.dataset | Remapping batch_indices to [0,N]\n",
      "[2022-01-13 15:26:09,523] INFO - scvi.dataset.dataset | Remapping labels to [0,N]\n",
      "[2022-01-13 15:26:09,523] INFO - scvi.dataset.dataset | Computing the library size for the new data\n",
      "[2022-01-13 15:26:09,523] INFO - scvi.dataset.dataset | Downsampled from 63 to 63 cells\n",
      "[2022-01-13 15:26:09,523] INFO - scvi.dataset.dataset | Not subsampling. Expecting: 1 < (new_n_genes=200) <= self.nb_genes\n",
      "[2022-01-13 15:26:09,525] INFO - scvi.dataset.dataset | Computing the library size for the new data\n",
      "[2022-01-13 15:26:09,525] WARNING - scvi.dataset.dataset | This dataset has some empty cells, this might fail scVI inference.Data should be filtered with `my_dataset.filter_cells_by_count()\n",
      "[2022-01-13 15:26:11,259] INFO - scvi.dataset.csv | Preprocessing dataset\n",
      "[2022-01-13 15:26:11,263] INFO - scvi.dataset.csv | Finished preprocessing dataset\n",
      "[2022-01-13 15:26:11,263] WARNING - scvi.dataset.dataset | Gene names are not unique.\n",
      "[2022-01-13 15:26:11,263] INFO - scvi.dataset.dataset | Remapping batch_indices to [0,N]\n",
      "[2022-01-13 15:26:11,263] INFO - scvi.dataset.dataset | Remapping labels to [0,N]\n",
      "[2022-01-13 15:26:11,264] INFO - scvi.dataset.dataset | Computing the library size for the new data\n",
      "[2022-01-13 15:26:11,264] INFO - scvi.dataset.dataset | Downsampled from 63 to 63 cells\n",
      "[2022-01-13 15:26:11,264] INFO - scvi.dataset.dataset | Not subsampling. Expecting: 1 < (new_n_genes=200) <= self.nb_genes\n",
      "[2022-01-13 15:26:11,265] INFO - scvi.dataset.dataset | Computing the library size for the new data\n",
      "[2022-01-13 15:26:12,959] INFO - scvi.dataset.csv | Preprocessing dataset\n",
      "[2022-01-13 15:26:12,962] INFO - scvi.dataset.csv | Finished preprocessing dataset\n",
      "[2022-01-13 15:26:12,963] WARNING - scvi.dataset.dataset | Gene names are not unique.\n",
      "[2022-01-13 15:26:12,963] INFO - scvi.dataset.dataset | Remapping batch_indices to [0,N]\n",
      "[2022-01-13 15:26:12,963] INFO - scvi.dataset.dataset | Remapping labels to [0,N]\n",
      "[2022-01-13 15:26:12,963] INFO - scvi.dataset.dataset | Computing the library size for the new data\n",
      "[2022-01-13 15:26:12,963] INFO - scvi.dataset.dataset | Downsampled from 63 to 63 cells\n",
      "[2022-01-13 15:26:12,963] INFO - scvi.dataset.dataset | Not subsampling. Expecting: 1 < (new_n_genes=200) <= self.nb_genes\n",
      "[2022-01-13 15:26:12,965] INFO - scvi.dataset.dataset | Computing the library size for the new data\n",
      "[2022-01-13 15:26:14,681] INFO - scvi.dataset.csv | Preprocessing dataset\n",
      "[2022-01-13 15:26:14,684] INFO - scvi.dataset.csv | Finished preprocessing dataset\n",
      "[2022-01-13 15:26:14,685] WARNING - scvi.dataset.dataset | Gene names are not unique.\n",
      "[2022-01-13 15:26:14,685] INFO - scvi.dataset.dataset | Remapping batch_indices to [0,N]\n",
      "[2022-01-13 15:26:14,685] INFO - scvi.dataset.dataset | Remapping labels to [0,N]\n",
      "[2022-01-13 15:26:14,685] INFO - scvi.dataset.dataset | Computing the library size for the new data\n",
      "[2022-01-13 15:26:14,686] INFO - scvi.dataset.dataset | Downsampled from 63 to 63 cells\n",
      "[2022-01-13 15:26:14,686] INFO - scvi.dataset.dataset | Not subsampling. Expecting: 1 < (new_n_genes=200) <= self.nb_genes\n",
      "[2022-01-13 15:26:14,687] INFO - scvi.dataset.dataset | Computing the library size for the new data\n",
      "[2022-01-13 15:26:14,687] WARNING - scvi.dataset.dataset | This dataset has some empty cells, this might fail scVI inference.Data should be filtered with `my_dataset.filter_cells_by_count()\n",
      "[2022-01-13 15:26:16,538] INFO - scvi.dataset.csv | Preprocessing dataset\n",
      "[2022-01-13 15:26:16,544] INFO - scvi.dataset.csv | Finished preprocessing dataset\n",
      "[2022-01-13 15:26:16,545] WARNING - scvi.dataset.dataset | Gene names are not unique.\n",
      "[2022-01-13 15:26:16,546] INFO - scvi.dataset.dataset | Remapping batch_indices to [0,N]\n",
      "[2022-01-13 15:26:16,546] INFO - scvi.dataset.dataset | Remapping labels to [0,N]\n",
      "[2022-01-13 15:26:16,546] INFO - scvi.dataset.dataset | Computing the library size for the new data\n",
      "[2022-01-13 15:26:16,546] INFO - scvi.dataset.dataset | Downsampled from 127 to 127 cells\n",
      "[2022-01-13 15:26:16,546] INFO - scvi.dataset.dataset | Not subsampling. Expecting: 1 < (new_n_genes=200) <= self.nb_genes\n",
      "[2022-01-13 15:26:19,833] INFO - scvi.dataset.csv | Preprocessing dataset\n",
      "[2022-01-13 15:26:19,842] INFO - scvi.dataset.csv | Finished preprocessing dataset\n",
      "[2022-01-13 15:26:19,842] WARNING - scvi.dataset.dataset | This dataset has some empty cells, this might fail scVI inference.Data should be filtered with `my_dataset.filter_cells_by_count()\n",
      "[2022-01-13 15:26:19,843] WARNING - scvi.dataset.dataset | Gene names are not unique.\n",
      "[2022-01-13 15:26:19,843] INFO - scvi.dataset.dataset | Remapping batch_indices to [0,N]\n",
      "[2022-01-13 15:26:19,843] INFO - scvi.dataset.dataset | Remapping labels to [0,N]\n",
      "[2022-01-13 15:26:19,843] INFO - scvi.dataset.dataset | Computing the library size for the new data\n",
      "[2022-01-13 15:26:19,844] INFO - scvi.dataset.dataset | Downsampled from 191 to 190 cells\n",
      "[2022-01-13 15:26:19,844] INFO - scvi.dataset.dataset | Not subsampling. Expecting: 1 < (new_n_genes=200) <= self.nb_genes\n",
      "[2022-01-13 15:26:24,517] INFO - scvi.dataset.csv | Preprocessing dataset\n",
      "[2022-01-13 15:26:24,527] INFO - scvi.dataset.csv | Finished preprocessing dataset\n",
      "[2022-01-13 15:26:24,527] WARNING - scvi.dataset.dataset | This dataset has some empty cells, this might fail scVI inference.Data should be filtered with `my_dataset.filter_cells_by_count()\n",
      "[2022-01-13 15:26:24,528] WARNING - scvi.dataset.dataset | Gene names are not unique.\n",
      "[2022-01-13 15:26:24,528] INFO - scvi.dataset.dataset | Remapping batch_indices to [0,N]\n",
      "[2022-01-13 15:26:24,528] INFO - scvi.dataset.dataset | Remapping labels to [0,N]\n",
      "[2022-01-13 15:26:24,529] INFO - scvi.dataset.dataset | Computing the library size for the new data\n",
      "[2022-01-13 15:26:24,529] INFO - scvi.dataset.dataset | Downsampled from 255 to 251 cells\n",
      "[2022-01-13 15:26:24,529] INFO - scvi.dataset.dataset | Not subsampling. Expecting: 1 < (new_n_genes=200) <= self.nb_genes\n"
     ]
    },
    {
     "name": "stderr",
     "output_type": "stream",
     "text": [
      "┌ Warning: rmprocs: process 1 not removed\n",
      "└ @ Distributed /Users/julia/buildbot/worker/package_macos64/build/usr/share/julia/stdlib/v1.7/Distributed/src/cluster.jl:1045\n"
     ]
    }
   ],
   "source": [
    "# Run scVIDE für multiple sample sizes\n",
    "\n",
    "# Train alternative and null model with jackstraw sampling on 64 cells as reference\n",
    "data_path = string(\"synthetic_cells_\",64,\".csv\")\n",
    "jackstraw_scVI_out = scVIDE.jackstraw_scVI(;data_path=data_path,\n",
    "                                            n_epochs=n_epochs,\n",
    "                                            lr=lr,\n",
    "                                            n_genes=n_genes,\n",
    "                                            n_cells=n_cells,\n",
    "                                            n_latent=n_latent,\n",
    "                                            n_hidden=n_hidden,\n",
    "                                            n_layers=n_layers,\n",
    "                                            batch_size=batch_size,\n",
    "                                            s=s,\n",
    "                                            B=B,\n",
    "                                            seed=seed,\n",
    "                                            pretrained_model=\"\",\n",
    "                                            subsampling=subsampling,\n",
    "                                            use_autotune=use_autotune,\n",
    "                                            search_space=space\n",
    ");\n",
    "# Serialize jackstraw model\n",
    "serialize(string(\"jackstraw_scVI\",64,\"cells\"),jackstraw_scVI_out);\n",
    "jackstraw_scVI_out = nothing;\n",
    "\n",
    "for j in 1:n_cell_multiple\n",
    "    data_path = string(\"synthetic_cells_\",j*n_cells,\".csv\")\n",
    "\n",
    "    # Train alternative model for synthetic data\n",
    "    alternative_model_scVI_out = alternative_model_scVI(data_path=data_path,\n",
    "                                                n_epochs=n_epochs, \n",
    "                                                lr=lr, \n",
    "                                                n_genes=n_genes, \n",
    "                                                n_cells=n_cells,\n",
    "                                                n_latent = n_latent,\n",
    "                                                n_hidden = n_hidden,\n",
    "                                                n_layers = n_layers,\n",
    "                                                batch_size = batch_size,\n",
    "                                                pretrained_model=\"\",\n",
    "                                                subsampling=false,\n",
    "                                                use_autotune=use_autotune,\n",
    "                                                search_space=space\n",
    "    );\n",
    "    # Serialize alternative models\n",
    "    serialize(string(\"alternative_models\",j*n_cells,\"cells\"),alternative_model_scVI_out);\n",
    "    alternative_model_scVI_out = nothing;\n",
    "end;"
   ]
  },
  {
   "cell_type": "code",
   "execution_count": 23,
   "id": "ab0f8c54",
   "metadata": {},
   "outputs": [],
   "source": [
    "# Determine statistical power\n",
    "reference = 64;\n",
    "n_cells = 192;\n",
    "p_val_all = DataFrame();\n",
    "alpha=0.1;\n",
    "pval_final = DataFrame();\n",
    "n_cells_original = 192;\n",
    "n_cell_multiple = 3;\n",
    "  \n",
    "# Load jackstraw model with 64 cells\n",
    "jackstraw_scVI_out = deserialize(string(\"jackstraw_scVI\",64,\"cells\"));\n",
    "\n",
    "# Calculate difference in ELBOs for alternative model\n",
    "d_alternative = (log.(jackstraw_scVI_out.alternative_model_scVI_out.elbo_per_cell_null) .- log.(jackstraw_scVI_out.alternative_model_scVI_out.elbo_per_cell));\n",
    "d_alternative = d_alternative[.!(isnan.(d_alternative))];\n",
    "\n",
    "# Extract ELBOs for jackstraw model\n",
    "null_model_elbo = Array{Float64,1}();\n",
    "null_model_elbo_reference = Array{Float64,1}();\n",
    "null_model_jackstraw_indices = Array{Int64,1}();\n",
    "for k in 1:size(seed,1)\n",
    "    append!(null_model_elbo, jackstraw_scVI_out.null_model_scVI_out[k].elbo_per_cell_append)\n",
    "    append!(null_model_elbo_reference, jackstraw_scVI_out.null_model_scVI_out[k].elbo_per_cell_append_null)\n",
    "    append!(null_model_jackstraw_indices, jackstraw_scVI_out.null_model_scVI_out[k].jackstraw_indices)\n",
    "end\n",
    "\n",
    "# Calculate difference in ELBOs for jackstraw model\n",
    "d_null = (log.(null_model_elbo_reference) .- log.(null_model_elbo));\n",
    "d_null = d_null[.!(isnan.(d_null))];\n",
    "\n",
    "emp_null_cdf = ecdf(d_null);\n",
    "emp_pvals = 1 .- emp_null_cdf(d_alternative);\n",
    "emp_true_alternatives = sum(emp_pvals .<= alpha) / size(d_alternative,1)\n",
    "\n",
    "pval_combined = DataFrame(hcat(64,emp_true_alternatives), :auto);\n",
    "\n",
    "for j in 1:n_cell_multiple\n",
    "    alternative_model_scVI_out = deserialize(string(\"alternative_models\",j*n_cells,\"cells\"))\n",
    "            \n",
    "    d_alternative = (log.(alternative_model_scVI_out.elbo_per_cell_null) .- log.(alternative_model_scVI_out.elbo_per_cell));\n",
    "\n",
    "    pvals = 1 .- emp_null_cdf(d_alternative)\n",
    "            \n",
    "    emp_true_alternatives = sum(pvals .<= alpha) / size(d_alternative,1)\n",
    "           \n",
    "    pval = DataFrame(hcat(j * n_cells, emp_true_alternatives), :auto)\n",
    "    pval_combined = vcat(pval_combined, pval)\n",
    "end;\n",
    "\n",
    "insertcols!(pval_combined, 3, :orig_cells => n_cells_original);\n",
    "append!(pval_final,pval_combined);"
   ]
  },
  {
   "cell_type": "code",
   "execution_count": 24,
   "id": "d1e40499",
   "metadata": {},
   "outputs": [
    {
     "data": {
      "application/vnd.vegalite.v4+json": {
       "data": {
        "values": [
         {
          "orig_cells": 192,
          "x1": 64,
          "x2": 0.07936507936507936
         },
         {
          "orig_cells": 192,
          "x1": 192,
          "x2": 0.16535433070866143
         },
         {
          "orig_cells": 192,
          "x1": 384,
          "x2": 0.1631578947368421
         },
         {
          "orig_cells": 192,
          "x1": 576,
          "x2": 0.20717131474103587
         }
        ]
       },
       "layer": [
        {
         "encoding": {
          "color": {
           "field": "orig_cells",
           "type": "nominal"
          },
          "x": {
           "field": "x1",
           "title": "Number of cells",
           "type": "quantitative"
          },
          "y": {
           "field": "x2",
           "title": "Power",
           "type": "quantitative"
          }
         },
         "height": 250,
         "mark": {
          "opacity": 0.6,
          "type": "point"
         },
         "width": 750
        },
        {
         "encoding": {
          "color": {
           "field": "orig_cells",
           "type": "nominal"
          },
          "x": {
           "field": "x1",
           "title": "Number of cells",
           "type": "quantitative"
          },
          "y": {
           "aggregate": "mean",
           "field": "x2",
           "type": "quantitative"
          }
         },
         "mark": "line"
        }
       ],
       "transform": [
        {
         "groupby": [
          "orig_cells"
         ],
         "joinaggregate": [
          {
           "as": "mean_x2",
           "field": "x2",
           "op": "mean"
          }
         ]
        }
       ]
      },
      "image/png": "[encoded data removed]",
      "image/svg+xml": [
       "<?xml version=\"1.0\" encoding=\"utf-8\"?>\n",
       "<!DOCTYPE svg PUBLIC \"-//W3C//DTD SVG 1.1//EN\" \"http://www.w3.org/Graphics/SVG/1.1/DTD/svg11.dtd\">\n",
       "<svg xmlns=\"http://www.w3.org/2000/svg\" xmlns:xlink=\"http://www.w3.org/1999/xlink\" version=\"1.1\" class=\"marks\" width=\"872\" height=\"297\" viewBox=\"0 0 872 297\"><rect width=\"872\" height=\"297\" fill=\"white\"/><g fill=\"none\" stroke-miterlimit=\"10\" transform=\"translate(48,10)\"><g class=\"mark-group role-frame root\" role=\"graphics-object\" aria-roledescription=\"group mark container\"><g transform=\"translate(0,0)\"><path class=\"background\" aria-hidden=\"true\" d=\"M0.5,0.5h750v250h-750Z\" stroke=\"#ddd\"/><g><g class=\"mark-group role-axis\" aria-hidden=\"true\"><g transform=\"translate(0.5,250.5)\"><path class=\"background\" aria-hidden=\"true\" d=\"M0,0h0v0h0Z\" pointer-events=\"none\"/><g><g class=\"mark-rule role-axis-grid\" pointer-events=\"none\"><line transform=\"translate(0,-250)\" x2=\"0\" y2=\"250\" stroke=\"#ddd\" stroke-width=\"1\" opacity=\"1\"/><line transform=\"translate(25,-250)\" x2=\"0\" y2=\"250\" stroke=\"#ddd\" stroke-width=\"1\" opacity=\"1\"/><line transform=\"translate(50,-250)\" x2=\"0\" y2=\"250\" stroke=\"#ddd\" stroke-width=\"1\" opacity=\"1\"/><line transform=\"translate(75,-250)\" x2=\"0\" y2=\"250\" stroke=\"#ddd\" stroke-width=\"1\" opacity=\"1\"/><line transform=\"translate(100,-250)\" x2=\"0\" y2=\"250\" stroke=\"#ddd\" stroke-width=\"1\" opacity=\"1\"/><line transform=\"translate(125,-250)\" x2=\"0\" y2=\"250\" stroke=\"#ddd\" stroke-width=\"1\" opacity=\"1\"/><line transform=\"translate(150,-250)\" x2=\"0\" y2=\"250\" stroke=\"#ddd\" stroke-width=\"1\" opacity=\"1\"/><line transform=\"translate(175,-250)\" x2=\"0\" y2=\"250\" stroke=\"#ddd\" stroke-width=\"1\" opacity=\"1\"/><line transform=\"translate(200,-250)\" x2=\"0\" y2=\"250\" stroke=\"#ddd\" stroke-width=\"1\" opacity=\"1\"/><line transform=\"translate(225,-250)\" x2=\"0\" y2=\"250\" stroke=\"#ddd\" stroke-width=\"1\" opacity=\"1\"/><line transform=\"translate(250,-250)\" x2=\"0\" y2=\"250\" stroke=\"#ddd\" stroke-width=\"1\" opacity=\"1\"/><line transform=\"translate(275,-250)\" x2=\"0\" y2=\"250\" stroke=\"#ddd\" stroke-width=\"1\" opacity=\"1\"/><line transform=\"translate(300,-250)\" x2=\"0\" y2=\"250\" stroke=\"#ddd\" stroke-width=\"1\" opacity=\"1\"/><line transform=\"translate(325,-250)\" x2=\"0\" y2=\"250\" stroke=\"#ddd\" stroke-width=\"1\" opacity=\"1\"/><line transform=\"translate(350,-250)\" x2=\"0\" y2=\"250\" stroke=\"#ddd\" stroke-width=\"1\" opacity=\"1\"/><line transform=\"translate(375,-250)\" x2=\"0\" y2=\"250\" stroke=\"#ddd\" stroke-width=\"1\" opacity=\"1\"/><line transform=\"translate(400,-250)\" x2=\"0\" y2=\"250\" stroke=\"#ddd\" stroke-width=\"1\" opacity=\"1\"/><line transform=\"translate(425,-250)\" x2=\"0\" y2=\"250\" stroke=\"#ddd\" stroke-width=\"1\" opacity=\"1\"/><line transform=\"translate(450,-250)\" x2=\"0\" y2=\"250\" stroke=\"#ddd\" stroke-width=\"1\" opacity=\"1\"/><line transform=\"translate(475,-250)\" x2=\"0\" y2=\"250\" stroke=\"#ddd\" stroke-width=\"1\" opacity=\"1\"/><line transform=\"translate(500,-250)\" x2=\"0\" y2=\"250\" stroke=\"#ddd\" stroke-width=\"1\" opacity=\"1\"/><line transform=\"translate(525,-250)\" x2=\"0\" y2=\"250\" stroke=\"#ddd\" stroke-width=\"1\" opacity=\"1\"/><line transform=\"translate(550,-250)\" x2=\"0\" y2=\"250\" stroke=\"#ddd\" stroke-width=\"1\" opacity=\"1\"/><line transform=\"translate(575,-250)\" x2=\"0\" y2=\"250\" stroke=\"#ddd\" stroke-width=\"1\" opacity=\"1\"/><line transform=\"translate(600,-250)\" x2=\"0\" y2=\"250\" stroke=\"#ddd\" stroke-width=\"1\" opacity=\"1\"/><line transform=\"translate(625,-250)\" x2=\"0\" y2=\"250\" stroke=\"#ddd\" stroke-width=\"1\" opacity=\"1\"/><line transform=\"translate(650,-250)\" x2=\"0\" y2=\"250\" stroke=\"#ddd\" stroke-width=\"1\" opacity=\"1\"/><line transform=\"translate(675,-250)\" x2=\"0\" y2=\"250\" stroke=\"#ddd\" stroke-width=\"1\" opacity=\"1\"/><line transform=\"translate(700,-250)\" x2=\"0\" y2=\"250\" stroke=\"#ddd\" stroke-width=\"1\" opacity=\"1\"/><line transform=\"translate(725,-250)\" x2=\"0\" y2=\"250\" stroke=\"#ddd\" stroke-width=\"1\" opacity=\"1\"/><line transform=\"translate(750,-250)\" x2=\"0\" y2=\"250\" stroke=\"#ddd\" stroke-width=\"1\" opacity=\"1\"/></g></g><path class=\"foreground\" aria-hidden=\"true\" d=\"\" pointer-events=\"none\" display=\"none\"/></g></g><g class=\"mark-group role-axis\" aria-hidden=\"true\"><g transform=\"translate(0.5,0.5)\"><path class=\"background\" aria-hidden=\"true\" d=\"M0,0h0v0h0Z\" pointer-events=\"none\"/><g><g class=\"mark-rule role-axis-grid\" pointer-events=\"none\"><line transform=\"translate(0,250)\" x2=\"750\" y2=\"0\" stroke=\"#ddd\" stroke-width=\"1\" opacity=\"1\"/><line transform=\"translate(0,227)\" x2=\"750\" y2=\"0\" stroke=\"#ddd\" stroke-width=\"1\" opacity=\"1\"/><line transform=\"translate(0,205)\" x2=\"750\" y2=\"0\" stroke=\"#ddd\" stroke-width=\"1\" opacity=\"1\"/><line transform=\"translate(0,182)\" x2=\"750\" y2=\"0\" stroke=\"#ddd\" stroke-width=\"1\" opacity=\"1\"/><line transform=\"translate(0,159)\" x2=\"750\" y2=\"0\" stroke=\"#ddd\" stroke-width=\"1\" opacity=\"1\"/><line transform=\"translate(0,136)\" x2=\"750\" y2=\"0\" stroke=\"#ddd\" stroke-width=\"1\" opacity=\"1\"/><line transform=\"translate(0,114)\" x2=\"750\" y2=\"0\" stroke=\"#ddd\" stroke-width=\"1\" opacity=\"1\"/><line transform=\"translate(0,91)\" x2=\"750\" y2=\"0\" stroke=\"#ddd\" stroke-width=\"1\" opacity=\"1\"/><line transform=\"translate(0,68)\" x2=\"750\" y2=\"0\" stroke=\"#ddd\" stroke-width=\"1\" opacity=\"1\"/><line transform=\"translate(0,45)\" x2=\"750\" y2=\"0\" stroke=\"#ddd\" stroke-width=\"1\" opacity=\"1\"/><line transform=\"translate(0,23)\" x2=\"750\" y2=\"0\" stroke=\"#ddd\" stroke-width=\"1\" opacity=\"1\"/><line transform=\"translate(0,0)\" x2=\"750\" y2=\"0\" stroke=\"#ddd\" stroke-width=\"1\" opacity=\"1\"/></g></g><path class=\"foreground\" aria-hidden=\"true\" d=\"\" pointer-events=\"none\" display=\"none\"/></g></g><g class=\"mark-group role-axis\" role=\"graphics-symbol\" aria-roledescription=\"axis\" aria-label=\"X-axis titled 'Number of cells' for a linear scale with values from 0 to 600\"><g transform=\"translate(0.5,250.5)\"><path class=\"background\" aria-hidden=\"true\" d=\"M0,0h0v0h0Z\" pointer-events=\"none\"/><g><g class=\"mark-rule role-axis-tick\" pointer-events=\"none\"><line transform=\"translate(0,0)\" x2=\"0\" y2=\"5\" stroke=\"#888\" stroke-width=\"1\" opacity=\"1\"/><line transform=\"translate(25,0)\" x2=\"0\" y2=\"5\" stroke=\"#888\" stroke-width=\"1\" opacity=\"1\"/><line transform=\"translate(50,0)\" x2=\"0\" y2=\"5\" stroke=\"#888\" stroke-width=\"1\" opacity=\"1\"/><line transform=\"translate(75,0)\" x2=\"0\" y2=\"5\" stroke=\"#888\" stroke-width=\"1\" opacity=\"1\"/><line transform=\"translate(100,0)\" x2=\"0\" y2=\"5\" stroke=\"#888\" stroke-width=\"1\" opacity=\"1\"/><line transform=\"translate(125,0)\" x2=\"0\" y2=\"5\" stroke=\"#888\" stroke-width=\"1\" opacity=\"1\"/><line transform=\"translate(150,0)\" x2=\"0\" y2=\"5\" stroke=\"#888\" stroke-width=\"1\" opacity=\"1\"/><line transform=\"translate(175,0)\" x2=\"0\" y2=\"5\" stroke=\"#888\" stroke-width=\"1\" opacity=\"1\"/><line transform=\"translate(200,0)\" x2=\"0\" y2=\"5\" stroke=\"#888\" stroke-width=\"1\" opacity=\"1\"/><line transform=\"translate(225,0)\" x2=\"0\" y2=\"5\" stroke=\"#888\" stroke-width=\"1\" opacity=\"1\"/><line transform=\"translate(250,0)\" x2=\"0\" y2=\"5\" stroke=\"#888\" stroke-width=\"1\" opacity=\"1\"/><line transform=\"translate(275,0)\" x2=\"0\" y2=\"5\" stroke=\"#888\" stroke-width=\"1\" opacity=\"1\"/><line transform=\"translate(300,0)\" x2=\"0\" y2=\"5\" stroke=\"#888\" stroke-width=\"1\" opacity=\"1\"/><line transform=\"translate(325,0)\" x2=\"0\" y2=\"5\" stroke=\"#888\" stroke-width=\"1\" opacity=\"1\"/><line transform=\"translate(350,0)\" x2=\"0\" y2=\"5\" stroke=\"#888\" stroke-width=\"1\" opacity=\"1\"/><line transform=\"translate(375,0)\" x2=\"0\" y2=\"5\" stroke=\"#888\" stroke-width=\"1\" opacity=\"1\"/><line transform=\"translate(400,0)\" x2=\"0\" y2=\"5\" stroke=\"#888\" stroke-width=\"1\" opacity=\"1\"/><line transform=\"translate(425,0)\" x2=\"0\" y2=\"5\" stroke=\"#888\" stroke-width=\"1\" opacity=\"1\"/><line transform=\"translate(450,0)\" x2=\"0\" y2=\"5\" stroke=\"#888\" stroke-width=\"1\" opacity=\"1\"/><line transform=\"translate(475,0)\" x2=\"0\" y2=\"5\" stroke=\"#888\" stroke-width=\"1\" opacity=\"1\"/><line transform=\"translate(500,0)\" x2=\"0\" y2=\"5\" stroke=\"#888\" stroke-width=\"1\" opacity=\"1\"/><line transform=\"translate(525,0)\" x2=\"0\" y2=\"5\" stroke=\"#888\" stroke-width=\"1\" opacity=\"1\"/><line transform=\"translate(550,0)\" x2=\"0\" y2=\"5\" stroke=\"#888\" stroke-width=\"1\" opacity=\"1\"/><line transform=\"translate(575,0)\" x2=\"0\" y2=\"5\" stroke=\"#888\" stroke-width=\"1\" opacity=\"1\"/><line transform=\"translate(600,0)\" x2=\"0\" y2=\"5\" stroke=\"#888\" stroke-width=\"1\" opacity=\"1\"/><line transform=\"translate(625,0)\" x2=\"0\" y2=\"5\" stroke=\"#888\" stroke-width=\"1\" opacity=\"1\"/><line transform=\"translate(650,0)\" x2=\"0\" y2=\"5\" stroke=\"#888\" stroke-width=\"1\" opacity=\"1\"/><line transform=\"translate(675,0)\" x2=\"0\" y2=\"5\" stroke=\"#888\" stroke-width=\"1\" opacity=\"1\"/><line transform=\"translate(700,0)\" x2=\"0\" y2=\"5\" stroke=\"#888\" stroke-width=\"1\" opacity=\"1\"/><line transform=\"translate(725,0)\" x2=\"0\" y2=\"5\" stroke=\"#888\" stroke-width=\"1\" opacity=\"1\"/><line transform=\"translate(750,0)\" x2=\"0\" y2=\"5\" stroke=\"#888\" stroke-width=\"1\" opacity=\"1\"/></g><g class=\"mark-text role-axis-label\" pointer-events=\"none\"><text text-anchor=\"start\" transform=\"translate(0,15)\" font-family=\"sans-serif\" font-size=\"10px\" fill=\"#000\" opacity=\"1\">0</text><text text-anchor=\"middle\" transform=\"translate(25,15)\" font-family=\"sans-serif\" font-size=\"10px\" fill=\"#000\" opacity=\"0\">20</text><text text-anchor=\"middle\" transform=\"translate(50,15)\" font-family=\"sans-serif\" font-size=\"10px\" fill=\"#000\" opacity=\"1\">40</text><text text-anchor=\"middle\" transform=\"translate(75,15)\" font-family=\"sans-serif\" font-size=\"10px\" fill=\"#000\" opacity=\"0\">60</text><text text-anchor=\"middle\" transform=\"translate(100,15)\" font-family=\"sans-serif\" font-size=\"10px\" fill=\"#000\" opacity=\"1\">80</text><text text-anchor=\"middle\" transform=\"translate(125,15)\" font-family=\"sans-serif\" font-size=\"10px\" fill=\"#000\" opacity=\"0\">100</text><text text-anchor=\"middle\" transform=\"translate(150,15)\" font-family=\"sans-serif\" font-size=\"10px\" fill=\"#000\" opacity=\"1\">120</text><text text-anchor=\"middle\" transform=\"translate(175,15)\" font-family=\"sans-serif\" font-size=\"10px\" fill=\"#000\" opacity=\"0\">140</text><text text-anchor=\"middle\" transform=\"translate(200,15)\" font-family=\"sans-serif\" font-size=\"10px\" fill=\"#000\" opacity=\"1\">160</text><text text-anchor=\"middle\" transform=\"translate(225,15)\" font-family=\"sans-serif\" font-size=\"10px\" fill=\"#000\" opacity=\"0\">180</text><text text-anchor=\"middle\" transform=\"translate(250,15)\" font-family=\"sans-serif\" font-size=\"10px\" fill=\"#000\" opacity=\"1\">200</text><text text-anchor=\"middle\" transform=\"translate(275,15)\" font-family=\"sans-serif\" font-size=\"10px\" fill=\"#000\" opacity=\"0\">220</text><text text-anchor=\"middle\" transform=\"translate(300,15)\" font-family=\"sans-serif\" font-size=\"10px\" fill=\"#000\" opacity=\"1\">240</text><text text-anchor=\"middle\" transform=\"translate(325,15)\" font-family=\"sans-serif\" font-size=\"10px\" fill=\"#000\" opacity=\"0\">260</text><text text-anchor=\"middle\" transform=\"translate(350,15)\" font-family=\"sans-serif\" font-size=\"10px\" fill=\"#000\" opacity=\"1\">280</text><text text-anchor=\"middle\" transform=\"translate(375,15)\" font-family=\"sans-serif\" font-size=\"10px\" fill=\"#000\" opacity=\"0\">300</text><text text-anchor=\"middle\" transform=\"translate(400,15)\" font-family=\"sans-serif\" font-size=\"10px\" fill=\"#000\" opacity=\"1\">320</text><text text-anchor=\"middle\" transform=\"translate(425,15)\" font-family=\"sans-serif\" font-size=\"10px\" fill=\"#000\" opacity=\"0\">340</text><text text-anchor=\"middle\" transform=\"translate(450,15)\" font-family=\"sans-serif\" font-size=\"10px\" fill=\"#000\" opacity=\"1\">360</text><text text-anchor=\"middle\" transform=\"translate(475,15)\" font-family=\"sans-serif\" font-size=\"10px\" fill=\"#000\" opacity=\"0\">380</text><text text-anchor=\"middle\" transform=\"translate(500,15)\" font-family=\"sans-serif\" font-size=\"10px\" fill=\"#000\" opacity=\"1\">400</text><text text-anchor=\"middle\" transform=\"translate(525,15)\" font-family=\"sans-serif\" font-size=\"10px\" fill=\"#000\" opacity=\"0\">420</text><text text-anchor=\"middle\" transform=\"translate(550,15)\" font-family=\"sans-serif\" font-size=\"10px\" fill=\"#000\" opacity=\"1\">440</text><text text-anchor=\"middle\" transform=\"translate(575,15)\" font-family=\"sans-serif\" font-size=\"10px\" fill=\"#000\" opacity=\"0\">460</text><text text-anchor=\"middle\" transform=\"translate(600,15)\" font-family=\"sans-serif\" font-size=\"10px\" fill=\"#000\" opacity=\"1\">480</text><text text-anchor=\"middle\" transform=\"translate(625,15)\" font-family=\"sans-serif\" font-size=\"10px\" fill=\"#000\" opacity=\"0\">500</text><text text-anchor=\"middle\" transform=\"translate(650,15)\" font-family=\"sans-serif\" font-size=\"10px\" fill=\"#000\" opacity=\"1\">520</text><text text-anchor=\"middle\" transform=\"translate(675,15)\" font-family=\"sans-serif\" font-size=\"10px\" fill=\"#000\" opacity=\"0\">540</text><text text-anchor=\"middle\" transform=\"translate(700,15)\" font-family=\"sans-serif\" font-size=\"10px\" fill=\"#000\" opacity=\"1\">560</text><text text-anchor=\"middle\" transform=\"translate(725,15)\" font-family=\"sans-serif\" font-size=\"10px\" fill=\"#000\" opacity=\"0\">580</text><text text-anchor=\"end\" transform=\"translate(750,15)\" font-family=\"sans-serif\" font-size=\"10px\" fill=\"#000\" opacity=\"1\">600</text></g><g class=\"mark-rule role-axis-domain\" pointer-events=\"none\"><line transform=\"translate(0,0)\" x2=\"750\" y2=\"0\" stroke=\"#888\" stroke-width=\"1\" opacity=\"1\"/></g><g class=\"mark-text role-axis-title\" pointer-events=\"none\"><text text-anchor=\"middle\" transform=\"translate(375,30)\" font-family=\"sans-serif\" font-size=\"11px\" font-weight=\"bold\" fill=\"#000\" opacity=\"1\">Number of cells</text></g></g><path class=\"foreground\" aria-hidden=\"true\" d=\"\" pointer-events=\"none\" display=\"none\"/></g></g><g class=\"mark-group role-axis\" role=\"graphics-symbol\" aria-roledescription=\"axis\" aria-label=\"Y-axis titled 'Power' for a linear scale with values from 0.00 to 0.22\"><g transform=\"translate(0.5,0.5)\"><path class=\"background\" aria-hidden=\"true\" d=\"M0,0h0v0h0Z\" pointer-events=\"none\"/><g><g class=\"mark-rule role-axis-tick\" pointer-events=\"none\"><line transform=\"translate(0,250)\" x2=\"-5\" y2=\"0\" stroke=\"#888\" stroke-width=\"1\" opacity=\"1\"/><line transform=\"translate(0,227)\" x2=\"-5\" y2=\"0\" stroke=\"#888\" stroke-width=\"1\" opacity=\"1\"/><line transform=\"translate(0,205)\" x2=\"-5\" y2=\"0\" stroke=\"#888\" stroke-width=\"1\" opacity=\"1\"/><line transform=\"translate(0,182)\" x2=\"-5\" y2=\"0\" stroke=\"#888\" stroke-width=\"1\" opacity=\"1\"/><line transform=\"translate(0,159)\" x2=\"-5\" y2=\"0\" stroke=\"#888\" stroke-width=\"1\" opacity=\"1\"/><line transform=\"translate(0,136)\" x2=\"-5\" y2=\"0\" stroke=\"#888\" stroke-width=\"1\" opacity=\"1\"/><line transform=\"translate(0,114)\" x2=\"-5\" y2=\"0\" stroke=\"#888\" stroke-width=\"1\" opacity=\"1\"/><line transform=\"translate(0,91)\" x2=\"-5\" y2=\"0\" stroke=\"#888\" stroke-width=\"1\" opacity=\"1\"/><line transform=\"translate(0,68)\" x2=\"-5\" y2=\"0\" stroke=\"#888\" stroke-width=\"1\" opacity=\"1\"/><line transform=\"translate(0,45)\" x2=\"-5\" y2=\"0\" stroke=\"#888\" stroke-width=\"1\" opacity=\"1\"/><line transform=\"translate(0,23)\" x2=\"-5\" y2=\"0\" stroke=\"#888\" stroke-width=\"1\" opacity=\"1\"/><line transform=\"translate(0,0)\" x2=\"-5\" y2=\"0\" stroke=\"#888\" stroke-width=\"1\" opacity=\"1\"/></g><g class=\"mark-text role-axis-label\" pointer-events=\"none\"><text text-anchor=\"end\" transform=\"translate(-7,253)\" font-family=\"sans-serif\" font-size=\"10px\" fill=\"#000\" opacity=\"1\">0.00</text><text text-anchor=\"end\" transform=\"translate(-7,230.27272727272725)\" font-family=\"sans-serif\" font-size=\"10px\" fill=\"#000\" opacity=\"1\">0.02</text><text text-anchor=\"end\" transform=\"translate(-7,207.54545454545453)\" font-family=\"sans-serif\" font-size=\"10px\" fill=\"#000\" opacity=\"1\">0.04</text><text text-anchor=\"end\" transform=\"translate(-7,184.8181818181818)\" font-family=\"sans-serif\" font-size=\"10px\" fill=\"#000\" opacity=\"1\">0.06</text><text text-anchor=\"end\" transform=\"translate(-7,162.0909090909091)\" font-family=\"sans-serif\" font-size=\"10px\" fill=\"#000\" opacity=\"1\">0.08</text><text text-anchor=\"end\" transform=\"translate(-7,139.36363636363635)\" font-family=\"sans-serif\" font-size=\"10px\" fill=\"#000\" opacity=\"1\">0.10</text><text text-anchor=\"end\" transform=\"translate(-7,116.63636363636364)\" font-family=\"sans-serif\" font-size=\"10px\" fill=\"#000\" opacity=\"1\">0.12</text><text text-anchor=\"end\" transform=\"translate(-7,93.90909090909088)\" font-family=\"sans-serif\" font-size=\"10px\" fill=\"#000\" opacity=\"1\">0.14</text><text text-anchor=\"end\" transform=\"translate(-7,71.18181818181817)\" font-family=\"sans-serif\" font-size=\"10px\" fill=\"#000\" opacity=\"1\">0.16</text><text text-anchor=\"end\" transform=\"translate(-7,48.45454545454547)\" font-family=\"sans-serif\" font-size=\"10px\" fill=\"#000\" opacity=\"1\">0.18</text><text text-anchor=\"end\" transform=\"translate(-7,25.727272727272705)\" font-family=\"sans-serif\" font-size=\"10px\" fill=\"#000\" opacity=\"1\">0.20</text><text text-anchor=\"end\" transform=\"translate(-7,3)\" font-family=\"sans-serif\" font-size=\"10px\" fill=\"#000\" opacity=\"1\">0.22</text></g><g class=\"mark-rule role-axis-domain\" pointer-events=\"none\"><line transform=\"translate(0,250)\" x2=\"0\" y2=\"-250\" stroke=\"#888\" stroke-width=\"1\" opacity=\"1\"/></g><g class=\"mark-text role-axis-title\" pointer-events=\"none\"><text text-anchor=\"middle\" transform=\"translate(-32,125) rotate(-90) translate(0,-2)\" font-family=\"sans-serif\" font-size=\"11px\" font-weight=\"bold\" fill=\"#000\" opacity=\"1\">Power</text></g></g><path class=\"foreground\" aria-hidden=\"true\" d=\"\" pointer-events=\"none\" display=\"none\"/></g></g><g class=\"mark-symbol role-mark layer_0_marks\" role=\"graphics-object\" aria-roledescription=\"symbol mark container\"><path aria-label=\"Power: 0.0793650793651; Number of cells: 64; orig_cells: 192\" role=\"graphics-symbol\" aria-roledescription=\"point\" transform=\"translate(80,159.8124098124098)\" d=\"M2.7386127875258306,0A2.7386127875258306,2.7386127875258306,0,1,1,-2.7386127875258306,0A2.7386127875258306,2.7386127875258306,0,1,1,2.7386127875258306,0\" stroke=\"#4c78a8\" stroke-width=\"2\" opacity=\"0.6\"/><path aria-label=\"Power: 0.165354330709; Number of cells: 192; orig_cells: 192\" role=\"graphics-symbol\" aria-roledescription=\"point\" transform=\"translate(240,62.0973514674302)\" d=\"M2.7386127875258306,0A2.7386127875258306,2.7386127875258306,0,1,1,-2.7386127875258306,0A2.7386127875258306,2.7386127875258306,0,1,1,2.7386127875258306,0\" stroke=\"#4c78a8\" stroke-width=\"2\" opacity=\"0.6\"/><path aria-label=\"Power: 0.163157894737; Number of cells: 384; orig_cells: 192\" role=\"graphics-symbol\" aria-roledescription=\"point\" transform=\"translate(480,64.5933014354067)\" d=\"M2.7386127875258306,0A2.7386127875258306,2.7386127875258306,0,1,1,-2.7386127875258306,0A2.7386127875258306,2.7386127875258306,0,1,1,2.7386127875258306,0\" stroke=\"#4c78a8\" stroke-width=\"2\" opacity=\"0.6\"/><path aria-label=\"Power: 0.207171314741; Number of cells: 576; orig_cells: 192\" role=\"graphics-symbol\" aria-roledescription=\"point\" transform=\"translate(720,14.57805143064106)\" d=\"M2.7386127875258306,0A2.7386127875258306,2.7386127875258306,0,1,1,-2.7386127875258306,0A2.7386127875258306,2.7386127875258306,0,1,1,2.7386127875258306,0\" stroke=\"#4c78a8\" stroke-width=\"2\" opacity=\"0.6\"/></g><g class=\"mark-group role-scope layer_1_pathgroup\" role=\"graphics-object\" aria-roledescription=\"group mark container\"><g transform=\"translate(0,0)\"><path class=\"background\" aria-hidden=\"true\" d=\"M0,0h750v250h-750Z\"/><g><g class=\"mark-line role-mark layer_1_marks\" role=\"graphics-object\" aria-roledescription=\"line mark container\"><path aria-label=\"Number of cells: 64; Mean of x2: 0.0793650793651; orig_cells: 192\" role=\"graphics-symbol\" aria-roledescription=\"line mark\" d=\"M80,159.8124098124098L240,62.0973514674302L480,64.5933014354067L720,14.57805143064106\" stroke=\"#4c78a8\" stroke-width=\"2\"/></g></g><path class=\"foreground\" aria-hidden=\"true\" d=\"\" display=\"none\"/></g></g><g class=\"mark-group role-legend\" role=\"graphics-symbol\" aria-roledescription=\"legend\" aria-label=\"Symbol legend titled 'orig_cells' for stroke color with 1 value: 192\"><g transform=\"translate(768,0)\"><path class=\"background\" aria-hidden=\"true\" d=\"M0,0h51v29h-51Z\" pointer-events=\"none\"/><g><g class=\"mark-group role-legend-entry\"><g transform=\"translate(0,16)\"><path class=\"background\" aria-hidden=\"true\" d=\"M0,0h0v0h0Z\" pointer-events=\"none\"/><g><g class=\"mark-group role-scope\" role=\"graphics-object\" aria-roledescription=\"group mark container\"><g transform=\"translate(0,0)\"><path class=\"background\" aria-hidden=\"true\" d=\"M0,0h34v12.5h-34Z\" pointer-events=\"none\" opacity=\"1\"/><g><g class=\"mark-symbol role-legend-symbol\" pointer-events=\"none\"><path transform=\"translate(6,6)\" d=\"M5,0A5,5,0,1,1,-5,0A5,5,0,1,1,5,0\" stroke=\"#4c78a8\" stroke-width=\"1.5\" opacity=\"0.6\"/></g><g class=\"mark-text role-legend-label\" pointer-events=\"none\"><text text-anchor=\"start\" transform=\"translate(16,9)\" font-family=\"sans-serif\" font-size=\"10px\" fill=\"#000\" opacity=\"1\">192</text></g></g><path class=\"foreground\" aria-hidden=\"true\" d=\"\" pointer-events=\"none\" display=\"none\"/></g></g></g><path class=\"foreground\" aria-hidden=\"true\" d=\"\" pointer-events=\"none\" display=\"none\"/></g></g><g class=\"mark-text role-legend-title\" pointer-events=\"none\"><text text-anchor=\"start\" transform=\"translate(0,9)\" font-family=\"sans-serif\" font-size=\"11px\" font-weight=\"bold\" fill=\"#000\" opacity=\"1\">orig_cells</text></g></g><path class=\"foreground\" aria-hidden=\"true\" d=\"\" pointer-events=\"none\" display=\"none\"/></g></g></g><path class=\"foreground\" aria-hidden=\"true\" d=\"\" display=\"none\"/></g></g></g></svg>\n"
      ],
      "text/plain": [
       "@vlplot(\n",
       "    transform=[\n",
       "        {\n",
       "            joinaggregate=[\n",
       "                {\n",
       "                    op=\"mean\",\n",
       "                    field=\"x2\",\n",
       "                    as=\"mean_x2\"\n",
       "                }\n",
       "            ],\n",
       "            groupby=[\n",
       "                \"orig_cells\"\n",
       "            ]\n",
       "        }\n",
       "    ],\n",
       "    layer=[\n",
       "        {\n",
       "            width=750,\n",
       "            height=250,\n",
       "            mark={\n",
       "                opacity=0.6,\n",
       "                type=\"point\"\n",
       "            },\n",
       "            encoding={\n",
       "                y={\n",
       "                    title=\"Power\",\n",
       "                    field=\"x2\",\n",
       "                    type=\"quantitative\"\n",
       "                },\n",
       "                x={\n",
       "                    title=\"Number of cells\",\n",
       "                    field=\"x1\",\n",
       "                    type=\"quantitative\"\n",
       "                },\n",
       "                color={\n",
       "                    field=\"orig_cells\",\n",
       "                    type=\"nominal\"\n",
       "                }\n",
       "            }\n",
       "        },\n",
       "        {\n",
       "            mark=\"line\",\n",
       "            encoding={\n",
       "                x={\n",
       "                    title=\"Number of cells\",\n",
       "                    field=\"x1\",\n",
       "                    type=\"quantitative\"\n",
       "                },\n",
       "                y={\n",
       "                    aggregate=\"mean\",\n",
       "                    field=\"x2\",\n",
       "                    type=\"quantitative\"\n",
       "                },\n",
       "                color={\n",
       "                    field=\"orig_cells\",\n",
       "                    type=\"nominal\"\n",
       "                }\n",
       "            }\n",
       "        }\n",
       "    ],\n",
       "    data={\n",
       "        values=...\n",
       "    }\n",
       ")"
      ]
     },
     "execution_count": 24,
     "metadata": {},
     "output_type": "execute_result"
    }
   ],
   "source": [
    "p = pval_final |>\n",
    "@vlplot(\n",
    "    transform=[\n",
    "        {\n",
    "        joinaggregate=[{\n",
    "            op=\"mean\",\n",
    "            field=\"x2\",\n",
    "            as=\"mean_x2\"\n",
    "        }],\n",
    "        groupby=[\"orig_cells\"]\n",
    "        }\n",
    "    ]\n",
    ") +\n",
    "@vlplot(width=750,\n",
    "    height=250,\n",
    "    mark={\n",
    "            :point,opacity=0.6\n",
    "        },\n",
    "    y={\"x2:q\", title = \"Power\"},\n",
    "    x={\"x1:q\", title = \"Number of cells\"},\n",
    "    color={\"orig_cells:n\"}\n",
    ") +\n",
    "@vlplot(\n",
    "    mark=:line,\n",
    "    x={\"x1:q\", title = \"Number of cells\"},\n",
    "    y={aggregate=\"mean\",\"x2:q\"},\n",
    "    color={\"orig_cells:n\"}\n",
    ")"
   ]
  },
  {
   "cell_type": "code",
   "execution_count": 25,
   "id": "af575719",
   "metadata": {},
   "outputs": [
    {
     "name": "stdout",
     "output_type": "stream",
     "text": [
      "# packages in environment at /Users/martintreppner/.julia/conda/3:\n",
      "#\n",
      "# Name                    Version                   Build  Channel\n",
      "anndata                   0.6.22.post1               py_0    bioconda\n",
      "appnope                   0.1.2            py39h6e9494a_2    conda-forge\n",
      "argon2-cffi               21.3.0             pyhd8ed1ab_0    conda-forge\n",
      "argon2-cffi-bindings      21.2.0           py39h89e85a6_1    conda-forge\n",
      "arpack                    3.7.0                hefb7bc6_2    conda-forge\n",
      "asttokens                 2.0.5              pyhd8ed1ab_0    conda-forge\n",
      "async_generator           1.10                       py_0    conda-forge\n",
      "attrs                     21.4.0             pyhd8ed1ab_0    conda-forge\n",
      "backcall                  0.2.0              pyh9f0ad1d_0    conda-forge\n",
      "backports                 1.0                        py_2    conda-forge\n",
      "backports.functools_lru_cache 1.6.4              pyhd8ed1ab_0    conda-forge\n",
      "black                     21.12b0            pyhd8ed1ab_0    conda-forge\n",
      "bleach                    4.1.0              pyhd8ed1ab_0    conda-forge\n",
      "blosc                     1.21.0               he49afe7_0    conda-forge\n",
      "brotli                    1.0.9                h0d85af4_6    conda-forge\n",
      "brotli-bin                1.0.9                h0d85af4_6    conda-forge\n",
      "brotlipy                  0.7.0           py39h89e85a6_1003    conda-forge\n",
      "bzip2                     1.0.8                h0d85af4_4    conda-forge\n",
      "ca-certificates           2021.10.8            h033912b_0    conda-forge\n",
      "cached-property           1.5.2                hd8ed1ab_1    conda-forge\n",
      "cached_property           1.5.2              pyha770c72_1    conda-forge\n",
      "certifi                   2021.10.8        py39h6e9494a_1    conda-forge\n",
      "cffi                      1.15.0           py39he338e87_0    conda-forge\n",
      "charset-normalizer        2.0.9              pyhd8ed1ab_0    conda-forge\n",
      "click                     8.0.3            py39h6e9494a_1    conda-forge\n",
      "colorama                  0.4.4              pyh9f0ad1d_0    conda-forge\n",
      "conda                     4.11.0           py39h6e9494a_0    conda-forge\n",
      "conda-package-handling    1.7.3            py39h89e85a6_1    conda-forge\n",
      "cryptography              36.0.0           py39h209aa08_0    conda-forge\n",
      "cycler                    0.11.0             pyhd8ed1ab_0    conda-forge\n",
      "dataclasses               0.8                pyhc8e2a94_3    conda-forge\n",
      "dbus                      1.13.6               h811a1a6_3    conda-forge\n",
      "debugpy                   1.5.1            py39h9fcab8e_0    conda-forge\n",
      "decorator                 5.1.1              pyhd8ed1ab_0    conda-forge\n",
      "defusedxml                0.7.1              pyhd8ed1ab_0    conda-forge\n",
      "entrypoints               0.3             pyhd8ed1ab_1003    conda-forge\n",
      "executing                 0.8.2              pyhd8ed1ab_0    conda-forge\n",
      "expat                     2.4.2                he49afe7_0    conda-forge\n",
      "flit-core                 3.6.0              pyhd8ed1ab_0    conda-forge\n",
      "fonttools                 4.28.5           py39h89e85a6_0    conda-forge\n",
      "freetype                  2.10.4               h4cff582_1    conda-forge\n",
      "future                    0.18.2           py39h6e9494a_4    conda-forge\n",
      "gettext                   0.19.8.1          hd1a6beb_1008    conda-forge\n",
      "glpk                      4.65              h0f52abe_1004    conda-forge\n",
      "gmp                       6.2.1                h2e338ed_0    conda-forge\n",
      "h5py                      3.1.0           nompi_py39hdc2b67d_100    conda-forge\n",
      "hdf5                      1.10.6          nompi_hc5d9132_1114    conda-forge\n",
      "hyperopt                  0.1.2                      py_0    conda-forge\n",
      "icu                       68.2                 he49afe7_0    conda-forge\n",
      "idna                      3.1                pyhd3deb0d_0    conda-forge\n",
      "igraph                    0.9.6                ha5be149_0    conda-forge\n",
      "importlib-metadata        4.10.0           py39h6e9494a_0    conda-forge\n",
      "importlib_resources       5.4.0              pyhd8ed1ab_0    conda-forge\n",
      "ipykernel                 6.6.1            py39h71a6800_0    conda-forge\n",
      "ipython                   8.0.0            py39h6e9494a_0    conda-forge\n",
      "ipython_genutils          0.2.0                      py_1    conda-forge\n",
      "ipywidgets                7.6.5              pyhd8ed1ab_0    conda-forge\n",
      "jbig                      2.1               h0d85af4_2003    conda-forge\n",
      "jedi                      0.18.1           py39h6e9494a_0    conda-forge\n",
      "jinja2                    3.0.3              pyhd8ed1ab_0    conda-forge\n",
      "joblib                    1.1.0              pyhd8ed1ab_0    conda-forge\n",
      "jpeg                      9d                   hbcb3906_0    conda-forge\n",
      "jsonschema                4.4.0              pyhd8ed1ab_0    conda-forge\n",
      "jupyter                   1.0.0            py39h6e9494a_7    conda-forge\n",
      "jupyter_client            7.1.0              pyhd8ed1ab_0    conda-forge\n",
      "jupyter_console           6.4.0              pyhd8ed1ab_0    conda-forge\n",
      "jupyter_core              4.9.1            py39h6e9494a_1    conda-forge\n",
      "jupyterlab_pygments       0.1.2              pyh9f0ad1d_0    conda-forge\n",
      "jupyterlab_widgets        1.0.2              pyhd8ed1ab_0    conda-forge\n",
      "kiwisolver                1.3.2            py39hf018cea_1    conda-forge\n",
      "krb5                      1.17.2               h60d9502_0    conda-forge\n",
      "lcms2                     2.12                 h577c468_0    conda-forge\n",
      "lerc                      3.0                  he49afe7_0    conda-forge\n",
      "libblas                   3.9.0              12_osx64_mkl    conda-forge\n",
      "libbrotlicommon           1.0.9                h0d85af4_6    conda-forge\n",
      "libbrotlidec              1.0.9                h0d85af4_6    conda-forge\n",
      "libbrotlienc              1.0.9                h0d85af4_6    conda-forge\n",
      "libcblas                  3.9.0              12_osx64_mkl    conda-forge\n",
      "libclang                  11.1.0          default_he082bbe_1    conda-forge\n",
      "libcurl                   7.71.1               he6690cf_1    conda-forge\n",
      "libcxx                    12.0.1               habf9029_1    conda-forge\n",
      "libdeflate                1.8                  h0d85af4_0    conda-forge\n",
      "libedit                   3.1.20191231         h0678c8f_2    conda-forge\n",
      "libffi                    3.4.2                h0d85af4_5    conda-forge\n",
      "libgfortran               5.0.0           9_3_0_h6c81a4c_23    conda-forge\n",
      "libgfortran5              9.3.0               h6c81a4c_23    conda-forge\n",
      "libglib                   2.70.2               hf1fb8c0_1    conda-forge\n",
      "libiconv                  1.16                 haf1e3a3_0    conda-forge\n",
      "liblapack                 3.9.0              12_osx64_mkl    conda-forge\n",
      "libllvm10                 10.0.1               h009f743_3    conda-forge\n",
      "libllvm11                 11.1.0               hd011deb_2    conda-forge\n",
      "libopenblas               0.3.18          openmp_h3351f45_0    conda-forge\n",
      "libpng                    1.6.37               h7cec526_2    conda-forge\n",
      "libpq                     12.3                 h7049927_3    conda-forge\n",
      "libprotobuf               3.18.1               hcf210ce_0    conda-forge\n",
      "libsodium                 1.0.18               hbcb3906_1    conda-forge\n",
      "libssh2                   1.10.0               h52ee1ee_2    conda-forge\n",
      "libtiff                   4.3.0                hd146c10_2    conda-forge\n",
      "libwebp-base              1.2.1                h0d85af4_0    conda-forge\n",
      "libxml2                   2.9.12               h93ec3fd_0    conda-forge\n",
      "libzlib                   1.2.11            h9173be1_1013    conda-forge\n",
      "llvm-openmp               12.0.1               hda6cdc1_1    conda-forge\n",
      "llvmlite                  0.36.0           py39h798a4f4_0    conda-forge\n",
      "loompy                    2.0.16                     py_0    bioconda\n",
      "louvain                   0.7.1            py39h9fcab8e_1    conda-forge\n",
      "lz4-c                     1.9.3                he49afe7_1    conda-forge\n",
      "markupsafe                2.0.1            py39h89e85a6_1    conda-forge\n",
      "matplotlib                3.5.1            py39h6e9494a_0    conda-forge\n",
      "matplotlib-base           3.5.1            py39hb07454d_0    conda-forge\n",
      "matplotlib-inline         0.1.3              pyhd8ed1ab_0    conda-forge\n",
      "metis                     5.1.0             h2e338ed_1006    conda-forge\n",
      "mistune                   0.8.4           py39h89e85a6_1005    conda-forge\n",
      "mkl                       2021.4.0           h89fa619_689    conda-forge\n",
      "mock                      4.0.3            py39h6e9494a_2    conda-forge\n",
      "mpfr                      4.1.0                h0f52abe_1    conda-forge\n",
      "munkres                   1.0.7                      py_1    bioconda\n",
      "mypy_extensions           0.4.3            py39h6e9494a_4    conda-forge\n",
      "mysql-common              8.0.27               h694c41f_3    conda-forge\n",
      "mysql-libs                8.0.27               h115446f_3    conda-forge\n",
      "natsort                   8.0.2              pyhd8ed1ab_0    conda-forge\n",
      "nbclient                  0.5.9              pyhd8ed1ab_0    conda-forge\n",
      "nbconvert                 6.4.0            py39h6e9494a_0    conda-forge\n",
      "nbformat                  5.1.3              pyhd8ed1ab_0    conda-forge\n",
      "ncurses                   6.2                  h2e338ed_4    conda-forge\n",
      "nest-asyncio              1.5.4              pyhd8ed1ab_0    conda-forge\n",
      "networkx                  2.6.3              pyhd8ed1ab_1    conda-forge\n",
      "ninja                     1.10.2               h940c156_1    conda-forge\n",
      "notebook                  6.4.7              pyha770c72_0    conda-forge\n",
      "nspr                      4.32                 hcd9eead_1    conda-forge\n",
      "nss                       3.74                 h31e2bf1_0    conda-forge\n",
      "numba                     0.53.0           py39he2616bd_0    conda-forge\n",
      "numexpr                   2.8.0            py39h4d6be9b_0    conda-forge\n",
      "numpy                     1.22.0           py39h9d9ce41_0    conda-forge\n",
      "olefile                   0.46               pyh9f0ad1d_1    conda-forge\n",
      "openjpeg                  2.4.0                h6e7aa92_1    conda-forge\n",
      "openssl                   1.1.1l               h0d85af4_0    conda-forge\n",
      "packaging                 21.3               pyhd8ed1ab_0    conda-forge\n",
      "pandas                    1.3.5            py39h4d6be9b_0    conda-forge\n",
      "pandoc                    2.16.2               h0d85af4_0    conda-forge\n",
      "pandocfilters             1.5.0              pyhd8ed1ab_0    conda-forge\n",
      "parso                     0.8.3              pyhd8ed1ab_0    conda-forge\n",
      "pathspec                  0.9.0              pyhd8ed1ab_0    conda-forge\n",
      "patsy                     0.5.2              pyhd8ed1ab_0    conda-forge\n",
      "pcre                      8.45                 he49afe7_0    conda-forge\n",
      "pexpect                   4.8.0              pyh9f0ad1d_2    conda-forge\n",
      "pickleshare               0.7.5                   py_1003    conda-forge\n",
      "pillow                    8.4.0            py39he9bb72f_0    conda-forge\n",
      "pip                       21.3.1             pyhd8ed1ab_0    conda-forge\n",
      "platformdirs              2.3.0              pyhd8ed1ab_0    conda-forge\n",
      "prometheus_client         0.12.0             pyhd8ed1ab_0    conda-forge\n",
      "prompt-toolkit            3.0.24             pyha770c72_0    conda-forge\n",
      "prompt_toolkit            3.0.24               hd8ed1ab_0    conda-forge\n",
      "ptyprocess                0.7.0              pyhd3deb0d_0    conda-forge\n",
      "pure_eval                 0.2.1              pyhd8ed1ab_0    conda-forge\n",
      "pycosat                   0.6.3           py39h89e85a6_1009    conda-forge\n",
      "pycparser                 2.21               pyhd8ed1ab_0    conda-forge\n",
      "pygments                  2.11.2             pyhd8ed1ab_0    conda-forge\n",
      "pymongo                   4.0.1            py39h9fcab8e_0    conda-forge\n",
      "pynndescent               0.5.5              pyh6c4a22f_0    conda-forge\n",
      "pyopenssl                 21.0.0             pyhd8ed1ab_0    conda-forge\n",
      "pyparsing                 3.0.6              pyhd8ed1ab_0    conda-forge\n",
      "pyqt                      5.12.3           py39h6e9494a_8    conda-forge\n",
      "pyqt-impl                 5.12.3           py39he44290a_8    conda-forge\n",
      "pyqt5-sip                 4.19.18          py39h15fb055_8    conda-forge\n",
      "pyqtchart                 5.12             py39he44290a_8    conda-forge\n",
      "pyqtwebengine             5.12.1           py39he44290a_8    conda-forge\n",
      "pyrsistent                0.18.0           py39h89e85a6_0    conda-forge\n",
      "pysocks                   1.7.1            py39h6e9494a_4    conda-forge\n",
      "pytables                  3.6.1            py39hd07922a_3    conda-forge\n",
      "python                    3.9.7           h1248fe1_3_cpython    conda-forge\n",
      "python-dateutil           2.8.2              pyhd8ed1ab_0    conda-forge\n",
      "python-igraph             0.9.9            py39h8c2f370_0    conda-forge\n",
      "python_abi                3.9                      2_cp39    conda-forge\n",
      "pytorch                   1.10.0          cpu_py39hacab7d8_0    conda-forge\n",
      "pytz                      2021.3             pyhd8ed1ab_0    conda-forge\n",
      "pyzmq                     22.3.0           py39h7fec2f1_1    conda-forge\n",
      "qt                        5.12.9               h126340a_2    conda-forge\n",
      "qtconsole                 5.2.2              pyhd8ed1ab_1    conda-forge\n",
      "qtconsole-base            5.2.2              pyhd8ed1ab_1    conda-forge\n",
      "qtpy                      2.0.0              pyhd8ed1ab_0    conda-forge\n",
      "readline                  8.1                  h05e3726_0    conda-forge\n",
      "requests                  2.26.0             pyhd8ed1ab_1    conda-forge\n",
      "ruamel_yaml               0.15.80         py39h89e85a6_1006    conda-forge\n",
      "scanpy                    1.4.4.post1                py_0    bioconda\n",
      "scikit-learn              1.0.2            py39hd4eea88_0    conda-forge\n",
      "scipy                     1.7.3            py39h056f1c0_0    conda-forge\n",
      "scvi                      0.6.0                      py_0    bioconda\n",
      "seaborn                   0.11.2               hd8ed1ab_0    conda-forge\n",
      "seaborn-base              0.11.2             pyhd8ed1ab_0    conda-forge\n",
      "send2trash                1.8.0              pyhd8ed1ab_0    conda-forge\n",
      "setuptools                59.4.0           py39h6e9494a_0    conda-forge\n",
      "six                       1.16.0             pyh6c4a22f_0    conda-forge\n",
      "sleef                     3.5.1                h6db0672_2    conda-forge\n",
      "sqlite                    3.37.0               h23a322b_0    conda-forge\n",
      "stack_data                0.1.3              pyhd8ed1ab_0    conda-forge\n",
      "statsmodels               0.13.1           py39hc89836e_0    conda-forge\n",
      "suitesparse               5.10.1               h7aff33d_1    conda-forge\n",
      "tbb                       2021.5.0             h940c156_0    conda-forge\n",
      "terminado                 0.12.1           py39h6e9494a_1    conda-forge\n",
      "testpath                  0.5.0              pyhd8ed1ab_0    conda-forge\n",
      "texttable                 1.6.4              pyhd8ed1ab_0    conda-forge\n",
      "threadpoolctl             3.0.0              pyh8a188c0_0    conda-forge\n",
      "tk                        8.6.11               h5dbffcc_1    conda-forge\n",
      "tomli                     1.2.2              pyhd8ed1ab_0    conda-forge\n",
      "tornado                   6.1              py39h89e85a6_2    conda-forge\n",
      "tqdm                      4.62.3             pyhd8ed1ab_0    conda-forge\n",
      "traitlets                 5.1.1              pyhd8ed1ab_0    conda-forge\n",
      "typed-ast                 1.5.1            py39h89e85a6_0    conda-forge\n",
      "typing                    3.10.0.0           pyhd8ed1ab_0    conda-forge\n",
      "typing_extensions         4.0.1              pyha770c72_0    conda-forge\n",
      "tzdata                    2021e                he74cb21_0    conda-forge\n",
      "umap-learn                0.5.2            py39h6e9494a_0    conda-forge\n",
      "urllib3                   1.26.7             pyhd8ed1ab_0    conda-forge\n",
      "wcwidth                   0.2.5              pyh9f0ad1d_2    conda-forge\n",
      "webencodings              0.5.1                      py_1    conda-forge\n",
      "wheel                     0.37.0             pyhd8ed1ab_1    conda-forge\n",
      "widgetsnbextension        3.5.2            py39h6e9494a_1    conda-forge\n",
      "xlrd                      2.0.1              pyhd8ed1ab_3    conda-forge\n",
      "xz                        5.2.5                haf1e3a3_1    conda-forge\n",
      "yaml                      0.2.5                haf1e3a3_0    conda-forge\n",
      "zeromq                    4.3.4                he49afe7_1    conda-forge\n",
      "zipp                      3.7.0              pyhd8ed1ab_0    conda-forge\n",
      "zlib                      1.2.11            h9173be1_1013    conda-forge\n",
      "zstd                      1.5.1                h582d3a0_0    conda-forge\n"
     ]
    },
    {
     "name": "stderr",
     "output_type": "stream",
     "text": [
      "┌ Info: Running `conda list` in root environment\n",
      "└ @ Conda /Users/martintreppner/.julia/packages/Conda/1403Y/src/Conda.jl:129\n"
     ]
    }
   ],
   "source": [
    "Conda.list()"
   ]
  },
  {
   "cell_type": "code",
   "execution_count": 26,
   "id": "9bebdf4f",
   "metadata": {},
   "outputs": [
    {
     "name": "stdout",
     "output_type": "stream",
     "text": [
      "\u001b[32m\u001b[1m      Status\u001b[22m\u001b[39m `~/.julia/environments/v1.7/Project.toml`\n",
      " \u001b[90m [336ed68f] \u001b[39mCSV v0.9.11\n",
      " \u001b[90m [8f4d0f93] \u001b[39mConda v1.6.0\n",
      " \u001b[90m [a93c6f00] \u001b[39mDataFrames v1.3.1\n",
      " \u001b[90m [7073ff75] \u001b[39mIJulia v1.23.2\n",
      " \u001b[90m [438e738f] \u001b[39mPyCall v1.93.0\n",
      " \u001b[90m [2913bbd2] \u001b[39mStatsBase v0.33.14\n",
      " \u001b[90m [112f6efa] \u001b[39mVegaLite v2.6.0\n",
      " \u001b[90m [753c8826] \u001b[39mscVIDE v0.1.0 `https://github.com/MTreppner/scVIDE.jl#main`\n"
     ]
    }
   ],
   "source": [
    "Pkg.status()"
   ]
  },
  {
   "cell_type": "code",
   "execution_count": null,
   "id": "2fd7292c",
   "metadata": {},
   "outputs": [],
   "source": []
  }
 ],
 "metadata": {
  "kernelspec": {
   "display_name": "Julia 1.7.1",
   "language": "julia",
   "name": "julia-1.7"
  },
  "language_info": {
   "file_extension": ".jl",
   "mimetype": "application/julia",
   "name": "julia",
   "version": "1.7.1"
  }
 },
 "nbformat": 4,
 "nbformat_minor": 5
}
